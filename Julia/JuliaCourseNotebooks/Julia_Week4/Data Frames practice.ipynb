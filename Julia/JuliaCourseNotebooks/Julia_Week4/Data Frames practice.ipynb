{
 "cells": [
  {
   "cell_type": "code",
   "execution_count": 1,
   "metadata": {
    "collapsed": true
   },
   "outputs": [],
   "source": [
    "using DataFrames"
   ]
  },
  {
   "cell_type": "code",
   "execution_count": 2,
   "metadata": {
    "collapsed": false
   },
   "outputs": [
    {
     "ename": "LoadError",
     "evalue": "LoadError: UndefVarError: arr not defined\nwhile loading In[2], in expression starting on line 1",
     "output_type": "error",
     "traceback": [
      "LoadError: UndefVarError: arr not defined\nwhile loading In[2], in expression starting on line 1",
      ""
     ]
    }
   ],
   "source": [
    "arr(1, 2, 3, 4, 5, 6, 7, 8)"
   ]
  },
  {
   "cell_type": "code",
   "execution_count": 3,
   "metadata": {
    "collapsed": false
   },
   "outputs": [
    {
     "data": {
      "text/plain": [
       "8-element Array{Int64,1}:\n",
       " 1\n",
       " 2\n",
       " 3\n",
       " 4\n",
       " 5\n",
       " 6\n",
       " 7\n",
       " 8"
      ]
     },
     "execution_count": 3,
     "metadata": {},
     "output_type": "execute_result"
    }
   ],
   "source": [
    "arr = [1, 2, 3, 4, 5, 6, 7, 8]"
   ]
  },
  {
   "cell_type": "code",
   "execution_count": 4,
   "metadata": {
    "collapsed": false
   },
   "outputs": [
    {
     "data": {
      "text/plain": [
       "8-element DataArrays.DataArray{Int64,1}:\n",
       " 1\n",
       " 2\n",
       " 3\n",
       " 4\n",
       " 5\n",
       " 6\n",
       " 7\n",
       " 8"
      ]
     },
     "execution_count": 4,
     "metadata": {},
     "output_type": "execute_result"
    }
   ],
   "source": [
    "da1 = DataArray(arr)"
   ]
  },
  {
   "cell_type": "code",
   "execution_count": 5,
   "metadata": {
    "collapsed": false
   },
   "outputs": [
    {
     "data": {
      "text/plain": [
       "5-element DataArrays.DataArray{Int64,1}:\n",
       " 1\n",
       " 3\n",
       " 5\n",
       " 7\n",
       " 9"
      ]
     },
     "execution_count": 5,
     "metadata": {},
     "output_type": "execute_result"
    }
   ],
   "source": [
    "da2 = @data([1, 3, 5, 7, 9])"
   ]
  },
  {
   "cell_type": "code",
   "execution_count": 6,
   "metadata": {
    "collapsed": false
   },
   "outputs": [
    {
     "data": {
      "text/plain": [
       "165"
      ]
     },
     "execution_count": 6,
     "metadata": {},
     "output_type": "execute_result"
    }
   ],
   "source": [
    "mapreduce(x -> x^2, +, da2)"
   ]
  },
  {
   "cell_type": "code",
   "execution_count": 7,
   "metadata": {
    "collapsed": false
   },
   "outputs": [
    {
     "data": {
      "text/plain": [
       "165"
      ]
     },
     "execution_count": 7,
     "metadata": {},
     "output_type": "execute_result"
    }
   ],
   "source": [
    "sum(map(x -> x^2, da2))"
   ]
  },
  {
   "cell_type": "code",
   "execution_count": 8,
   "metadata": {
    "collapsed": false
   },
   "outputs": [
    {
     "data": {
      "text/plain": [
       "36"
      ]
     },
     "execution_count": 8,
     "metadata": {},
     "output_type": "execute_result"
    }
   ],
   "source": [
    "reduce(+, da1)"
   ]
  },
  {
   "cell_type": "code",
   "execution_count": 9,
   "metadata": {
    "collapsed": false
   },
   "outputs": [
    {
     "data": {
      "text/html": [
       "<table class=\"data-frame\"><thead><tr><th></th><th>A</th><th>B</th></tr></thead><tbody><tr><th>1</th><td>1</td><td>Y</td></tr><tr><th>2</th><td>2</td><td>Y</td></tr><tr><th>3</th><td>3</td><td>N</td></tr><tr><th>4</th><td>4</td><td>Y</td></tr><tr><th>5</th><td>5</td><td>N</td></tr></tbody></table>"
      ],
      "text/plain": [
       "5×2 DataFrames.DataFrame\n",
       "│ Row │ A │ B   │\n",
       "├─────┼───┼─────┤\n",
       "│ 1   │ 1 │ \"Y\" │\n",
       "│ 2   │ 2 │ \"Y\" │\n",
       "│ 3   │ 3 │ \"N\" │\n",
       "│ 4   │ 4 │ \"Y\" │\n",
       "│ 5   │ 5 │ \"N\" │"
      ]
     },
     "execution_count": 9,
     "metadata": {},
     "output_type": "execute_result"
    }
   ],
   "source": [
    "df1 = DataFrame(A = 1:5, B = [\"Y\", \"Y\", \"N\", \"Y\", \"N\"])"
   ]
  },
  {
   "cell_type": "code",
   "execution_count": 10,
   "metadata": {
    "collapsed": false
   },
   "outputs": [
    {
     "data": {
      "text/html": [
       "<table class=\"data-frame\"><thead><tr><th></th></tr></thead><tbody></tbody></table>"
      ],
      "text/plain": [
       "0×0 DataFrames.DataFrame\n"
      ]
     },
     "execution_count": 10,
     "metadata": {},
     "output_type": "execute_result"
    }
   ],
   "source": [
    "df2 = DataFrame()"
   ]
  },
  {
   "cell_type": "code",
   "execution_count": 11,
   "metadata": {
    "collapsed": false
   },
   "outputs": [
    {
     "data": {
      "text/plain": [
       "5-element Array{ASCIIString,1}:\n",
       " \"This\"  \n",
       " \"Is\"    \n",
       " \"a\"     \n",
       " \"new\"   \n",
       " \"column\""
      ]
     },
     "execution_count": 11,
     "metadata": {},
     "output_type": "execute_result"
    }
   ],
   "source": [
    "df2[:A] = 1:5\n",
    "df2[:B] = [\"This\", \"Is\", \"a\", \"new\", \"column\"]"
   ]
  },
  {
   "cell_type": "code",
   "execution_count": 12,
   "metadata": {
    "collapsed": false
   },
   "outputs": [
    {
     "data": {
      "text/html": [
       "<table class=\"data-frame\"><thead><tr><th></th><th>A</th><th>B</th></tr></thead><tbody><tr><th>1</th><td>1</td><td>This</td></tr><tr><th>2</th><td>2</td><td>Is</td></tr><tr><th>3</th><td>3</td><td>a</td></tr><tr><th>4</th><td>4</td><td>new</td></tr><tr><th>5</th><td>5</td><td>column</td></tr></tbody></table>"
      ],
      "text/plain": [
       "5×2 DataFrames.DataFrame\n",
       "│ Row │ A │ B        │\n",
       "├─────┼───┼──────────┤\n",
       "│ 1   │ 1 │ \"This\"   │\n",
       "│ 2   │ 2 │ \"Is\"     │\n",
       "│ 3   │ 3 │ \"a\"      │\n",
       "│ 4   │ 4 │ \"new\"    │\n",
       "│ 5   │ 5 │ \"column\" │"
      ]
     },
     "execution_count": 12,
     "metadata": {},
     "output_type": "execute_result"
    }
   ],
   "source": [
    "df2"
   ]
  },
  {
   "cell_type": "code",
   "execution_count": 13,
   "metadata": {
    "collapsed": false
   },
   "outputs": [
    {
     "data": {
      "text/plain": [
       "(5,2)"
      ]
     },
     "execution_count": 13,
     "metadata": {},
     "output_type": "execute_result"
    }
   ],
   "source": [
    "size(df2)"
   ]
  },
  {
   "cell_type": "code",
   "execution_count": 14,
   "metadata": {
    "collapsed": false
   },
   "outputs": [
    {
     "data": {
      "text/plain": [
       "Tuple{Int64,Int64}"
      ]
     },
     "execution_count": 14,
     "metadata": {},
     "output_type": "execute_result"
    }
   ],
   "source": [
    "typeof(size(df2))"
   ]
  },
  {
   "cell_type": "code",
   "execution_count": 15,
   "metadata": {
    "collapsed": false
   },
   "outputs": [
    {
     "data": {
      "text/plain": [
       "5"
      ]
     },
     "execution_count": 15,
     "metadata": {},
     "output_type": "execute_result"
    }
   ],
   "source": [
    "no_of_rows = size(df2, 1)"
   ]
  },
  {
   "cell_type": "code",
   "execution_count": 16,
   "metadata": {
    "collapsed": false
   },
   "outputs": [
    {
     "data": {
      "text/plain": [
       "2"
      ]
     },
     "execution_count": 16,
     "metadata": {},
     "output_type": "execute_result"
    }
   ],
   "source": [
    "no_of_cols = size(df2, 2)"
   ]
  },
  {
   "cell_type": "code",
   "execution_count": 17,
   "metadata": {
    "collapsed": false
   },
   "outputs": [
    {
     "data": {
      "text/html": [
       "<table class=\"data-frame\"><thead><tr><th></th></tr></thead><tbody></tbody></table>"
      ],
      "text/plain": [
       "0×0 DataFrames.DataFrame\n"
      ]
     },
     "execution_count": 17,
     "metadata": {},
     "output_type": "execute_result"
    }
   ],
   "source": [
    "df3 = DataFrame()"
   ]
  },
  {
   "cell_type": "code",
   "execution_count": 18,
   "metadata": {
    "collapsed": false
   },
   "outputs": [
    {
     "data": {
      "text/plain": [
       "3-element Array{Float64,1}:\n",
       " 0.138644\n",
       " 0.888   \n",
       " 0.954514"
      ]
     },
     "execution_count": 18,
     "metadata": {},
     "output_type": "execute_result"
    }
   ],
   "source": [
    "rand(3)"
   ]
  },
  {
   "cell_type": "code",
   "execution_count": 35,
   "metadata": {
    "collapsed": false
   },
   "outputs": [
    {
     "ename": "LoadError",
     "evalue": "LoadError: indexing Array{Symbol,1} with types Tuple{Symbol} is not supported\nwhile loading In[35], in expression starting on line 1",
     "output_type": "error",
     "traceback": [
      "LoadError: indexing Array{Symbol,1} with types Tuple{Symbol} is not supported\nwhile loading In[35], in expression starting on line 1",
      "",
      " in error at /Applications/Julia-0.4.6.app/Contents/Resources/julia/lib/julia/sys.dylib",
      " in setindex! at abstractarray.jl:592"
     ]
    }
   ],
   "source": [
    "df3[:A] = rand(15)\n",
    "df3[:B] = rand(15)\n",
    "df3[:C] = rand(15)\n",
    "df3[:D] = rand(15)"
   ]
  },
  {
   "cell_type": "code",
   "execution_count": 20,
   "metadata": {
    "collapsed": false
   },
   "outputs": [
    {
     "data": {
      "text/html": [
       "<table class=\"data-frame\"><thead><tr><th></th><th>A</th><th>B</th><th>C</th><th>D</th></tr></thead><tbody><tr><th>1</th><td>0.6538712733206986</td><td>0.4676586280993684</td><td>0.44569058202006495</td><td>0.5497262353824863</td></tr><tr><th>2</th><td>0.2568169311860924</td><td>0.9208340216599429</td><td>0.2571194180530427</td><td>0.13207046011145906</td></tr><tr><th>3</th><td>0.6261925263039021</td><td>0.7645098074109309</td><td>0.7200529771510062</td><td>0.632804338135158</td></tr><tr><th>4</th><td>0.08764967641704247</td><td>0.9962056158630292</td><td>0.7474026686306194</td><td>0.6527159812809706</td></tr><tr><th>5</th><td>0.21228308740770063</td><td>0.9979068435170713</td><td>0.05575177217708882</td><td>0.5226818541340872</td></tr><tr><th>6</th><td>0.9698099252112897</td><td>0.3324747548351057</td><td>0.8687623901535437</td><td>0.12741130349879026</td></tr><tr><th>7</th><td>0.642993641834601</td><td>0.09824104619985352</td><td>0.8891686438229209</td><td>0.7819376692300519</td></tr><tr><th>8</th><td>0.27400365032533136</td><td>0.10734703396068945</td><td>0.23413679475122273</td><td>0.06535364494146734</td></tr><tr><th>9</th><td>0.6872105175097041</td><td>0.7293386144210177</td><td>0.3602624261645606</td><td>0.3633063932722358</td></tr><tr><th>10</th><td>0.9803988600560456</td><td>0.3403874918613343</td><td>0.9942561780555055</td><td>0.5908661876664789</td></tr><tr><th>11</th><td>0.45037189572879144</td><td>0.6528288217542169</td><td>0.5733005258172517</td><td>0.517595160869246</td></tr><tr><th>12</th><td>0.2661109528838197</td><td>0.736412926392235</td><td>0.09597080458341356</td><td>0.9934728950484661</td></tr><tr><th>13</th><td>0.6725356681503742</td><td>0.9464781389688002</td><td>0.5469033424500562</td><td>0.7749540980665899</td></tr><tr><th>14</th><td>0.9460836071821062</td><td>0.6517170220172948</td><td>0.9609521659344542</td><td>0.03974364570675304</td></tr><tr><th>15</th><td>0.4146631314129283</td><td>0.9268201986368063</td><td>0.08515662959637482</td><td>0.6699878020347765</td></tr></tbody></table>"
      ],
      "text/plain": [
       "15×4 DataFrames.DataFrame\n",
       "│ Row │ A         │ B        │ C         │ D         │\n",
       "├─────┼───────────┼──────────┼───────────┼───────────┤\n",
       "│ 1   │ 0.653871  │ 0.467659 │ 0.445691  │ 0.549726  │\n",
       "│ 2   │ 0.256817  │ 0.920834 │ 0.257119  │ 0.13207   │\n",
       "│ 3   │ 0.626193  │ 0.76451  │ 0.720053  │ 0.632804  │\n",
       "│ 4   │ 0.0876497 │ 0.996206 │ 0.747403  │ 0.652716  │\n",
       "│ 5   │ 0.212283  │ 0.997907 │ 0.0557518 │ 0.522682  │\n",
       "│ 6   │ 0.96981   │ 0.332475 │ 0.868762  │ 0.127411  │\n",
       "│ 7   │ 0.642994  │ 0.098241 │ 0.889169  │ 0.781938  │\n",
       "│ 8   │ 0.274004  │ 0.107347 │ 0.234137  │ 0.0653536 │\n",
       "│ 9   │ 0.687211  │ 0.729339 │ 0.360262  │ 0.363306  │\n",
       "│ 10  │ 0.980399  │ 0.340387 │ 0.994256  │ 0.590866  │\n",
       "│ 11  │ 0.450372  │ 0.652829 │ 0.573301  │ 0.517595  │\n",
       "│ 12  │ 0.266111  │ 0.736413 │ 0.0959708 │ 0.993473  │\n",
       "│ 13  │ 0.672536  │ 0.946478 │ 0.546903  │ 0.774954  │\n",
       "│ 14  │ 0.946084  │ 0.651717 │ 0.960952  │ 0.0397436 │\n",
       "│ 15  │ 0.414663  │ 0.92682  │ 0.0851566 │ 0.669988  │"
      ]
     },
     "execution_count": 20,
     "metadata": {},
     "output_type": "execute_result"
    }
   ],
   "source": [
    "df3"
   ]
  },
  {
   "cell_type": "code",
   "execution_count": 21,
   "metadata": {
    "collapsed": false
   },
   "outputs": [
    {
     "data": {
      "text/html": [
       "<table class=\"data-frame\"><thead><tr><th></th><th>A</th><th>B</th><th>C</th><th>D</th></tr></thead><tbody><tr><th>1</th><td>0.6538712733206986</td><td>0.4676586280993684</td><td>0.44569058202006495</td><td>0.5497262353824863</td></tr><tr><th>2</th><td>0.2568169311860924</td><td>0.9208340216599429</td><td>0.2571194180530427</td><td>0.13207046011145906</td></tr><tr><th>3</th><td>0.6261925263039021</td><td>0.7645098074109309</td><td>0.7200529771510062</td><td>0.632804338135158</td></tr><tr><th>4</th><td>0.08764967641704247</td><td>0.9962056158630292</td><td>0.7474026686306194</td><td>0.6527159812809706</td></tr><tr><th>5</th><td>0.21228308740770063</td><td>0.9979068435170713</td><td>0.05575177217708882</td><td>0.5226818541340872</td></tr><tr><th>6</th><td>0.9698099252112897</td><td>0.3324747548351057</td><td>0.8687623901535437</td><td>0.12741130349879026</td></tr></tbody></table>"
      ],
      "text/plain": [
       "6×4 DataFrames.DataFrame\n",
       "│ Row │ A         │ B        │ C         │ D        │\n",
       "├─────┼───────────┼──────────┼───────────┼──────────┤\n",
       "│ 1   │ 0.653871  │ 0.467659 │ 0.445691  │ 0.549726 │\n",
       "│ 2   │ 0.256817  │ 0.920834 │ 0.257119  │ 0.13207  │\n",
       "│ 3   │ 0.626193  │ 0.76451  │ 0.720053  │ 0.632804 │\n",
       "│ 4   │ 0.0876497 │ 0.996206 │ 0.747403  │ 0.652716 │\n",
       "│ 5   │ 0.212283  │ 0.997907 │ 0.0557518 │ 0.522682 │\n",
       "│ 6   │ 0.96981   │ 0.332475 │ 0.868762  │ 0.127411 │"
      ]
     },
     "execution_count": 21,
     "metadata": {},
     "output_type": "execute_result"
    }
   ],
   "source": [
    "head(df3)"
   ]
  },
  {
   "cell_type": "code",
   "execution_count": 22,
   "metadata": {
    "collapsed": false
   },
   "outputs": [
    {
     "data": {
      "text/html": [
       "<table class=\"data-frame\"><thead><tr><th></th><th>A</th><th>B</th><th>C</th><th>D</th></tr></thead><tbody><tr><th>1</th><td>0.6725356681503742</td><td>0.9464781389688002</td><td>0.5469033424500562</td><td>0.7749540980665899</td></tr><tr><th>2</th><td>0.9460836071821062</td><td>0.6517170220172948</td><td>0.9609521659344542</td><td>0.03974364570675304</td></tr><tr><th>3</th><td>0.4146631314129283</td><td>0.9268201986368063</td><td>0.08515662959637482</td><td>0.6699878020347765</td></tr></tbody></table>"
      ],
      "text/plain": [
       "3×4 DataFrames.DataFrame\n",
       "│ Row │ A        │ B        │ C         │ D         │\n",
       "├─────┼──────────┼──────────┼───────────┼───────────┤\n",
       "│ 1   │ 0.672536 │ 0.946478 │ 0.546903  │ 0.774954  │\n",
       "│ 2   │ 0.946084 │ 0.651717 │ 0.960952  │ 0.0397436 │\n",
       "│ 3   │ 0.414663 │ 0.92682  │ 0.0851566 │ 0.669988  │"
      ]
     },
     "execution_count": 22,
     "metadata": {},
     "output_type": "execute_result"
    }
   ],
   "source": [
    "tail(df3, 3)"
   ]
  },
  {
   "cell_type": "code",
   "execution_count": 23,
   "metadata": {
    "collapsed": false
   },
   "outputs": [
    {
     "name": "stdout",
     "output_type": "stream",
     "text": [
      "15×4 DataFrames.DataFrame\n",
      "│ Col # │ Name │ Eltype  │ Missing │\n",
      "├───────┼──────┼─────────┼─────────┤\n",
      "│ 1     │ A    │ Float64 │ 0       │\n",
      "│ 2     │ B    │ Float64 │ 0       │\n",
      "│ 3     │ C    │ Float64 │ 0       │\n",
      "│ 4     │ D    │ Float64 │ 0       │"
     ]
    }
   ],
   "source": [
    "showcols(df3)"
   ]
  },
  {
   "cell_type": "code",
   "execution_count": 24,
   "metadata": {
    "collapsed": false
   },
   "outputs": [
    {
     "data": {
      "text/plain": [
       "4-element Array{Type{T},1}:\n",
       " Float64\n",
       " Float64\n",
       " Float64\n",
       " Float64"
      ]
     },
     "execution_count": 24,
     "metadata": {},
     "output_type": "execute_result"
    }
   ],
   "source": [
    "eltypes(df3)"
   ]
  },
  {
   "cell_type": "code",
   "execution_count": 25,
   "metadata": {
    "collapsed": false
   },
   "outputs": [
    {
     "ename": "LoadError",
     "evalue": "LoadError: UndefVarError: df30 not defined\nwhile loading In[25], in expression starting on line 1",
     "output_type": "error",
     "traceback": [
      "LoadError: UndefVarError: df30 not defined\nwhile loading In[25], in expression starting on line 1",
      ""
     ]
    }
   ],
   "source": [
    "dump(df30)"
   ]
  },
  {
   "cell_type": "code",
   "execution_count": 26,
   "metadata": {
    "collapsed": false
   },
   "outputs": [
    {
     "name": "stdout",
     "output_type": "stream",
     "text": [
      "DataFrames.DataFrame  15 observations of 4 variables\n",
      "  A: DataArrays.DataArray{Float64,1}(15) [0.6538712733206986,0.2568169311860924,0.6261925263039021,0.08764967641704247]\n",
      "  B: DataArrays.DataArray{Float64,1}(15) [0.4676586280993684,0.9208340216599429,0.7645098074109309,0.9962056158630292]\n",
      "  C: DataArrays.DataArray{Float64,1}(15) [0.44569058202006495,0.2571194180530427,0.7200529771510062,0.7474026686306194]\n",
      "  D: DataArrays.DataArray{Float64,1}(15) [0.5497262353824863,0.13207046011145906,0.632804338135158,0.6527159812809706]\n"
     ]
    }
   ],
   "source": [
    "dump(df3)"
   ]
  },
  {
   "cell_type": "code",
   "execution_count": 27,
   "metadata": {
    "collapsed": false
   },
   "outputs": [
    {
     "ename": "LoadError",
     "evalue": "LoadError: UndefVarError: df30 not defined\nwhile loading In[27], in expression starting on line 1",
     "output_type": "error",
     "traceback": [
      "LoadError: UndefVarError: df30 not defined\nwhile loading In[27], in expression starting on line 1",
      ""
     ]
    }
   ],
   "source": [
    "describe(df30)"
   ]
  },
  {
   "cell_type": "code",
   "execution_count": 28,
   "metadata": {
    "collapsed": false
   },
   "outputs": [
    {
     "name": "stdout",
     "output_type": "stream",
     "text": [
      "A\n",
      "Min      0.08764967641704247\n",
      "1st Qu.  0.27005730160457553\n",
      "Median   0.6261925263039021\n",
      "Mean     0.5427330229953619\n",
      "3rd Qu.  0.6798730928300392\n",
      "Max      0.9803988600560456\n",
      "NAs      0\n",
      "NA%      0.0%\n",
      "\n",
      "B\n",
      "Min      0.09824104619985352\n",
      "1st Qu.  0.4040230599803514\n",
      "Median   0.7293386144210177\n",
      "Mean     0.6446107310398463\n",
      "3rd Qu.  0.9238271101483746\n",
      "Max      0.9979068435170713\n",
      "NAs      0\n",
      "NA%      0.0%\n",
      "\n",
      "C\n",
      "Min      0.05575177217708882\n",
      "1st Qu.  0.24562810640213273\n",
      "Median   0.5469033424500562\n",
      "Mean     0.5223258212907417\n",
      "3rd Qu.  0.8080825293920816\n",
      "Max      0.9942561780555055\n",
      "NAs      0\n",
      "NA%      0.0%\n",
      "\n",
      "D\n",
      "Min      0.03974364570675304\n",
      "1st Qu.  0.24768842669184743\n",
      "Median   0.5497262353824863\n",
      "Mean     0.4943085112919344\n",
      "3rd Qu.  0.6613518916578736\n",
      "Max      0.9934728950484661\n",
      "NAs      0\n",
      "NA%      0.0%\n",
      "\n"
     ]
    }
   ],
   "source": [
    "describe(df3)"
   ]
  },
  {
   "cell_type": "code",
   "execution_count": 29,
   "metadata": {
    "collapsed": false
   },
   "outputs": [
    {
     "name": "stdout",
     "output_type": "stream",
     "text": [
      "A\n",
      "Min      1.0\n",
      "1st Qu.  2.0\n",
      "Median   3.0\n",
      "Mean     3.0\n",
      "3rd Qu.  4.0\n",
      "Max      5.0\n",
      "NAs      0\n",
      "NA%      0.0%\n",
      "\n",
      "B\n",
      "Length  5\n",
      "Type    ASCIIString\n",
      "NAs     0\n",
      "NA%     0.0%\n",
      "Unique  5\n",
      "\n"
     ]
    }
   ],
   "source": [
    "describe(df2)"
   ]
  },
  {
   "cell_type": "code",
   "execution_count": 30,
   "metadata": {
    "collapsed": false
   },
   "outputs": [
    {
     "data": {
      "text/plain": [
       "15-element DataArrays.DataArray{Float64,1}:\n",
       " 0.653871 \n",
       " 0.256817 \n",
       " 0.626193 \n",
       " 0.0876497\n",
       " 0.212283 \n",
       " 0.96981  \n",
       " 0.642994 \n",
       " 0.274004 \n",
       " 0.687211 \n",
       " 0.980399 \n",
       " 0.450372 \n",
       " 0.266111 \n",
       " 0.672536 \n",
       " 0.946084 \n",
       " 0.414663 "
      ]
     },
     "execution_count": 30,
     "metadata": {},
     "output_type": "execute_result"
    }
   ],
   "source": [
    "df3[:A]"
   ]
  },
  {
   "cell_type": "code",
   "execution_count": null,
   "metadata": {
    "collapsed": false
   },
   "outputs": [],
   "source": []
  },
  {
   "cell_type": "code",
   "execution_count": 37,
   "metadata": {
    "collapsed": false
   },
   "outputs": [
    {
     "ename": "LoadError",
     "evalue": "LoadError: BoundsError: attempt to access 2-element Array{Symbol,1}:\n :A\n :C\n  at index [3:5,1]\nwhile loading In[37], in expression starting on line 1",
     "output_type": "error",
     "traceback": [
      "LoadError: BoundsError: attempt to access 2-element Array{Symbol,1}:\n :A\n :C\n  at index [3:5,1]\nwhile loading In[37], in expression starting on line 1",
      "",
      " in throw_boundserror at abstractarray.jl:156",
      " in getindex at abstractarray.jl:488"
     ]
    }
   ],
   "source": [
    "df3[3:5, 1]"
   ]
  },
  {
   "cell_type": "code",
   "execution_count": 36,
   "metadata": {
    "collapsed": false
   },
   "outputs": [
    {
     "ename": "LoadError",
     "evalue": "LoadError: BoundsError: attempt to access 2-element Array{Symbol,1}:\n :A\n :C\n  at index [3:5,Colon()]\nwhile loading In[36], in expression starting on line 1",
     "output_type": "error",
     "traceback": [
      "LoadError: BoundsError: attempt to access 2-element Array{Symbol,1}:\n :A\n :C\n  at index [3:5,Colon()]\nwhile loading In[36], in expression starting on line 1",
      "",
      " in throw_boundserror at abstractarray.jl:156",
      " in getindex at abstractarray.jl:488"
     ]
    }
   ],
   "source": [
    "df3[3:5, :]"
   ]
  },
  {
   "cell_type": "code",
   "execution_count": 38,
   "metadata": {
    "collapsed": false
   },
   "outputs": [
    {
     "name": "stdout",
     "output_type": "stream",
     "text": [
      "CCS.csv\n",
      "Data Frames practice.ipynb\n",
      "GadflyTutorialData.csv\n",
      "Week4_1Collections.ipynb\n",
      "Week4_2Functions.ipynb\n",
      "Week4_3DataFrames.ipynb\n",
      "Week4_4Data.ipynb\n",
      "Week4_Honors2-Gadfly.ipynb\n",
      "functions recap.ipynb\n",
      "style.css\n"
     ]
    }
   ],
   "source": [
    ";ls"
   ]
  },
  {
   "cell_type": "code",
   "execution_count": 39,
   "metadata": {
    "collapsed": false
   },
   "outputs": [
    {
     "data": {
      "text/html": [
       "<table class=\"data-frame\"><thead><tr><th></th><th>PatientID</th><th>Cat1</th><th>Cat2</th><th>Var1</th><th>Var2</th><th>Var3</th></tr></thead><tbody><tr><th>1</th><td>1</td><td>A</td><td>C</td><td>38.25682170735211</td><td>5.939131803063266</td><td>35.05790787394423</td></tr><tr><th>2</th><td>2</td><td>A</td><td>C</td><td>17.831672926455425</td><td>5.3475437647467015</td><td>21.130960534087748</td></tr><tr><th>3</th><td>8</td><td>A</td><td>B</td><td>16.021847362622296</td><td>6.60708739107548</td><td>60.94357572800236</td></tr><tr><th>4</th><td>9</td><td>A</td><td>C</td><td>45.11578946046756</td><td>6.007331523437179</td><td>21.879716257527214</td></tr><tr><th>5</th><td>16</td><td>A</td><td>C</td><td>20.448024664719128</td><td>8.548191553013755</td><td>20.662273742223093</td></tr><tr><th>6</th><td>18</td><td>A</td><td>B</td><td>28.354866592358434</td><td>7.956423420109708</td><td>33.180721180524046</td></tr><tr><th>7</th><td>25</td><td>A</td><td>C</td><td>22.449698055243154</td><td>6.346176553966556</td><td>40.23647859806062</td></tr><tr><th>8</th><td>28</td><td>A</td><td>B</td><td>48.41249747282861</td><td>5.325830066483782</td><td>28.89558282117991</td></tr><tr><th>9</th><td>29</td><td>A</td><td>C</td><td>40.00749019795842</td><td>11.418946000149159</td><td>71.59107138476448</td></tr><tr><th>10</th><td>33</td><td>A</td><td>C</td><td>20.718078088759942</td><td>5.3776825349838875</td><td>27.421634761166143</td></tr><tr><th>11</th><td>37</td><td>A</td><td>B</td><td>17.039552902790813</td><td>5.341678126021321</td><td>24.350125791798412</td></tr><tr><th>12</th><td>38</td><td>A</td><td>B</td><td>42.668677048130725</td><td>5.822836826149952</td><td>52.361023970347645</td></tr><tr><th>13</th><td>41</td><td>A</td><td>B</td><td>19.954005492731604</td><td>5.139109665644092</td><td>93.1999049245544</td></tr><tr><th>14</th><td>42</td><td>A</td><td>B</td><td>20.616861807456626</td><td>5.373775257683365</td><td>22.956316044932706</td></tr><tr><th>15</th><td>45</td><td>A</td><td>B</td><td>31.96943333536114</td><td>7.03175222186184</td><td>32.4353920798117</td></tr><tr><th>16</th><td>48</td><td>A</td><td>C</td><td>15.896503262657347</td><td>6.816307422196048</td><td>56.91791495074396</td></tr><tr><th>17</th><td>50</td><td>A</td><td>B</td><td>34.12637671623271</td><td>10.132043236302893</td><td>95.0800494348705</td></tr><tr><th>18</th><td>54</td><td>A</td><td>C</td><td>17.266696029416444</td><td>6.232851527491789</td><td>30.592429272236995</td></tr><tr><th>19</th><td>56</td><td>A</td><td>B</td><td>17.65139392415621</td><td>6.482234591532695</td><td>30.411111164705403</td></tr><tr><th>20</th><td>57</td><td>A</td><td>C</td><td>19.411007643097165</td><td>6.7381729160524415</td><td>51.404061512592136</td></tr><tr><th>21</th><td>58</td><td>A</td><td>B</td><td>20.72167664093812</td><td>12.544965670716241</td><td>23.516481089946932</td></tr><tr><th>22</th><td>72</td><td>A</td><td>C</td><td>41.067434948202134</td><td>6.790353447911059</td><td>25.463601202747274</td></tr><tr><th>23</th><td>77</td><td>A</td><td>C</td><td>21.748637652644852</td><td>5.331207233871429</td><td>53.37901535144456</td></tr><tr><th>24</th><td>79</td><td>A</td><td>B</td><td>24.795379875133985</td><td>6.421028372159899</td><td>67.80454363409564</td></tr><tr><th>25</th><td>81</td><td>A</td><td>C</td><td>19.455898596105506</td><td>15.58264883701855</td><td>42.09359631060543</td></tr><tr><th>26</th><td>87</td><td>A</td><td>B</td><td>20.42366215424995</td><td>6.0313350908620045</td><td>20.315296150337286</td></tr><tr><th>27</th><td>90</td><td>A</td><td>B</td><td>32.12531899176456</td><td>7.5079670766812505</td><td>30.041428426466076</td></tr><tr><th>28</th><td>91</td><td>A</td><td>C</td><td>27.80314774867038</td><td>5.569594345445192</td><td>20.873838118661297</td></tr><tr><th>29</th><td>93</td><td>A</td><td>B</td><td>22.519476318918194</td><td>8.263168140286755</td><td>38.939609071578595</td></tr><tr><th>30</th><td>96</td><td>A</td><td>C</td><td>52.42066995572101</td><td>10.589195161626716</td><td>22.849503575655408</td></tr><tr><th>&vellip;</th><td>&vellip;</td><td>&vellip;</td><td>&vellip;</td><td>&vellip;</td><td>&vellip;</td><td>&vellip;</td></tr></tbody></table>"
      ],
      "text/plain": [
       "120×6 DataFrames.DataFrame\n",
       "│ Row │ PatientID │ Cat1 │ Cat2 │ Var1    │ Var2    │ Var3    │\n",
       "├─────┼───────────┼──────┼──────┼─────────┼─────────┼─────────┤\n",
       "│ 1   │ 1         │ \"A\"  │ \"C\"  │ 38.2568 │ 5.93913 │ 35.0579 │\n",
       "│ 2   │ 2         │ \"A\"  │ \"C\"  │ 17.8317 │ 5.34754 │ 21.131  │\n",
       "│ 3   │ 8         │ \"A\"  │ \"B\"  │ 16.0218 │ 6.60709 │ 60.9436 │\n",
       "│ 4   │ 9         │ \"A\"  │ \"C\"  │ 45.1158 │ 6.00733 │ 21.8797 │\n",
       "│ 5   │ 16        │ \"A\"  │ \"C\"  │ 20.448  │ 8.54819 │ 20.6623 │\n",
       "│ 6   │ 18        │ \"A\"  │ \"B\"  │ 28.3549 │ 7.95642 │ 33.1807 │\n",
       "│ 7   │ 25        │ \"A\"  │ \"C\"  │ 22.4497 │ 6.34618 │ 40.2365 │\n",
       "│ 8   │ 28        │ \"A\"  │ \"B\"  │ 48.4125 │ 5.32583 │ 28.8956 │\n",
       "│ 9   │ 29        │ \"A\"  │ \"C\"  │ 40.0075 │ 11.4189 │ 71.5911 │\n",
       "│ 10  │ 33        │ \"A\"  │ \"C\"  │ 20.7181 │ 5.37768 │ 27.4216 │\n",
       "│ 11  │ 37        │ \"A\"  │ \"B\"  │ 17.0396 │ 5.34168 │ 24.3501 │\n",
       "⋮\n",
       "│ 109 │ 76        │ \"B\"  │ \"R\"  │ 17.0029 │ 5.39477 │ 31.1297 │\n",
       "│ 110 │ 78        │ \"B\"  │ \"L\"  │ 55.3879 │ 4.15304 │ 40.0846 │\n",
       "│ 111 │ 80        │ \"B\"  │ \"R\"  │ 20.2205 │ 6.36442 │ 45.435  │\n",
       "│ 112 │ 83        │ \"B\"  │ \"L\"  │ 16.4172 │ 3.84167 │ 89.6969 │\n",
       "│ 113 │ 84        │ \"B\"  │ \"R\"  │ 47.6224 │ 5.40032 │ 47.4541 │\n",
       "│ 114 │ 86        │ \"B\"  │ \"L\"  │ 73.0229 │ 3.38349 │ 55.1737 │\n",
       "│ 115 │ 92        │ \"B\"  │ \"R\"  │ 16.4106 │ 4.30351 │ 87.7357 │\n",
       "│ 116 │ 95        │ \"B\"  │ \"R\"  │ 16.2801 │ 3.37252 │ 52.6018 │\n",
       "│ 117 │ 101       │ \"B\"  │ \"L\"  │ 16.8883 │ 3.19598 │ 60.1883 │\n",
       "│ 118 │ 113       │ \"B\"  │ \"R\"  │ 32.3537 │ 3.38677 │ 30.0157 │\n",
       "│ 119 │ 115       │ \"B\"  │ \"R\"  │ 20.1379 │ 3.42731 │ 44.6893 │\n",
       "│ 120 │ 119       │ \"B\"  │ \"L\"  │ 17.6144 │ 3.45116 │ 40.6947 │"
      ]
     },
     "execution_count": 39,
     "metadata": {},
     "output_type": "execute_result"
    }
   ],
   "source": [
    "data1 = readtable(\"CCS.csv\")"
   ]
  },
  {
   "cell_type": "code",
   "execution_count": 40,
   "metadata": {
    "collapsed": false
   },
   "outputs": [
    {
     "name": "stdout",
     "output_type": "stream",
     "text": [
      "PatientID\n",
      "Min      1.0\n",
      "1st Qu.  30.75\n",
      "Median   60.5\n",
      "Mean     60.5\n",
      "3rd Qu.  90.25\n",
      "Max      120.0\n",
      "NAs      0\n",
      "NA%      0.0%\n",
      "\n",
      "Cat1\n",
      "Length  120\n",
      "Type    UTF8String\n",
      "NAs     0\n",
      "NA%     0.0%\n",
      "Unique  2\n",
      "\n",
      "Cat2\n",
      "Length  120\n",
      "Type    UTF8String\n",
      "NAs     0\n",
      "NA%     0.0%\n",
      "Unique  6\n",
      "\n",
      "Var1\n",
      "Min      15.235601323477356\n",
      "1st Qu.  17.967474764822036\n",
      "Median   22.68007894647561\n",
      "Mean     27.967863792237896\n",
      "3rd Qu.  34.74637250355623\n",
      "Max      84.23781038235661\n",
      "NAs      0\n",
      "NA%      0.0%\n",
      "\n",
      "Var2\n",
      "Min      3.0117329341084575\n",
      "1st Qu.  4.065522629370978\n",
      "Median   5.642405804079912\n",
      "Mean     5.921205494236093\n",
      "3rd Qu.  6.839650568847201\n",
      "Max      15.58264883701855\n",
      "NAs      0\n",
      "NA%      0.0%\n",
      "\n",
      "Var3\n",
      "Min      20.315296150337286\n",
      "1st Qu.  32.235513889318256\n",
      "Median   44.30417639037034\n",
      "Mean     51.95003059213374\n",
      "3rd Qu.  64.8588498831561\n",
      "Max      147.39740194224694\n",
      "NAs      0\n",
      "NA%      0.0%\n",
      "\n"
     ]
    }
   ],
   "source": [
    "describe(data1)"
   ]
  },
  {
   "cell_type": "code",
   "execution_count": 41,
   "metadata": {
    "collapsed": false
   },
   "outputs": [
    {
     "data": {
      "text/html": [
       "<table class=\"data-frame\"><thead><tr><th></th><th>PatientID</th><th>Cat1</th><th>Cat2</th><th>Var1</th><th>Var2</th><th>Var3</th></tr></thead><tbody><tr><th>1</th><td>1</td><td>A</td><td>C</td><td>38.25682170735211</td><td>5.939131803063266</td><td>35.05790787394423</td></tr><tr><th>2</th><td>2</td><td>A</td><td>C</td><td>17.831672926455425</td><td>5.3475437647467015</td><td>21.130960534087748</td></tr><tr><th>3</th><td>8</td><td>A</td><td>B</td><td>16.021847362622296</td><td>6.60708739107548</td><td>60.94357572800236</td></tr><tr><th>4</th><td>9</td><td>A</td><td>C</td><td>45.11578946046756</td><td>6.007331523437179</td><td>21.879716257527214</td></tr><tr><th>5</th><td>16</td><td>A</td><td>C</td><td>20.448024664719128</td><td>8.548191553013755</td><td>20.662273742223093</td></tr><tr><th>6</th><td>18</td><td>A</td><td>B</td><td>28.354866592358434</td><td>7.956423420109708</td><td>33.180721180524046</td></tr></tbody></table>"
      ],
      "text/plain": [
       "6×6 DataFrames.DataFrame\n",
       "│ Row │ PatientID │ Cat1 │ Cat2 │ Var1    │ Var2    │ Var3    │\n",
       "├─────┼───────────┼──────┼──────┼─────────┼─────────┼─────────┤\n",
       "│ 1   │ 1         │ \"A\"  │ \"C\"  │ 38.2568 │ 5.93913 │ 35.0579 │\n",
       "│ 2   │ 2         │ \"A\"  │ \"C\"  │ 17.8317 │ 5.34754 │ 21.131  │\n",
       "│ 3   │ 8         │ \"A\"  │ \"B\"  │ 16.0218 │ 6.60709 │ 60.9436 │\n",
       "│ 4   │ 9         │ \"A\"  │ \"C\"  │ 45.1158 │ 6.00733 │ 21.8797 │\n",
       "│ 5   │ 16        │ \"A\"  │ \"C\"  │ 20.448  │ 8.54819 │ 20.6623 │\n",
       "│ 6   │ 18        │ \"A\"  │ \"B\"  │ 28.3549 │ 7.95642 │ 33.1807 │"
      ]
     },
     "execution_count": 41,
     "metadata": {},
     "output_type": "execute_result"
    }
   ],
   "source": [
    "head(data1)"
   ]
  },
  {
   "cell_type": "code",
   "execution_count": 42,
   "metadata": {
    "collapsed": false
   },
   "outputs": [
    {
     "data": {
      "text/plain": [
       "DataFrames.DataFrame"
      ]
     },
     "execution_count": 42,
     "metadata": {},
     "output_type": "execute_result"
    }
   ],
   "source": [
    "typeof(data1)"
   ]
  },
  {
   "cell_type": "code",
   "execution_count": 46,
   "metadata": {
    "collapsed": false
   },
   "outputs": [
    {
     "name": "stdout",
     "output_type": "stream",
     "text": [
      "search: writetable\n",
      "\n"
     ]
    },
    {
     "data": {
      "text/markdown": [
       "Write data to a tabular-file format (CSV, TSV, ...)\n",
       "\n",
       "```julia\n",
       "writetable(filename, df, [keyword options])\n",
       "```\n",
       "\n",
       "### Arguments\n",
       "\n",
       "  * `filename::AbstractString` : the filename to be created\n",
       "  * `df::AbstractDataFrame` : the AbstractDataFrame to be written\n",
       "\n",
       "### Keyword Arguments\n",
       "\n",
       "  * `separator::Char` – The separator character that you would like to use. Defaults to the output of `getseparator(filename)`, which uses commas for files that end in `.csv`, tabs for files that end in `.tsv` and a single space for files that end in `.wsv`.\n",
       "  * `quotemark::Char` – The character used to delimit string fields. Defaults to `'\"'`.\n",
       "  * `header::Bool` – Should the file contain a header that specifies the column names from `df`. Defaults to `true`.\n",
       "  * `nastring::AbstractString` – What to write in place of missing data. Defaults to `\"NA\"`.\n",
       "\n",
       "### Result\n",
       "\n",
       "  * `::DataFrame`\n",
       "\n",
       "### Examples\n",
       "\n",
       "```julia\n",
       "df = DataFrame(A = 1:10)\n",
       "writetable(\"output.csv\", df)\n",
       "writetable(\"output.dat\", df, separator = ',', header = false)\n",
       "writetable(\"output.dat\", df, quotemark = '', separator = ',')\n",
       "writetable(\"output.dat\", df, header = false)\n",
       "```\n"
      ],
      "text/plain": [
       "Write data to a tabular-file format (CSV, TSV, ...)\n",
       "\n",
       "```julia\n",
       "writetable(filename, df, [keyword options])\n",
       "```\n",
       "\n",
       "### Arguments\n",
       "\n",
       "  * `filename::AbstractString` : the filename to be created\n",
       "  * `df::AbstractDataFrame` : the AbstractDataFrame to be written\n",
       "\n",
       "### Keyword Arguments\n",
       "\n",
       "  * `separator::Char` – The separator character that you would like to use. Defaults to the output of `getseparator(filename)`, which uses commas for files that end in `.csv`, tabs for files that end in `.tsv` and a single space for files that end in `.wsv`.\n",
       "  * `quotemark::Char` – The character used to delimit string fields. Defaults to `'\"'`.\n",
       "  * `header::Bool` – Should the file contain a header that specifies the column names from `df`. Defaults to `true`.\n",
       "  * `nastring::AbstractString` – What to write in place of missing data. Defaults to `\"NA\"`.\n",
       "\n",
       "### Result\n",
       "\n",
       "  * `::DataFrame`\n",
       "\n",
       "### Examples\n",
       "\n",
       "```julia\n",
       "df = DataFrame(A = 1:10)\n",
       "writetable(\"output.csv\", df)\n",
       "writetable(\"output.dat\", df, separator = ',', header = false)\n",
       "writetable(\"output.dat\", df, quotemark = '', separator = ',')\n",
       "writetable(\"output.dat\", df, header = false)\n",
       "```\n"
      ]
     },
     "execution_count": 46,
     "metadata": {},
     "output_type": "execute_result"
    }
   ],
   "source": [
    "?writetable"
   ]
  },
  {
   "cell_type": "code",
   "execution_count": 47,
   "metadata": {
    "collapsed": true
   },
   "outputs": [],
   "source": [
    "writetable(\"data1.csv\", data1, separator = ',')"
   ]
  },
  {
   "cell_type": "code",
   "execution_count": 50,
   "metadata": {
    "collapsed": false
   },
   "outputs": [
    {
     "data": {
      "text/html": [
       "<table class=\"data-frame\"><thead><tr><th></th><th>Number</th><th>Stage</th></tr></thead><tbody><tr><th>1</th><td>100</td><td>I</td></tr><tr><th>2</th><td>101</td><td>II</td></tr><tr><th>3</th><td>102</td><td>III</td></tr><tr><th>4</th><td>103</td><td>I</td></tr></tbody></table>"
      ],
      "text/plain": [
       "4×2 DataFrames.DataFrame\n",
       "│ Row │ Number │ Stage │\n",
       "├─────┼────────┼───────┤\n",
       "│ 1   │ 100    │ \"I\"   │\n",
       "│ 2   │ 101    │ \"II\"  │\n",
       "│ 3   │ 102    │ \"III\" │\n",
       "│ 4   │ 103    │ \"I\"   │"
      ]
     },
     "execution_count": 50,
     "metadata": {},
     "output_type": "execute_result"
    }
   ],
   "source": [
    "subjects = DataFrame(Number = [100, 101, 102, 103], Stage = [\"I\", \"II\", \"III\", \"I\"])"
   ]
  },
  {
   "cell_type": "code",
   "execution_count": 49,
   "metadata": {
    "collapsed": false
   },
   "outputs": [
    {
     "data": {
      "text/html": [
       "<table class=\"data-frame\"><thead><tr><th></th><th>Number</th><th>Treatment</th></tr></thead><tbody><tr><th>1</th><td>103</td><td>A</td></tr><tr><th>2</th><td>102</td><td>B</td></tr><tr><th>3</th><td>101</td><td>A</td></tr><tr><th>4</th><td>100</td><td>B</td></tr></tbody></table>"
      ],
      "text/plain": [
       "4×2 DataFrames.DataFrame\n",
       "│ Row │ Number │ Treatment │\n",
       "├─────┼────────┼───────────┤\n",
       "│ 1   │ 103    │ \"A\"       │\n",
       "│ 2   │ 102    │ \"B\"       │\n",
       "│ 3   │ 101    │ \"A\"       │\n",
       "│ 4   │ 100    │ \"B\"       │"
      ]
     },
     "execution_count": 49,
     "metadata": {},
     "output_type": "execute_result"
    }
   ],
   "source": [
    "treatment = DataFrame(Number = [103, 102, 101, 100], Treatment = [\"A\", \"B\", \"A\", \"B\"])"
   ]
  },
  {
   "cell_type": "code",
   "execution_count": 51,
   "metadata": {
    "collapsed": false
   },
   "outputs": [
    {
     "data": {
      "text/html": [
       "<table class=\"data-frame\"><thead><tr><th></th><th>Number</th><th>Stage</th><th>Treatment</th></tr></thead><tbody><tr><th>1</th><td>100</td><td>I</td><td>B</td></tr><tr><th>2</th><td>101</td><td>II</td><td>A</td></tr><tr><th>3</th><td>102</td><td>III</td><td>B</td></tr><tr><th>4</th><td>103</td><td>I</td><td>A</td></tr></tbody></table>"
      ],
      "text/plain": [
       "4×3 DataFrames.DataFrame\n",
       "│ Row │ Number │ Stage │ Treatment │\n",
       "├─────┼────────┼───────┼───────────┤\n",
       "│ 1   │ 100    │ \"I\"   │ \"B\"       │\n",
       "│ 2   │ 101    │ \"II\"  │ \"A\"       │\n",
       "│ 3   │ 102    │ \"III\" │ \"B\"       │\n",
       "│ 4   │ 103    │ \"I\"   │ \"A\"       │"
      ]
     },
     "execution_count": 51,
     "metadata": {},
     "output_type": "execute_result"
    }
   ],
   "source": [
    "df5 = join(subjects, treatment, on = :Number)"
   ]
  },
  {
   "cell_type": "code",
   "execution_count": 52,
   "metadata": {
    "collapsed": false
   },
   "outputs": [
    {
     "data": {
      "text/html": [
       "<table class=\"data-frame\"><thead><tr><th></th><th>Number</th><th>Stage</th></tr></thead><tbody><tr><th>1</th><td>100</td><td>I</td></tr><tr><th>2</th><td>101</td><td>III</td></tr><tr><th>3</th><td>102</td><td>II</td></tr><tr><th>4</th><td>103</td><td>I</td></tr><tr><th>5</th><td>104</td><td>II</td></tr><tr><th>6</th><td>105</td><td>II</td></tr></tbody></table>"
      ],
      "text/plain": [
       "6×2 DataFrames.DataFrame\n",
       "│ Row │ Number │ Stage │\n",
       "├─────┼────────┼───────┤\n",
       "│ 1   │ 100    │ \"I\"   │\n",
       "│ 2   │ 101    │ \"III\" │\n",
       "│ 3   │ 102    │ \"II\"  │\n",
       "│ 4   │ 103    │ \"I\"   │\n",
       "│ 5   │ 104    │ \"II\"  │\n",
       "│ 6   │ 105    │ \"II\"  │"
      ]
     },
     "execution_count": 52,
     "metadata": {},
     "output_type": "execute_result"
    }
   ],
   "source": [
    "subjects = DataFrame(Number = [100, 101, 102, 103, 104, 105], Stage = [\"I\",\"III\", \"II\", \"I\", \"II\", \"II\"])"
   ]
  },
  {
   "cell_type": "code",
   "execution_count": 53,
   "metadata": {
    "collapsed": false
   },
   "outputs": [
    {
     "data": {
      "text/html": [
       "<table class=\"data-frame\"><thead><tr><th></th><th>Number</th><th>Stage</th><th>Treatment</th></tr></thead><tbody><tr><th>1</th><td>100</td><td>I</td><td>B</td></tr><tr><th>2</th><td>101</td><td>III</td><td>A</td></tr><tr><th>3</th><td>102</td><td>II</td><td>B</td></tr><tr><th>4</th><td>103</td><td>I</td><td>A</td></tr></tbody></table>"
      ],
      "text/plain": [
       "4×3 DataFrames.DataFrame\n",
       "│ Row │ Number │ Stage │ Treatment │\n",
       "├─────┼────────┼───────┼───────────┤\n",
       "│ 1   │ 100    │ \"I\"   │ \"B\"       │\n",
       "│ 2   │ 101    │ \"III\" │ \"A\"       │\n",
       "│ 3   │ 102    │ \"II\"  │ \"B\"       │\n",
       "│ 4   │ 103    │ \"I\"   │ \"A\"       │"
      ]
     },
     "execution_count": 53,
     "metadata": {},
     "output_type": "execute_result"
    }
   ],
   "source": [
    "df6 = join(subjects, treatment, on = :Number, kind = :inner)"
   ]
  },
  {
   "cell_type": "code",
   "execution_count": 54,
   "metadata": {
    "collapsed": false
   },
   "outputs": [
    {
     "data": {
      "text/html": [
       "<table class=\"data-frame\"><thead><tr><th></th><th>Number</th><th>Stage</th><th>Treatment</th></tr></thead><tbody><tr><th>1</th><td>100</td><td>I</td><td>B</td></tr><tr><th>2</th><td>101</td><td>III</td><td>A</td></tr><tr><th>3</th><td>102</td><td>II</td><td>B</td></tr><tr><th>4</th><td>103</td><td>I</td><td>A</td></tr><tr><th>5</th><td>104</td><td>II</td><td>NA</td></tr><tr><th>6</th><td>105</td><td>II</td><td>NA</td></tr></tbody></table>"
      ],
      "text/plain": [
       "6×3 DataFrames.DataFrame\n",
       "│ Row │ Number │ Stage │ Treatment │\n",
       "├─────┼────────┼───────┼───────────┤\n",
       "│ 1   │ 100    │ \"I\"   │ \"B\"       │\n",
       "│ 2   │ 101    │ \"III\" │ \"A\"       │\n",
       "│ 3   │ 102    │ \"II\"  │ \"B\"       │\n",
       "│ 4   │ 103    │ \"I\"   │ \"A\"       │\n",
       "│ 5   │ 104    │ \"II\"  │ NA        │\n",
       "│ 6   │ 105    │ \"II\"  │ NA        │"
      ]
     },
     "execution_count": 54,
     "metadata": {},
     "output_type": "execute_result"
    }
   ],
   "source": [
    "df7 = join(subjects, treatment, on = :Number, kind = :outer)"
   ]
  },
  {
   "cell_type": "code",
   "execution_count": 55,
   "metadata": {
    "collapsed": false
   },
   "outputs": [
    {
     "data": {
      "text/html": [
       "<table class=\"data-frame\"><thead><tr><th></th><th>Group</th><th>variable1</th><th>variable2</th></tr></thead><tbody><tr><th>1</th><td>B</td><td>-0.4168209103643077</td><td>-0.06985721274295174</td></tr><tr><th>2</th><td>A</td><td>0.5631614312931298</td><td>-0.4873203433948425</td></tr><tr><th>3</th><td>A</td><td>1.4757030579182886</td><td>-0.7227677352559407</td></tr><tr><th>4</th><td>C</td><td>0.27071949170729415</td><td>-0.1598613510285206</td></tr><tr><th>5</th><td>C</td><td>0.726105682689817</td><td>0.8920309694272728</td></tr><tr><th>6</th><td>C</td><td>0.6140965735838598</td><td>1.276361247911278</td></tr><tr><th>7</th><td>B</td><td>1.2285476471073984</td><td>1.328435685105701</td></tr><tr><th>8</th><td>C</td><td>0.028981938588338828</td><td>-0.34678735440701186</td></tr><tr><th>9</th><td>B</td><td>-0.934413853633741</td><td>-0.26161146434245286</td></tr><tr><th>10</th><td>A</td><td>0.35038251736288284</td><td>-0.17231923433475288</td></tr><tr><th>11</th><td>B</td><td>0.8057011421275759</td><td>-0.8584245742111595</td></tr><tr><th>12</th><td>B</td><td>-2.2021182922848688</td><td>0.6296095810831783</td></tr><tr><th>13</th><td>A</td><td>0.22907411212306497</td><td>1.5608842796697349</td></tr><tr><th>14</th><td>B</td><td>-0.649501903134202</td><td>-0.3020586751322068</td></tr><tr><th>15</th><td>A</td><td>2.9200358518376976</td><td>-1.5919301218620225</td></tr></tbody></table>"
      ],
      "text/plain": [
       "15×3 DataFrames.DataFrame\n",
       "│ Row │ Group │ variable1 │ variable2  │\n",
       "├─────┼───────┼───────────┼────────────┤\n",
       "│ 1   │ \"B\"   │ -0.416821 │ -0.0698572 │\n",
       "│ 2   │ \"A\"   │ 0.563161  │ -0.48732   │\n",
       "│ 3   │ \"A\"   │ 1.4757    │ -0.722768  │\n",
       "│ 4   │ \"C\"   │ 0.270719  │ -0.159861  │\n",
       "│ 5   │ \"C\"   │ 0.726106  │ 0.892031   │\n",
       "│ 6   │ \"C\"   │ 0.614097  │ 1.27636    │\n",
       "│ 7   │ \"B\"   │ 1.22855   │ 1.32844    │\n",
       "│ 8   │ \"C\"   │ 0.0289819 │ -0.346787  │\n",
       "│ 9   │ \"B\"   │ -0.934414 │ -0.261611  │\n",
       "│ 10  │ \"A\"   │ 0.350383  │ -0.172319  │\n",
       "│ 11  │ \"B\"   │ 0.805701  │ -0.858425  │\n",
       "│ 12  │ \"B\"   │ -2.20212  │ 0.62961    │\n",
       "│ 13  │ \"A\"   │ 0.229074  │ 1.56088    │\n",
       "│ 14  │ \"B\"   │ -0.649502 │ -0.302059  │\n",
       "│ 15  │ \"A\"   │ 2.92004   │ -1.59193   │"
      ]
     },
     "execution_count": 55,
     "metadata": {},
     "output_type": "execute_result"
    }
   ],
   "source": [
    "df8 = DataFrame(Group = rand([\"A\", \"B\", \"C\"], 15),\n",
    "variable1 = randn(15), variable2 = randn(15))"
   ]
  },
  {
   "cell_type": "code",
   "execution_count": 56,
   "metadata": {
    "collapsed": false
   },
   "outputs": [
    {
     "data": {
      "text/html": [
       "<table class=\"data-frame\"><thead><tr><th></th><th>Group</th><th>x1</th></tr></thead><tbody><tr><th>1</th><td>A</td><td>(5,3)</td></tr><tr><th>2</th><td>B</td><td>(6,3)</td></tr><tr><th>3</th><td>C</td><td>(4,3)</td></tr></tbody></table>"
      ],
      "text/plain": [
       "3×2 DataFrames.DataFrame\n",
       "│ Row │ Group │ x1    │\n",
       "├─────┼───────┼───────┤\n",
       "│ 1   │ \"A\"   │ (5,3) │\n",
       "│ 2   │ \"B\"   │ (6,3) │\n",
       "│ 3   │ \"C\"   │ (4,3) │"
      ]
     },
     "execution_count": 56,
     "metadata": {},
     "output_type": "execute_result"
    }
   ],
   "source": [
    "by(df8, :Group, size)"
   ]
  },
  {
   "cell_type": "code",
   "execution_count": 57,
   "metadata": {
    "collapsed": false
   },
   "outputs": [
    {
     "ename": "LoadError",
     "evalue": "LoadError: MethodError: `by` has no method matching by(::DataFrames.DataFrame, ::Symbol)\nClosest candidates are:\n  by(::DataFrames.AbstractDataFrame, ::Any, !Matched::Function)\n  by(::DataFrames.AbstractDataFrame, ::Any, !Matched::Array{Symbol,1})\n  by(::DataFrames.AbstractDataFrame, ::Any, !Matched::Symbol)\nwhile loading In[57], in expression starting on line 1",
     "output_type": "error",
     "traceback": [
      "LoadError: MethodError: `by` has no method matching by(::DataFrames.DataFrame, ::Symbol)\nClosest candidates are:\n  by(::DataFrames.AbstractDataFrame, ::Any, !Matched::Function)\n  by(::DataFrames.AbstractDataFrame, ::Any, !Matched::Array{Symbol,1})\n  by(::DataFrames.AbstractDataFrame, ::Any, !Matched::Symbol)\nwhile loading In[57], in expression starting on line 1",
      ""
     ]
    }
   ],
   "source": [
    "by(df8, :Group)"
   ]
  },
  {
   "cell_type": "code",
   "execution_count": 58,
   "metadata": {
    "collapsed": false
   },
   "outputs": [
    {
     "data": {
      "text/html": [
       "<table class=\"data-frame\"><thead><tr><th></th><th>Group</th><th>Count</th></tr></thead><tbody><tr><th>1</th><td>A</td><td>5</td></tr><tr><th>2</th><td>B</td><td>6</td></tr><tr><th>3</th><td>C</td><td>4</td></tr></tbody></table>"
      ],
      "text/plain": [
       "3×2 DataFrames.DataFrame\n",
       "│ Row │ Group │ Count │\n",
       "├─────┼───────┼───────┤\n",
       "│ 1   │ \"A\"   │ 5     │\n",
       "│ 2   │ \"B\"   │ 6     │\n",
       "│ 3   │ \"C\"   │ 4     │"
      ]
     },
     "execution_count": 58,
     "metadata": {},
     "output_type": "execute_result"
    }
   ],
   "source": [
    "by(df8, :Group, df -> DataFrame(Count = size(df, 1)))"
   ]
  },
  {
   "cell_type": "code",
   "execution_count": 59,
   "metadata": {
    "collapsed": false
   },
   "outputs": [
    {
     "data": {
      "text/html": [
       "<table class=\"data-frame\"><thead><tr><th></th><th>Group</th><th>variable1_mean</th><th>variable1_std</th><th>variable2_mean</th><th>variable2_std</th></tr></thead><tbody><tr><th>1</th><td>A</td><td>1.1076713941070129</td><td>1.1249469942586938</td><td>-0.28269063103556474</td><td>1.1576484265279439</td></tr><tr><th>2</th><td>B</td><td>-0.3614343616970242</td><td>1.240380706179918</td><td>0.07768222329335142</td><td>0.7779968134175167</td></tr><tr><th>3</th><td>C</td><td>0.40997592164232743</td><td>0.31945371848963916</td><td>0.4154358779757546</td><td>0.7916831292628655</td></tr></tbody></table>"
      ],
      "text/plain": [
       "3×5 DataFrames.DataFrame\n",
       "│ Row │ Group │ variable1_mean │ variable1_std │ variable2_mean │\n",
       "├─────┼───────┼────────────────┼───────────────┼────────────────┤\n",
       "│ 1   │ \"A\"   │ 1.10767        │ 1.12495       │ -0.282691      │\n",
       "│ 2   │ \"B\"   │ -0.361434      │ 1.24038       │ 0.0776822      │\n",
       "│ 3   │ \"C\"   │ 0.409976       │ 0.319454      │ 0.415436       │\n",
       "\n",
       "│ Row │ variable2_std │\n",
       "├─────┼───────────────┤\n",
       "│ 1   │ 1.15765       │\n",
       "│ 2   │ 0.777997      │\n",
       "│ 3   │ 0.791683      │"
      ]
     },
     "execution_count": 59,
     "metadata": {},
     "output_type": "execute_result"
    }
   ],
   "source": [
    "aggregate(df8, :Group, [mean, std])"
   ]
  },
  {
   "cell_type": "code",
   "execution_count": 60,
   "metadata": {
    "collapsed": false
   },
   "outputs": [
    {
     "data": {
      "text/plain": [
       "DataFrames.GroupedDataFrame  3 groups with keys: [:Group]\n",
       "First Group:\n",
       "5×3 DataFrames.SubDataFrame{Array{Int64,1}}\n",
       "│ Row │ Group │ variable1 │ variable2 │\n",
       "├─────┼───────┼───────────┼───────────┤\n",
       "│ 1   │ \"A\"   │ 0.563161  │ -0.48732  │\n",
       "│ 2   │ \"A\"   │ 1.4757    │ -0.722768 │\n",
       "│ 3   │ \"A\"   │ 0.350383  │ -0.172319 │\n",
       "│ 4   │ \"A\"   │ 0.229074  │ 1.56088   │\n",
       "│ 5   │ \"A\"   │ 2.92004   │ -1.59193  │\n",
       "⋮\n",
       "Last Group:\n",
       "4×3 DataFrames.SubDataFrame{Array{Int64,1}}\n",
       "│ Row │ Group │ variable1 │ variable2 │\n",
       "├─────┼───────┼───────────┼───────────┤\n",
       "│ 1   │ \"C\"   │ 0.270719  │ -0.159861 │\n",
       "│ 2   │ \"C\"   │ 0.726106  │ 0.892031  │\n",
       "│ 3   │ \"C\"   │ 0.614097  │ 1.27636   │\n",
       "│ 4   │ \"C\"   │ 0.0289819 │ -0.346787 │"
      ]
     },
     "execution_count": 60,
     "metadata": {},
     "output_type": "execute_result"
    }
   ],
   "source": [
    "groupby(df8, :Group)"
   ]
  },
  {
   "cell_type": "code",
   "execution_count": 61,
   "metadata": {
    "collapsed": false
   },
   "outputs": [
    {
     "name": "stdout",
     "output_type": "stream",
     "text": [
      "5×3 DataFrames.SubDataFrame{Array{Int64,1}}\n",
      "│ Row │ Group │ variable1 │ variable2 │\n",
      "├─────┼───────┼───────────┼───────────┤\n",
      "│ 1   │ \"A\"   │ 0.563161  │ -0.48732  │\n",
      "│ 2   │ \"A\"   │ 1.4757    │ -0.722768 │\n",
      "│ 3   │ \"A\"   │ 0.350383  │ -0.172319 │\n",
      "│ 4   │ \"A\"   │ 0.229074  │ 1.56088   │\n",
      "│ 5   │ \"A\"   │ 2.92004   │ -1.59193  │6×3 DataFrames.SubDataFrame{Array{Int64,1}}\n",
      "│ Row │ Group │ variable1 │ variable2  │\n",
      "├─────┼───────┼───────────┼────────────┤\n",
      "│ 1   │ \"B\"   │ -0.416821 │ -0.0698572 │\n",
      "│ 2   │ \"B\"   │ 1.22855   │ 1.32844    │\n",
      "│ 3   │ \"B\"   │ -0.934414 │ -0.261611  │\n",
      "│ 4   │ \"B\"   │ 0.805701  │ -0.858425  │\n",
      "│ 5   │ \"B\"   │ -2.20212  │ 0.62961    │\n",
      "│ 6   │ \"B\"   │ -0.649502 │ -0.302059  │4×3 DataFrames.SubDataFrame{Array{Int64,1}}\n",
      "│ Row │ Group │ variable1 │ variable2 │\n",
      "├─────┼───────┼───────────┼───────────┤\n",
      "│ 1   │ \"C\"   │ 0.270719  │ -0.159861 │\n",
      "│ 2   │ \"C\"   │ 0.726106  │ 0.892031  │\n",
      "│ 3   │ \"C\"   │ 0.614097  │ 1.27636   │\n",
      "│ 4   │ \"C\"   │ 0.0289819 │ -0.346787 │"
     ]
    }
   ],
   "source": [
    "for i in groupby(df8, :Group)\n",
    "    print(i)\n",
    "end"
   ]
  },
  {
   "cell_type": "code",
   "execution_count": 62,
   "metadata": {
    "collapsed": false
   },
   "outputs": [
    {
     "data": {
      "text/plain": [
       "3"
      ]
     },
     "execution_count": 62,
     "metadata": {},
     "output_type": "execute_result"
    }
   ],
   "source": [
    "length(groupby(df8, :Group))"
   ]
  },
  {
   "cell_type": "code",
   "execution_count": 63,
   "metadata": {
    "collapsed": false
   },
   "outputs": [
    {
     "data": {
      "text/html": [
       "<table class=\"data-frame\"><thead><tr><th></th><th>Group</th><th>variable1</th><th>variable2</th></tr></thead><tbody><tr><th>1</th><td>B</td><td>-0.4168209103643077</td><td>-0.06985721274295174</td></tr><tr><th>2</th><td>B</td><td>1.2285476471073984</td><td>1.328435685105701</td></tr><tr><th>3</th><td>B</td><td>-0.934413853633741</td><td>-0.26161146434245286</td></tr><tr><th>4</th><td>B</td><td>0.8057011421275759</td><td>-0.8584245742111595</td></tr><tr><th>5</th><td>B</td><td>-2.2021182922848688</td><td>0.6296095810831783</td></tr><tr><th>6</th><td>B</td><td>-0.649501903134202</td><td>-0.3020586751322068</td></tr></tbody></table>"
      ],
      "text/plain": [
       "6×3 DataFrames.SubDataFrame{Array{Int64,1}}\n",
       "│ Row │ Group │ variable1 │ variable2  │\n",
       "├─────┼───────┼───────────┼────────────┤\n",
       "│ 1   │ \"B\"   │ -0.416821 │ -0.0698572 │\n",
       "│ 2   │ \"B\"   │ 1.22855   │ 1.32844    │\n",
       "│ 3   │ \"B\"   │ -0.934414 │ -0.261611  │\n",
       "│ 4   │ \"B\"   │ 0.805701  │ -0.858425  │\n",
       "│ 5   │ \"B\"   │ -2.20212  │ 0.62961    │\n",
       "│ 6   │ \"B\"   │ -0.649502 │ -0.302059  │"
      ]
     },
     "execution_count": 63,
     "metadata": {},
     "output_type": "execute_result"
    }
   ],
   "source": [
    "groupby(df8, :Group)[2]"
   ]
  },
  {
   "cell_type": "code",
   "execution_count": 137,
   "metadata": {
    "collapsed": false
   },
   "outputs": [
    {
     "data": {
      "text/plain": [
       "15-element Array{Float64,1}:\n",
       " -0.868551 \n",
       " -2.64537  \n",
       "  0.467497 \n",
       "  1.24686  \n",
       " -1.07683  \n",
       " -0.915358 \n",
       " -0.245615 \n",
       "  0.206941 \n",
       " -0.548142 \n",
       " -1.33173  \n",
       " -0.0217244\n",
       " -1.62717  \n",
       "  1.39622  \n",
       "  0.198011 \n",
       "  0.21189  "
      ]
     },
     "execution_count": 137,
     "metadata": {},
     "output_type": "execute_result"
    }
   ],
   "source": [
    "df8[:Variable3] = randn(15)"
   ]
  },
  {
   "cell_type": "code",
   "execution_count": 65,
   "metadata": {
    "collapsed": false
   },
   "outputs": [
    {
     "data": {
      "text/html": [
       "<table class=\"data-frame\"><thead><tr><th></th><th>Group</th><th>variable1</th><th>variable2</th><th>Variable3</th></tr></thead><tbody><tr><th>1</th><td>C</td><td>0.726105682689817</td><td>0.8920309694272728</td><td>-0.3673798891853248</td></tr><tr><th>2</th><td>C</td><td>0.6140965735838598</td><td>1.276361247911278</td><td>-1.1990262548863084</td></tr><tr><th>3</th><td>B</td><td>1.2285476471073984</td><td>1.328435685105701</td><td>0.5795526262606948</td></tr></tbody></table>"
      ],
      "text/plain": [
       "3×4 DataFrames.SubDataFrame{UnitRange{Int64}}\n",
       "│ Row │ Group │ variable1 │ variable2 │ Variable3 │\n",
       "├─────┼───────┼───────────┼───────────┼───────────┤\n",
       "│ 1   │ \"C\"   │ 0.726106  │ 0.892031  │ -0.36738  │\n",
       "│ 2   │ \"C\"   │ 0.614097  │ 1.27636   │ -1.19903  │\n",
       "│ 3   │ \"B\"   │ 1.22855   │ 1.32844   │ 0.579553  │"
      ]
     },
     "execution_count": 65,
     "metadata": {},
     "output_type": "execute_result"
    }
   ],
   "source": [
    "sub(df8, 5:7)"
   ]
  },
  {
   "cell_type": "code",
   "execution_count": 67,
   "metadata": {
    "collapsed": false
   },
   "outputs": [
    {
     "data": {
      "text/html": [
       "<table class=\"data-frame\"><thead><tr><th></th><th>Group</th><th>variable1</th><th>variable2</th><th>Variable3</th></tr></thead><tbody><tr><th>1</th><td>A</td><td>0.5631614312931298</td><td>-0.4873203433948425</td><td>-2.098033170347301</td></tr><tr><th>2</th><td>A</td><td>1.4757030579182886</td><td>-0.7227677352559407</td><td>-0.5556479871180756</td></tr><tr><th>3</th><td>C</td><td>0.726105682689817</td><td>0.8920309694272728</td><td>-0.3673798891853248</td></tr><tr><th>4</th><td>C</td><td>0.6140965735838598</td><td>1.276361247911278</td><td>-1.1990262548863084</td></tr><tr><th>5</th><td>B</td><td>1.2285476471073984</td><td>1.328435685105701</td><td>0.5795526262606948</td></tr><tr><th>6</th><td>B</td><td>0.8057011421275759</td><td>-0.8584245742111595</td><td>-0.2836850272561746</td></tr><tr><th>7</th><td>A</td><td>2.9200358518376976</td><td>-1.5919301218620225</td><td>2.1814192345626635</td></tr></tbody></table>"
      ],
      "text/plain": [
       "7×4 DataFrames.SubDataFrame{Array{Int64,1}}\n",
       "│ Row │ Group │ variable1 │ variable2 │ Variable3 │\n",
       "├─────┼───────┼───────────┼───────────┼───────────┤\n",
       "│ 1   │ \"A\"   │ 0.563161  │ -0.48732  │ -2.09803  │\n",
       "│ 2   │ \"A\"   │ 1.4757    │ -0.722768 │ -0.555648 │\n",
       "│ 3   │ \"C\"   │ 0.726106  │ 0.892031  │ -0.36738  │\n",
       "│ 4   │ \"C\"   │ 0.614097  │ 1.27636   │ -1.19903  │\n",
       "│ 5   │ \"B\"   │ 1.22855   │ 1.32844   │ 0.579553  │\n",
       "│ 6   │ \"B\"   │ 0.805701  │ -0.858425 │ -0.283685 │\n",
       "│ 7   │ \"A\"   │ 2.92004   │ -1.59193  │ 2.18142   │"
      ]
     },
     "execution_count": 67,
     "metadata": {},
     "output_type": "execute_result"
    }
   ],
   "source": [
    "sub(df8, df8[:variable1] .>= 0.5)"
   ]
  },
  {
   "cell_type": "code",
   "execution_count": 68,
   "metadata": {
    "collapsed": false
   },
   "outputs": [
    {
     "data": {
      "text/html": [
       "<table class=\"data-frame\"><thead><tr><th></th><th>Group</th><th>variable1</th><th>variable2</th><th>Variable3</th></tr></thead><tbody><tr><th>1</th><td>A</td><td>0.5631614312931298</td><td>-0.4873203433948425</td><td>-2.098033170347301</td></tr><tr><th>2</th><td>A</td><td>1.4757030579182886</td><td>-0.7227677352559407</td><td>-0.5556479871180756</td></tr><tr><th>3</th><td>A</td><td>0.35038251736288284</td><td>-0.17231923433475288</td><td>1.0291142295237965</td></tr><tr><th>4</th><td>A</td><td>0.22907411212306497</td><td>1.5608842796697349</td><td>1.2428819689098773</td></tr><tr><th>5</th><td>A</td><td>2.9200358518376976</td><td>-1.5919301218620225</td><td>2.1814192345626635</td></tr></tbody></table>"
      ],
      "text/plain": [
       "5×4 DataFrames.SubDataFrame{Array{Int64,1}}\n",
       "│ Row │ Group │ variable1 │ variable2 │ Variable3 │\n",
       "├─────┼───────┼───────────┼───────────┼───────────┤\n",
       "│ 1   │ \"A\"   │ 0.563161  │ -0.48732  │ -2.09803  │\n",
       "│ 2   │ \"A\"   │ 1.4757    │ -0.722768 │ -0.555648 │\n",
       "│ 3   │ \"A\"   │ 0.350383  │ -0.172319 │ 1.02911   │\n",
       "│ 4   │ \"A\"   │ 0.229074  │ 1.56088   │ 1.24288   │\n",
       "│ 5   │ \"A\"   │ 2.92004   │ -1.59193  │ 2.18142   │"
      ]
     },
     "execution_count": 68,
     "metadata": {},
     "output_type": "execute_result"
    }
   ],
   "source": [
    "df8A = sub(df8, df8[:Group] .== \"A\")"
   ]
  },
  {
   "cell_type": "code",
   "execution_count": 69,
   "metadata": {
    "collapsed": false
   },
   "outputs": [
    {
     "data": {
      "text/html": [
       "<table class=\"data-frame\"><thead><tr><th></th><th>Group</th><th>variable1</th><th>variable2</th><th>Variable3</th></tr></thead><tbody><tr><th>1</th><td>A</td><td>0.22907411212306497</td><td>1.5608842796697349</td><td>1.2428819689098773</td></tr><tr><th>2</th><td>A</td><td>0.35038251736288284</td><td>-0.17231923433475288</td><td>1.0291142295237965</td></tr><tr><th>3</th><td>A</td><td>0.5631614312931298</td><td>-0.4873203433948425</td><td>-2.098033170347301</td></tr><tr><th>4</th><td>A</td><td>1.4757030579182886</td><td>-0.7227677352559407</td><td>-0.5556479871180756</td></tr><tr><th>5</th><td>A</td><td>2.9200358518376976</td><td>-1.5919301218620225</td><td>2.1814192345626635</td></tr><tr><th>6</th><td>B</td><td>-2.2021182922848688</td><td>0.6296095810831783</td><td>-1.1598600208915064</td></tr><tr><th>7</th><td>B</td><td>-0.934413853633741</td><td>-0.26161146434245286</td><td>0.30700429341713825</td></tr><tr><th>8</th><td>B</td><td>-0.649501903134202</td><td>-0.3020586751322068</td><td>0.6281618667105224</td></tr><tr><th>9</th><td>B</td><td>-0.4168209103643077</td><td>-0.06985721274295174</td><td>-0.373174441476239</td></tr><tr><th>10</th><td>B</td><td>0.8057011421275759</td><td>-0.8584245742111595</td><td>-0.2836850272561746</td></tr><tr><th>11</th><td>B</td><td>1.2285476471073984</td><td>1.328435685105701</td><td>0.5795526262606948</td></tr><tr><th>12</th><td>C</td><td>0.028981938588338828</td><td>-0.34678735440701186</td><td>1.7151409538819264</td></tr><tr><th>13</th><td>C</td><td>0.27071949170729415</td><td>-0.1598613510285206</td><td>1.4701315505237469</td></tr><tr><th>14</th><td>C</td><td>0.6140965735838598</td><td>1.276361247911278</td><td>-1.1990262548863084</td></tr><tr><th>15</th><td>C</td><td>0.726105682689817</td><td>0.8920309694272728</td><td>-0.3673798891853248</td></tr></tbody></table>"
      ],
      "text/plain": [
       "15×4 DataFrames.DataFrame\n",
       "│ Row │ Group │ variable1 │ variable2  │ Variable3 │\n",
       "├─────┼───────┼───────────┼────────────┼───────────┤\n",
       "│ 1   │ \"A\"   │ 0.229074  │ 1.56088    │ 1.24288   │\n",
       "│ 2   │ \"A\"   │ 0.350383  │ -0.172319  │ 1.02911   │\n",
       "│ 3   │ \"A\"   │ 0.563161  │ -0.48732   │ -2.09803  │\n",
       "│ 4   │ \"A\"   │ 1.4757    │ -0.722768  │ -0.555648 │\n",
       "│ 5   │ \"A\"   │ 2.92004   │ -1.59193   │ 2.18142   │\n",
       "│ 6   │ \"B\"   │ -2.20212  │ 0.62961    │ -1.15986  │\n",
       "│ 7   │ \"B\"   │ -0.934414 │ -0.261611  │ 0.307004  │\n",
       "│ 8   │ \"B\"   │ -0.649502 │ -0.302059  │ 0.628162  │\n",
       "│ 9   │ \"B\"   │ -0.416821 │ -0.0698572 │ -0.373174 │\n",
       "│ 10  │ \"B\"   │ 0.805701  │ -0.858425  │ -0.283685 │\n",
       "│ 11  │ \"B\"   │ 1.22855   │ 1.32844    │ 0.579553  │\n",
       "│ 12  │ \"C\"   │ 0.0289819 │ -0.346787  │ 1.71514   │\n",
       "│ 13  │ \"C\"   │ 0.270719  │ -0.159861  │ 1.47013   │\n",
       "│ 14  │ \"C\"   │ 0.614097  │ 1.27636    │ -1.19903  │\n",
       "│ 15  │ \"C\"   │ 0.726106  │ 0.892031   │ -0.36738  │"
      ]
     },
     "execution_count": 69,
     "metadata": {},
     "output_type": "execute_result"
    }
   ],
   "source": [
    "sort!(df8)"
   ]
  },
  {
   "cell_type": "code",
   "execution_count": 70,
   "metadata": {
    "collapsed": false
   },
   "outputs": [
    {
     "data": {
      "text/html": [
       "<table class=\"data-frame\"><thead><tr><th></th><th>Group</th><th>variable1</th><th>variable2</th><th>Variable3</th></tr></thead><tbody><tr><th>1</th><td>C</td><td>0.726105682689817</td><td>0.8920309694272728</td><td>-0.3673798891853248</td></tr><tr><th>2</th><td>C</td><td>0.6140965735838598</td><td>1.276361247911278</td><td>-1.1990262548863084</td></tr><tr><th>3</th><td>C</td><td>0.27071949170729415</td><td>-0.1598613510285206</td><td>1.4701315505237469</td></tr><tr><th>4</th><td>C</td><td>0.028981938588338828</td><td>-0.34678735440701186</td><td>1.7151409538819264</td></tr><tr><th>5</th><td>B</td><td>1.2285476471073984</td><td>1.328435685105701</td><td>0.5795526262606948</td></tr><tr><th>6</th><td>B</td><td>0.8057011421275759</td><td>-0.8584245742111595</td><td>-0.2836850272561746</td></tr><tr><th>7</th><td>B</td><td>-0.4168209103643077</td><td>-0.06985721274295174</td><td>-0.373174441476239</td></tr><tr><th>8</th><td>B</td><td>-0.649501903134202</td><td>-0.3020586751322068</td><td>0.6281618667105224</td></tr><tr><th>9</th><td>B</td><td>-0.934413853633741</td><td>-0.26161146434245286</td><td>0.30700429341713825</td></tr><tr><th>10</th><td>B</td><td>-2.2021182922848688</td><td>0.6296095810831783</td><td>-1.1598600208915064</td></tr><tr><th>11</th><td>A</td><td>2.9200358518376976</td><td>-1.5919301218620225</td><td>2.1814192345626635</td></tr><tr><th>12</th><td>A</td><td>1.4757030579182886</td><td>-0.7227677352559407</td><td>-0.5556479871180756</td></tr><tr><th>13</th><td>A</td><td>0.5631614312931298</td><td>-0.4873203433948425</td><td>-2.098033170347301</td></tr><tr><th>14</th><td>A</td><td>0.35038251736288284</td><td>-0.17231923433475288</td><td>1.0291142295237965</td></tr><tr><th>15</th><td>A</td><td>0.22907411212306497</td><td>1.5608842796697349</td><td>1.2428819689098773</td></tr></tbody></table>"
      ],
      "text/plain": [
       "15×4 DataFrames.DataFrame\n",
       "│ Row │ Group │ variable1 │ variable2  │ Variable3 │\n",
       "├─────┼───────┼───────────┼────────────┼───────────┤\n",
       "│ 1   │ \"C\"   │ 0.726106  │ 0.892031   │ -0.36738  │\n",
       "│ 2   │ \"C\"   │ 0.614097  │ 1.27636    │ -1.19903  │\n",
       "│ 3   │ \"C\"   │ 0.270719  │ -0.159861  │ 1.47013   │\n",
       "│ 4   │ \"C\"   │ 0.0289819 │ -0.346787  │ 1.71514   │\n",
       "│ 5   │ \"B\"   │ 1.22855   │ 1.32844    │ 0.579553  │\n",
       "│ 6   │ \"B\"   │ 0.805701  │ -0.858425  │ -0.283685 │\n",
       "│ 7   │ \"B\"   │ -0.416821 │ -0.0698572 │ -0.373174 │\n",
       "│ 8   │ \"B\"   │ -0.649502 │ -0.302059  │ 0.628162  │\n",
       "│ 9   │ \"B\"   │ -0.934414 │ -0.261611  │ 0.307004  │\n",
       "│ 10  │ \"B\"   │ -2.20212  │ 0.62961    │ -1.15986  │\n",
       "│ 11  │ \"A\"   │ 2.92004   │ -1.59193   │ 2.18142   │\n",
       "│ 12  │ \"A\"   │ 1.4757    │ -0.722768  │ -0.555648 │\n",
       "│ 13  │ \"A\"   │ 0.563161  │ -0.48732   │ -2.09803  │\n",
       "│ 14  │ \"A\"   │ 0.350383  │ -0.172319  │ 1.02911   │\n",
       "│ 15  │ \"A\"   │ 0.229074  │ 1.56088    │ 1.24288   │"
      ]
     },
     "execution_count": 70,
     "metadata": {},
     "output_type": "execute_result"
    }
   ],
   "source": [
    "sort!(df8, cols = [:Group, :variable1], rev = true)"
   ]
  },
  {
   "cell_type": "code",
   "execution_count": 71,
   "metadata": {
    "collapsed": false
   },
   "outputs": [
    {
     "data": {
      "text/html": [
       "<table class=\"data-frame\"><thead><tr><th></th><th>Group</th><th>variable1</th><th>variable2</th><th>Variable3</th></tr></thead><tbody><tr><th>1</th><td>A</td><td>0.22907411212306497</td><td>1.5608842796697349</td><td>1.2428819689098773</td></tr><tr><th>2</th><td>A</td><td>0.35038251736288284</td><td>-0.17231923433475288</td><td>1.0291142295237965</td></tr><tr><th>3</th><td>A</td><td>0.5631614312931298</td><td>-0.4873203433948425</td><td>-2.098033170347301</td></tr><tr><th>4</th><td>A</td><td>1.4757030579182886</td><td>-0.7227677352559407</td><td>-0.5556479871180756</td></tr><tr><th>5</th><td>A</td><td>2.9200358518376976</td><td>-1.5919301218620225</td><td>2.1814192345626635</td></tr><tr><th>6</th><td>B</td><td>-2.2021182922848688</td><td>0.6296095810831783</td><td>-1.1598600208915064</td></tr><tr><th>7</th><td>B</td><td>-0.934413853633741</td><td>-0.26161146434245286</td><td>0.30700429341713825</td></tr><tr><th>8</th><td>B</td><td>-0.649501903134202</td><td>-0.3020586751322068</td><td>0.6281618667105224</td></tr><tr><th>9</th><td>B</td><td>-0.4168209103643077</td><td>-0.06985721274295174</td><td>-0.373174441476239</td></tr><tr><th>10</th><td>B</td><td>0.8057011421275759</td><td>-0.8584245742111595</td><td>-0.2836850272561746</td></tr><tr><th>11</th><td>B</td><td>1.2285476471073984</td><td>1.328435685105701</td><td>0.5795526262606948</td></tr><tr><th>12</th><td>C</td><td>0.028981938588338828</td><td>-0.34678735440701186</td><td>1.7151409538819264</td></tr><tr><th>13</th><td>C</td><td>0.27071949170729415</td><td>-0.1598613510285206</td><td>1.4701315505237469</td></tr><tr><th>14</th><td>C</td><td>0.6140965735838598</td><td>1.276361247911278</td><td>-1.1990262548863084</td></tr><tr><th>15</th><td>C</td><td>0.726105682689817</td><td>0.8920309694272728</td><td>-0.3673798891853248</td></tr></tbody></table>"
      ],
      "text/plain": [
       "15×4 DataFrames.DataFrame\n",
       "│ Row │ Group │ variable1 │ variable2  │ Variable3 │\n",
       "├─────┼───────┼───────────┼────────────┼───────────┤\n",
       "│ 1   │ \"A\"   │ 0.229074  │ 1.56088    │ 1.24288   │\n",
       "│ 2   │ \"A\"   │ 0.350383  │ -0.172319  │ 1.02911   │\n",
       "│ 3   │ \"A\"   │ 0.563161  │ -0.48732   │ -2.09803  │\n",
       "│ 4   │ \"A\"   │ 1.4757    │ -0.722768  │ -0.555648 │\n",
       "│ 5   │ \"A\"   │ 2.92004   │ -1.59193   │ 2.18142   │\n",
       "│ 6   │ \"B\"   │ -2.20212  │ 0.62961    │ -1.15986  │\n",
       "│ 7   │ \"B\"   │ -0.934414 │ -0.261611  │ 0.307004  │\n",
       "│ 8   │ \"B\"   │ -0.649502 │ -0.302059  │ 0.628162  │\n",
       "│ 9   │ \"B\"   │ -0.416821 │ -0.0698572 │ -0.373174 │\n",
       "│ 10  │ \"B\"   │ 0.805701  │ -0.858425  │ -0.283685 │\n",
       "│ 11  │ \"B\"   │ 1.22855   │ 1.32844    │ 0.579553  │\n",
       "│ 12  │ \"C\"   │ 0.0289819 │ -0.346787  │ 1.71514   │\n",
       "│ 13  │ \"C\"   │ 0.270719  │ -0.159861  │ 1.47013   │\n",
       "│ 14  │ \"C\"   │ 0.614097  │ 1.27636    │ -1.19903  │\n",
       "│ 15  │ \"C\"   │ 0.726106  │ 0.892031   │ -0.36738  │"
      ]
     },
     "execution_count": 71,
     "metadata": {},
     "output_type": "execute_result"
    }
   ],
   "source": [
    "sort!(df8, cols = [:Group, :variable1], rev = false)"
   ]
  },
  {
   "cell_type": "code",
   "execution_count": 73,
   "metadata": {
    "collapsed": false
   },
   "outputs": [
    {
     "data": {
      "text/html": [
       "<table class=\"data-frame\"><thead><tr><th></th><th>Group</th><th>variable1</th><th>variable2</th><th>Variable3</th></tr></thead><tbody><tr><th>1</th><td>A</td><td>0.22907411212306497</td><td>1.5608842796697349</td><td>1.2428819689098773</td></tr><tr><th>2</th><td>A</td><td>0.35038251736288284</td><td>-0.17231923433475288</td><td>1.0291142295237965</td></tr><tr><th>3</th><td>A</td><td>0.5631614312931298</td><td>-0.4873203433948425</td><td>-2.098033170347301</td></tr><tr><th>4</th><td>A</td><td>1.4757030579182886</td><td>-0.7227677352559407</td><td>-0.5556479871180756</td></tr><tr><th>5</th><td>A</td><td>2.9200358518376976</td><td>-1.5919301218620225</td><td>2.1814192345626635</td></tr><tr><th>6</th><td>B</td><td>-2.2021182922848688</td><td>0.6296095810831783</td><td>-1.1598600208915064</td></tr><tr><th>7</th><td>B</td><td>-0.934413853633741</td><td>-0.26161146434245286</td><td>0.30700429341713825</td></tr><tr><th>8</th><td>B</td><td>-0.649501903134202</td><td>-0.3020586751322068</td><td>0.6281618667105224</td></tr><tr><th>9</th><td>B</td><td>-0.4168209103643077</td><td>-0.06985721274295174</td><td>-0.373174441476239</td></tr><tr><th>10</th><td>B</td><td>0.8057011421275759</td><td>-0.8584245742111595</td><td>-0.2836850272561746</td></tr><tr><th>11</th><td>B</td><td>1.2285476471073984</td><td>1.328435685105701</td><td>0.5795526262606948</td></tr><tr><th>12</th><td>C</td><td>0.028981938588338828</td><td>-0.34678735440701186</td><td>1.7151409538819264</td></tr><tr><th>13</th><td>C</td><td>0.27071949170729415</td><td>-0.1598613510285206</td><td>1.4701315505237469</td></tr><tr><th>14</th><td>C</td><td>0.6140965735838598</td><td>1.276361247911278</td><td>-1.1990262548863084</td></tr><tr><th>15</th><td>C</td><td>0.726105682689817</td><td>0.8920309694272728</td><td>-0.3673798891853248</td></tr></tbody></table>"
      ],
      "text/plain": [
       "15×4 DataFrames.DataFrame\n",
       "│ Row │ Group │ variable1 │ variable2  │ Variable3 │\n",
       "├─────┼───────┼───────────┼────────────┼───────────┤\n",
       "│ 1   │ \"A\"   │ 0.229074  │ 1.56088    │ 1.24288   │\n",
       "│ 2   │ \"A\"   │ 0.350383  │ -0.172319  │ 1.02911   │\n",
       "│ 3   │ \"A\"   │ 0.563161  │ -0.48732   │ -2.09803  │\n",
       "│ 4   │ \"A\"   │ 1.4757    │ -0.722768  │ -0.555648 │\n",
       "│ 5   │ \"A\"   │ 2.92004   │ -1.59193   │ 2.18142   │\n",
       "│ 6   │ \"B\"   │ -2.20212  │ 0.62961    │ -1.15986  │\n",
       "│ 7   │ \"B\"   │ -0.934414 │ -0.261611  │ 0.307004  │\n",
       "│ 8   │ \"B\"   │ -0.649502 │ -0.302059  │ 0.628162  │\n",
       "│ 9   │ \"B\"   │ -0.416821 │ -0.0698572 │ -0.373174 │\n",
       "│ 10  │ \"B\"   │ 0.805701  │ -0.858425  │ -0.283685 │\n",
       "│ 11  │ \"B\"   │ 1.22855   │ 1.32844    │ 0.579553  │\n",
       "│ 12  │ \"C\"   │ 0.0289819 │ -0.346787  │ 1.71514   │\n",
       "│ 13  │ \"C\"   │ 0.270719  │ -0.159861  │ 1.47013   │\n",
       "│ 14  │ \"C\"   │ 0.614097  │ 1.27636    │ -1.19903  │\n",
       "│ 15  │ \"C\"   │ 0.726106  │ 0.892031   │ -0.36738  │"
      ]
     },
     "execution_count": 73,
     "metadata": {},
     "output_type": "execute_result"
    }
   ],
   "source": [
    "sort!(df8, cols = [:Group, :variable1, :variable2], rev = (false, false, true))"
   ]
  },
  {
   "cell_type": "code",
   "execution_count": 74,
   "metadata": {
    "collapsed": false
   },
   "outputs": [
    {
     "data": {
      "text/html": [
       "<table class=\"data-frame\"><thead><tr><th></th><th>A</th><th>B</th><th>C</th></tr></thead><tbody><tr><th>1</th><td>1</td><td>11</td><td>A</td></tr><tr><th>2</th><td>2</td><td>12</td><td>B</td></tr><tr><th>3</th><td>2</td><td>12</td><td>B</td></tr><tr><th>4</th><td>3</td><td>13</td><td>C</td></tr><tr><th>5</th><td>4</td><td>14</td><td>D</td></tr><tr><th>6</th><td>5</td><td>15</td><td>E</td></tr></tbody></table>"
      ],
      "text/plain": [
       "6×3 DataFrames.DataFrame\n",
       "│ Row │ A │ B  │ C   │\n",
       "├─────┼───┼────┼─────┤\n",
       "│ 1   │ 1 │ 11 │ \"A\" │\n",
       "│ 2   │ 2 │ 12 │ \"B\" │\n",
       "│ 3   │ 2 │ 12 │ \"B\" │\n",
       "│ 4   │ 3 │ 13 │ \"C\" │\n",
       "│ 5   │ 4 │ 14 │ \"D\" │\n",
       "│ 6   │ 5 │ 15 │ \"E\" │"
      ]
     },
     "execution_count": 74,
     "metadata": {},
     "output_type": "execute_result"
    }
   ],
   "source": [
    "df9 = DataFrame(A = [1, 2, 2, 3, 4, 5], B = [11, 12, 12, 13 ,14, 15], C = [\"A\", \"B\", \"B\", \"C\", \"D\", \"E\"])"
   ]
  },
  {
   "cell_type": "code",
   "execution_count": 75,
   "metadata": {
    "collapsed": false
   },
   "outputs": [
    {
     "data": {
      "text/html": [
       "<table class=\"data-frame\"><thead><tr><th></th><th>A</th><th>B</th><th>C</th></tr></thead><tbody><tr><th>1</th><td>1</td><td>11</td><td>A</td></tr><tr><th>2</th><td>2</td><td>12</td><td>B</td></tr><tr><th>3</th><td>3</td><td>13</td><td>C</td></tr><tr><th>4</th><td>4</td><td>14</td><td>D</td></tr><tr><th>5</th><td>5</td><td>15</td><td>E</td></tr></tbody></table>"
      ],
      "text/plain": [
       "5×3 DataFrames.DataFrame\n",
       "│ Row │ A │ B  │ C   │\n",
       "├─────┼───┼────┼─────┤\n",
       "│ 1   │ 1 │ 11 │ \"A\" │\n",
       "│ 2   │ 2 │ 12 │ \"B\" │\n",
       "│ 3   │ 3 │ 13 │ \"C\" │\n",
       "│ 4   │ 4 │ 14 │ \"D\" │\n",
       "│ 5   │ 5 │ 15 │ \"E\" │"
      ]
     },
     "execution_count": 75,
     "metadata": {},
     "output_type": "execute_result"
    }
   ],
   "source": [
    "unique(df9)"
   ]
  },
  {
   "cell_type": "code",
   "execution_count": 76,
   "metadata": {
    "collapsed": false
   },
   "outputs": [
    {
     "data": {
      "text/html": [
       "<table class=\"data-frame\"><thead><tr><th></th><th>A</th><th>B</th><th>C</th></tr></thead><tbody><tr><th>1</th><td>1</td><td>11</td><td>21</td></tr><tr><th>2</th><td>2</td><td>12</td><td>22</td></tr><tr><th>3</th><td>3</td><td>13</td><td>23</td></tr><tr><th>4</th><td>4</td><td>14</td><td>24</td></tr><tr><th>5</th><td>5</td><td>15</td><td>25</td></tr><tr><th>6</th><td>6</td><td>16</td><td>26</td></tr><tr><th>7</th><td>7</td><td>17</td><td>27</td></tr><tr><th>8</th><td>8</td><td>18</td><td>28</td></tr><tr><th>9</th><td>9</td><td>19</td><td>29</td></tr><tr><th>10</th><td>10</td><td>20</td><td>30</td></tr></tbody></table>"
      ],
      "text/plain": [
       "10×3 DataFrames.DataFrame\n",
       "│ Row │ A  │ B  │ C  │\n",
       "├─────┼────┼────┼────┤\n",
       "│ 1   │ 1  │ 11 │ 21 │\n",
       "│ 2   │ 2  │ 12 │ 22 │\n",
       "│ 3   │ 3  │ 13 │ 23 │\n",
       "│ 4   │ 4  │ 14 │ 24 │\n",
       "│ 5   │ 5  │ 15 │ 25 │\n",
       "│ 6   │ 6  │ 16 │ 26 │\n",
       "│ 7   │ 7  │ 17 │ 27 │\n",
       "│ 8   │ 8  │ 18 │ 28 │\n",
       "│ 9   │ 9  │ 19 │ 29 │\n",
       "│ 10  │ 10 │ 20 │ 30 │"
      ]
     },
     "execution_count": 76,
     "metadata": {},
     "output_type": "execute_result"
    }
   ],
   "source": [
    "df10 = DataFrame(A = 1:10, B = 11:20, C = 21:30)"
   ]
  },
  {
   "cell_type": "code",
   "execution_count": 77,
   "metadata": {
    "collapsed": false
   },
   "outputs": [
    {
     "data": {
      "text/plain": [
       "13"
      ]
     },
     "execution_count": 77,
     "metadata": {},
     "output_type": "execute_result"
    }
   ],
   "source": [
    "df10[3, :B]"
   ]
  },
  {
   "cell_type": "code",
   "execution_count": 78,
   "metadata": {
    "collapsed": false
   },
   "outputs": [
    {
     "data": {
      "text/plain": [
       "10-element BitArray{1}:\n",
       " true\n",
       " true\n",
       " true\n",
       " true\n",
       " true\n",
       " true\n",
       " true\n",
       " true\n",
       " true\n",
       " true"
      ]
     },
     "execution_count": 78,
     "metadata": {},
     "output_type": "execute_result"
    }
   ],
   "source": [
    "complete_cases(df10)"
   ]
  },
  {
   "cell_type": "code",
   "execution_count": 79,
   "metadata": {
    "collapsed": false
   },
   "outputs": [
    {
     "data": {
      "text/html": [
       "<table class=\"data-frame\"><thead><tr><th></th><th>A</th><th>B</th><th>C</th></tr></thead><tbody><tr><th>1</th><td>1</td><td>11</td><td>21</td></tr><tr><th>2</th><td>2</td><td>12</td><td>22</td></tr><tr><th>3</th><td>3</td><td>13</td><td>23</td></tr><tr><th>4</th><td>4</td><td>14</td><td>24</td></tr><tr><th>5</th><td>5</td><td>15</td><td>25</td></tr><tr><th>6</th><td>6</td><td>16</td><td>26</td></tr><tr><th>7</th><td>7</td><td>17</td><td>27</td></tr><tr><th>8</th><td>8</td><td>18</td><td>28</td></tr><tr><th>9</th><td>9</td><td>19</td><td>29</td></tr><tr><th>10</th><td>10</td><td>20</td><td>30</td></tr></tbody></table>"
      ],
      "text/plain": [
       "10×3 DataFrames.DataFrame\n",
       "│ Row │ A  │ B  │ C  │\n",
       "├─────┼────┼────┼────┤\n",
       "│ 1   │ 1  │ 11 │ 21 │\n",
       "│ 2   │ 2  │ 12 │ 22 │\n",
       "│ 3   │ 3  │ 13 │ 23 │\n",
       "│ 4   │ 4  │ 14 │ 24 │\n",
       "│ 5   │ 5  │ 15 │ 25 │\n",
       "│ 6   │ 6  │ 16 │ 26 │\n",
       "│ 7   │ 7  │ 17 │ 27 │\n",
       "│ 8   │ 8  │ 18 │ 28 │\n",
       "│ 9   │ 9  │ 19 │ 29 │\n",
       "│ 10  │ 10 │ 20 │ 30 │"
      ]
     },
     "execution_count": 79,
     "metadata": {},
     "output_type": "execute_result"
    }
   ],
   "source": [
    "complete_cases!(df10)"
   ]
  },
  {
   "cell_type": "code",
   "execution_count": 80,
   "metadata": {
    "collapsed": false
   },
   "outputs": [
    {
     "data": {
      "text/plain": [
       "NA"
      ]
     },
     "execution_count": 80,
     "metadata": {},
     "output_type": "execute_result"
    }
   ],
   "source": [
    "df10[3, :A] = NA\n",
    "df10[4, :B] = NA\n",
    "df10[[3, 9], :C] = NA"
   ]
  },
  {
   "cell_type": "code",
   "execution_count": 81,
   "metadata": {
    "collapsed": false
   },
   "outputs": [
    {
     "data": {
      "text/plain": [
       "10-element BitArray{1}:\n",
       " false\n",
       " false\n",
       "  true\n",
       " false\n",
       " false\n",
       " false\n",
       " false\n",
       " false\n",
       " false\n",
       " false"
      ]
     },
     "execution_count": 81,
     "metadata": {},
     "output_type": "execute_result"
    }
   ],
   "source": [
    "isna(df10[:A])"
   ]
  },
  {
   "cell_type": "code",
   "execution_count": 82,
   "metadata": {
    "collapsed": false
   },
   "outputs": [
    {
     "data": {
      "text/plain": [
       "1-element Array{Int64,1}:\n",
       " 3"
      ]
     },
     "execution_count": 82,
     "metadata": {},
     "output_type": "execute_result"
    }
   ],
   "source": [
    "findin(isna(df10[:A]), true)"
   ]
  },
  {
   "cell_type": "code",
   "execution_count": 83,
   "metadata": {
    "collapsed": false
   },
   "outputs": [
    {
     "data": {
      "text/plain": [
       "(10,3)"
      ]
     },
     "execution_count": 83,
     "metadata": {},
     "output_type": "execute_result"
    }
   ],
   "source": [
    "rows, cols = size(df10)"
   ]
  },
  {
   "cell_type": "code",
   "execution_count": 145,
   "metadata": {
    "collapsed": true
   },
   "outputs": [],
   "source": [
    "for i in 1:cols\n",
    "    deleterows!(df10, find(isna(df10[:, i])))\n",
    "end"
   ]
  },
  {
   "cell_type": "code",
   "execution_count": 146,
   "metadata": {
    "collapsed": false
   },
   "outputs": [
    {
     "data": {
      "text/html": [
       "<table class=\"data-frame\"><thead><tr><th></th><th>A</th><th>B</th><th>C</th></tr></thead><tbody><tr><th>1</th><td>1</td><td>11</td><td>21</td></tr><tr><th>2</th><td>2</td><td>12</td><td>22</td></tr><tr><th>3</th><td>5</td><td>15</td><td>25</td></tr><tr><th>4</th><td>6</td><td>16</td><td>26</td></tr><tr><th>5</th><td>7</td><td>17</td><td>27</td></tr><tr><th>6</th><td>8</td><td>18</td><td>28</td></tr><tr><th>7</th><td>10</td><td>20</td><td>30</td></tr></tbody></table>"
      ],
      "text/plain": [
       "7×3 DataFrames.DataFrame\n",
       "│ Row │ A  │ B  │ C  │\n",
       "├─────┼────┼────┼────┤\n",
       "│ 1   │ 1  │ 11 │ 21 │\n",
       "│ 2   │ 2  │ 12 │ 22 │\n",
       "│ 3   │ 5  │ 15 │ 25 │\n",
       "│ 4   │ 6  │ 16 │ 26 │\n",
       "│ 5   │ 7  │ 17 │ 27 │\n",
       "│ 6   │ 8  │ 18 │ 28 │\n",
       "│ 7   │ 10 │ 20 │ 30 │"
      ]
     },
     "execution_count": 146,
     "metadata": {},
     "output_type": "execute_result"
    }
   ],
   "source": [
    "df10"
   ]
  },
  {
   "cell_type": "code",
   "execution_count": 90,
   "metadata": {
    "collapsed": false
   },
   "outputs": [
    {
     "data": {
      "text/html": [
       "<table class=\"data-frame\"><thead><tr><th></th><th>x</th><th>y</th><th>z</th></tr></thead><tbody><tr><th>1</th><td>1</td><td>0.8442331207364324</td><td>c</td></tr><tr><th>2</th><td>2</td><td>0.21313137578790364</td><td>c</td></tr><tr><th>3</th><td>3</td><td>0.5177082388127441</td><td>c</td></tr><tr><th>4</th><td>4</td><td>0.17934243412043172</td><td>c</td></tr><tr><th>5</th><td>5</td><td>0.311523206081054</td><td>c</td></tr><tr><th>6</th><td>6</td><td>0.6648270601794473</td><td>c</td></tr><tr><th>7</th><td>7</td><td>0.8286141070249287</td><td>c</td></tr><tr><th>8</th><td>8</td><td>0.5075992701806848</td><td>c</td></tr><tr><th>9</th><td>9</td><td>0.8517932400733359</td><td>c</td></tr><tr><th>10</th><td>10</td><td>0.7222118588451958</td><td>c</td></tr></tbody></table>"
      ],
      "text/plain": [
       "10×3 DataFrames.DataFrame\n",
       "│ Row │ x  │ y        │ z   │\n",
       "├─────┼────┼──────────┼─────┤\n",
       "│ 1   │ 1  │ 0.844233 │ \"c\" │\n",
       "│ 2   │ 2  │ 0.213131 │ \"c\" │\n",
       "│ 3   │ 3  │ 0.517708 │ \"c\" │\n",
       "│ 4   │ 4  │ 0.179342 │ \"c\" │\n",
       "│ 5   │ 5  │ 0.311523 │ \"c\" │\n",
       "│ 6   │ 6  │ 0.664827 │ \"c\" │\n",
       "│ 7   │ 7  │ 0.828614 │ \"c\" │\n",
       "│ 8   │ 8  │ 0.507599 │ \"c\" │\n",
       "│ 9   │ 9  │ 0.851793 │ \"c\" │\n",
       "│ 10  │ 10 │ 0.722212 │ \"c\" │"
      ]
     },
     "execution_count": 90,
     "metadata": {},
     "output_type": "execute_result"
    }
   ],
   "source": [
    "df11 = DataFrame(x = 1:10, y = rand(10), z = rand([\"c\", \"x\",\"r\"]))"
   ]
  },
  {
   "cell_type": "code",
   "execution_count": 91,
   "metadata": {
    "collapsed": false
   },
   "outputs": [
    {
     "data": {
      "text/html": [
       "<table class=\"data-frame\"><thead><tr><th></th><th>a</th><th>b</th><th>c</th></tr></thead><tbody><tr><th>1</th><td>1</td><td>0.8442331207364324</td><td>c</td></tr><tr><th>2</th><td>2</td><td>0.21313137578790364</td><td>c</td></tr><tr><th>3</th><td>3</td><td>0.5177082388127441</td><td>c</td></tr><tr><th>4</th><td>4</td><td>0.17934243412043172</td><td>c</td></tr><tr><th>5</th><td>5</td><td>0.311523206081054</td><td>c</td></tr><tr><th>6</th><td>6</td><td>0.6648270601794473</td><td>c</td></tr><tr><th>7</th><td>7</td><td>0.8286141070249287</td><td>c</td></tr><tr><th>8</th><td>8</td><td>0.5075992701806848</td><td>c</td></tr><tr><th>9</th><td>9</td><td>0.8517932400733359</td><td>c</td></tr><tr><th>10</th><td>10</td><td>0.7222118588451958</td><td>c</td></tr></tbody></table>"
      ],
      "text/plain": [
       "10×3 DataFrames.DataFrame\n",
       "│ Row │ a  │ b        │ c   │\n",
       "├─────┼────┼──────────┼─────┤\n",
       "│ 1   │ 1  │ 0.844233 │ \"c\" │\n",
       "│ 2   │ 2  │ 0.213131 │ \"c\" │\n",
       "│ 3   │ 3  │ 0.517708 │ \"c\" │\n",
       "│ 4   │ 4  │ 0.179342 │ \"c\" │\n",
       "│ 5   │ 5  │ 0.311523 │ \"c\" │\n",
       "│ 6   │ 6  │ 0.664827 │ \"c\" │\n",
       "│ 7   │ 7  │ 0.828614 │ \"c\" │\n",
       "│ 8   │ 8  │ 0.507599 │ \"c\" │\n",
       "│ 9   │ 9  │ 0.851793 │ \"c\" │\n",
       "│ 10  │ 10 │ 0.722212 │ \"c\" │"
      ]
     },
     "execution_count": 91,
     "metadata": {},
     "output_type": "execute_result"
    }
   ],
   "source": [
    "rename!(df11, Dict(:x => :a, :y => :b, :z => :c))"
   ]
  },
  {
   "cell_type": "code",
   "execution_count": 92,
   "metadata": {
    "collapsed": false
   },
   "outputs": [
    {
     "data": {
      "text/html": [
       "<table class=\"data-frame\"><thead><tr><th></th><th>A</th><th>B</th><th>C</th></tr></thead><tbody><tr><th>1</th><td>1</td><td>0.8442331207364324</td><td>c</td></tr><tr><th>2</th><td>2</td><td>0.21313137578790364</td><td>c</td></tr><tr><th>3</th><td>3</td><td>0.5177082388127441</td><td>c</td></tr><tr><th>4</th><td>4</td><td>0.17934243412043172</td><td>c</td></tr><tr><th>5</th><td>5</td><td>0.311523206081054</td><td>c</td></tr><tr><th>6</th><td>6</td><td>0.6648270601794473</td><td>c</td></tr><tr><th>7</th><td>7</td><td>0.8286141070249287</td><td>c</td></tr><tr><th>8</th><td>8</td><td>0.5075992701806848</td><td>c</td></tr><tr><th>9</th><td>9</td><td>0.8517932400733359</td><td>c</td></tr><tr><th>10</th><td>10</td><td>0.7222118588451958</td><td>c</td></tr></tbody></table>"
      ],
      "text/plain": [
       "10×3 DataFrames.DataFrame\n",
       "│ Row │ A  │ B        │ C   │\n",
       "├─────┼────┼──────────┼─────┤\n",
       "│ 1   │ 1  │ 0.844233 │ \"c\" │\n",
       "│ 2   │ 2  │ 0.213131 │ \"c\" │\n",
       "│ 3   │ 3  │ 0.517708 │ \"c\" │\n",
       "│ 4   │ 4  │ 0.179342 │ \"c\" │\n",
       "│ 5   │ 5  │ 0.311523 │ \"c\" │\n",
       "│ 6   │ 6  │ 0.664827 │ \"c\" │\n",
       "│ 7   │ 7  │ 0.828614 │ \"c\" │\n",
       "│ 8   │ 8  │ 0.507599 │ \"c\" │\n",
       "│ 9   │ 9  │ 0.851793 │ \"c\" │\n",
       "│ 10  │ 10 │ 0.722212 │ \"c\" │"
      ]
     },
     "execution_count": 92,
     "metadata": {},
     "output_type": "execute_result"
    }
   ],
   "source": [
    "names!(df11, [:A, :B, :C])"
   ]
  },
  {
   "cell_type": "code",
   "execution_count": 93,
   "metadata": {
    "collapsed": false
   },
   "outputs": [
    {
     "data": {
      "text/plain": [
       "10-element Array{Int64,1}:\n",
       "  1\n",
       "  2\n",
       "  3\n",
       "  4\n",
       "  5\n",
       "  6\n",
       "  7\n",
       "  8\n",
       "  9\n",
       " 10"
      ]
     },
     "execution_count": 93,
     "metadata": {},
     "output_type": "execute_result"
    }
   ],
   "source": [
    "array_a = convert(Array, df11[:A])"
   ]
  },
  {
   "cell_type": "code",
   "execution_count": 94,
   "metadata": {
    "collapsed": false
   },
   "outputs": [
    {
     "name": "stdout",
     "output_type": "stream",
     "text": [
      "search: residuals df_residual dof_residual\n",
      "\n"
     ]
    },
    {
     "data": {
      "text/markdown": [
       "No documentation found.\n",
       "\n",
       "`StatsBase.residuals` is a generic `Function`.\n",
       "\n",
       "```julia\n",
       "# 2 methods for generic function \"residuals\":\n",
       "residuals(::DataFrames.DataFrameRegressionModel{M,T}, ...) at /Users/bradley/.julia/v0.4/DataFrames/src/statsmodels/statsmodel.jl:27\n",
       "residuals(obj::StatsBase.RegressionModel) at /Users/bradley/.julia/v0.4/StatsBase/src/statmodels.jl:152\n",
       "```\n"
      ],
      "text/plain": [
       "No documentation found.\n",
       "\n",
       "`StatsBase.residuals` is a generic `Function`.\n",
       "\n",
       "```julia\n",
       "# 2 methods for generic function \"residuals\":\n",
       "residuals(::DataFrames.DataFrameRegressionModel{M,T}, ...) at /Users/bradley/.julia/v0.4/DataFrames/src/statsmodels/statsmodel.jl:27\n",
       "residuals(obj::StatsBase.RegressionModel) at /Users/bradley/.julia/v0.4/StatsBase/src/statmodels.jl:152\n",
       "```\n"
      ]
     },
     "execution_count": 94,
     "metadata": {},
     "output_type": "execute_result"
    }
   ],
   "source": [
    "?residuals"
   ]
  },
  {
   "cell_type": "code",
   "execution_count": 95,
   "metadata": {
    "collapsed": false
   },
   "outputs": [
    {
     "ename": "LoadError",
     "evalue": "LoadError: MethodError: `residuals` has no method matching residuals(::DataFrames.DataFrame)\nwhile loading In[95], in expression starting on line 1",
     "output_type": "error",
     "traceback": [
      "LoadError: MethodError: `residuals` has no method matching residuals(::DataFrames.DataFrame)\nwhile loading In[95], in expression starting on line 1",
      ""
     ]
    }
   ],
   "source": [
    "residuals(df10)"
   ]
  },
  {
   "cell_type": "code",
   "execution_count": 96,
   "metadata": {
    "collapsed": false
   },
   "outputs": [
    {
     "name": "stdout",
     "output_type": "stream",
     "text": [
      "search:\n",
      "\n",
      "Couldn't find DataFrameRegressionModel\n",
      "Perhaps you meant RegressionModel\n"
     ]
    },
    {
     "ename": "LoadError",
     "evalue": "LoadError: \"DataFrameRegressionModel\" is not defined in module Main\nwhile loading In[96], in expression starting on line 119",
     "output_type": "error",
     "traceback": [
      "LoadError: \"DataFrameRegressionModel\" is not defined in module Main\nwhile loading In[96], in expression starting on line 119",
      "",
      " in error at /Applications/Julia-0.4.6.app/Contents/Resources/julia/lib/julia/sys.dylib",
      " in which_module at /Applications/Julia-0.4.6.app/Contents/Resources/julia/lib/julia/sys.dylib",
      " in call at /Applications/Julia-0.4.6.app/Contents/Resources/julia/lib/julia/sys.dylib"
     ]
    }
   ],
   "source": [
    "?DataFrameRegressionModel"
   ]
  },
  {
   "cell_type": "code",
   "execution_count": 97,
   "metadata": {
    "collapsed": false
   },
   "outputs": [
    {
     "name": "stdout",
     "output_type": "stream",
     "text": [
      "search: RegressionModel\n",
      "\n"
     ]
    },
    {
     "name": "stderr",
     "output_type": "stream",
     "text": [
      "WARNING: both DataArrays and StatsBase export \"autocor\"; uses of it in module DataFrames must be qualified\n",
      "WARNING: both DataArrays and StatsBase export \"inverse_rle\"; uses of it in module DataFrames must be qualified\n",
      "WARNING: both DataArrays and StatsBase export \"rle\"; uses of it in module DataFrames must be qualified\n"
     ]
    },
    {
     "data": {
      "text/markdown": [
       "No documentation found.\n",
       "\n",
       "**Summary:**\n",
       "\n",
       "```julia\n",
       "abstract StatsBase.RegressionModel <: StatsBase.StatisticalModel\n",
       "```\n",
       "\n",
       "**Subtypes:**\n",
       "\n",
       "```julia\n",
       "DataFrames.DataFrameRegressionModel{M,T}\n",
       "```\n"
      ],
      "text/plain": [
       "No documentation found.\n",
       "\n",
       "**Summary:**\n",
       "\n",
       "```julia\n",
       "abstract StatsBase.RegressionModel <: StatsBase.StatisticalModel\n",
       "```\n",
       "\n",
       "**Subtypes:**\n",
       "\n",
       "```julia\n",
       "DataFrames.DataFrameRegressionModel{M,T}\n",
       "```\n"
      ]
     },
     "execution_count": 97,
     "metadata": {},
     "output_type": "execute_result"
    }
   ],
   "source": [
    "?RegressionModel"
   ]
  },
  {
   "cell_type": "code",
   "execution_count": 98,
   "metadata": {
    "collapsed": false
   },
   "outputs": [
    {
     "ename": "LoadError",
     "evalue": "LoadError: UndefVarError: regressionmodel not defined\nwhile loading In[98], in expression starting on line 1",
     "output_type": "error",
     "traceback": [
      "LoadError: UndefVarError: regressionmodel not defined\nwhile loading In[98], in expression starting on line 1",
      ""
     ]
    }
   ],
   "source": [
    "regressionmodel"
   ]
  },
  {
   "cell_type": "code",
   "execution_count": 99,
   "metadata": {
    "collapsed": false
   },
   "outputs": [
    {
     "name": "stdout",
     "output_type": "stream",
     "text": [
      "search: RegressionModel\n",
      "\n",
      "Couldn't find regression\n",
      "Perhaps you meant precision\n"
     ]
    },
    {
     "ename": "LoadError",
     "evalue": "LoadError: \"regression\" is not defined in module Main\nwhile loading In[99], in expression starting on line 119",
     "output_type": "error",
     "traceback": [
      "LoadError: \"regression\" is not defined in module Main\nwhile loading In[99], in expression starting on line 119",
      "",
      " in error at /Applications/Julia-0.4.6.app/Contents/Resources/julia/lib/julia/sys.dylib",
      " in which_module at /Applications/Julia-0.4.6.app/Contents/Resources/julia/lib/julia/sys.dylib",
      " in call at /Applications/Julia-0.4.6.app/Contents/Resources/julia/lib/julia/sys.dylib"
     ]
    }
   ],
   "source": [
    "?regression"
   ]
  },
  {
   "cell_type": "code",
   "execution_count": 100,
   "metadata": {
    "collapsed": false
   },
   "outputs": [
    {
     "name": "stderr",
     "output_type": "stream",
     "text": [
      "INFO: Recompiling stale cache file /Users/bradley/.julia/lib/v0.4/Distributions.ji for module Distributions.\n",
      "INFO: Recompiling stale cache file /Users/bradley/.julia/lib/v0.4/PDMats.ji for module PDMats.\n",
      "INFO: Recompiling stale cache file /Users/bradley/.julia/lib/v0.4/Rmath.ji for module Rmath.\n",
      "INFO: Recompiling stale cache file /Users/bradley/.julia/lib/v0.4/StatsFuns.ji for module StatsFuns.\n"
     ]
    }
   ],
   "source": [
    "using Distributions"
   ]
  },
  {
   "cell_type": "code",
   "execution_count": 101,
   "metadata": {
    "collapsed": false
   },
   "outputs": [
    {
     "name": "stderr",
     "output_type": "stream",
     "text": [
      "INFO: Recompiling stale cache file /Users/bradley/.julia/lib/v0.4/Plots.ji for module Plots.\n",
      "INFO: Recompiling stale cache file /Users/bradley/.julia/lib/v0.4/FixedSizeArrays.ji for module FixedSizeArrays.\n",
      "INFO: Recompiling stale cache file /Users/bradley/.julia/lib/v0.4/FixedPointNumbers.ji for module FixedPointNumbers.\n",
      "WARNING: New definition \n",
      "    floattype(Type{#T<:FixedPointNumbers.Fixed}) at /Users/bradley/.julia/v0.4/FixedPointNumbers/src/fixed.jl:16\n",
      "is ambiguous with: \n",
      "    floattype(Type{FixedPointNumbers.FixedPoint{#T<:Union{Int8, UInt16, Int16, UInt8}, #f<:Any}}) at /Users/bradley/.julia/v0.4/FixedPointNumbers/src/FixedPointNumbers.jl:89.\n",
      "To fix, define \n",
      "    floattype(Type{FixedPointNumbers.Fixed{_<:Union{Int8, Int16}, #f<:Any}})\n",
      "before the new definition.\n",
      "WARNING: New definition \n",
      "    floattype(Type{#T<:FixedPointNumbers.UFixed}) at /Users/bradley/.julia/v0.4/FixedPointNumbers/src/ufixed.jl:14\n",
      "is ambiguous with: \n",
      "    floattype(Type{FixedPointNumbers.FixedPoint{#T<:Union{Int8, UInt16, Int16, UInt8}, #f<:Any}}) at /Users/bradley/.julia/v0.4/FixedPointNumbers/src/FixedPointNumbers.jl:89.\n",
      "To fix, define \n",
      "    floattype(Type{FixedPointNumbers.UFixed{_<:Union{UInt16, UInt8}, #f<:Any}})\n",
      "before the new definition.\n",
      "INFO: Recompiling stale cache file /Users/bradley/.julia/lib/v0.4/PlotUtils.ji for module PlotUtils.\n",
      "INFO: Recompiling stale cache file /Users/bradley/.julia/lib/v0.4/Colors.ji for module Colors.\n",
      "INFO: Recompiling stale cache file /Users/bradley/.julia/lib/v0.4/ColorTypes.ji for module ColorTypes.\n",
      "INFO: Recompiling stale cache file /Users/bradley/.julia/lib/v0.4/Showoff.ji for module Showoff.\n",
      "INFO: Recompiling stale cache file /Users/bradley/.julia/lib/v0.4/Measures.ji for module Measures.\n"
     ]
    },
    {
     "data": {
      "text/plain": [
       "Plots.PlotlyJSBackend()"
      ]
     },
     "execution_count": 101,
     "metadata": {},
     "output_type": "execute_result"
    }
   ],
   "source": [
    "using Plots\n",
    "plotlyjs()"
   ]
  },
  {
   "cell_type": "code",
   "execution_count": 102,
   "metadata": {
    "collapsed": false
   },
   "outputs": [
    {
     "ename": "LoadError",
     "evalue": "LoadError: ArgumentError: StatPlots not found in path\nwhile loading In[102], in expression starting on line 1",
     "output_type": "error",
     "traceback": [
      "LoadError: ArgumentError: StatPlots not found in path\nwhile loading In[102], in expression starting on line 1",
      "",
      " in require at /Applications/Julia-0.4.6.app/Contents/Resources/julia/lib/julia/sys.dylib"
     ]
    }
   ],
   "source": [
    "using StatPlots"
   ]
  },
  {
   "cell_type": "code",
   "execution_count": 103,
   "metadata": {
    "collapsed": false
   },
   "outputs": [
    {
     "name": "stderr",
     "output_type": "stream",
     "text": [
      "INFO: Cloning cache of StatPlots from git://github.com/JuliaPlots/StatPlots.jl.git\n",
      "INFO: Installing StatPlots v0.0.3\n",
      "INFO: Building Rmath\n",
      "INFO: Building Plots\n",
      "INFO: Package database updated\n",
      "INFO: METADATA is out-of-date — you may not have the latest version of StatPlots\n",
      "INFO: Use `Pkg.update()` to get the latest versions of your packages\n"
     ]
    }
   ],
   "source": [
    "Pkg.add(\"StatPlots\")"
   ]
  },
  {
   "cell_type": "code",
   "execution_count": 104,
   "metadata": {
    "collapsed": false
   },
   "outputs": [
    {
     "name": "stderr",
     "output_type": "stream",
     "text": [
      "INFO: Cloning cache of Combinatorics from git://github.com/JuliaMath/Combinatorics.jl.git\n",
      "INFO: Cloning cache of HypothesisTests from git://github.com/JuliaStats/HypothesisTests.jl.git\n",
      "INFO: Cloning cache of Roots from git://github.com/JuliaMath/Roots.jl.git\n",
      "INFO: Installing Combinatorics v0.2.1\n",
      "INFO: Installing HypothesisTests v0.4.0\n",
      "INFO: Installing Roots v0.2.1\n",
      "INFO: Building Rmath\n",
      "INFO: Package database updated\n",
      "INFO: METADATA is out-of-date — you may not have the latest version of HypothesisTests\n",
      "INFO: Use `Pkg.update()` to get the latest versions of your packages\n"
     ]
    }
   ],
   "source": [
    "Pkg.add(\"HypothesisTests\")"
   ]
  },
  {
   "cell_type": "code",
   "execution_count": 105,
   "metadata": {
    "collapsed": false
   },
   "outputs": [
    {
     "name": "stderr",
     "output_type": "stream",
     "text": [
      "INFO: Cloning cache of GLM from git://github.com/JuliaStats/GLM.jl.git\n",
      "INFO: Installing GLM v0.5.6\n",
      "INFO: Building Rmath\n",
      "INFO: Package database updated\n",
      "INFO: METADATA is out-of-date — you may not have the latest version of GLM\n",
      "INFO: Use `Pkg.update()` to get the latest versions of your packages\n"
     ]
    }
   ],
   "source": [
    "Pkg.add(\"GLM\")"
   ]
  },
  {
   "cell_type": "code",
   "execution_count": 106,
   "metadata": {
    "collapsed": false,
    "scrolled": true
   },
   "outputs": [
    {
     "name": "stderr",
     "output_type": "stream",
     "text": [
      "INFO: Updating METADATA...\n",
      "INFO: Updating cache of DataFrames...\n",
      "INFO: Updating cache of ForwardDiff...\n",
      "INFO: Updating cache of DataFrames...\n",
      "INFO: Computing changes...\n",
      "INFO: No packages to install, update or remove\n"
     ]
    }
   ],
   "source": [
    "Pkg.update()"
   ]
  },
  {
   "cell_type": "code",
   "execution_count": 107,
   "metadata": {
    "collapsed": false
   },
   "outputs": [
    {
     "name": "stderr",
     "output_type": "stream",
     "text": [
      "INFO: Precompiling module StatPlots...\n",
      "INFO: Recompiling stale cache file /Users/bradley/.julia/lib/v0.4/KernelDensity.ji for module KernelDensity.\n",
      "INFO: Recompiling stale cache file /Users/bradley/.julia/lib/v0.4/NaNMath.ji for module NaNMath.\n",
      "INFO: Recompiling stale cache file /Users/bradley/.julia/lib/v0.4/Optim.ji for module Optim.\n",
      "INFO: Recompiling stale cache file /Users/bradley/.julia/lib/v0.4/Calculus.ji for module Calculus.\n",
      "INFO: Recompiling stale cache file /Users/bradley/.julia/lib/v0.4/PositiveFactorizations.ji for module PositiveFactorizations.\n",
      "INFO: Recompiling stale cache file /Users/bradley/.julia/lib/v0.4/ForwardDiff.ji for module ForwardDiff.\n",
      "INFO: Recompiling stale cache file /Users/bradley/.julia/lib/v0.4/Ratios.ji for module Ratios.\n",
      "INFO: Recompiling stale cache file /Users/bradley/.julia/lib/v0.4/Interpolations.ji for module Interpolations.\n",
      "INFO: Recompiling stale cache file /Users/bradley/.julia/lib/v0.4/WoodburyMatrices.ji for module WoodburyMatrices.\n",
      "INFO: Recompiling stale cache file /Users/bradley/.julia/lib/v0.4/AxisAlgorithms.ji for module AxisAlgorithms.\n",
      "WARNING: New definition \n",
      "    +(AbstractArray{T<:Any, 2}, WoodburyMatrices.SymWoodbury) at /Users/bradley/.julia/v0.4/WoodburyMatrices/src/SymWoodburyMatrices.jl:106\n",
      "is ambiguous with: \n",
      "    +(DataArrays.DataArray, AbstractArray) at /Users/bradley/.julia/v0.4/DataArrays/src/operators.jl:276.\n",
      "To fix, define \n",
      "    +(DataArrays.DataArray{T<:Any, 2}, WoodburyMatrices.SymWoodbury)\n",
      "before the new definition.\n",
      "WARNING: New definition \n",
      "    +(AbstractArray{T<:Any, 2}, WoodburyMatrices.SymWoodbury) at /Users/bradley/.julia/v0.4/WoodburyMatrices/src/SymWoodburyMatrices.jl:106\n",
      "is ambiguous with: \n",
      "    +(DataArrays.AbstractDataArray, AbstractArray) at /Users/bradley/.julia/v0.4/DataArrays/src/operators.jl:300.\n",
      "To fix, define \n",
      "    +(DataArrays.AbstractDataArray{T<:Any, 2}, WoodburyMatrices.SymWoodbury)\n",
      "before the new definition.\n",
      "WARNING: New definition \n",
      "    +(AbstractArray{T<:Any, 2}, WoodburyMatrices.SymWoodbury) at /Users/bradley/.julia/v0.4/WoodburyMatrices/src/SymWoodburyMatrices.jl:106\n",
      "is ambiguous with: \n",
      "    +(DataArrays.DataArray, AbstractArray) at /Users/bradley/.julia/v0.4/DataArrays/src/operators.jl:276.\n",
      "To fix, define \n",
      "    +(DataArrays.DataArray{T<:Any, 2}, WoodburyMatrices.SymWoodbury)\n",
      "before the new definition.\n",
      "WARNING: New definition \n",
      "    +(AbstractArray{T<:Any, 2}, WoodburyMatrices.SymWoodbury) at /Users/bradley/.julia/v0.4/WoodburyMatrices/src/SymWoodburyMatrices.jl:106\n",
      "is ambiguous with: \n",
      "    +(DataArrays.AbstractDataArray, AbstractArray) at /Users/bradley/.julia/v0.4/DataArrays/src/operators.jl:300.\n",
      "To fix, define \n",
      "    +(DataArrays.AbstractDataArray{T<:Any, 2}, WoodburyMatrices.SymWoodbury)\n",
      "before the new definition.\n",
      "INFO: Precompiling module HypothesisTests...\n",
      "INFO: Recompiling stale cache file /Users/bradley/.julia/lib/v0.4/Polynomials.ji for module Polynomials.\n",
      "WARNING: Method definition factorial(#T<:Integer, #T<:Integer) in module Base at combinatorics.jl:56 overwritten in module Combinatorics at /Users/bradley/.julia/v0.4/Combinatorics/src/factorials.jl:18.\n",
      "WARNING: Method definition factorial(Integer, Integer) in module Base at combinatorics.jl:66 overwritten in module Combinatorics at /Users/bradley/.julia/v0.4/Combinatorics/src/factorials.jl:28.\n",
      "WARNING: Method definition combinations(Any, Integer) in module Base at combinatorics.jl:182 overwritten in module Combinatorics at /Users/bradley/.julia/v0.4/Combinatorics/src/combinations.jl:42.\n",
      "WARNING: Method definition permutations(Any) in module Base at combinatorics.jl:219 overwritten in module Combinatorics at /Users/bradley/.julia/v0.4/Combinatorics/src/permutations.jl:24.\n",
      "WARNING: Method definition nthperm!(AbstractArray{T<:Any, 1}, Integer) in module Base at combinatorics.jl:70 overwritten in module Combinatorics at /Users/bradley/.julia/v0.4/Combinatorics/src/permutations.jl:136.\n",
      "WARNING: Method definition nthperm(AbstractArray{T<:Any, 1}, Integer) in module Base at combinatorics.jl:89 overwritten in module Combinatorics at /Users/bradley/.julia/v0.4/Combinatorics/src/permutations.jl:157.\n",
      "WARNING: Method definition nthperm(AbstractArray{#T<:Integer, 1}) in module Base at combinatorics.jl:92 overwritten in module Combinatorics at /Users/bradley/.julia/v0.4/Combinatorics/src/permutations.jl:161.\n",
      "WARNING: Method definition levicivita(AbstractArray{#T<:Integer, 1}) in module Base at combinatorics.jl:611 overwritten in module Combinatorics at /Users/bradley/.julia/v0.4/Combinatorics/src/permutations.jl:188.\n",
      "WARNING: Method definition parity(AbstractArray{#T<:Integer, 1}) in module Base at combinatorics.jl:642 overwritten in module Combinatorics at /Users/bradley/.julia/v0.4/Combinatorics/src/permutations.jl:221.\n",
      "WARNING: Method definition partitions(Integer) in module Base at combinatorics.jl:252 overwritten in module Combinatorics at /Users/bradley/.julia/v0.4/Combinatorics/src/partitions.jl:26.\n",
      "WARNING: Method definition partitions(Integer, Integer) in module Base at combinatorics.jl:318 overwritten in module Combinatorics at /Users/bradley/.julia/v0.4/Combinatorics/src/partitions.jl:93.\n",
      "WARNING: Method definition partitions(AbstractArray{T<:Any, 1}) in module Base at combinatorics.jl:380 overwritten in module Combinatorics at /Users/bradley/.julia/v0.4/Combinatorics/src/partitions.jl:158.\n",
      "WARNING: Method definition partitions(AbstractArray{T<:Any, 1}, Int64) in module Base at combinatorics.jl:447 overwritten in module Combinatorics at /Users/bradley/.julia/v0.4/Combinatorics/src/partitions.jl:228.\n",
      "WARNING: Method definition prevprod(Array{Int64, 1}, Any) in module Base at combinatorics.jl:565 overwritten in module Combinatorics at /Users/bradley/.julia/v0.4/Combinatorics/src/partitions.jl:354.\n",
      "WARNING: Method definition partitions(Integer) in module Base at combinatorics.jl:252 overwritten in module Combinatorics at /Users/bradley/.julia/v0.4/Combinatorics/src/partitions.jl:26.\n",
      "WARNING: Method definition partitions(Integer, Integer) in module Base at combinatorics.jl:318 overwritten in module Combinatorics at /Users/bradley/.julia/v0.4/Combinatorics/src/partitions.jl:93.\n",
      "WARNING: Method definition partitions(AbstractArray{T<:Any, 1}) in module Base at combinatorics.jl:380 overwritten in module Combinatorics at /Users/bradley/.julia/v0.4/Combinatorics/src/partitions.jl:158.\n",
      "WARNING: Method definition partitions(AbstractArray{T<:Any, 1}, Int64) in module Base at combinatorics.jl:447 overwritten in module Combinatorics at /Users/bradley/.julia/v0.4/Combinatorics/src/partitions.jl:228.\n",
      "WARNING: Method definition factorial(#T<:Integer, #T<:Integer) in module Base at combinatorics.jl:56 overwritten in module Combinatorics at /Users/bradley/.julia/v0.4/Combinatorics/src/factorials.jl:18.\n",
      "WARNING: Method definition factorial(Integer, Integer) in module Base at combinatorics.jl:66 overwritten in module Combinatorics at /Users/bradley/.julia/v0.4/Combinatorics/src/factorials.jl:28.\n",
      "WARNING: Method definition levicivita(AbstractArray{#T<:Integer, 1}) in module Base at combinatorics.jl:611 overwritten in module Combinatorics at /Users/bradley/.julia/v0.4/Combinatorics/src/permutations.jl:188.\n",
      "WARNING: Method definition nthperm(AbstractArray{#T<:Integer, 1}) in module Base at combinatorics.jl:92 overwritten in module Combinatorics at /Users/bradley/.julia/v0.4/Combinatorics/src/permutations.jl:161.\n",
      "WARNING: Method definition nthperm(AbstractArray{T<:Any, 1}, Integer) in module Base at combinatorics.jl:89 overwritten in module Combinatorics at /Users/bradley/.julia/v0.4/Combinatorics/src/permutations.jl:157.\n",
      "WARNING: Method definition combinations(Any, Integer) in module Base at combinatorics.jl:182 overwritten in module Combinatorics at /Users/bradley/.julia/v0.4/Combinatorics/src/combinations.jl:42.\n",
      "WARNING: Method definition prevprod(Array{Int64, 1}, Any) in module Base at combinatorics.jl:565 overwritten in module Combinatorics at /Users/bradley/.julia/v0.4/Combinatorics/src/partitions.jl:354.\n",
      "WARNING: Method definition nthperm!(AbstractArray{T<:Any, 1}, Integer) in module Base at combinatorics.jl:70 overwritten in module Combinatorics at /Users/bradley/.julia/v0.4/Combinatorics/src/permutations.jl:136.\n",
      "WARNING: Method definition parity(AbstractArray{#T<:Integer, 1}) in module Base at combinatorics.jl:642 overwritten in module Combinatorics at /Users/bradley/.julia/v0.4/Combinatorics/src/permutations.jl:221.\n",
      "WARNING: Method definition permutations(Any) in module Base at combinatorics.jl:219 overwritten in module Combinatorics at /Users/bradley/.julia/v0.4/Combinatorics/src/permutations.jl:24.\n",
      "WARNING: Method definition partitions(Integer) in module Base at combinatorics.jl:252 overwritten in module Combinatorics at /Users/bradley/.julia/v0.4/Combinatorics/src/partitions.jl:26.\n",
      "WARNING: Method definition partitions(Integer, Integer) in module Base at combinatorics.jl:318 overwritten in module Combinatorics at /Users/bradley/.julia/v0.4/Combinatorics/src/partitions.jl:93.\n",
      "WARNING: Method definition partitions(AbstractArray{T<:Any, 1}) in module Base at combinatorics.jl:380 overwritten in module Combinatorics at /Users/bradley/.julia/v0.4/Combinatorics/src/partitions.jl:158.\n",
      "WARNING: Method definition partitions(AbstractArray{T<:Any, 1}, Int64) in module Base at combinatorics.jl:447 overwritten in module Combinatorics at /Users/bradley/.julia/v0.4/Combinatorics/src/partitions.jl:228.\n",
      "WARNING: Method definition factorial(#T<:Integer, #T<:Integer) in module Base at combinatorics.jl:56 overwritten in module Combinatorics at /Users/bradley/.julia/v0.4/Combinatorics/src/factorials.jl:18.\n",
      "WARNING: Method definition factorial(Integer, Integer) in module Base at combinatorics.jl:66 overwritten in module Combinatorics at /Users/bradley/.julia/v0.4/Combinatorics/src/factorials.jl:28.\n",
      "WARNING: Method definition levicivita(AbstractArray{#T<:Integer, 1}) in module Base at combinatorics.jl:611 overwritten in module Combinatorics at /Users/bradley/.julia/v0.4/Combinatorics/src/permutations.jl:188.\n",
      "WARNING: Method definition nthperm(AbstractArray{#T<:Integer, 1}) in module Base at combinatorics.jl:92 overwritten in module Combinatorics at /Users/bradley/.julia/v0.4/Combinatorics/src/permutations.jl:161.\n",
      "WARNING: Method definition nthperm(AbstractArray{T<:Any, 1}, Integer) in module Base at combinatorics.jl:89 overwritten in module Combinatorics at /Users/bradley/.julia/v0.4/Combinatorics/src/permutations.jl:157.\n",
      "WARNING: Method definition combinations(Any, Integer) in module Base at combinatorics.jl:182 overwritten in module Combinatorics at /Users/bradley/.julia/v0.4/Combinatorics/src/combinations.jl:42.\n",
      "WARNING: Method definition prevprod(Array{Int64, 1}, Any) in module Base at combinatorics.jl:565 overwritten in module Combinatorics at /Users/bradley/.julia/v0.4/Combinatorics/src/partitions.jl:354.\n",
      "WARNING: Method definition nthperm!(AbstractArray{T<:Any, 1}, Integer) in module Base at combinatorics.jl:70 overwritten in module Combinatorics at /Users/bradley/.julia/v0.4/Combinatorics/src/permutations.jl:136.\n",
      "WARNING: Method definition parity(AbstractArray{#T<:Integer, 1}) in module Base at combinatorics.jl:642 overwritten in module Combinatorics at /Users/bradley/.julia/v0.4/Combinatorics/src/permutations.jl:221.\n",
      "WARNING: Method definition permutations(Any) in module Base at combinatorics.jl:219 overwritten in module Combinatorics at /Users/bradley/.julia/v0.4/Combinatorics/src/permutations.jl:24.\n",
      "INFO: Precompiling module GLM...\n"
     ]
    }
   ],
   "source": [
    "using StatPlots\n",
    "using HypothesisTests\n",
    "using GLM"
   ]
  },
  {
   "cell_type": "code",
   "execution_count": 108,
   "metadata": {
    "collapsed": true
   },
   "outputs": [],
   "source": [
    "norm1 = randn(1000);"
   ]
  },
  {
   "cell_type": "code",
   "execution_count": 111,
   "metadata": {
    "collapsed": false
   },
   "outputs": [
    {
     "data": {
      "text/html": [
       "<html>\n",
       "<head>\n",
       "     <script src=\"/Users/bradley/.julia/v0.4/PlotlyJS/deps/plotly-latest.min.js\"></script>\n",
       "</head>\n",
       "<body>\n",
       "     <div id=\"095ab12a-d4ad-4b59-bcb1-7cae9ca4adfd\" class=\"plotly-graph-div\"></div>\n",
       "\n",
       "<script>\n",
       "    window.PLOTLYENV=window.PLOTLYENV || {};\n",
       "    window.PLOTLYENV.BASE_URL=\"https://plot.ly\";\n",
       "    Plotly.newPlot('095ab12a-d4ad-4b59-bcb1-7cae9ca4adfd', [{\"yaxis\":\"y\",\"y\":[12.0,21.0,78.0,144.0,211.0,222.0,162.0,92.0,45.0,13.0],\"showlegend\":true,\"name\":\"Standard normal distribution\",\"type\":\"bar\",\"xaxis\":\"x\",\"orientation\":\"v\",\"x\":[-2.8453275086871725,-2.2813080349470893,-1.7172885612070061,-1.1532690874669227,-0.5892496137268394,-0.025230139986756404,0.538789333753327,1.1028088074934104,1.6668282812334936,2.230847754973577,2.79486722871366]}],\n",
       "               {\"yaxis\":{\"type\":\"-\",\"titlefont\":{\"size\":15,\"color\":\"rgba(0, 0, 0, 1.000)\",\"family\":\"Helvetica\"},\"title\":\"\",\"tickfont\":{\"size\":11,\"color\":\"rgba(0, 0, 0, 1.000)\",\"family\":\"Helvetica\"},\"tickmode\":\"array\",\"showgrid\":true,\"tickvals\":[0.0,50.0,100.0,150.0,200.0],\"domain\":[0.057305336832895896,0.9415463692038495],\"ticktext\":[\"0\",\"50\",\"100\",\"150\",\"200\"],\"zeroline\":false,\"linecolor\":\"rgba(0, 0, 0, 1.000)\",\"tickcolor\":\"rgba(0, 0, 0, 1.000)\",\"anchor\":\"x\"},\"annotations\":[{\"text\":\"Histogram\",\"y\":1.0,\"xref\":\"paper\",\"font\":{\"size\":20,\"color\":\"rgba(0, 0, 0, 1.000)\",\"family\":\"Helvetica\"},\"xanchor\":\"center\",\"x\":0.526246719160105,\"yref\":\"paper\",\"showarrow\":false,\"yanchor\":\"top\",\"rotation\":0.0}],\"width\":600,\"plot_bgcolor\":\"rgba(255, 255, 255, 1.000)\",\"showlegend\":true,\"legend\":{\"bgcolor\":\"rgba(255, 255, 255, 1.000)\",\"font\":{\"size\":11,\"color\":\"rgba(0, 0, 0, 1.000)\",\"family\":\"Helvetica\"},\"bordercolor\":\"rgba(0, 0, 0, 1.000)\"},\"xaxis\":{\"type\":\"-\",\"titlefont\":{\"size\":15,\"color\":\"rgba(0, 0, 0, 1.000)\",\"family\":\"Helvetica\"},\"title\":\"\",\"tickfont\":{\"size\":11,\"color\":\"rgba(0, 0, 0, 1.000)\",\"family\":\"Helvetica\"},\"tickmode\":\"array\",\"showgrid\":true,\"tickvals\":[-2.0,0.0,2.0],\"domain\":[0.05905511811023622,0.9934383202099738],\"ticktext\":[\"-2\",\"0\",\"2\"],\"zeroline\":false,\"linecolor\":\"rgba(0, 0, 0, 1.000)\",\"tickcolor\":\"rgba(0, 0, 0, 1.000)\",\"anchor\":\"y\"},\"paper_bgcolor\":\"rgba(255, 255, 255, 1.000)\",\"margin\":{\"r\":0,\"l\":0,\"b\":0,\"t\":20},\"height\":400}, {showLink: false});\n",
       "\n",
       " </script>\n",
       "\n",
       "</body>\n",
       "</html>\n"
      ]
     },
     "execution_count": 111,
     "metadata": {},
     "output_type": "execute_result"
    }
   ],
   "source": [
    "histogram(norm1, bins = 10, label = \"Standard normal distribution\",\n",
    "title = \"Histogram\")"
   ]
  },
  {
   "cell_type": "code",
   "execution_count": 112,
   "metadata": {
    "collapsed": false
   },
   "outputs": [
    {
     "data": {
      "text/html": [
       "0.06330705794220443"
      ],
      "text/plain": [
       "0.06330705794220443"
      ]
     },
     "execution_count": 112,
     "metadata": {},
     "output_type": "execute_result"
    }
   ],
   "source": [
    "mean(norm1)"
   ]
  },
  {
   "cell_type": "code",
   "execution_count": 113,
   "metadata": {
    "collapsed": true
   },
   "outputs": [],
   "source": [
    "norm2 = rand(Normal(0, 1), 1000);"
   ]
  },
  {
   "cell_type": "code",
   "execution_count": 114,
   "metadata": {
    "collapsed": false
   },
   "outputs": [
    {
     "data": {
      "text/html": [
       "<html>\n",
       "<head>\n",
       "     <script src=\"/Users/bradley/.julia/v0.4/PlotlyJS/deps/plotly-latest.min.js\"></script>\n",
       "</head>\n",
       "<body>\n",
       "     <div id=\"fffdf892-49ff-42ae-9c00-085ea7b2791e\" class=\"plotly-graph-div\"></div>\n",
       "\n",
       "<script>\n",
       "    window.PLOTLYENV=window.PLOTLYENV || {};\n",
       "    window.PLOTLYENV.BASE_URL=\"https://plot.ly\";\n",
       "    Plotly.newPlot('fffdf892-49ff-42ae-9c00-085ea7b2791e', [{\"yaxis\":\"y\",\"y\":[1.0,19.0,53.0,131.0,217.0,264.0,198.0,80.0,32.0,5.0],\"showlegend\":true,\"name\":\"Standard normal distribution\",\"type\":\"bar\",\"xaxis\":\"x\",\"orientation\":\"v\",\"x\":[-3.5594068118856454,-2.8891353351425137,-2.2188638583993816,-1.5485923816562497,-0.8783209049131177,-0.20804942816998598,0.46222204857314625,1.1324935253162782,1.80276500205941,2.473036478802542,3.1433079555456738]}],\n",
       "               {\"yaxis\":{\"type\":\"-\",\"titlefont\":{\"size\":15,\"color\":\"rgba(0, 0, 0, 1.000)\",\"family\":\"Helvetica\"},\"title\":\"\",\"tickfont\":{\"size\":11,\"color\":\"rgba(0, 0, 0, 1.000)\",\"family\":\"Helvetica\"},\"tickmode\":\"array\",\"showgrid\":true,\"tickvals\":[0.0,100.0,200.0],\"domain\":[0.057305336832895896,0.9415463692038495],\"ticktext\":[\"0\",\"100\",\"200\"],\"zeroline\":false,\"linecolor\":\"rgba(0, 0, 0, 1.000)\",\"tickcolor\":\"rgba(0, 0, 0, 1.000)\",\"anchor\":\"x\"},\"annotations\":[{\"text\":\"Histogram\",\"y\":1.0,\"xref\":\"paper\",\"font\":{\"size\":20,\"color\":\"rgba(0, 0, 0, 1.000)\",\"family\":\"Helvetica\"},\"xanchor\":\"center\",\"x\":0.526246719160105,\"yref\":\"paper\",\"showarrow\":false,\"yanchor\":\"top\",\"rotation\":0.0}],\"width\":600,\"plot_bgcolor\":\"rgba(255, 255, 255, 1.000)\",\"showlegend\":true,\"legend\":{\"bgcolor\":\"rgba(255, 255, 255, 1.000)\",\"font\":{\"size\":11,\"color\":\"rgba(0, 0, 0, 1.000)\",\"family\":\"Helvetica\"},\"bordercolor\":\"rgba(0, 0, 0, 1.000)\"},\"xaxis\":{\"type\":\"-\",\"titlefont\":{\"size\":15,\"color\":\"rgba(0, 0, 0, 1.000)\",\"family\":\"Helvetica\"},\"title\":\"\",\"tickfont\":{\"size\":11,\"color\":\"rgba(0, 0, 0, 1.000)\",\"family\":\"Helvetica\"},\"tickmode\":\"array\",\"showgrid\":true,\"tickvals\":[-2.0,0.0,2.0],\"domain\":[0.05905511811023622,0.9934383202099738],\"ticktext\":[\"-2\",\"0\",\"2\"],\"zeroline\":false,\"linecolor\":\"rgba(0, 0, 0, 1.000)\",\"tickcolor\":\"rgba(0, 0, 0, 1.000)\",\"anchor\":\"y\"},\"paper_bgcolor\":\"rgba(255, 255, 255, 1.000)\",\"margin\":{\"r\":0,\"l\":0,\"b\":0,\"t\":20},\"height\":400}, {showLink: false});\n",
       "\n",
       " </script>\n",
       "\n",
       "</body>\n",
       "</html>\n"
      ]
     },
     "execution_count": 114,
     "metadata": {},
     "output_type": "execute_result"
    }
   ],
   "source": [
    "histogram(norm2, bins = 10, label = \"Standard normal distribution\", title = \"Histogram\")"
   ]
  },
  {
   "cell_type": "code",
   "execution_count": 115,
   "metadata": {
    "collapsed": false
   },
   "outputs": [
    {
     "data": {
      "text/html": [
       "<html>\n",
       "<head>\n",
       "     <script src=\"/Users/bradley/.julia/v0.4/PlotlyJS/deps/plotly-latest.min.js\"></script>\n",
       "</head>\n",
       "<body>\n",
       "     <div id=\"d08965a3-5e04-48dc-a6be-2af039b9240f\" class=\"plotly-graph-div\"></div>\n",
       "\n",
       "<script>\n",
       "    window.PLOTLYENV=window.PLOTLYENV || {};\n",
       "    window.PLOTLYENV.BASE_URL=\"https://plot.ly\";\n",
       "    Plotly.newPlot('d08965a3-5e04-48dc-a6be-2af039b9240f', [{\"yaxis\":\"y\",\"y\":[0.00013383022576488537,0.0001842953023181513,0.00025213805615265854,0.000342709872958592,0.00046278461445970013,0.0006208622991664072,0.0008275147546819403,0.0010957722143120606,0.001441547316537095,0.0018840898101538117,0.0024464614683183815,0.003156016316418044,0.0040448663858864775,0.00515030799236089,0.0065151782522678905,0.008188106526787245,0.010223621121960588,0.012682068349159798,0.01562929947685561,0.019136081713996122,0.023277192666084613,0.02813016413727844,0.033773651035270635,0.040285414616323394,0.04773992630685354,0.05620561850894386,0.06574183149645658,0.07639552978506675,0.08819788596894869,0.10116085346212436,0.11527387018442578,0.13050085122685046,0.1467776381916519,0.16401007467599363,0.18207287002022687,0.20080939619629345,0.22003253536999073,0.23952665870127496,0.2590507715296993,0.27834280811171275,0.29712500305497436,0.3151102095673198,0.33200897997500833,0.3475371751511984,0.3614238298827435,0.3734189737539788,0.38330109417248515,0.39088393119995174,0.39602231339063276,0.39861677932381046,0.39861677932381046,0.39602231339063276,0.39088393119995174,0.38330109417248515,0.3734189737539788,0.3614238298827435,0.3475371751511984,0.33200897997500833,0.3151102095673198,0.29712500305497436,0.27834280811171275,0.2590507715296993,0.23952665870127496,0.22003253536999073,0.20080939619629345,0.18207287002022687,0.16401007467599363,0.1467776381916519,0.13050085122685046,0.11527387018442578,0.10116085346212436,0.08819788596894869,0.07639552978506675,0.06574183149645658,0.05620561850894386,0.04773992630685354,0.040285414616323394,0.033773651035270635,0.02813016413727844,0.023277192666084613,0.019136081713996122,0.01562929947685561,0.012682068349159798,0.010223621121960588,0.008188106526787245,0.0065151782522678905,0.00515030799236089,0.0040448663858864775,0.003156016316418044,0.0024464614683183815,0.0018840898101538117,0.001441547316537095,0.0010957722143120606,0.0008275147546819403,0.0006208622991664072,0.00046278461445970013,0.000342709872958592,0.00025213805615265854,0.0001842953023181513,0.00013383022576488537],\"showlegend\":true,\"name\":\"Standard normal distribution\",\"type\":\"scatter\",\"xaxis\":\"x\",\"line\":{\"width\":1,\"dash\":\"solid\",\"color\":\"rgba(0, 154, 250, 1.000)\",\"shape\":\"linear\"},\"x\":[-4.0,-3.919191919191919,-3.8383838383838382,-3.757575757575758,-3.676767676767677,-3.595959595959596,-3.515151515151515,-3.4343434343434343,-3.3535353535353534,-3.272727272727273,-3.191919191919192,-3.111111111111111,-3.0303030303030303,-2.9494949494949494,-2.8686868686868685,-2.787878787878788,-2.707070707070707,-2.6262626262626263,-2.5454545454545454,-2.4646464646464645,-2.3838383838383836,-2.303030303030303,-2.2222222222222223,-2.1414141414141414,-2.0606060606060606,-1.97979797979798,-1.898989898989899,-1.8181818181818181,-1.7373737373737375,-1.6565656565656566,-1.5757575757575757,-1.494949494949495,-1.4141414141414141,-1.3333333333333333,-1.2525252525252526,-1.1717171717171717,-1.0909090909090908,-1.0101010101010102,-0.9292929292929293,-0.8484848484848485,-0.7676767676767676,-0.6868686868686869,-0.6060606060606061,-0.5252525252525253,-0.4444444444444444,-0.36363636363636365,-0.2828282828282828,-0.20202020202020202,-0.12121212121212122,-0.04040404040404041,0.04040404040404041,0.12121212121212122,0.20202020202020202,0.2828282828282828,0.36363636363636365,0.4444444444444444,0.5252525252525253,0.6060606060606061,0.6868686868686869,0.7676767676767676,0.8484848484848485,0.9292929292929293,1.0101010101010102,1.0909090909090908,1.1717171717171717,1.2525252525252526,1.3333333333333333,1.4141414141414141,1.494949494949495,1.5757575757575757,1.6565656565656566,1.7373737373737375,1.8181818181818181,1.898989898989899,1.97979797979798,2.0606060606060606,2.1414141414141414,2.2222222222222223,2.303030303030303,2.3838383838383836,2.4646464646464645,2.5454545454545454,2.6262626262626263,2.707070707070707,2.787878787878788,2.8686868686868685,2.9494949494949494,3.0303030303030303,3.111111111111111,3.191919191919192,3.272727272727273,3.3535353535353534,3.4343434343434343,3.515151515151515,3.595959595959596,3.676767676767677,3.757575757575758,3.8383838383838382,3.919191919191919,4.0],\"mode\":\"lines\"}],\n",
       "               {\"yaxis\":{\"type\":\"-\",\"titlefont\":{\"size\":15,\"color\":\"rgba(0, 0, 0, 1.000)\",\"family\":\"Helvetica\"},\"title\":\"\",\"tickfont\":{\"size\":11,\"color\":\"rgba(0, 0, 0, 1.000)\",\"family\":\"Helvetica\"},\"tickmode\":\"array\",\"showgrid\":true,\"tickvals\":[0.1,0.2,0.30000000000000004],\"domain\":[0.057305336832895896,0.9415463692038495],\"ticktext\":[\"0.1\",\"0.2\",\"0.3\"],\"zeroline\":false,\"linecolor\":\"rgba(0, 0, 0, 1.000)\",\"tickcolor\":\"rgba(0, 0, 0, 1.000)\",\"anchor\":\"x\"},\"annotations\":[{\"text\":\"Density\",\"y\":1.0,\"xref\":\"paper\",\"font\":{\"size\":20,\"color\":\"rgba(0, 0, 0, 1.000)\",\"family\":\"Helvetica\"},\"xanchor\":\"center\",\"x\":0.526246719160105,\"yref\":\"paper\",\"showarrow\":false,\"yanchor\":\"top\",\"rotation\":0.0}],\"width\":600,\"plot_bgcolor\":\"rgba(255, 255, 255, 1.000)\",\"showlegend\":true,\"legend\":{\"bgcolor\":\"rgba(255, 255, 255, 1.000)\",\"font\":{\"size\":11,\"color\":\"rgba(0, 0, 0, 1.000)\",\"family\":\"Helvetica\"},\"bordercolor\":\"rgba(0, 0, 0, 1.000)\"},\"xaxis\":{\"type\":\"-\",\"titlefont\":{\"size\":15,\"color\":\"rgba(0, 0, 0, 1.000)\",\"family\":\"Helvetica\"},\"title\":\"\",\"tickfont\":{\"size\":11,\"color\":\"rgba(0, 0, 0, 1.000)\",\"family\":\"Helvetica\"},\"tickmode\":\"array\",\"showgrid\":true,\"tickvals\":[-4.0,-2.0,0.0,2.0,4.0],\"domain\":[0.05905511811023622,0.9934383202099738],\"ticktext\":[\"-4\",\"-2\",\"0\",\"2\",\"4\"],\"zeroline\":false,\"linecolor\":\"rgba(0, 0, 0, 1.000)\",\"tickcolor\":\"rgba(0, 0, 0, 1.000)\",\"anchor\":\"y\"},\"paper_bgcolor\":\"rgba(255, 255, 255, 1.000)\",\"margin\":{\"r\":0,\"l\":0,\"b\":0,\"t\":20},\"height\":400}, {showLink: false});\n",
       "\n",
       " </script>\n",
       "\n",
       "</body>\n",
       "</html>\n"
      ]
     },
     "execution_count": 115,
     "metadata": {},
     "output_type": "execute_result"
    }
   ],
   "source": [
    "plot(Normal(0, 1), fill = (0.5, :blue), label = \"Standard normal distribution\", title = \"Density\")"
   ]
  },
  {
   "cell_type": "code",
   "execution_count": 117,
   "metadata": {
    "collapsed": false
   },
   "outputs": [
    {
     "data": {
      "text/plain": [
       "Distributions.Normal{Float64}(μ=0.06330705794220436, σ=0.9867749322368125)"
      ]
     },
     "execution_count": 117,
     "metadata": {},
     "output_type": "execute_result"
    }
   ],
   "source": [
    "fit(Normal, norm1)"
   ]
  },
  {
   "cell_type": "code",
   "execution_count": 118,
   "metadata": {
    "collapsed": false
   },
   "outputs": [
    {
     "data": {
      "text/html": [
       "<html>\n",
       "<head>\n",
       "     <script src=\"/Users/bradley/.julia/v0.4/PlotlyJS/deps/plotly-latest.min.js\"></script>\n",
       "</head>\n",
       "<body>\n",
       "     <div id=\"b7bffab0-d2bd-4638-9784-8544fc97f48f\" class=\"plotly-graph-div\"></div>\n",
       "\n",
       "<script>\n",
       "    window.PLOTLYENV=window.PLOTLYENV || {};\n",
       "    window.PLOTLYENV.BASE_URL=\"https://plot.ly\";\n",
       "    Plotly.newPlot('b7bffab0-d2bd-4638-9784-8544fc97f48f', [{\"yaxis\":\"y\",\"y\":[0.0,0.13445956417078794,0.1782524759580888,0.2046492109246787,0.22151764041330105,0.23216256703227098,0.23840298789291017,0.24138704755996926,0.24190163863389683,0.24051598499554117,0.23765752206570268,0.23365591580314365,0.22877045478459904,0.22320805473941685,0.21713562255633476,0.21068885543806512,0.20397869059648413,0.19709615084358353,0.19011606147122448,0.18309995203714804,0.17609835611474303,0.16915265752697498,0.16229658898441998,0.15555746021530098,0.14895717272047496,0.14251306419433107,0.13623861551783553,0.13014404581937902,0.12423681559774628,0.11852205376050434,0.11300292127404227,0.10768092168617462,0.10255616688317694,0.09762760494735849,0.09289321579218503,0.08835017929850876,0.08399501990484226,0.07982373097714368,0.07583188176915728,0.0720147093599168,0.06836719760275085,0.06488414482615376,0.061560221780299344,0.058390021115165384,0.055368099500331974,0.05248901334701662,0.049747348965369136,0.047137747880863716,0.04465492793985408,0.04229370075358011,0.04004898596014392,0.037915822723551394,0.03588937883647319,0.033964957747761454,0.03213800379600145,0.030404105895664495,0.028758999892073377,0.027198569774803283,0.025718847915827125,0.024316014478240958,0.022986396123413005,0.02172646412856934,0.020532832012891595,0.019402252757922515,0.018331615697249302,0.017317943140887835,0.01635838679136685,0.01545022400107892,0.014590853913905705,0.013777793528335233,0.01300867371418238,0.012281235210516907,0.01159332462843091,0.01094289047877566,0.010327979241914009,0.009746731493820653,0.009197378100476843,0.00867823649041108,0.00818770701340057,0.007724269391739763,0.007286479269077176,0.006872964860595935,0.006482423707247777,0.006113619535825335,0.005765379225858377,0.0054365898836308095,0.0051261960230253225,0.004833196852398441,0.004556643666262247,0.004295637340189602,0.00404932592706,0.003816902352516449,0.003597602207302711,0.0033907016339898297,0.0031955153054763616,0.003011394492552556,0.0028377252177522257,0.0026739264926726957,0.0025194486359203143,0.002373771668833586],\"showlegend\":true,\"name\":\"3 deg. of freedom\",\"type\":\"scatter\",\"xaxis\":\"x\",\"line\":{\"width\":1,\"dash\":\"solid\",\"color\":\"rgba(0, 154, 250, 1.000)\",\"shape\":\"linear\"},\"x\":[0.0,0.12927231283972435,0.2585446256794487,0.38781693851917304,0.5170892513588974,0.6463615641986218,0.7756338770383461,0.9049061898780705,1.0341785027177948,1.1634508155575192,1.2927231283972436,1.421995441236968,1.5512677540766922,1.6805400669164166,1.809812379756141,1.9390846925958654,2.0683570054355895,2.197629318275314,2.3269016311150383,2.456173943954763,2.585446256794487,2.7147185696342113,2.843990882473936,2.97326319531366,3.1025355081533843,3.231807820993109,3.361080133832833,3.4903524466725577,3.619624759512282,3.7488970723520065,3.8781693851917307,4.007441698031456,4.136714010871179,4.265986323710903,4.395258636550628,4.5245309493903525,4.653803262230077,4.783075575069801,4.912347887909526,5.04162020074925,5.170892513588974,5.3001648264286985,5.429437139268423,5.558709452108148,5.687981764947872,5.817254077787596,5.94652639062732,6.075798703467045,6.205071016306769,6.334343329146494,6.463615641986218,6.592887954825943,6.722160267665666,6.851432580505391,6.9807048933451155,7.1099772061848405,7.239249519024564,7.368521831864289,7.497794144704013,7.627066457543736,7.756338770383461,7.8856110832231865,8.014883396062912,8.144155708902634,8.273428021742358,8.402700334582084,8.531972647421806,8.661244960261532,8.790517273101257,8.91978958594098,9.049061898780705,9.17833421162043,9.307606524460153,9.436878837299878,9.566151150139602,9.695423462979328,9.824695775819052,9.953968088658776,10.0832404014985,10.212512714338224,10.341785027177949,10.471057340017673,10.600329652857397,10.729601965697123,10.858874278536845,10.988146591376571,11.117418904216295,11.246691217056018,11.375963529895744,11.505235842735468,11.634508155575192,11.763780468414918,11.89305278125464,12.022325094094365,12.15159740693409,12.280869719773813,12.410142032613537,12.539414345453263,12.668686658292987,12.797958971132713],\"mode\":\"lines\"}],\n",
       "               {\"yaxis\":{\"type\":\"-\",\"titlefont\":{\"size\":15,\"color\":\"rgba(0, 0, 0, 1.000)\",\"family\":\"Helvetica\"},\"title\":\"\",\"tickfont\":{\"size\":11,\"color\":\"rgba(0, 0, 0, 1.000)\",\"family\":\"Helvetica\"},\"tickmode\":\"array\",\"showgrid\":true,\"tickvals\":[0.0,0.05,0.1,0.15000000000000002,0.2],\"domain\":[0.057305336832895896,0.9901574803149605],\"ticktext\":[\"0.00\",\"0.05\",\"0.10\",\"0.15\",\"0.20\"],\"zeroline\":false,\"linecolor\":\"rgba(0, 0, 0, 1.000)\",\"tickcolor\":\"rgba(0, 0, 0, 1.000)\",\"anchor\":\"x\"},\"annotations\":[],\"width\":600,\"plot_bgcolor\":\"rgba(255, 255, 255, 1.000)\",\"showlegend\":true,\"legend\":{\"bgcolor\":\"rgba(255, 255, 255, 1.000)\",\"font\":{\"size\":11,\"color\":\"rgba(0, 0, 0, 1.000)\",\"family\":\"Helvetica\"},\"bordercolor\":\"rgba(0, 0, 0, 1.000)\"},\"xaxis\":{\"type\":\"-\",\"titlefont\":{\"size\":15,\"color\":\"rgba(0, 0, 0, 1.000)\",\"family\":\"Helvetica\"},\"title\":\"\",\"tickfont\":{\"size\":11,\"color\":\"rgba(0, 0, 0, 1.000)\",\"family\":\"Helvetica\"},\"tickmode\":\"array\",\"showgrid\":true,\"tickvals\":[0.0,5.0,10.0],\"domain\":[0.05905511811023622,0.9934383202099738],\"ticktext\":[\"0\",\"5\",\"10\"],\"zeroline\":false,\"linecolor\":\"rgba(0, 0, 0, 1.000)\",\"tickcolor\":\"rgba(0, 0, 0, 1.000)\",\"anchor\":\"y\"},\"paper_bgcolor\":\"rgba(255, 255, 255, 1.000)\",\"margin\":{\"r\":0,\"l\":0,\"b\":0,\"t\":20},\"height\":400}, {showLink: false});\n",
       "\n",
       " </script>\n",
       "\n",
       "</body>\n",
       "</html>\n"
      ]
     },
     "execution_count": 118,
     "metadata": {},
     "output_type": "execute_result"
    }
   ],
   "source": [
    "plot(Chisq(3), fill = (0.25, :blue), label = \"3 deg. of freedom\")"
   ]
  },
  {
   "cell_type": "code",
   "execution_count": 119,
   "metadata": {
    "collapsed": false
   },
   "outputs": [
    {
     "data": {
      "text/html": [
       "<html>\n",
       "<head>\n",
       "     <script src=\"/Users/bradley/.julia/v0.4/PlotlyJS/deps/plotly-latest.min.js\"></script>\n",
       "</head>\n",
       "<body>\n",
       "     <div id=\"b7bffab0-d2bd-4638-9784-8544fc97f48f\" class=\"plotly-graph-div\"></div>\n",
       "\n",
       "<script>\n",
       "    window.PLOTLYENV=window.PLOTLYENV || {};\n",
       "    window.PLOTLYENV.BASE_URL=\"https://plot.ly\";\n",
       "    Plotly.newPlot('b7bffab0-d2bd-4638-9784-8544fc97f48f', [{\"yaxis\":\"y\",\"y\":[0.0,0.13445956417078794,0.1782524759580888,0.2046492109246787,0.22151764041330105,0.23216256703227098,0.23840298789291017,0.24138704755996926,0.24190163863389683,0.24051598499554117,0.23765752206570268,0.23365591580314365,0.22877045478459904,0.22320805473941685,0.21713562255633476,0.21068885543806512,0.20397869059648413,0.19709615084358353,0.19011606147122448,0.18309995203714804,0.17609835611474303,0.16915265752697498,0.16229658898441998,0.15555746021530098,0.14895717272047496,0.14251306419433107,0.13623861551783553,0.13014404581937902,0.12423681559774628,0.11852205376050434,0.11300292127404227,0.10768092168617462,0.10255616688317694,0.09762760494735849,0.09289321579218503,0.08835017929850876,0.08399501990484226,0.07982373097714368,0.07583188176915728,0.0720147093599168,0.06836719760275085,0.06488414482615376,0.061560221780299344,0.058390021115165384,0.055368099500331974,0.05248901334701662,0.049747348965369136,0.047137747880863716,0.04465492793985408,0.04229370075358011,0.04004898596014392,0.037915822723551394,0.03588937883647319,0.033964957747761454,0.03213800379600145,0.030404105895664495,0.028758999892073377,0.027198569774803283,0.025718847915827125,0.024316014478240958,0.022986396123413005,0.02172646412856934,0.020532832012891595,0.019402252757922515,0.018331615697249302,0.017317943140887835,0.01635838679136685,0.01545022400107892,0.014590853913905705,0.013777793528335233,0.01300867371418238,0.012281235210516907,0.01159332462843091,0.01094289047877566,0.010327979241914009,0.009746731493820653,0.009197378100476843,0.00867823649041108,0.00818770701340057,0.007724269391739763,0.007286479269077176,0.006872964860595935,0.006482423707247777,0.006113619535825335,0.005765379225858377,0.0054365898836308095,0.0051261960230253225,0.004833196852398441,0.004556643666262247,0.004295637340189602,0.00404932592706,0.003816902352516449,0.003597602207302711,0.0033907016339898297,0.0031955153054763616,0.003011394492552556,0.0028377252177522257,0.0026739264926726957,0.0025194486359203143,0.002373771668833586],\"showlegend\":true,\"name\":\"3 deg. of freedom\",\"type\":\"scatter\",\"xaxis\":\"x\",\"line\":{\"width\":1,\"dash\":\"solid\",\"color\":\"rgba(0, 154, 250, 1.000)\",\"shape\":\"linear\"},\"x\":[0.0,0.12927231283972435,0.2585446256794487,0.38781693851917304,0.5170892513588974,0.6463615641986218,0.7756338770383461,0.9049061898780705,1.0341785027177948,1.1634508155575192,1.2927231283972436,1.421995441236968,1.5512677540766922,1.6805400669164166,1.809812379756141,1.9390846925958654,2.0683570054355895,2.197629318275314,2.3269016311150383,2.456173943954763,2.585446256794487,2.7147185696342113,2.843990882473936,2.97326319531366,3.1025355081533843,3.231807820993109,3.361080133832833,3.4903524466725577,3.619624759512282,3.7488970723520065,3.8781693851917307,4.007441698031456,4.136714010871179,4.265986323710903,4.395258636550628,4.5245309493903525,4.653803262230077,4.783075575069801,4.912347887909526,5.04162020074925,5.170892513588974,5.3001648264286985,5.429437139268423,5.558709452108148,5.687981764947872,5.817254077787596,5.94652639062732,6.075798703467045,6.205071016306769,6.334343329146494,6.463615641986218,6.592887954825943,6.722160267665666,6.851432580505391,6.9807048933451155,7.1099772061848405,7.239249519024564,7.368521831864289,7.497794144704013,7.627066457543736,7.756338770383461,7.8856110832231865,8.014883396062912,8.144155708902634,8.273428021742358,8.402700334582084,8.531972647421806,8.661244960261532,8.790517273101257,8.91978958594098,9.049061898780705,9.17833421162043,9.307606524460153,9.436878837299878,9.566151150139602,9.695423462979328,9.824695775819052,9.953968088658776,10.0832404014985,10.212512714338224,10.341785027177949,10.471057340017673,10.600329652857397,10.729601965697123,10.858874278536845,10.988146591376571,11.117418904216295,11.246691217056018,11.375963529895744,11.505235842735468,11.634508155575192,11.763780468414918,11.89305278125464,12.022325094094365,12.15159740693409,12.280869719773813,12.410142032613537,12.539414345453263,12.668686658292987,12.797958971132713],\"mode\":\"lines\"},{\"yaxis\":\"y\",\"y\":[0.0,0.009156059034494157,0.023688736881464244,0.03980770306244866,0.05606134984906371,0.07166661572457672,0.08617416660558767,0.09933118188391465,0.11100993537893937,0.12116549474549626,0.1298086168086371,0.13698747997660318,0.14277495904154996,0.14725957071105286,0.15053894967945972,0.1527151218876775,0.1538910826458299,0.15416833763526838,0.15364516266659156,0.15241540407479778,0.15056768749890262,0.1481849354753117,0.1453441180590145,0.14211617830695517,0.138566087707866,0.13475299673164637,0.1307304534333753,0.12654666907009585,0.12224481439460663,0.11786333398771698,0.11343626890706932,0.10899358023818463,0.10456146796218142,0.10016268100479779,0.09581681548057332,0.09154059905506172,0.08734816006460278,0.08325128059543721,0.0792596331620546,0.07538100096288176,0.07162148194925425,0.0679856771368219,0.06447686372988089,0.061097153728944496,0.05784763875858505,0.05472852189303698,0.0517392372768234,0.04887855834129339,0.046144695409114714,0.04353538346046394,0.04104796080931196,0.038679439407784934,0.036426567462665135,0.03428588501195242,0.03225377307203428,0.03032649692821357,0.028500244103732433,0.026771157505490563,0.025135364208744623,0.02358900030846399,0.022128232231892662,0.020749274875357604,0.019448406898548636,0.01822198348141041,0.017066446822441204,0.01597833463256767,0.014954286855821316,0.01399105082673228,0.013085485054614559,0.01223456180667676,0.011435368645079026,0.010685109057592936,0.009981102307329105,0.009320782613997769,0.008701697767285558,0.008121507262089045,0.007577980035471949,0.0070689918762365436,0.006592522569853702,0.006146652834117996,0.005729561094221682,0.005339520139919361,0.004974893702029594,0.0046341329806399234,0.004315773153002896,0.004018429885187178,0.0037407958680409402,0.0034816373948963362,0.0032397909956598434,0.0030141601394608384,0.0028037120158420172,0.0026074744025416504,0.002424532626215484,0.0022540266209518825,0.0020951480881275107,0.0019471377600124393,0.0018092827685468216,0.0016809141198595068,0.0015614042743683305,0.0014501648316788485],\"showlegend\":true,\"name\":\"5 deg. of freedom\",\"type\":\"scatter\",\"xaxis\":\"x\",\"line\":{\"width\":1,\"dash\":\"solid\",\"color\":\"rgba(227, 111, 71, 1.000)\",\"shape\":\"linear\"},\"x\":[0.0,0.17827384485528808,0.35654768971057615,0.5348215345658642,0.7130953794211523,0.8913692242764403,1.0696430691317285,1.2479169139870165,1.4261907588423046,1.6044646036975927,1.7827384485528806,1.9610122934081688,2.139286138263457,2.317559983118745,2.495833827974033,2.674107672829321,2.8523815176846092,3.0306553625398975,3.2089292073951854,3.3872030522504737,3.565476897105761,3.7437507419610494,3.9220245868163377,4.100298431671626,4.278572276526914,4.456846121382203,4.63511996623749,4.813393811092778,4.991667655948066,5.169941500803354,5.348215345658642,5.526489190513931,5.7047630353692185,5.883036880224506,6.061310725079795,6.239584569935083,6.417858414790371,6.5961322596456595,6.774406104500947,6.952679949356235,7.130953794211522,7.309227639066812,7.487501483922099,7.665775328777387,7.844049173632675,8.022323018487963,8.200596863343252,8.37887070819854,8.557144553053828,8.735418397909115,8.913692242764405,9.091966087619692,9.27023993247498,9.448513777330268,9.626787622185557,9.805061467040844,9.983335311896132,10.161609156751421,10.339883001606708,10.518156846461997,10.696430691317284,10.874704536172572,11.052978381027861,11.231252225883148,11.409526070738437,11.587799915593726,11.766073760449013,11.944347605304301,12.12262145015959,12.300895295014877,12.479169139870166,12.657442984725455,12.835716829580742,13.01399067443603,13.192264519291319,13.370538364146606,13.548812209001895,13.727086053857184,13.90535989871247,14.08363374356776,14.261907588423044,14.440181433278335,14.618455278133624,14.796729122988909,14.975002967844198,15.153276812699488,15.331550657554773,15.509824502410062,15.68809834726535,15.866372192120638,16.044646036975927,16.222919881831217,16.401193726686504,16.57946757154179,16.75774141639708,16.93601526125237,17.114289106107655,17.292562950962946,17.47083679581823,17.64911064067352],\"mode\":\"lines\"}],\n",
       "               {\"yaxis\":{\"type\":\"-\",\"titlefont\":{\"size\":15,\"color\":\"rgba(0, 0, 0, 1.000)\",\"family\":\"Helvetica\"},\"title\":\"\",\"tickfont\":{\"size\":11,\"color\":\"rgba(0, 0, 0, 1.000)\",\"family\":\"Helvetica\"},\"tickmode\":\"array\",\"showgrid\":true,\"tickvals\":[0.0,0.05,0.1,0.15000000000000002,0.2],\"domain\":[0.057305336832895896,0.9901574803149605],\"ticktext\":[\"0.00\",\"0.05\",\"0.10\",\"0.15\",\"0.20\"],\"zeroline\":false,\"linecolor\":\"rgba(0, 0, 0, 1.000)\",\"tickcolor\":\"rgba(0, 0, 0, 1.000)\",\"anchor\":\"x\"},\"annotations\":[],\"width\":600,\"plot_bgcolor\":\"rgba(255, 255, 255, 1.000)\",\"showlegend\":true,\"legend\":{\"bgcolor\":\"rgba(255, 255, 255, 1.000)\",\"font\":{\"size\":11,\"color\":\"rgba(0, 0, 0, 1.000)\",\"family\":\"Helvetica\"},\"bordercolor\":\"rgba(0, 0, 0, 1.000)\"},\"xaxis\":{\"type\":\"-\",\"titlefont\":{\"size\":15,\"color\":\"rgba(0, 0, 0, 1.000)\",\"family\":\"Helvetica\"},\"title\":\"\",\"tickfont\":{\"size\":11,\"color\":\"rgba(0, 0, 0, 1.000)\",\"family\":\"Helvetica\"},\"tickmode\":\"array\",\"showgrid\":true,\"tickvals\":[0.0,5.0,10.0,15.0],\"domain\":[0.05905511811023622,0.9934383202099738],\"ticktext\":[\"0\",\"5\",\"10\",\"15\"],\"zeroline\":false,\"linecolor\":\"rgba(0, 0, 0, 1.000)\",\"tickcolor\":\"rgba(0, 0, 0, 1.000)\",\"anchor\":\"y\"},\"paper_bgcolor\":\"rgba(255, 255, 255, 1.000)\",\"margin\":{\"r\":0,\"l\":0,\"b\":0,\"t\":20},\"height\":400}, {showLink: false});\n",
       "\n",
       " </script>\n",
       "\n",
       "</body>\n",
       "</html>\n"
      ]
     },
     "execution_count": 119,
     "metadata": {},
     "output_type": "execute_result"
    }
   ],
   "source": [
    "plot!(Chisq(5), fill = (0.25, :orange), label = \"5 deg. of freedom\")"
   ]
  },
  {
   "cell_type": "code",
   "execution_count": 120,
   "metadata": {
    "collapsed": false
   },
   "outputs": [
    {
     "data": {
      "text/html": [
       "<html>\n",
       "<head>\n",
       "     <script src=\"/Users/bradley/.julia/v0.4/PlotlyJS/deps/plotly-latest.min.js\"></script>\n",
       "</head>\n",
       "<body>\n",
       "     <div id=\"b7bffab0-d2bd-4638-9784-8544fc97f48f\" class=\"plotly-graph-div\"></div>\n",
       "\n",
       "<script>\n",
       "    window.PLOTLYENV=window.PLOTLYENV || {};\n",
       "    window.PLOTLYENV.BASE_URL=\"https://plot.ly\";\n",
       "    Plotly.newPlot('b7bffab0-d2bd-4638-9784-8544fc97f48f', [{\"yaxis\":\"y\",\"y\":[0.0,0.13445956417078794,0.1782524759580888,0.2046492109246787,0.22151764041330105,0.23216256703227098,0.23840298789291017,0.24138704755996926,0.24190163863389683,0.24051598499554117,0.23765752206570268,0.23365591580314365,0.22877045478459904,0.22320805473941685,0.21713562255633476,0.21068885543806512,0.20397869059648413,0.19709615084358353,0.19011606147122448,0.18309995203714804,0.17609835611474303,0.16915265752697498,0.16229658898441998,0.15555746021530098,0.14895717272047496,0.14251306419433107,0.13623861551783553,0.13014404581937902,0.12423681559774628,0.11852205376050434,0.11300292127404227,0.10768092168617462,0.10255616688317694,0.09762760494735849,0.09289321579218503,0.08835017929850876,0.08399501990484226,0.07982373097714368,0.07583188176915728,0.0720147093599168,0.06836719760275085,0.06488414482615376,0.061560221780299344,0.058390021115165384,0.055368099500331974,0.05248901334701662,0.049747348965369136,0.047137747880863716,0.04465492793985408,0.04229370075358011,0.04004898596014392,0.037915822723551394,0.03588937883647319,0.033964957747761454,0.03213800379600145,0.030404105895664495,0.028758999892073377,0.027198569774803283,0.025718847915827125,0.024316014478240958,0.022986396123413005,0.02172646412856934,0.020532832012891595,0.019402252757922515,0.018331615697249302,0.017317943140887835,0.01635838679136685,0.01545022400107892,0.014590853913905705,0.013777793528335233,0.01300867371418238,0.012281235210516907,0.01159332462843091,0.01094289047877566,0.010327979241914009,0.009746731493820653,0.009197378100476843,0.00867823649041108,0.00818770701340057,0.007724269391739763,0.007286479269077176,0.006872964860595935,0.006482423707247777,0.006113619535825335,0.005765379225858377,0.0054365898836308095,0.0051261960230253225,0.004833196852398441,0.004556643666262247,0.004295637340189602,0.00404932592706,0.003816902352516449,0.003597602207302711,0.0033907016339898297,0.0031955153054763616,0.003011394492552556,0.0028377252177522257,0.0026739264926726957,0.0025194486359203143,0.002373771668833586],\"showlegend\":true,\"name\":\"3 deg. of freedom\",\"type\":\"scatter\",\"xaxis\":\"x\",\"line\":{\"width\":1,\"dash\":\"solid\",\"color\":\"rgba(0, 154, 250, 1.000)\",\"shape\":\"linear\"},\"x\":[0.0,0.12927231283972435,0.2585446256794487,0.38781693851917304,0.5170892513588974,0.6463615641986218,0.7756338770383461,0.9049061898780705,1.0341785027177948,1.1634508155575192,1.2927231283972436,1.421995441236968,1.5512677540766922,1.6805400669164166,1.809812379756141,1.9390846925958654,2.0683570054355895,2.197629318275314,2.3269016311150383,2.456173943954763,2.585446256794487,2.7147185696342113,2.843990882473936,2.97326319531366,3.1025355081533843,3.231807820993109,3.361080133832833,3.4903524466725577,3.619624759512282,3.7488970723520065,3.8781693851917307,4.007441698031456,4.136714010871179,4.265986323710903,4.395258636550628,4.5245309493903525,4.653803262230077,4.783075575069801,4.912347887909526,5.04162020074925,5.170892513588974,5.3001648264286985,5.429437139268423,5.558709452108148,5.687981764947872,5.817254077787596,5.94652639062732,6.075798703467045,6.205071016306769,6.334343329146494,6.463615641986218,6.592887954825943,6.722160267665666,6.851432580505391,6.9807048933451155,7.1099772061848405,7.239249519024564,7.368521831864289,7.497794144704013,7.627066457543736,7.756338770383461,7.8856110832231865,8.014883396062912,8.144155708902634,8.273428021742358,8.402700334582084,8.531972647421806,8.661244960261532,8.790517273101257,8.91978958594098,9.049061898780705,9.17833421162043,9.307606524460153,9.436878837299878,9.566151150139602,9.695423462979328,9.824695775819052,9.953968088658776,10.0832404014985,10.212512714338224,10.341785027177949,10.471057340017673,10.600329652857397,10.729601965697123,10.858874278536845,10.988146591376571,11.117418904216295,11.246691217056018,11.375963529895744,11.505235842735468,11.634508155575192,11.763780468414918,11.89305278125464,12.022325094094365,12.15159740693409,12.280869719773813,12.410142032613537,12.539414345453263,12.668686658292987,12.797958971132713],\"mode\":\"lines\"},{\"yaxis\":\"y\",\"y\":[0.0,0.009156059034494157,0.023688736881464244,0.03980770306244866,0.05606134984906371,0.07166661572457672,0.08617416660558767,0.09933118188391465,0.11100993537893937,0.12116549474549626,0.1298086168086371,0.13698747997660318,0.14277495904154996,0.14725957071105286,0.15053894967945972,0.1527151218876775,0.1538910826458299,0.15416833763526838,0.15364516266659156,0.15241540407479778,0.15056768749890262,0.1481849354753117,0.1453441180590145,0.14211617830695517,0.138566087707866,0.13475299673164637,0.1307304534333753,0.12654666907009585,0.12224481439460663,0.11786333398771698,0.11343626890706932,0.10899358023818463,0.10456146796218142,0.10016268100479779,0.09581681548057332,0.09154059905506172,0.08734816006460278,0.08325128059543721,0.0792596331620546,0.07538100096288176,0.07162148194925425,0.0679856771368219,0.06447686372988089,0.061097153728944496,0.05784763875858505,0.05472852189303698,0.0517392372768234,0.04887855834129339,0.046144695409114714,0.04353538346046394,0.04104796080931196,0.038679439407784934,0.036426567462665135,0.03428588501195242,0.03225377307203428,0.03032649692821357,0.028500244103732433,0.026771157505490563,0.025135364208744623,0.02358900030846399,0.022128232231892662,0.020749274875357604,0.019448406898548636,0.01822198348141041,0.017066446822441204,0.01597833463256767,0.014954286855821316,0.01399105082673228,0.013085485054614559,0.01223456180667676,0.011435368645079026,0.010685109057592936,0.009981102307329105,0.009320782613997769,0.008701697767285558,0.008121507262089045,0.007577980035471949,0.0070689918762365436,0.006592522569853702,0.006146652834117996,0.005729561094221682,0.005339520139919361,0.004974893702029594,0.0046341329806399234,0.004315773153002896,0.004018429885187178,0.0037407958680409402,0.0034816373948963362,0.0032397909956598434,0.0030141601394608384,0.0028037120158420172,0.0026074744025416504,0.002424532626215484,0.0022540266209518825,0.0020951480881275107,0.0019471377600124393,0.0018092827685468216,0.0016809141198595068,0.0015614042743683305,0.0014501648316788485],\"showlegend\":true,\"name\":\"5 deg. of freedom\",\"type\":\"scatter\",\"xaxis\":\"x\",\"line\":{\"width\":1,\"dash\":\"solid\",\"color\":\"rgba(227, 111, 71, 1.000)\",\"shape\":\"linear\"},\"x\":[0.0,0.17827384485528808,0.35654768971057615,0.5348215345658642,0.7130953794211523,0.8913692242764403,1.0696430691317285,1.2479169139870165,1.4261907588423046,1.6044646036975927,1.7827384485528806,1.9610122934081688,2.139286138263457,2.317559983118745,2.495833827974033,2.674107672829321,2.8523815176846092,3.0306553625398975,3.2089292073951854,3.3872030522504737,3.565476897105761,3.7437507419610494,3.9220245868163377,4.100298431671626,4.278572276526914,4.456846121382203,4.63511996623749,4.813393811092778,4.991667655948066,5.169941500803354,5.348215345658642,5.526489190513931,5.7047630353692185,5.883036880224506,6.061310725079795,6.239584569935083,6.417858414790371,6.5961322596456595,6.774406104500947,6.952679949356235,7.130953794211522,7.309227639066812,7.487501483922099,7.665775328777387,7.844049173632675,8.022323018487963,8.200596863343252,8.37887070819854,8.557144553053828,8.735418397909115,8.913692242764405,9.091966087619692,9.27023993247498,9.448513777330268,9.626787622185557,9.805061467040844,9.983335311896132,10.161609156751421,10.339883001606708,10.518156846461997,10.696430691317284,10.874704536172572,11.052978381027861,11.231252225883148,11.409526070738437,11.587799915593726,11.766073760449013,11.944347605304301,12.12262145015959,12.300895295014877,12.479169139870166,12.657442984725455,12.835716829580742,13.01399067443603,13.192264519291319,13.370538364146606,13.548812209001895,13.727086053857184,13.90535989871247,14.08363374356776,14.261907588423044,14.440181433278335,14.618455278133624,14.796729122988909,14.975002967844198,15.153276812699488,15.331550657554773,15.509824502410062,15.68809834726535,15.866372192120638,16.044646036975927,16.222919881831217,16.401193726686504,16.57946757154179,16.75774141639708,16.93601526125237,17.114289106107655,17.292562950962946,17.47083679581823,17.64911064067352],\"mode\":\"lines\"},{\"yaxis\":\"y\",\"y\":[0.0,7.122466954510167e-6,9.898730787305785e-5,0.00043528493499506236,0.0011949718385546998,0.002534117861580791,0.004564370413969032,0.0073450901010523335,0.010884137081632765,0.015143741235628847,0.02004897756232572,0.02549717459572054,0.031367173696587,0.03752778236284975,0.04384506540151326,0.0501883251750848,0.056434760329255776,0.06247287998953715,0.06820480155135691,0.07354758561153825,0.0784337693523353,0.08281125577108714,0.08664270492997124,0.08990455803958608,0.0925858079171373,0.09468661170621924,0.09621682472185575,0.09719451852062524,0.09764453214390066,0.09759709309919612,0.09708653405200704,0.09615012233051348,0.0948270120742796,0.09315732303025896,0.09118134544546445,0.08893886705393769,0.08646861564048175,0.08380780893041702,0.08099180246282024,0.07805382552918533,0.07502479509078028,0.07193319773204981,0.06880503008446935,0.06566378869871176,0.06253050099810327,0.05942378966881219,0.05635996359683604,0.05335312922120725,0.050415316916126676,0.04755661772665531,0.04478532645242429,0.04210808769451498,0.03953004204816046,0.03705497013649326,0.034685432638290215,0.032422904866972316,0.030267904811425037,0.028220113854601436,0.02627848964690016,0.024441370831739,0.022706573504442502,0.02107147943636604,0.01953311621780938,0.018088229569285203,0.016733348144420724,0.015464841202276798,0.014278969564979614,0.013171930300843928,0.012139895585908878,0.011179046200056563,0.010285600109438535,0.009455836576369602,0.008686116222530375,0.007972897452421822,0.0073127496225365105,0.006702363318497791,0.006138558078171449,0.005618287874055934,0.005138644643579618,0.004696860131653006,0.004290306286237017,0.003916494425021233,0.003573073369723538,0.0032578267241418755,0.002968669452982615,0.0027036439006985296,0.0024609153731024744,0.0022387673893695076,0.0020355966981705914,0.0018499081390511815,0.0016803094187247103,0.0015255058616328344,0.0013842951848649686,0.0012555623392606098,0.0011382744511685315,0.0010314758928374496,0.0009342835036940888,0.0008458819797597055,0.000765519444101117,0.0006925032074455443],\"showlegend\":true,\"name\":\"10 deg. of freedom\",\"type\":\"scatter\",\"xaxis\":\"x\",\"line\":{\"width\":1,\"dash\":\"solid\",\"color\":\"rgba(62, 164, 78, 1.000)\",\"shape\":\"linear\"},\"x\":[0.0,0.28170246282826583,0.5634049256565317,0.8451073884847975,1.1268098513130633,1.4085123141413292,1.690214776969595,1.9719172397978608,2.2536197026261267,2.5353221654543927,2.8170246282826583,3.0987270911109244,3.38042955393919,3.6621320167674556,3.9438344795957216,4.225536942423988,4.507239405252253,4.788941868080519,5.070644330908785,5.352346793737051,5.634049256565317,5.915751719393582,6.197454182221849,6.479156645050114,6.76085910787838,7.042561570706646,7.324264033534911,7.605966496363178,7.887668959191443,8.16937142201971,8.451073884847975,8.732776347676241,9.014478810504507,9.296181273332772,9.577883736161038,9.859586198989305,10.14128866181757,10.422991124645836,10.704693587474102,10.986396050302368,11.268098513130633,11.5498009759589,11.831503438787164,12.113205901615432,12.394908364443697,12.676610827271963,12.958313290100229,13.240015752928494,13.52171821575676,13.803420678585027,14.085123141413291,14.366825604241559,14.648528067069822,14.93023052989809,15.211932992726355,15.493635455554621,15.775337918382887,16.057040381211152,16.33874284403942,16.620445306867683,16.90214776969595,17.183850232524215,17.465552695352482,17.747255158180746,18.028957621009013,18.31066008383728,18.592362546665544,18.874065009493812,19.155767472322076,19.437469935150343,19.71917239797861,20.000874860806874,20.28257732363514,20.56427978646341,20.845982249291673,21.127684712119937,21.409387174948204,21.691089637776468,21.972792100604735,22.254494563433003,22.536197026261267,22.81789948908953,23.0996019519178,23.381304414746065,23.66300687757433,23.9447093404026,24.226411803230864,24.508114266059128,24.789816728887395,25.071519191715662,25.353221654543926,25.63492411737219,25.916626580200457,26.198329043028725,26.48003150585699,26.761733968685256,27.04343643151352,27.325138894341784,27.606841357170055,27.88854381999832],\"mode\":\"lines\"}],\n",
       "               {\"yaxis\":{\"type\":\"-\",\"titlefont\":{\"size\":15,\"color\":\"rgba(0, 0, 0, 1.000)\",\"family\":\"Helvetica\"},\"title\":\"\",\"tickfont\":{\"size\":11,\"color\":\"rgba(0, 0, 0, 1.000)\",\"family\":\"Helvetica\"},\"tickmode\":\"array\",\"showgrid\":true,\"tickvals\":[0.0,0.05,0.1,0.15000000000000002,0.2],\"domain\":[0.057305336832895896,0.9901574803149605],\"ticktext\":[\"0.00\",\"0.05\",\"0.10\",\"0.15\",\"0.20\"],\"zeroline\":false,\"linecolor\":\"rgba(0, 0, 0, 1.000)\",\"tickcolor\":\"rgba(0, 0, 0, 1.000)\",\"anchor\":\"x\"},\"annotations\":[],\"width\":600,\"plot_bgcolor\":\"rgba(255, 255, 255, 1.000)\",\"showlegend\":true,\"legend\":{\"bgcolor\":\"rgba(255, 255, 255, 1.000)\",\"font\":{\"size\":11,\"color\":\"rgba(0, 0, 0, 1.000)\",\"family\":\"Helvetica\"},\"bordercolor\":\"rgba(0, 0, 0, 1.000)\"},\"xaxis\":{\"type\":\"-\",\"titlefont\":{\"size\":15,\"color\":\"rgba(0, 0, 0, 1.000)\",\"family\":\"Helvetica\"},\"title\":\"\",\"tickfont\":{\"size\":11,\"color\":\"rgba(0, 0, 0, 1.000)\",\"family\":\"Helvetica\"},\"tickmode\":\"array\",\"showgrid\":true,\"tickvals\":[0.0,10.0,20.0],\"domain\":[0.05905511811023622,0.9934383202099738],\"ticktext\":[\"0\",\"10\",\"20\"],\"zeroline\":false,\"linecolor\":\"rgba(0, 0, 0, 1.000)\",\"tickcolor\":\"rgba(0, 0, 0, 1.000)\",\"anchor\":\"y\"},\"paper_bgcolor\":\"rgba(255, 255, 255, 1.000)\",\"margin\":{\"r\":0,\"l\":0,\"b\":0,\"t\":20},\"height\":400}, {showLink: false});\n",
       "\n",
       " </script>\n",
       "\n",
       "</body>\n",
       "</html>\n"
      ]
     },
     "execution_count": 120,
     "metadata": {},
     "output_type": "execute_result"
    }
   ],
   "source": [
    "plot!(Chisq(10), fill = (0.25, :deepskyblue), label = \"10 deg. of freedom\")"
   ]
  },
  {
   "cell_type": "code",
   "execution_count": 121,
   "metadata": {
    "collapsed": false
   },
   "outputs": [
    {
     "data": {
      "text/html": [
       "<html>\n",
       "<head>\n",
       "     <script src=\"/Users/bradley/.julia/v0.4/PlotlyJS/deps/plotly-latest.min.js\"></script>\n",
       "</head>\n",
       "<body>\n",
       "     <div id=\"5e293690-5542-4c6b-90de-29306683710a\" class=\"plotly-graph-div\"></div>\n",
       "\n",
       "<script>\n",
       "    window.PLOTLYENV=window.PLOTLYENV || {};\n",
       "    window.PLOTLYENV.BASE_URL=\"https://plot.ly\";\n",
       "    Plotly.newPlot('5e293690-5542-4c6b-90de-29306683710a', [{\"yaxis\":\"y\",\"y\":[0.5,0.475374563448467,0.4519619511476412,0.42970243044425466,0.4085392105703657,0.38841829775293785,0.36928835745939903,0.35110058342772654,0.33380857314691514,0.31736820947014094,0.3017375480585798,0.28687671036871637,0.2727477819101217,0.25931471551412366,0.2465432393665799,0.23440076957011766,0.22285632701275881,0.21188045833083807,0.2014451607645665,0.19152381071452412,0.18209109581680746,0.17312295036353567,0.16459649390395278,0.15648997286947966,0.14878270507378266,0.14145502694626294,0.13448824336434176,0.12786457995655032,0.12156713775473342,0.1155798500796721,0.1098874415501268,0.10447538911072092,0.09932988497923538,0.09443780141878091,0.089786657244972,0.0853645859826514,0.08116030559092409,0.07716308967925943,0.07336274014122574,0.06974956113603702,0.06631433435153151,0.06304829548546997,0.059943111885150474,0.05699086128829204,0.054184011610947935,0.05151540173088208,0.04897822321738096,0.04656600296088809,0.04427258665814439,0.042092123110699625,0.04001904929673594,0.03804807617811706,0.03617417520645283,0.03439256549375174,0.032698701614930104,0.03108826201105816,0.029557137963756665,0.02810142311261387,0.02671740348887896,0.02540154804000478,0.024150499620865067,0.022961066428662198,0.021830213859673084,0.020755056767057543,0.01973285209997626,0.01876099190523876,0.017836996673626197,0.01695850901391363,0.016123287638452166,0.015329201644966527,0.01457422507997897,0.013856431769989403,0.013173990407224369,0.01252515987741715,0.011908284817698865,0.011321791393267212,0.010764183282058026,0.010234037857175242,0.00973000255733953,0.009250791436095494,0.008795181880973425,0.008362011494235221,0.007950175127246266,0.007558622060907105,0.007186353324951336,0.006832419149270358,0.006495916540762689,0.006175986979525481,0.00587181422851068,0.005582622251057526,0.005307673230988337,0.005046265690216392,0.004797732699063191,0.0045614401747191965,0.004336785263506876,0.004123194802818654,0.00392012385880581,0.0037270543360874648,0.0035434936559325873,0.0033689734995427335],\"showlegend\":true,\"name\":\"Scale parameter 2\",\"type\":\"scatter\",\"xaxis\":\"x\",\"line\":{\"width\":1,\"dash\":\"solid\",\"color\":\"rgba(0, 154, 250, 1.000)\",\"shape\":\"linear\"},\"x\":[0.0,0.10101010101010101,0.20202020202020202,0.30303030303030304,0.40404040404040403,0.5050505050505051,0.6060606060606061,0.7070707070707071,0.8080808080808081,0.9090909090909091,1.0101010101010102,1.1111111111111112,1.2121212121212122,1.3131313131313131,1.4141414141414141,1.5151515151515151,1.6161616161616161,1.7171717171717171,1.8181818181818181,1.9191919191919191,2.0202020202020203,2.121212121212121,2.2222222222222223,2.323232323232323,2.4242424242424243,2.525252525252525,2.6262626262626263,2.727272727272727,2.8282828282828283,2.9292929292929295,3.0303030303030303,3.1313131313131315,3.2323232323232323,3.3333333333333335,3.4343434343434343,3.5353535353535355,3.6363636363636362,3.7373737373737375,3.8383838383838382,3.9393939393939394,4.040404040404041,4.141414141414141,4.242424242424242,4.343434343434343,4.444444444444445,4.545454545454546,4.646464646464646,4.747474747474747,4.848484848484849,4.94949494949495,5.05050505050505,5.151515151515151,5.252525252525253,5.353535353535354,5.454545454545454,5.555555555555555,5.656565656565657,5.757575757575758,5.858585858585859,5.959595959595959,6.0606060606060606,6.161616161616162,6.262626262626263,6.363636363636363,6.4646464646464645,6.565656565656566,6.666666666666667,6.767676767676767,6.8686868686868685,6.96969696969697,7.070707070707071,7.171717171717172,7.2727272727272725,7.373737373737374,7.474747474747475,7.575757575757576,7.6767676767676765,7.777777777777778,7.878787878787879,7.97979797979798,8.080808080808081,8.181818181818182,8.282828282828282,8.383838383838384,8.484848484848484,8.585858585858587,8.686868686868687,8.787878787878787,8.88888888888889,8.98989898989899,9.090909090909092,9.191919191919192,9.292929292929292,9.393939393939394,9.494949494949495,9.595959595959595,9.696969696969697,9.797979797979798,9.8989898989899,10.0],\"mode\":\"lines\"}],\n",
       "               {\"yaxis\":{\"type\":\"-\",\"titlefont\":{\"size\":15,\"color\":\"rgba(0, 0, 0, 1.000)\",\"family\":\"Helvetica\"},\"title\":\"\",\"tickfont\":{\"size\":11,\"color\":\"rgba(0, 0, 0, 1.000)\",\"family\":\"Helvetica\"},\"tickmode\":\"array\",\"showgrid\":true,\"tickvals\":[0.1,0.2,0.30000000000000004,0.4,0.5],\"domain\":[0.057305336832895896,0.9901574803149605],\"ticktext\":[\"0.1\",\"0.2\",\"0.3\",\"0.4\",\"0.5\"],\"zeroline\":false,\"linecolor\":\"rgba(0, 0, 0, 1.000)\",\"tickcolor\":\"rgba(0, 0, 0, 1.000)\",\"anchor\":\"x\"},\"annotations\":[],\"width\":600,\"plot_bgcolor\":\"rgba(255, 255, 255, 1.000)\",\"showlegend\":true,\"legend\":{\"bgcolor\":\"rgba(255, 255, 255, 1.000)\",\"font\":{\"size\":11,\"color\":\"rgba(0, 0, 0, 1.000)\",\"family\":\"Helvetica\"},\"bordercolor\":\"rgba(0, 0, 0, 1.000)\"},\"xaxis\":{\"type\":\"-\",\"titlefont\":{\"size\":15,\"color\":\"rgba(0, 0, 0, 1.000)\",\"family\":\"Helvetica\"},\"title\":\"\",\"tickfont\":{\"size\":11,\"color\":\"rgba(0, 0, 0, 1.000)\",\"family\":\"Helvetica\"},\"tickmode\":\"array\",\"showgrid\":true,\"tickvals\":[0.0,2.0,4.0,6.0,8.0,10.0],\"domain\":[0.05905511811023622,0.9934383202099738],\"ticktext\":[\"0\",\"2\",\"4\",\"6\",\"8\",\"10\"],\"zeroline\":false,\"linecolor\":\"rgba(0, 0, 0, 1.000)\",\"tickcolor\":\"rgba(0, 0, 0, 1.000)\",\"anchor\":\"y\"},\"paper_bgcolor\":\"rgba(255, 255, 255, 1.000)\",\"margin\":{\"r\":0,\"l\":0,\"b\":0,\"t\":20},\"height\":400}, {showLink: false});\n",
       "\n",
       " </script>\n",
       "\n",
       "</body>\n",
       "</html>\n"
      ]
     },
     "execution_count": 121,
     "metadata": {},
     "output_type": "execute_result"
    }
   ],
   "source": [
    "plot(Exponential(2), fill = (0.25, :blue), label = \"Scale parameter 2\")"
   ]
  },
  {
   "cell_type": "code",
   "execution_count": 122,
   "metadata": {
    "collapsed": false
   },
   "outputs": [
    {
     "data": {
      "text/html": [
       "<html>\n",
       "<head>\n",
       "     <script src=\"/Users/bradley/.julia/v0.4/PlotlyJS/deps/plotly-latest.min.js\"></script>\n",
       "</head>\n",
       "<body>\n",
       "     <div id=\"5e293690-5542-4c6b-90de-29306683710a\" class=\"plotly-graph-div\"></div>\n",
       "\n",
       "<script>\n",
       "    window.PLOTLYENV=window.PLOTLYENV || {};\n",
       "    window.PLOTLYENV.BASE_URL=\"https://plot.ly\";\n",
       "    Plotly.newPlot('5e293690-5542-4c6b-90de-29306683710a', [{\"yaxis\":\"y\",\"y\":[0.5,0.475374563448467,0.4519619511476412,0.42970243044425466,0.4085392105703657,0.38841829775293785,0.36928835745939903,0.35110058342772654,0.33380857314691514,0.31736820947014094,0.3017375480585798,0.28687671036871637,0.2727477819101217,0.25931471551412366,0.2465432393665799,0.23440076957011766,0.22285632701275881,0.21188045833083807,0.2014451607645665,0.19152381071452412,0.18209109581680746,0.17312295036353567,0.16459649390395278,0.15648997286947966,0.14878270507378266,0.14145502694626294,0.13448824336434176,0.12786457995655032,0.12156713775473342,0.1155798500796721,0.1098874415501268,0.10447538911072092,0.09932988497923538,0.09443780141878091,0.089786657244972,0.0853645859826514,0.08116030559092409,0.07716308967925943,0.07336274014122574,0.06974956113603702,0.06631433435153151,0.06304829548546997,0.059943111885150474,0.05699086128829204,0.054184011610947935,0.05151540173088208,0.04897822321738096,0.04656600296088809,0.04427258665814439,0.042092123110699625,0.04001904929673594,0.03804807617811706,0.03617417520645283,0.03439256549375174,0.032698701614930104,0.03108826201105816,0.029557137963756665,0.02810142311261387,0.02671740348887896,0.02540154804000478,0.024150499620865067,0.022961066428662198,0.021830213859673084,0.020755056767057543,0.01973285209997626,0.01876099190523876,0.017836996673626197,0.01695850901391363,0.016123287638452166,0.015329201644966527,0.01457422507997897,0.013856431769989403,0.013173990407224369,0.01252515987741715,0.011908284817698865,0.011321791393267212,0.010764183282058026,0.010234037857175242,0.00973000255733953,0.009250791436095494,0.008795181880973425,0.008362011494235221,0.007950175127246266,0.007558622060907105,0.007186353324951336,0.006832419149270358,0.006495916540762689,0.006175986979525481,0.00587181422851068,0.005582622251057526,0.005307673230988337,0.005046265690216392,0.004797732699063191,0.0045614401747191965,0.004336785263506876,0.004123194802818654,0.00392012385880581,0.0037270543360874648,0.0035434936559325873,0.0033689734995427335],\"showlegend\":true,\"name\":\"Scale parameter 2\",\"type\":\"scatter\",\"xaxis\":\"x\",\"line\":{\"width\":1,\"dash\":\"solid\",\"color\":\"rgba(0, 154, 250, 1.000)\",\"shape\":\"linear\"},\"x\":[0.0,0.10101010101010101,0.20202020202020202,0.30303030303030304,0.40404040404040403,0.5050505050505051,0.6060606060606061,0.7070707070707071,0.8080808080808081,0.9090909090909091,1.0101010101010102,1.1111111111111112,1.2121212121212122,1.3131313131313131,1.4141414141414141,1.5151515151515151,1.6161616161616161,1.7171717171717171,1.8181818181818181,1.9191919191919191,2.0202020202020203,2.121212121212121,2.2222222222222223,2.323232323232323,2.4242424242424243,2.525252525252525,2.6262626262626263,2.727272727272727,2.8282828282828283,2.9292929292929295,3.0303030303030303,3.1313131313131315,3.2323232323232323,3.3333333333333335,3.4343434343434343,3.5353535353535355,3.6363636363636362,3.7373737373737375,3.8383838383838382,3.9393939393939394,4.040404040404041,4.141414141414141,4.242424242424242,4.343434343434343,4.444444444444445,4.545454545454546,4.646464646464646,4.747474747474747,4.848484848484849,4.94949494949495,5.05050505050505,5.151515151515151,5.252525252525253,5.353535353535354,5.454545454545454,5.555555555555555,5.656565656565657,5.757575757575758,5.858585858585859,5.959595959595959,6.0606060606060606,6.161616161616162,6.262626262626263,6.363636363636363,6.4646464646464645,6.565656565656566,6.666666666666667,6.767676767676767,6.8686868686868685,6.96969696969697,7.070707070707071,7.171717171717172,7.2727272727272725,7.373737373737374,7.474747474747475,7.575757575757576,7.6767676767676765,7.777777777777778,7.878787878787879,7.97979797979798,8.080808080808081,8.181818181818182,8.282828282828282,8.383838383838384,8.484848484848484,8.585858585858587,8.686868686868687,8.787878787878787,8.88888888888889,8.98989898989899,9.090909090909092,9.191919191919192,9.292929292929292,9.393939393939394,9.494949494949495,9.595959595959595,9.696969696969697,9.797979797979798,9.8989898989899,10.0],\"mode\":\"lines\"},{\"yaxis\":\"y\",\"y\":[0.25,0.2376872817242335,0.2259809755738206,0.21485121522212733,0.20426960528518284,0.19420914887646892,0.18464417872969952,0.17555029171386327,0.16690428657345757,0.15868410473507047,0.1508687740292899,0.14343835518435818,0.13637389095506086,0.12965735775706183,0.12327161968328995,0.11720038478505883,0.11142816350637941,0.10594022916541904,0.10072258038228325,0.09576190535726206,0.09104554790840373,0.08656147518176784,0.08229824695197639,0.07824498643473983,0.07439135253689133,0.07072751347313147,0.06724412168217088,0.06393228997827516,0.06078356887736671,0.05778992503983605,0.0549437207750634,0.05223769455536046,0.04966494248961769,0.04721890070939046,0.044893328622486,0.0426822929913257,0.040580152795462045,0.038581544839629715,0.03668137007061287,0.03487478056801851,0.03315716717576576,0.03152414774273499,0.029971555942575237,0.02849543064414602,0.027092005805473968,0.02575770086544104,0.02448911160869048,0.023283001480444043,0.022136293329072194,0.021046061555349813,0.02000952464836797,0.01902403808905853,0.018087087603226415,0.01719628274687587,0.016349350807465052,0.01554413100552908,0.014778568981878333,0.014050711556306935,0.01335870174443948,0.01270077402000239,0.012075249810432533,0.011480533214331099,0.010915106929836542,0.010377528383528772,0.00986642604998813,0.00938049595261938,0.008918498336813099,0.008479254506956815,0.008061643819226083,0.0076646008224832635,0.007287112539989485,0.006928215884994701,0.006586995203612184,0.006262579938708575,0.0059541424088494325,0.005660895696633606,0.005382091641029013,0.005117018928587621,0.004865001278669765,0.004625395718047747,0.004397590940486713,0.004181005747117611,0.003975087563623133,0.0037793110304535525,0.003593176662475668,0.003416209574635179,0.0032479582703813445,0.0030879934897627406,0.00293590711425534,0.002791311125528763,0.0026538366154941683,0.002523132845108196,0.0023988663495315954,0.0022807200873595983,0.002168392631753438,0.002061597401409327,0.001960061929402905,0.0018635271680437324,0.0017717468279662937,0.0016844867497713668],\"showlegend\":true,\"name\":\"4\",\"type\":\"scatter\",\"xaxis\":\"x\",\"line\":{\"width\":1,\"dash\":\"solid\",\"color\":\"rgba(227, 111, 71, 1.000)\",\"shape\":\"linear\"},\"x\":[0.0,0.20202020202020202,0.40404040404040403,0.6060606060606061,0.8080808080808081,1.0101010101010102,1.2121212121212122,1.4141414141414141,1.6161616161616161,1.8181818181818181,2.0202020202020203,2.2222222222222223,2.4242424242424243,2.6262626262626263,2.8282828282828283,3.0303030303030303,3.2323232323232323,3.4343434343434343,3.6363636363636362,3.8383838383838382,4.040404040404041,4.242424242424242,4.444444444444445,4.646464646464646,4.848484848484849,5.05050505050505,5.252525252525253,5.454545454545454,5.656565656565657,5.858585858585859,6.0606060606060606,6.262626262626263,6.4646464646464645,6.666666666666667,6.8686868686868685,7.070707070707071,7.2727272727272725,7.474747474747475,7.6767676767676765,7.878787878787879,8.080808080808081,8.282828282828282,8.484848484848484,8.686868686868687,8.88888888888889,9.090909090909092,9.292929292929292,9.494949494949495,9.696969696969697,9.8989898989899,10.1010101010101,10.303030303030303,10.505050505050505,10.707070707070708,10.909090909090908,11.11111111111111,11.313131313131313,11.515151515151516,11.717171717171718,11.919191919191919,12.121212121212121,12.323232323232324,12.525252525252526,12.727272727272727,12.929292929292929,13.131313131313131,13.333333333333334,13.535353535353535,13.737373737373737,13.93939393939394,14.141414141414142,14.343434343434344,14.545454545454545,14.747474747474747,14.94949494949495,15.151515151515152,15.353535353535353,15.555555555555555,15.757575757575758,15.95959595959596,16.161616161616163,16.363636363636363,16.565656565656564,16.767676767676768,16.96969696969697,17.171717171717173,17.373737373737374,17.575757575757574,17.77777777777778,17.97979797979798,18.181818181818183,18.383838383838384,18.585858585858585,18.78787878787879,18.98989898989899,19.19191919191919,19.393939393939394,19.595959595959595,19.7979797979798,20.0],\"mode\":\"lines\"}],\n",
       "               {\"yaxis\":{\"type\":\"-\",\"titlefont\":{\"size\":15,\"color\":\"rgba(0, 0, 0, 1.000)\",\"family\":\"Helvetica\"},\"title\":\"\",\"tickfont\":{\"size\":11,\"color\":\"rgba(0, 0, 0, 1.000)\",\"family\":\"Helvetica\"},\"tickmode\":\"array\",\"showgrid\":true,\"tickvals\":[0.1,0.2,0.30000000000000004,0.4,0.5],\"domain\":[0.057305336832895896,0.9901574803149605],\"ticktext\":[\"0.1\",\"0.2\",\"0.3\",\"0.4\",\"0.5\"],\"zeroline\":false,\"linecolor\":\"rgba(0, 0, 0, 1.000)\",\"tickcolor\":\"rgba(0, 0, 0, 1.000)\",\"anchor\":\"x\"},\"annotations\":[],\"width\":600,\"plot_bgcolor\":\"rgba(255, 255, 255, 1.000)\",\"showlegend\":true,\"legend\":{\"bgcolor\":\"rgba(255, 255, 255, 1.000)\",\"font\":{\"size\":11,\"color\":\"rgba(0, 0, 0, 1.000)\",\"family\":\"Helvetica\"},\"bordercolor\":\"rgba(0, 0, 0, 1.000)\"},\"xaxis\":{\"type\":\"-\",\"titlefont\":{\"size\":15,\"color\":\"rgba(0, 0, 0, 1.000)\",\"family\":\"Helvetica\"},\"title\":\"\",\"tickfont\":{\"size\":11,\"color\":\"rgba(0, 0, 0, 1.000)\",\"family\":\"Helvetica\"},\"tickmode\":\"array\",\"showgrid\":true,\"tickvals\":[0.0,5.0,10.0,15.0,20.0],\"domain\":[0.05905511811023622,0.9934383202099738],\"ticktext\":[\"0\",\"5\",\"10\",\"15\",\"20\"],\"zeroline\":false,\"linecolor\":\"rgba(0, 0, 0, 1.000)\",\"tickcolor\":\"rgba(0, 0, 0, 1.000)\",\"anchor\":\"y\"},\"paper_bgcolor\":\"rgba(255, 255, 255, 1.000)\",\"margin\":{\"r\":0,\"l\":0,\"b\":0,\"t\":20},\"height\":400}, {showLink: false});\n",
       "\n",
       " </script>\n",
       "\n",
       "</body>\n",
       "</html>\n"
      ]
     },
     "execution_count": 122,
     "metadata": {},
     "output_type": "execute_result"
    }
   ],
   "source": [
    "plot!(Exponential(4), fill = (0.25, :orange), label = \"4\")"
   ]
  },
  {
   "cell_type": "code",
   "execution_count": 123,
   "metadata": {
    "collapsed": false
   },
   "outputs": [
    {
     "data": {
      "text/html": [
       "<html>\n",
       "<head>\n",
       "     <script src=\"/Users/bradley/.julia/v0.4/PlotlyJS/deps/plotly-latest.min.js\"></script>\n",
       "</head>\n",
       "<body>\n",
       "     <div id=\"5e293690-5542-4c6b-90de-29306683710a\" class=\"plotly-graph-div\"></div>\n",
       "\n",
       "<script>\n",
       "    window.PLOTLYENV=window.PLOTLYENV || {};\n",
       "    window.PLOTLYENV.BASE_URL=\"https://plot.ly\";\n",
       "    Plotly.newPlot('5e293690-5542-4c6b-90de-29306683710a', [{\"yaxis\":\"y\",\"y\":[0.5,0.475374563448467,0.4519619511476412,0.42970243044425466,0.4085392105703657,0.38841829775293785,0.36928835745939903,0.35110058342772654,0.33380857314691514,0.31736820947014094,0.3017375480585798,0.28687671036871637,0.2727477819101217,0.25931471551412366,0.2465432393665799,0.23440076957011766,0.22285632701275881,0.21188045833083807,0.2014451607645665,0.19152381071452412,0.18209109581680746,0.17312295036353567,0.16459649390395278,0.15648997286947966,0.14878270507378266,0.14145502694626294,0.13448824336434176,0.12786457995655032,0.12156713775473342,0.1155798500796721,0.1098874415501268,0.10447538911072092,0.09932988497923538,0.09443780141878091,0.089786657244972,0.0853645859826514,0.08116030559092409,0.07716308967925943,0.07336274014122574,0.06974956113603702,0.06631433435153151,0.06304829548546997,0.059943111885150474,0.05699086128829204,0.054184011610947935,0.05151540173088208,0.04897822321738096,0.04656600296088809,0.04427258665814439,0.042092123110699625,0.04001904929673594,0.03804807617811706,0.03617417520645283,0.03439256549375174,0.032698701614930104,0.03108826201105816,0.029557137963756665,0.02810142311261387,0.02671740348887896,0.02540154804000478,0.024150499620865067,0.022961066428662198,0.021830213859673084,0.020755056767057543,0.01973285209997626,0.01876099190523876,0.017836996673626197,0.01695850901391363,0.016123287638452166,0.015329201644966527,0.01457422507997897,0.013856431769989403,0.013173990407224369,0.01252515987741715,0.011908284817698865,0.011321791393267212,0.010764183282058026,0.010234037857175242,0.00973000255733953,0.009250791436095494,0.008795181880973425,0.008362011494235221,0.007950175127246266,0.007558622060907105,0.007186353324951336,0.006832419149270358,0.006495916540762689,0.006175986979525481,0.00587181422851068,0.005582622251057526,0.005307673230988337,0.005046265690216392,0.004797732699063191,0.0045614401747191965,0.004336785263506876,0.004123194802818654,0.00392012385880581,0.0037270543360874648,0.0035434936559325873,0.0033689734995427335],\"showlegend\":true,\"name\":\"Scale parameter 2\",\"type\":\"scatter\",\"xaxis\":\"x\",\"line\":{\"width\":1,\"dash\":\"solid\",\"color\":\"rgba(0, 154, 250, 1.000)\",\"shape\":\"linear\"},\"x\":[0.0,0.10101010101010101,0.20202020202020202,0.30303030303030304,0.40404040404040403,0.5050505050505051,0.6060606060606061,0.7070707070707071,0.8080808080808081,0.9090909090909091,1.0101010101010102,1.1111111111111112,1.2121212121212122,1.3131313131313131,1.4141414141414141,1.5151515151515151,1.6161616161616161,1.7171717171717171,1.8181818181818181,1.9191919191919191,2.0202020202020203,2.121212121212121,2.2222222222222223,2.323232323232323,2.4242424242424243,2.525252525252525,2.6262626262626263,2.727272727272727,2.8282828282828283,2.9292929292929295,3.0303030303030303,3.1313131313131315,3.2323232323232323,3.3333333333333335,3.4343434343434343,3.5353535353535355,3.6363636363636362,3.7373737373737375,3.8383838383838382,3.9393939393939394,4.040404040404041,4.141414141414141,4.242424242424242,4.343434343434343,4.444444444444445,4.545454545454546,4.646464646464646,4.747474747474747,4.848484848484849,4.94949494949495,5.05050505050505,5.151515151515151,5.252525252525253,5.353535353535354,5.454545454545454,5.555555555555555,5.656565656565657,5.757575757575758,5.858585858585859,5.959595959595959,6.0606060606060606,6.161616161616162,6.262626262626263,6.363636363636363,6.4646464646464645,6.565656565656566,6.666666666666667,6.767676767676767,6.8686868686868685,6.96969696969697,7.070707070707071,7.171717171717172,7.2727272727272725,7.373737373737374,7.474747474747475,7.575757575757576,7.6767676767676765,7.777777777777778,7.878787878787879,7.97979797979798,8.080808080808081,8.181818181818182,8.282828282828282,8.383838383838384,8.484848484848484,8.585858585858587,8.686868686868687,8.787878787878787,8.88888888888889,8.98989898989899,9.090909090909092,9.191919191919192,9.292929292929292,9.393939393939394,9.494949494949495,9.595959595959595,9.696969696969697,9.797979797979798,9.8989898989899,10.0],\"mode\":\"lines\"},{\"yaxis\":\"y\",\"y\":[0.25,0.2376872817242335,0.2259809755738206,0.21485121522212733,0.20426960528518284,0.19420914887646892,0.18464417872969952,0.17555029171386327,0.16690428657345757,0.15868410473507047,0.1508687740292899,0.14343835518435818,0.13637389095506086,0.12965735775706183,0.12327161968328995,0.11720038478505883,0.11142816350637941,0.10594022916541904,0.10072258038228325,0.09576190535726206,0.09104554790840373,0.08656147518176784,0.08229824695197639,0.07824498643473983,0.07439135253689133,0.07072751347313147,0.06724412168217088,0.06393228997827516,0.06078356887736671,0.05778992503983605,0.0549437207750634,0.05223769455536046,0.04966494248961769,0.04721890070939046,0.044893328622486,0.0426822929913257,0.040580152795462045,0.038581544839629715,0.03668137007061287,0.03487478056801851,0.03315716717576576,0.03152414774273499,0.029971555942575237,0.02849543064414602,0.027092005805473968,0.02575770086544104,0.02448911160869048,0.023283001480444043,0.022136293329072194,0.021046061555349813,0.02000952464836797,0.01902403808905853,0.018087087603226415,0.01719628274687587,0.016349350807465052,0.01554413100552908,0.014778568981878333,0.014050711556306935,0.01335870174443948,0.01270077402000239,0.012075249810432533,0.011480533214331099,0.010915106929836542,0.010377528383528772,0.00986642604998813,0.00938049595261938,0.008918498336813099,0.008479254506956815,0.008061643819226083,0.0076646008224832635,0.007287112539989485,0.006928215884994701,0.006586995203612184,0.006262579938708575,0.0059541424088494325,0.005660895696633606,0.005382091641029013,0.005117018928587621,0.004865001278669765,0.004625395718047747,0.004397590940486713,0.004181005747117611,0.003975087563623133,0.0037793110304535525,0.003593176662475668,0.003416209574635179,0.0032479582703813445,0.0030879934897627406,0.00293590711425534,0.002791311125528763,0.0026538366154941683,0.002523132845108196,0.0023988663495315954,0.0022807200873595983,0.002168392631753438,0.002061597401409327,0.001960061929402905,0.0018635271680437324,0.0017717468279662937,0.0016844867497713668],\"showlegend\":true,\"name\":\"4\",\"type\":\"scatter\",\"xaxis\":\"x\",\"line\":{\"width\":1,\"dash\":\"solid\",\"color\":\"rgba(227, 111, 71, 1.000)\",\"shape\":\"linear\"},\"x\":[0.0,0.20202020202020202,0.40404040404040403,0.6060606060606061,0.8080808080808081,1.0101010101010102,1.2121212121212122,1.4141414141414141,1.6161616161616161,1.8181818181818181,2.0202020202020203,2.2222222222222223,2.4242424242424243,2.6262626262626263,2.8282828282828283,3.0303030303030303,3.2323232323232323,3.4343434343434343,3.6363636363636362,3.8383838383838382,4.040404040404041,4.242424242424242,4.444444444444445,4.646464646464646,4.848484848484849,5.05050505050505,5.252525252525253,5.454545454545454,5.656565656565657,5.858585858585859,6.0606060606060606,6.262626262626263,6.4646464646464645,6.666666666666667,6.8686868686868685,7.070707070707071,7.2727272727272725,7.474747474747475,7.6767676767676765,7.878787878787879,8.080808080808081,8.282828282828282,8.484848484848484,8.686868686868687,8.88888888888889,9.090909090909092,9.292929292929292,9.494949494949495,9.696969696969697,9.8989898989899,10.1010101010101,10.303030303030303,10.505050505050505,10.707070707070708,10.909090909090908,11.11111111111111,11.313131313131313,11.515151515151516,11.717171717171718,11.919191919191919,12.121212121212121,12.323232323232324,12.525252525252526,12.727272727272727,12.929292929292929,13.131313131313131,13.333333333333334,13.535353535353535,13.737373737373737,13.93939393939394,14.141414141414142,14.343434343434344,14.545454545454545,14.747474747474747,14.94949494949495,15.151515151515152,15.353535353535353,15.555555555555555,15.757575757575758,15.95959595959596,16.161616161616163,16.363636363636363,16.565656565656564,16.767676767676768,16.96969696969697,17.171717171717173,17.373737373737374,17.575757575757574,17.77777777777778,17.97979797979798,18.181818181818183,18.383838383838384,18.585858585858585,18.78787878787879,18.98989898989899,19.19191919191919,19.393939393939394,19.595959595959595,19.7979797979798,20.0],\"mode\":\"lines\"},{\"yaxis\":\"y\",\"y\":[0.16666666666666666,0.15845818781615567,0.1506539837158804,0.14323414348141822,0.13617973685678855,0.12947276591764595,0.12309611915313301,0.11703352780924217,0.11126952438230504,0.10578940315671365,0.10057918268619326,0.09562557012290546,0.09091592730337392,0.08643823850470789,0.08218107978885997,0.07813358985670588,0.07428544233758627,0.07062681944361268,0.06714838692152217,0.06384127023817471,0.06069703193893583,0.05770765012117855,0.05486549796798426,0.05216332428982655,0.04959423502459424,0.04715167564875431,0.044829414454780586,0.04262152665218344,0.04052237925157781,0.03852661669322404,0.03662914718337559,0.03482512970357364,0.03310996165974513,0.03147926713959365,0.029928885748324002,0.02845486199421714,0.0270534351969747,0.025721029893086476,0.02445424671374191,0.02324985371201234,0.02210477811717718,0.021016098495156656,0.019981037295050158,0.018996953762764012,0.01806133720364931,0.0171718005769607,0.01632607440579365,0.015522000986962695,0.014757528886048137,0.014030707703566549,0.01333968309891198,0.012682692059372353,0.012058058402150943,0.011464188497917246,0.010899567204976701,0.010362754003686053,0.009852379321252226,0.009367141037537956,0.008905801162959656,0.008467182680001593,0.008050166540288355,0.007653688809554068,0.007276737953224361,0.0069183522556858475,0.006577617366658753,0.006253663968412922,0.005945665557875401,0.005652836337971206,0.005374429212817389,0.005109733881655509,0.004858075026659659,0.004618810589996469,0.004391330135741458,0.004175053292472383,0.003969428272566288,0.003773930464422405,0.003588061094019342,0.003411345952391749,0.0032433341857798434,0.0030835971453651656,0.0029317272936578106,0.0027873371647450735,0.0026500583757487553,0.002519540686969035,0.002395451108317112,0.002277473049756788,0.002165305513587563,0.0020586623265084936,0.00195727140950356,0.0018608740836858419,0.0017692244103294469,0.0016820885634054655,0.0015992442330210635,0.001520480058239732,0.0014455950878356253,0.0013743982676062178,0.0013067079529352709,0.0012423514453624883,0.00118116455197753,0.0011229911665142445],\"showlegend\":true,\"name\":\"6\",\"type\":\"scatter\",\"xaxis\":\"x\",\"line\":{\"width\":1,\"dash\":\"solid\",\"color\":\"rgba(62, 164, 78, 1.000)\",\"shape\":\"linear\"},\"x\":[0.0,0.30303030303030304,0.6060606060606061,0.9090909090909091,1.2121212121212122,1.5151515151515151,1.8181818181818181,2.121212121212121,2.4242424242424243,2.727272727272727,3.0303030303030303,3.3333333333333335,3.6363636363636362,3.9393939393939394,4.242424242424242,4.545454545454546,4.848484848484849,5.151515151515151,5.454545454545454,5.757575757575758,6.0606060606060606,6.363636363636363,6.666666666666667,6.96969696969697,7.2727272727272725,7.575757575757576,7.878787878787879,8.181818181818182,8.484848484848484,8.787878787878787,9.090909090909092,9.393939393939394,9.696969696969697,10.0,10.303030303030303,10.606060606060606,10.909090909090908,11.212121212121213,11.515151515151516,11.818181818181818,12.121212121212121,12.424242424242424,12.727272727272727,13.030303030303031,13.333333333333334,13.636363636363637,13.93939393939394,14.242424242424242,14.545454545454545,14.848484848484848,15.151515151515152,15.454545454545455,15.757575757575758,16.060606060606062,16.363636363636363,16.666666666666668,16.96969696969697,17.272727272727273,17.575757575757574,17.87878787878788,18.181818181818183,18.484848484848484,18.78787878787879,19.09090909090909,19.393939393939394,19.696969696969695,20.0,20.303030303030305,20.606060606060606,20.90909090909091,21.21212121212121,21.515151515151516,21.818181818181817,22.12121212121212,22.424242424242426,22.727272727272727,23.03030303030303,23.333333333333332,23.636363636363637,23.939393939393938,24.242424242424242,24.545454545454547,24.848484848484848,25.151515151515152,25.454545454545453,25.757575757575758,26.060606060606062,26.363636363636363,26.666666666666668,26.96969696969697,27.272727272727273,27.575757575757574,27.87878787878788,28.181818181818183,28.484848484848484,28.78787878787879,29.09090909090909,29.393939393939394,29.696969696969695,30.0],\"mode\":\"lines\"}],\n",
       "               {\"yaxis\":{\"type\":\"-\",\"titlefont\":{\"size\":15,\"color\":\"rgba(0, 0, 0, 1.000)\",\"family\":\"Helvetica\"},\"title\":\"\",\"tickfont\":{\"size\":11,\"color\":\"rgba(0, 0, 0, 1.000)\",\"family\":\"Helvetica\"},\"tickmode\":\"array\",\"showgrid\":true,\"tickvals\":[0.1,0.2,0.30000000000000004,0.4,0.5],\"domain\":[0.057305336832895896,0.9901574803149605],\"ticktext\":[\"0.1\",\"0.2\",\"0.3\",\"0.4\",\"0.5\"],\"zeroline\":false,\"linecolor\":\"rgba(0, 0, 0, 1.000)\",\"tickcolor\":\"rgba(0, 0, 0, 1.000)\",\"anchor\":\"x\"},\"annotations\":[],\"width\":600,\"plot_bgcolor\":\"rgba(255, 255, 255, 1.000)\",\"showlegend\":true,\"legend\":{\"bgcolor\":\"rgba(255, 255, 255, 1.000)\",\"font\":{\"size\":11,\"color\":\"rgba(0, 0, 0, 1.000)\",\"family\":\"Helvetica\"},\"bordercolor\":\"rgba(0, 0, 0, 1.000)\"},\"xaxis\":{\"type\":\"-\",\"titlefont\":{\"size\":15,\"color\":\"rgba(0, 0, 0, 1.000)\",\"family\":\"Helvetica\"},\"title\":\"\",\"tickfont\":{\"size\":11,\"color\":\"rgba(0, 0, 0, 1.000)\",\"family\":\"Helvetica\"},\"tickmode\":\"array\",\"showgrid\":true,\"tickvals\":[0.0,5.0,10.0,15.0,20.0,25.0,30.0],\"domain\":[0.05905511811023622,0.9934383202099738],\"ticktext\":[\"0\",\"5\",\"10\",\"15\",\"20\",\"25\",\"30\"],\"zeroline\":false,\"linecolor\":\"rgba(0, 0, 0, 1.000)\",\"tickcolor\":\"rgba(0, 0, 0, 1.000)\",\"anchor\":\"y\"},\"paper_bgcolor\":\"rgba(255, 255, 255, 1.000)\",\"margin\":{\"r\":0,\"l\":0,\"b\":0,\"t\":20},\"height\":400}, {showLink: false});\n",
       "\n",
       " </script>\n",
       "\n",
       "</body>\n",
       "</html>\n"
      ]
     },
     "execution_count": 123,
     "metadata": {},
     "output_type": "execute_result"
    }
   ],
   "source": [
    "plot!(Exponential(6), fill = (0.25, :deepskyblue), label = \"6\")"
   ]
  },
  {
   "cell_type": "code",
   "execution_count": 124,
   "metadata": {
    "collapsed": false
   },
   "outputs": [
    {
     "data": {
      "text/html": [
       "<table class=\"data-frame\"><thead><tr><th></th><th>PatientID</th><th>Cat1</th><th>Cat2</th><th>Var1</th><th>Var2</th><th>Var3</th></tr></thead><tbody><tr><th>1</th><td>1</td><td>A</td><td>C</td><td>38.25682170735211</td><td>5.939131803063266</td><td>35.05790787394423</td></tr><tr><th>2</th><td>2</td><td>A</td><td>C</td><td>17.831672926455425</td><td>5.3475437647467015</td><td>21.130960534087748</td></tr><tr><th>3</th><td>8</td><td>A</td><td>B</td><td>16.021847362622296</td><td>6.60708739107548</td><td>60.94357572800236</td></tr><tr><th>4</th><td>9</td><td>A</td><td>C</td><td>45.11578946046756</td><td>6.007331523437179</td><td>21.879716257527214</td></tr><tr><th>5</th><td>16</td><td>A</td><td>C</td><td>20.448024664719128</td><td>8.548191553013755</td><td>20.662273742223093</td></tr><tr><th>6</th><td>18</td><td>A</td><td>B</td><td>28.354866592358434</td><td>7.956423420109708</td><td>33.180721180524046</td></tr><tr><th>7</th><td>25</td><td>A</td><td>C</td><td>22.449698055243154</td><td>6.346176553966556</td><td>40.23647859806062</td></tr><tr><th>8</th><td>28</td><td>A</td><td>B</td><td>48.41249747282861</td><td>5.325830066483782</td><td>28.89558282117991</td></tr><tr><th>9</th><td>29</td><td>A</td><td>C</td><td>40.00749019795842</td><td>11.418946000149159</td><td>71.59107138476448</td></tr><tr><th>10</th><td>33</td><td>A</td><td>C</td><td>20.718078088759942</td><td>5.3776825349838875</td><td>27.421634761166143</td></tr><tr><th>11</th><td>37</td><td>A</td><td>B</td><td>17.039552902790813</td><td>5.341678126021321</td><td>24.350125791798412</td></tr><tr><th>12</th><td>38</td><td>A</td><td>B</td><td>42.668677048130725</td><td>5.822836826149952</td><td>52.361023970347645</td></tr><tr><th>13</th><td>41</td><td>A</td><td>B</td><td>19.954005492731604</td><td>5.139109665644092</td><td>93.1999049245544</td></tr><tr><th>14</th><td>42</td><td>A</td><td>B</td><td>20.616861807456626</td><td>5.373775257683365</td><td>22.956316044932706</td></tr><tr><th>15</th><td>45</td><td>A</td><td>B</td><td>31.96943333536114</td><td>7.03175222186184</td><td>32.4353920798117</td></tr><tr><th>16</th><td>48</td><td>A</td><td>C</td><td>15.896503262657347</td><td>6.816307422196048</td><td>56.91791495074396</td></tr><tr><th>17</th><td>50</td><td>A</td><td>B</td><td>34.12637671623271</td><td>10.132043236302893</td><td>95.0800494348705</td></tr><tr><th>18</th><td>54</td><td>A</td><td>C</td><td>17.266696029416444</td><td>6.232851527491789</td><td>30.592429272236995</td></tr><tr><th>19</th><td>56</td><td>A</td><td>B</td><td>17.65139392415621</td><td>6.482234591532695</td><td>30.411111164705403</td></tr><tr><th>20</th><td>57</td><td>A</td><td>C</td><td>19.411007643097165</td><td>6.7381729160524415</td><td>51.404061512592136</td></tr><tr><th>21</th><td>58</td><td>A</td><td>B</td><td>20.72167664093812</td><td>12.544965670716241</td><td>23.516481089946932</td></tr><tr><th>22</th><td>72</td><td>A</td><td>C</td><td>41.067434948202134</td><td>6.790353447911059</td><td>25.463601202747274</td></tr><tr><th>23</th><td>77</td><td>A</td><td>C</td><td>21.748637652644852</td><td>5.331207233871429</td><td>53.37901535144456</td></tr><tr><th>24</th><td>79</td><td>A</td><td>B</td><td>24.795379875133985</td><td>6.421028372159899</td><td>67.80454363409564</td></tr><tr><th>25</th><td>81</td><td>A</td><td>C</td><td>19.455898596105506</td><td>15.58264883701855</td><td>42.09359631060543</td></tr><tr><th>26</th><td>87</td><td>A</td><td>B</td><td>20.42366215424995</td><td>6.0313350908620045</td><td>20.315296150337286</td></tr><tr><th>27</th><td>90</td><td>A</td><td>B</td><td>32.12531899176456</td><td>7.5079670766812505</td><td>30.041428426466076</td></tr><tr><th>28</th><td>91</td><td>A</td><td>C</td><td>27.80314774867038</td><td>5.569594345445192</td><td>20.873838118661297</td></tr><tr><th>29</th><td>93</td><td>A</td><td>B</td><td>22.519476318918194</td><td>8.263168140286755</td><td>38.939609071578595</td></tr><tr><th>30</th><td>96</td><td>A</td><td>C</td><td>52.42066995572101</td><td>10.589195161626716</td><td>22.849503575655408</td></tr><tr><th>&vellip;</th><td>&vellip;</td><td>&vellip;</td><td>&vellip;</td><td>&vellip;</td><td>&vellip;</td><td>&vellip;</td></tr></tbody></table>"
      ],
      "text/plain": [
       "120×6 DataFrames.DataFrame\n",
       "│ Row │ PatientID │ Cat1 │ Cat2 │ Var1    │ Var2    │ Var3    │\n",
       "├─────┼───────────┼──────┼──────┼─────────┼─────────┼─────────┤\n",
       "│ 1   │ 1         │ \"A\"  │ \"C\"  │ 38.2568 │ 5.93913 │ 35.0579 │\n",
       "│ 2   │ 2         │ \"A\"  │ \"C\"  │ 17.8317 │ 5.34754 │ 21.131  │\n",
       "│ 3   │ 8         │ \"A\"  │ \"B\"  │ 16.0218 │ 6.60709 │ 60.9436 │\n",
       "│ 4   │ 9         │ \"A\"  │ \"C\"  │ 45.1158 │ 6.00733 │ 21.8797 │\n",
       "│ 5   │ 16        │ \"A\"  │ \"C\"  │ 20.448  │ 8.54819 │ 20.6623 │\n",
       "│ 6   │ 18        │ \"A\"  │ \"B\"  │ 28.3549 │ 7.95642 │ 33.1807 │\n",
       "│ 7   │ 25        │ \"A\"  │ \"C\"  │ 22.4497 │ 6.34618 │ 40.2365 │\n",
       "│ 8   │ 28        │ \"A\"  │ \"B\"  │ 48.4125 │ 5.32583 │ 28.8956 │\n",
       "│ 9   │ 29        │ \"A\"  │ \"C\"  │ 40.0075 │ 11.4189 │ 71.5911 │\n",
       "│ 10  │ 33        │ \"A\"  │ \"C\"  │ 20.7181 │ 5.37768 │ 27.4216 │\n",
       "│ 11  │ 37        │ \"A\"  │ \"B\"  │ 17.0396 │ 5.34168 │ 24.3501 │\n",
       "⋮\n",
       "│ 109 │ 76        │ \"B\"  │ \"R\"  │ 17.0029 │ 5.39477 │ 31.1297 │\n",
       "│ 110 │ 78        │ \"B\"  │ \"L\"  │ 55.3879 │ 4.15304 │ 40.0846 │\n",
       "│ 111 │ 80        │ \"B\"  │ \"R\"  │ 20.2205 │ 6.36442 │ 45.435  │\n",
       "│ 112 │ 83        │ \"B\"  │ \"L\"  │ 16.4172 │ 3.84167 │ 89.6969 │\n",
       "│ 113 │ 84        │ \"B\"  │ \"R\"  │ 47.6224 │ 5.40032 │ 47.4541 │\n",
       "│ 114 │ 86        │ \"B\"  │ \"L\"  │ 73.0229 │ 3.38349 │ 55.1737 │\n",
       "│ 115 │ 92        │ \"B\"  │ \"R\"  │ 16.4106 │ 4.30351 │ 87.7357 │\n",
       "│ 116 │ 95        │ \"B\"  │ \"R\"  │ 16.2801 │ 3.37252 │ 52.6018 │\n",
       "│ 117 │ 101       │ \"B\"  │ \"L\"  │ 16.8883 │ 3.19598 │ 60.1883 │\n",
       "│ 118 │ 113       │ \"B\"  │ \"R\"  │ 32.3537 │ 3.38677 │ 30.0157 │\n",
       "│ 119 │ 115       │ \"B\"  │ \"R\"  │ 20.1379 │ 3.42731 │ 44.6893 │\n",
       "│ 120 │ 119       │ \"B\"  │ \"L\"  │ 17.6144 │ 3.45116 │ 40.6947 │"
      ]
     },
     "execution_count": 124,
     "metadata": {},
     "output_type": "execute_result"
    }
   ],
   "source": [
    "readtable(\"data1.csv\")"
   ]
  },
  {
   "cell_type": "code",
   "execution_count": 126,
   "metadata": {
    "collapsed": false
   },
   "outputs": [
    {
     "data": {
      "text/html": [
       "<table class=\"data-frame\"><thead><tr><th></th><th>Group</th><th>Variable1</th><th>Variable2</th></tr></thead><tbody><tr><th>1</th><td>B</td><td>0.22040548970606302</td><td>0.7873552843017158</td></tr><tr><th>2</th><td>B</td><td>-0.548793896003542</td><td>0.9649865080387574</td></tr><tr><th>3</th><td>B</td><td>-0.9934609624654334</td><td>0.10355714393412829</td></tr><tr><th>4</th><td>B</td><td>2.1699676516847317</td><td>0.4631386544936138</td></tr><tr><th>5</th><td>B</td><td>-0.6117075274842445</td><td>0.5700156312585183</td></tr><tr><th>6</th><td>B</td><td>0.3695329741262696</td><td>0.8922058759988294</td></tr><tr><th>7</th><td>A</td><td>-1.6309976377369484</td><td>0.9134960779365937</td></tr><tr><th>8</th><td>B</td><td>0.6611098683486955</td><td>0.8568281837286116</td></tr><tr><th>9</th><td>A</td><td>1.3169524367613357</td><td>0.10446727726591432</td></tr><tr><th>10</th><td>A</td><td>1.049443450274436</td><td>0.536612994563741</td></tr><tr><th>11</th><td>A</td><td>-1.3712299852188683</td><td>0.1816144806116018</td></tr><tr><th>12</th><td>A</td><td>-1.8255618023506142</td><td>0.0599865227439591</td></tr><tr><th>13</th><td>A</td><td>-0.43106629142815517</td><td>0.8700839375735414</td></tr><tr><th>14</th><td>A</td><td>0.22162917847240113</td><td>0.8377801218448702</td></tr><tr><th>15</th><td>B</td><td>-2.1031368576748175</td><td>0.4229774902469561</td></tr><tr><th>16</th><td>A</td><td>-0.3258569512629525</td><td>0.909081325141111</td></tr><tr><th>17</th><td>B</td><td>-1.0552096147823928</td><td>0.3603733070029942</td></tr><tr><th>18</th><td>B</td><td>-2.125320667022031</td><td>0.987333814377162</td></tr><tr><th>19</th><td>B</td><td>0.6306095075463836</td><td>0.5286873602064901</td></tr><tr><th>20</th><td>B</td><td>0.9665043145874108</td><td>0.23037298947195262</td></tr></tbody></table>"
      ],
      "text/plain": [
       "20×3 DataFrames.DataFrame\n",
       "│ Row │ Group │ Variable1 │ Variable2 │\n",
       "├─────┼───────┼───────────┼───────────┤\n",
       "│ 1   │ \"B\"   │ 0.220405  │ 0.787355  │\n",
       "│ 2   │ \"B\"   │ -0.548794 │ 0.964987  │\n",
       "│ 3   │ \"B\"   │ -0.993461 │ 0.103557  │\n",
       "│ 4   │ \"B\"   │ 2.16997   │ 0.463139  │\n",
       "│ 5   │ \"B\"   │ -0.611708 │ 0.570016  │\n",
       "│ 6   │ \"B\"   │ 0.369533  │ 0.892206  │\n",
       "│ 7   │ \"A\"   │ -1.631    │ 0.913496  │\n",
       "│ 8   │ \"B\"   │ 0.66111   │ 0.856828  │\n",
       "│ 9   │ \"A\"   │ 1.31695   │ 0.104467  │\n",
       "│ 10  │ \"A\"   │ 1.04944   │ 0.536613  │\n",
       "│ 11  │ \"A\"   │ -1.37123  │ 0.181614  │\n",
       "│ 12  │ \"A\"   │ -1.82556  │ 0.0599865 │\n",
       "│ 13  │ \"A\"   │ -0.431066 │ 0.870084  │\n",
       "│ 14  │ \"A\"   │ 0.221629  │ 0.83778   │\n",
       "│ 15  │ \"B\"   │ -2.10314  │ 0.422977  │\n",
       "│ 16  │ \"A\"   │ -0.325857 │ 0.909081  │\n",
       "│ 17  │ \"B\"   │ -1.05521  │ 0.360373  │\n",
       "│ 18  │ \"B\"   │ -2.12532  │ 0.987334  │\n",
       "│ 19  │ \"B\"   │ 0.63061   │ 0.528687  │\n",
       "│ 20  │ \"B\"   │ 0.966504  │ 0.230373  │"
      ]
     },
     "execution_count": 126,
     "metadata": {},
     "output_type": "execute_result"
    }
   ],
   "source": [
    "df = DataFrame(Group = rand([\"A\", \"B\"], 20), Variable1 = randn(20), Variable2 = rand(20))"
   ]
  },
  {
   "cell_type": "code",
   "execution_count": 127,
   "metadata": {
    "collapsed": false
   },
   "outputs": [
    {
     "data": {
      "text/html": [
       "<table class=\"data-frame\"><thead><tr><th></th><th>Group</th><th>Variable1</th><th>Variable2</th></tr></thead><tbody><tr><th>1</th><td>B</td><td>0.22040548970606302</td><td>0.7873552843017158</td></tr><tr><th>2</th><td>B</td><td>-0.548793896003542</td><td>0.9649865080387574</td></tr><tr><th>3</th><td>B</td><td>2.1699676516847317</td><td>0.4631386544936138</td></tr><tr><th>4</th><td>B</td><td>0.3695329741262696</td><td>0.8922058759988294</td></tr><tr><th>5</th><td>A</td><td>-1.6309976377369484</td><td>0.9134960779365937</td></tr><tr><th>6</th><td>B</td><td>0.6611098683486955</td><td>0.8568281837286116</td></tr><tr><th>7</th><td>A</td><td>1.049443450274436</td><td>0.536612994563741</td></tr><tr><th>8</th><td>A</td><td>-1.3712299852188683</td><td>0.1816144806116018</td></tr><tr><th>9</th><td>A</td><td>-1.8255618023506142</td><td>0.0599865227439591</td></tr><tr><th>10</th><td>A</td><td>-0.43106629142815517</td><td>0.8700839375735414</td></tr><tr><th>11</th><td>A</td><td>0.22162917847240113</td><td>0.8377801218448702</td></tr><tr><th>12</th><td>B</td><td>-2.1031368576748175</td><td>0.4229774902469561</td></tr><tr><th>13</th><td>A</td><td>-0.3258569512629525</td><td>0.909081325141111</td></tr><tr><th>14</th><td>B</td><td>-1.0552096147823928</td><td>0.3603733070029942</td></tr><tr><th>15</th><td>B</td><td>-2.125320667022031</td><td>0.987333814377162</td></tr><tr><th>16</th><td>B</td><td>0.6306095075463836</td><td>0.5286873602064901</td></tr><tr><th>17</th><td>B</td><td>0.9665043145874108</td><td>0.23037298947195262</td></tr></tbody></table>"
      ],
      "text/plain": [
       "17×3 DataFrames.DataFrame\n",
       "│ Row │ Group │ Variable1 │ Variable2 │\n",
       "├─────┼───────┼───────────┼───────────┤\n",
       "│ 1   │ \"B\"   │ 0.220405  │ 0.787355  │\n",
       "│ 2   │ \"B\"   │ -0.548794 │ 0.964987  │\n",
       "│ 3   │ \"B\"   │ 2.16997   │ 0.463139  │\n",
       "│ 4   │ \"B\"   │ 0.369533  │ 0.892206  │\n",
       "│ 5   │ \"A\"   │ -1.631    │ 0.913496  │\n",
       "│ 6   │ \"B\"   │ 0.66111   │ 0.856828  │\n",
       "│ 7   │ \"A\"   │ 1.04944   │ 0.536613  │\n",
       "│ 8   │ \"A\"   │ -1.37123  │ 0.181614  │\n",
       "│ 9   │ \"A\"   │ -1.82556  │ 0.0599865 │\n",
       "│ 10  │ \"A\"   │ -0.431066 │ 0.870084  │\n",
       "│ 11  │ \"A\"   │ 0.221629  │ 0.83778   │\n",
       "│ 12  │ \"B\"   │ -2.10314  │ 0.422977  │\n",
       "│ 13  │ \"A\"   │ -0.325857 │ 0.909081  │\n",
       "│ 14  │ \"B\"   │ -1.05521  │ 0.360373  │\n",
       "│ 15  │ \"B\"   │ -2.12532  │ 0.987334  │\n",
       "│ 16  │ \"B\"   │ 0.63061   │ 0.528687  │\n",
       "│ 17  │ \"B\"   │ 0.966504  │ 0.230373  │"
      ]
     },
     "execution_count": 127,
     "metadata": {},
     "output_type": "execute_result"
    }
   ],
   "source": [
    "deleterows!(df, [3, 5, 9])"
   ]
  },
  {
   "cell_type": "code",
   "execution_count": 128,
   "metadata": {
    "collapsed": false
   },
   "outputs": [
    {
     "ename": "LoadError",
     "evalue": "LoadError: MethodError: `sub` has no method matching sub(::DataFrames.DataFrame)\nClosest candidates are:\n  sub(::DataFrames.DataFrame, !Matched::AbstractArray{Bool,1})\n  sub{S<:Real}(::DataFrames.DataFrame, !Matched::AbstractArray{S<:Real,1})\n  sub(::DataFrames.AbstractDataFrame, !Matched::Integer)\n  ...\nwhile loading In[128], in expression starting on line 1",
     "output_type": "error",
     "traceback": [
      "LoadError: MethodError: `sub` has no method matching sub(::DataFrames.DataFrame)\nClosest candidates are:\n  sub(::DataFrames.DataFrame, !Matched::AbstractArray{Bool,1})\n  sub{S<:Real}(::DataFrames.DataFrame, !Matched::AbstractArray{S<:Real,1})\n  sub(::DataFrames.AbstractDataFrame, !Matched::Integer)\n  ...\nwhile loading In[128], in expression starting on line 1",
      ""
     ]
    }
   ],
   "source": [
    "sub(df[3,:])"
   ]
  },
  {
   "cell_type": "code",
   "execution_count": 129,
   "metadata": {
    "collapsed": false
   },
   "outputs": [
    {
     "ename": "LoadError",
     "evalue": "LoadError: BoundsError: attempt to access (17,)\n  at index [0]\nwhile loading In[129], in expression starting on line 1",
     "output_type": "error",
     "traceback": [
      "LoadError: BoundsError: attempt to access (17,)\n  at index [0]\nwhile loading In[129], in expression starting on line 1",
      "",
      " in size at abstractarray.jl:53",
      " in _sub at subarray.jl:90",
      " in sub at subarray.jl:87"
     ]
    }
   ],
   "source": [
    "sub(df[3])"
   ]
  },
  {
   "cell_type": "code",
   "execution_count": 130,
   "metadata": {
    "collapsed": false
   },
   "outputs": [
    {
     "ename": "LoadError",
     "evalue": "LoadError: BoundsError: attempt to access (17,)\n  at index [0]\nwhile loading In[130], in expression starting on line 1",
     "output_type": "error",
     "traceback": [
      "LoadError: BoundsError: attempt to access (17,)\n  at index [0]\nwhile loading In[130], in expression starting on line 1",
      "",
      " in size at abstractarray.jl:53",
      " in _sub at subarray.jl:90",
      " in sub at subarray.jl:87"
     ]
    }
   ],
   "source": [
    "sub(df[1])"
   ]
  },
  {
   "cell_type": "code",
   "execution_count": 132,
   "metadata": {
    "collapsed": false
   },
   "outputs": [
    {
     "ename": "LoadError",
     "evalue": "LoadError: MethodError: `sub` has no method matching sub(::Float64)\nwhile loading In[132], in expression starting on line 1",
     "output_type": "error",
     "traceback": [
      "LoadError: MethodError: `sub` has no method matching sub(::Float64)\nwhile loading In[132], in expression starting on line 1",
      ""
     ]
    }
   ],
   "source": [
    "sub(df[3, 3])"
   ]
  },
  {
   "cell_type": "code",
   "execution_count": 133,
   "metadata": {
    "collapsed": false
   },
   "outputs": [
    {
     "data": {
      "text/html": [
       "<table class=\"data-frame\"><thead><tr><th></th><th>Group</th><th>Variable1</th><th>Variable2</th></tr></thead><tbody><tr><th>1</th><td>B</td><td>2.1699676516847317</td><td>0.4631386544936138</td></tr></tbody></table>"
      ],
      "text/plain": [
       "1×3 DataFrames.SubDataFrame{Array{Int64,1}}\n",
       "│ Row │ Group │ Variable1 │ Variable2 │\n",
       "├─────┼───────┼───────────┼───────────┤\n",
       "│ 1   │ \"B\"   │ 2.16997   │ 0.463139  │"
      ]
     },
     "execution_count": 133,
     "metadata": {},
     "output_type": "execute_result"
    }
   ],
   "source": [
    "sub(df, 3)"
   ]
  },
  {
   "cell_type": "code",
   "execution_count": 134,
   "metadata": {
    "collapsed": false
   },
   "outputs": [
    {
     "name": "stdout",
     "output_type": "stream",
     "text": [
      "search: rand rand! randn randn! randexp randperm randjump randexp! randbool\n",
      "\n"
     ]
    },
    {
     "data": {
      "text/markdown": [
       "```\n",
       "rand([rng], [S], [dims...])\n",
       "```\n",
       "\n",
       "Pick a random element or array of random elements from the set of values specified by `S`; `S` can be\n",
       "\n",
       "  * an indexable collection (for example `1:n` or `['x','y','z']`), or\n",
       "  * a type: the set of values to pick from is then equivalent to `typemin(S):typemax(S)` for integers (this is not applicable to `BigInt`), and to $[0, 1)$ for floating point numbers;\n",
       "\n",
       "`S` defaults to `Float64`.\n"
      ],
      "text/plain": [
       "```\n",
       "rand([rng], [S], [dims...])\n",
       "```\n",
       "\n",
       "Pick a random element or array of random elements from the set of values specified by `S`; `S` can be\n",
       "\n",
       "  * an indexable collection (for example `1:n` or `['x','y','z']`), or\n",
       "  * a type: the set of values to pick from is then equivalent to `typemin(S):typemax(S)` for integers (this is not applicable to `BigInt`), and to $[0, 1)$ for floating point numbers;\n",
       "\n",
       "`S` defaults to `Float64`.\n"
      ]
     },
     "execution_count": 134,
     "metadata": {},
     "output_type": "execute_result"
    }
   ],
   "source": [
    "?rand"
   ]
  },
  {
   "cell_type": "code",
   "execution_count": 135,
   "metadata": {
    "collapsed": false
   },
   "outputs": [
    {
     "name": "stdout",
     "output_type": "stream",
     "text": [
      "search: var varm Vararg varlogx variation VariateForm NewvarNode Univariate\n",
      "\n"
     ]
    },
    {
     "data": {
      "text/markdown": [
       "```\n",
       "var(v[, region])\n",
       "```\n",
       "\n",
       "Compute the sample variance of a vector or array `v`, optionally along dimensions in `region`. The algorithm will return an estimator of the generative distribution's variance under the assumption that each entry of `v` is an IID drawn from that generative distribution. This computation is equivalent to calculating `sumabs2(v - mean(v)) / (length(v) - 1)`. Note: Julia does not ignore `NaN` values in the computation. For applications requiring the handling of missing data, the `DataArray` package is recommended.\n",
       "\n",
       "```\n",
       "var(x, wv::WeightVec, [dim]; mean=nothing)\n",
       "```\n",
       "\n",
       "Return the variance of a real-valued array `x`, optionally over a dimension `dim`. The weighting vector `wv` specifies frequency weights (also called case weights) for the estimate.\n",
       "\n",
       "This function differs from its counterpart in Base in that Bessel's correction is not used. That is, here the denominator for the variance is `sum(wv)`, whereas it's `length(x)-1` in `Base.var`. The impact is that this is not a weighted estimate of the population variance based on the sample; it's the weighted variance of the sample.\n"
      ],
      "text/plain": [
       "```\n",
       "var(v[, region])\n",
       "```\n",
       "\n",
       "Compute the sample variance of a vector or array `v`, optionally along dimensions in `region`. The algorithm will return an estimator of the generative distribution's variance under the assumption that each entry of `v` is an IID drawn from that generative distribution. This computation is equivalent to calculating `sumabs2(v - mean(v)) / (length(v) - 1)`. Note: Julia does not ignore `NaN` values in the computation. For applications requiring the handling of missing data, the `DataArray` package is recommended.\n",
       "\n",
       "```\n",
       "var(x, wv::WeightVec, [dim]; mean=nothing)\n",
       "```\n",
       "\n",
       "Return the variance of a real-valued array `x`, optionally over a dimension `dim`. The weighting vector `wv` specifies frequency weights (also called case weights) for the estimate.\n",
       "\n",
       "This function differs from its counterpart in Base in that Bessel's correction is not used. That is, here the denominator for the variance is `sum(wv)`, whereas it's `length(x)-1` in `Base.var`. The impact is that this is not a weighted estimate of the population variance based on the sample; it's the weighted variance of the sample.\n"
      ]
     },
     "execution_count": 135,
     "metadata": {},
     "output_type": "execute_result"
    }
   ],
   "source": [
    "?var"
   ]
  },
  {
   "cell_type": "code",
   "execution_count": 136,
   "metadata": {
    "collapsed": false
   },
   "outputs": [
    {
     "data": {
      "text/html": [
       "3"
      ],
      "text/plain": [
       "3"
      ]
     },
     "execution_count": 136,
     "metadata": {},
     "output_type": "execute_result"
    }
   ],
   "source": [
    "length(df)"
   ]
  },
  {
   "cell_type": "code",
   "execution_count": 138,
   "metadata": {
    "collapsed": false
   },
   "outputs": [
    {
     "name": "stdout",
     "output_type": "stream",
     "text": [
      "search: fill fill! finally filt filt! filter filter! Filter FileIO filesize\n",
      "\n"
     ]
    },
    {
     "data": {
      "text/markdown": [
       "```\n",
       "fill(x, dims)\n",
       "```\n",
       "\n",
       "Create an array filled with the value `x`. For example, `fill(1.0, (10,10))` returns a 10x10 array of floats, with each element initialized to `1.0`.\n",
       "\n",
       "If `x` is an object reference, all elements will refer to the same object. `fill(Foo(), dims)` will return an array filled with the result of evaluating `Foo()` once.\n"
      ],
      "text/plain": [
       "```\n",
       "fill(x, dims)\n",
       "```\n",
       "\n",
       "Create an array filled with the value `x`. For example, `fill(1.0, (10,10))` returns a 10x10 array of floats, with each element initialized to `1.0`.\n",
       "\n",
       "If `x` is an object reference, all elements will refer to the same object. `fill(Foo(), dims)` will return an array filled with the result of evaluating `Foo()` once.\n"
      ]
     },
     "execution_count": 138,
     "metadata": {},
     "output_type": "execute_result"
    }
   ],
   "source": [
    "?fill"
   ]
  },
  {
   "cell_type": "code",
   "execution_count": 142,
   "metadata": {
    "collapsed": false
   },
   "outputs": [
    {
     "name": "stdout",
     "output_type": "stream",
     "text": [
      "search: hcat hvcat showcompact FisherTLinearAssociation\n",
      "\n"
     ]
    },
    {
     "data": {
      "text/markdown": [
       "```\n",
       "hcat(A...)\n",
       "```\n",
       "\n",
       "Concatenate along dimension 2\n"
      ],
      "text/plain": [
       "```\n",
       "hcat(A...)\n",
       "```\n",
       "\n",
       "Concatenate along dimension 2\n"
      ]
     },
     "execution_count": 142,
     "metadata": {},
     "output_type": "execute_result"
    }
   ],
   "source": [
    "?hcat"
   ]
  },
  {
   "cell_type": "code",
   "execution_count": 140,
   "metadata": {
    "collapsed": false
   },
   "outputs": [
    {
     "name": "stdout",
     "output_type": "stream",
     "text": [
      "search: hvcat\n",
      "\n"
     ]
    },
    {
     "data": {
      "text/markdown": [
       "```\n",
       "hvcat(rows::Tuple{Vararg{Int}}, values...)\n",
       "```\n",
       "\n",
       "Horizontal and vertical concatenation in one call. This function is called for block matrix syntax. The first argument specifies the number of arguments to concatenate in each block row.\n",
       "\n",
       "```jldoctest\n",
       "julia> a, b, c, d, e, f = 1, 2, 3, 4, 5, 6\n",
       "(1,2,3,4,5,6)\n",
       "\n",
       "julia> [a b c; d e f]\n",
       "2x3 Array{Int64,2}:\n",
       " 1  2  3\n",
       " 4  5  6\n",
       "\n",
       "julia> hvcat((3,3), a,b,c,d,e,f)\n",
       "2x3 Array{Int64,2}:\n",
       " 1  2  3\n",
       " 4  5  6\n",
       "\n",
       "julia> [a b;c d; e f]\n",
       "3x2 Array{Int64,2}:\n",
       " 1  2\n",
       " 3  4\n",
       " 5  6\n",
       "\n",
       "julia> hvcat((2,2,2), a,b,c,d,e,f)\n",
       "3x2 Array{Int64,2}:\n",
       " 1  2\n",
       " 3  4\n",
       " 5  6\n",
       "```\n",
       "\n",
       "If the first argument is a single integer `n`, then all block rows are assumed to have `n` block columns.\n"
      ],
      "text/plain": [
       "```\n",
       "hvcat(rows::Tuple{Vararg{Int}}, values...)\n",
       "```\n",
       "\n",
       "Horizontal and vertical concatenation in one call. This function is called for block matrix syntax. The first argument specifies the number of arguments to concatenate in each block row.\n",
       "\n",
       "```jldoctest\n",
       "julia> a, b, c, d, e, f = 1, 2, 3, 4, 5, 6\n",
       "(1,2,3,4,5,6)\n",
       "\n",
       "julia> [a b c; d e f]\n",
       "2x3 Array{Int64,2}:\n",
       " 1  2  3\n",
       " 4  5  6\n",
       "\n",
       "julia> hvcat((3,3), a,b,c,d,e,f)\n",
       "2x3 Array{Int64,2}:\n",
       " 1  2  3\n",
       " 4  5  6\n",
       "\n",
       "julia> [a b;c d; e f]\n",
       "3x2 Array{Int64,2}:\n",
       " 1  2\n",
       " 3  4\n",
       " 5  6\n",
       "\n",
       "julia> hvcat((2,2,2), a,b,c,d,e,f)\n",
       "3x2 Array{Int64,2}:\n",
       " 1  2\n",
       " 3  4\n",
       " 5  6\n",
       "```\n",
       "\n",
       "If the first argument is a single integer `n`, then all block rows are assumed to have `n` block columns.\n"
      ]
     },
     "execution_count": 140,
     "metadata": {},
     "output_type": "execute_result"
    }
   ],
   "source": [
    "?hvcat"
   ]
  },
  {
   "cell_type": "code",
   "execution_count": null,
   "metadata": {
    "collapsed": true
   },
   "outputs": [],
   "source": []
  }
 ],
 "metadata": {
  "kernelspec": {
   "display_name": "Julia 0.4.6",
   "language": "julia",
   "name": "julia-0.4"
  },
  "language_info": {
   "file_extension": ".jl",
   "mimetype": "application/julia",
   "name": "julia",
   "version": "0.4.6"
  }
 },
 "nbformat": 4,
 "nbformat_minor": 0
}
