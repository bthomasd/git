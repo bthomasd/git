{
 "cells": [
  {
   "cell_type": "code",
   "execution_count": 1,
   "metadata": {
    "collapsed": false
   },
   "outputs": [
    {
     "name": "stdout",
     "output_type": "stream",
     "text": [
      "\n"
     ]
    }
   ],
   "source": [
    "println()"
   ]
  },
  {
   "cell_type": "code",
   "execution_count": 2,
   "metadata": {
    "collapsed": false
   },
   "outputs": [
    {
     "name": "stdout",
     "output_type": "stream",
     "text": [
      "Hello you\n"
     ]
    }
   ],
   "source": [
    "println(\"Hello you\")"
   ]
  },
  {
   "cell_type": "code",
   "execution_count": 3,
   "metadata": {
    "collapsed": false
   },
   "outputs": [
    {
     "name": "stdout",
     "output_type": "stream",
     "text": [
      "What now\n"
     ]
    }
   ],
   "source": [
    "println(\"What now\")"
   ]
  },
  {
   "cell_type": "code",
   "execution_count": 4,
   "metadata": {
    "collapsed": false
   },
   "outputs": [
    {
     "name": "stdout",
     "output_type": "stream",
     "text": [
      "Hello! My word! Hello! My word! \n"
     ]
    }
   ],
   "source": [
    "println((\"Hello!\" * \" My word! \")^2)"
   ]
  },
  {
   "cell_type": "code",
   "execution_count": 1,
   "metadata": {
    "collapsed": true
   },
   "outputs": [],
   "source": [
    "# This is a comment"
   ]
  },
  {
   "cell_type": "code",
   "execution_count": 2,
   "metadata": {
    "collapsed": false
   },
   "outputs": [
    {
     "ename": "LoadError",
     "evalue": "LoadError: UndefVarError: count not defined\nwhile loading In[2], in expression starting on line 1",
     "output_type": "error",
     "traceback": [
      "LoadError: UndefVarError: count not defined\nwhile loading In[2], in expression starting on line 1",
      "",
      " [inlined code] from In[2]:2",
      " in anonymous at no file:0"
     ]
    }
   ],
   "source": [
    "for i in 1:3\n",
    "    return count += i\n",
    "end"
   ]
  },
  {
   "cell_type": "code",
   "execution_count": 3,
   "metadata": {
    "collapsed": false
   },
   "outputs": [
    {
     "ename": "LoadError",
     "evalue": "LoadError: UndefVarError: count not defined\nwhile loading In[3], in expression starting on line 1",
     "output_type": "error",
     "traceback": [
      "LoadError: UndefVarError: count not defined\nwhile loading In[3], in expression starting on line 1",
      "",
      " [inlined code] from In[3]:2",
      " in anonymous at no file:0"
     ]
    }
   ],
   "source": [
    "for i in 1:3\n",
    "    count += i\n",
    "    return count\n",
    "end"
   ]
  },
  {
   "cell_type": "code",
   "execution_count": 5,
   "metadata": {
    "collapsed": false
   },
   "outputs": [
    {
     "data": {
      "text/plain": [
       "3-element Array{Int64,1}:\n",
       " 4488203344\n",
       " 4480318032\n",
       " 4488203360"
      ]
     },
     "execution_count": 5,
     "metadata": {},
     "output_type": "execute_result"
    }
   ],
   "source": [
    "Array(Int64, 3)"
   ]
  },
  {
   "cell_type": "code",
   "execution_count": 7,
   "metadata": {
    "collapsed": false
   },
   "outputs": [
    {
     "data": {
      "text/plain": [
       "2-element Array{Int64,1}:\n",
       " 10\n",
       " 30"
      ]
     },
     "execution_count": 7,
     "metadata": {},
     "output_type": "execute_result"
    }
   ],
   "source": [
    "a = 10\n",
    "b = 30\n",
    "c = [a, b]"
   ]
  },
  {
   "cell_type": "code",
   "execution_count": 8,
   "metadata": {
    "collapsed": false
   },
   "outputs": [
    {
     "data": {
      "text/plain": [
       "2-element Array{Int64,1}:\n",
       " 10\n",
       " 30"
      ]
     },
     "execution_count": 8,
     "metadata": {},
     "output_type": "execute_result"
    }
   ],
   "source": [
    "c"
   ]
  },
  {
   "cell_type": "code",
   "execution_count": 9,
   "metadata": {
    "collapsed": false
   },
   "outputs": [
    {
     "data": {
      "text/plain": [
       "10"
      ]
     },
     "execution_count": 9,
     "metadata": {},
     "output_type": "execute_result"
    }
   ],
   "source": [
    "c[1] = 10"
   ]
  },
  {
   "cell_type": "code",
   "execution_count": 10,
   "metadata": {
    "collapsed": false
   },
   "outputs": [
    {
     "data": {
      "text/plain": [
       "10"
      ]
     },
     "execution_count": 10,
     "metadata": {},
     "output_type": "execute_result"
    }
   ],
   "source": [
    "a"
   ]
  },
  {
   "cell_type": "code",
   "execution_count": 11,
   "metadata": {
    "collapsed": false
   },
   "outputs": [
    {
     "data": {
      "text/plain": [
       "30"
      ]
     },
     "execution_count": 11,
     "metadata": {},
     "output_type": "execute_result"
    }
   ],
   "source": [
    "b"
   ]
  },
  {
   "cell_type": "code",
   "execution_count": 12,
   "metadata": {
    "collapsed": false
   },
   "outputs": [
    {
     "data": {
      "text/plain": [
       "40"
      ]
     },
     "execution_count": 12,
     "metadata": {},
     "output_type": "execute_result"
    }
   ],
   "source": [
    "c[2] = 40"
   ]
  },
  {
   "cell_type": "code",
   "execution_count": 13,
   "metadata": {
    "collapsed": false
   },
   "outputs": [
    {
     "data": {
      "text/plain": [
       "30"
      ]
     },
     "execution_count": 13,
     "metadata": {},
     "output_type": "execute_result"
    }
   ],
   "source": [
    "b"
   ]
  },
  {
   "cell_type": "code",
   "execution_count": 14,
   "metadata": {
    "collapsed": false
   },
   "outputs": [
    {
     "data": {
      "text/plain": [
       "2-element Array{Int64,1}:\n",
       " 10\n",
       " 40"
      ]
     },
     "execution_count": 14,
     "metadata": {},
     "output_type": "execute_result"
    }
   ],
   "source": [
    "c"
   ]
  },
  {
   "cell_type": "code",
   "execution_count": 15,
   "metadata": {
    "collapsed": false
   },
   "outputs": [
    {
     "name": "stdout",
     "output_type": "stream",
     "text": [
      "1\n",
      "2\n",
      "3\n"
     ]
    }
   ],
   "source": [
    "for i in 1:3\n",
    "    println(i)\n",
    "end"
   ]
  },
  {
   "cell_type": "code",
   "execution_count": 16,
   "metadata": {
    "collapsed": false
   },
   "outputs": [
    {
     "ename": "LoadError",
     "evalue": "LoadError: syntax: incomplete: \"for\" at In[16]:1 requires end\nwhile loading In[16], in expression starting on line 1",
     "output_type": "error",
     "traceback": [
      "LoadError: syntax: incomplete: \"for\" at In[16]:1 requires end\nwhile loading In[16], in expression starting on line 1",
      ""
     ]
    }
   ],
   "source": [
    "for i in 0:99\n",
    "    println(i)"
   ]
  },
  {
   "cell_type": "code",
   "execution_count": 17,
   "metadata": {
    "collapsed": false
   },
   "outputs": [
    {
     "data": {
      "text/plain": [
       "2x3 Array{Integer,2}:\n",
       " #undef  #undef  #undef\n",
       " #undef  #undef  #undef"
      ]
     },
     "execution_count": 17,
     "metadata": {},
     "output_type": "execute_result"
    }
   ],
   "source": [
    "Array(Integer, 2, 3)"
   ]
  },
  {
   "cell_type": "code",
   "execution_count": 18,
   "metadata": {
    "collapsed": false
   },
   "outputs": [
    {
     "data": {
      "text/plain": [
       "2x3 Array{Integer,2}:\n",
       " #undef  #undef  #undef\n",
       " #undef  #undef  #undef"
      ]
     },
     "execution_count": 18,
     "metadata": {},
     "output_type": "execute_result"
    }
   ],
   "source": [
    "abstypevar = Array(Integer, 2, 3)"
   ]
  },
  {
   "cell_type": "code",
   "execution_count": 20,
   "metadata": {
    "collapsed": false
   },
   "outputs": [
    {
     "data": {
      "text/plain": [
       "10"
      ]
     },
     "execution_count": 20,
     "metadata": {},
     "output_type": "execute_result"
    }
   ],
   "source": [
    "abstypevar[2, 1] = 10"
   ]
  },
  {
   "cell_type": "code",
   "execution_count": 21,
   "metadata": {
    "collapsed": false
   },
   "outputs": [
    {
     "data": {
      "text/plain": [
       "2x3 Array{Integer,2}:\n",
       " #undef  #undef  #undef\n",
       "  10     #undef  #undef"
      ]
     },
     "execution_count": 21,
     "metadata": {},
     "output_type": "execute_result"
    }
   ],
   "source": [
    "abstypevar"
   ]
  },
  {
   "cell_type": "code",
   "execution_count": 22,
   "metadata": {
    "collapsed": false
   },
   "outputs": [
    {
     "data": {
      "text/plain": [
       "5.0"
      ]
     },
     "execution_count": 22,
     "metadata": {},
     "output_type": "execute_result"
    }
   ],
   "source": [
    "abstypevar[1, 2] = 5.0"
   ]
  },
  {
   "cell_type": "code",
   "execution_count": 23,
   "metadata": {
    "collapsed": false
   },
   "outputs": [
    {
     "data": {
      "text/plain": [
       "2x3 Array{Integer,2}:\n",
       " #undef    5     #undef\n",
       "  10     #undef  #undef"
      ]
     },
     "execution_count": 23,
     "metadata": {},
     "output_type": "execute_result"
    }
   ],
   "source": [
    "abstypevar"
   ]
  },
  {
   "cell_type": "code",
   "execution_count": 24,
   "metadata": {
    "collapsed": false
   },
   "outputs": [
    {
     "ename": "LoadError",
     "evalue": "LoadError: MethodError: `convert` has no method matching convert(::Type{Integer}, ::ASCIIString)\nThis may have arisen from a call to the constructor Integer(...),\nsince type constructors fall back to convert methods.\nClosest candidates are:\n  call{T}(::Type{T}, ::Any)\n  convert(::Type{Integer}, !Matched::Integer)\n  convert{T<:Integer}(::Type{T<:Integer}, !Matched::Rational{T<:Integer})\n  ...\nwhile loading In[24], in expression starting on line 1",
     "output_type": "error",
     "traceback": [
      "LoadError: MethodError: `convert` has no method matching convert(::Type{Integer}, ::ASCIIString)\nThis may have arisen from a call to the constructor Integer(...),\nsince type constructors fall back to convert methods.\nClosest candidates are:\n  call{T}(::Type{T}, ::Any)\n  convert(::Type{Integer}, !Matched::Integer)\n  convert{T<:Integer}(::Type{T<:Integer}, !Matched::Rational{T<:Integer})\n  ...\nwhile loading In[24], in expression starting on line 1",
      "",
      " in setindex! at array.jl:315"
     ]
    }
   ],
   "source": [
    "abstypevar[2, 2] = \"string\""
   ]
  },
  {
   "cell_type": "code",
   "execution_count": 26,
   "metadata": {
    "collapsed": false
   },
   "outputs": [
    {
     "data": {
      "text/plain": [
       "3x3x3 Array{Int64,3}:\n",
       "[:, :, 1] =\n",
       " 0  0  0\n",
       " 0  0  0\n",
       " 0  0  0\n",
       "\n",
       "[:, :, 2] =\n",
       " 0  0  0\n",
       " 0  0  0\n",
       " 0  0  0\n",
       "\n",
       "[:, :, 3] =\n",
       " 0  0  0\n",
       " 0  0  0\n",
       " 0  0  0"
      ]
     },
     "execution_count": 26,
     "metadata": {},
     "output_type": "execute_result"
    }
   ],
   "source": [
    "Array(Int64, 3, 3, 3)"
   ]
  },
  {
   "cell_type": "code",
   "execution_count": 27,
   "metadata": {
    "collapsed": false
   },
   "outputs": [
    {
     "ename": "LoadError",
     "evalue": "LoadError: UndefVarError: x not defined\nwhile loading In[27], in expression starting on line 1",
     "output_type": "error",
     "traceback": [
      "LoadError: UndefVarError: x not defined\nwhile loading In[27], in expression starting on line 1",
      ""
     ]
    }
   ],
   "source": [
    "a = Array(Integer, x, y)"
   ]
  },
  {
   "cell_type": "code",
   "execution_count": 28,
   "metadata": {
    "collapsed": false
   },
   "outputs": [
    {
     "data": {
      "text/plain": [
       "11x12 Array{Int64,2}:\n",
       " 4453587344  4453587632  4453588496  …  4481764992  4479444432  0  0  0\n",
       " 4452943696  4453587728  4453588560     4479444080  4481765200  0  0  0\n",
       " 4452943712  4453587760  4479442160     4479444112  4481765216  0  0  0\n",
       " 4452943728  4453587856  4481764352     4481765024  4479444560  0  0  0\n",
       " 4452943744  4453587888  4479442192     4481765040  4479444592  0  0  0\n",
       " 4452943760  4453587984  4449475408  …  4481765056  4481765248  0  0  0\n",
       " 4452943776  4452943888  4449475472     4479444176  4481765264  0  0  0\n",
       " 4453587376  4452943904  4479442320     4479444208  4481765280  0  0  0\n",
       " 4453587472  4453588016  4479442384     4479444272  4479444688  0  0  0\n",
       " 4453587504  4453588112  4449575120     4479444304  4481765296  0  0  0\n",
       " 4453587600  4452943952  4449575184  …  4479444400           0  0  0  0"
      ]
     },
     "execution_count": 28,
     "metadata": {},
     "output_type": "execute_result"
    }
   ],
   "source": [
    "x = Array(Int64, 11, 12)"
   ]
  },
  {
   "cell_type": "code",
   "execution_count": 29,
   "metadata": {
    "collapsed": false
   },
   "outputs": [
    {
     "data": {
      "text/plain": [
       "Array{Int64,2}"
      ]
     },
     "execution_count": 29,
     "metadata": {},
     "output_type": "execute_result"
    }
   ],
   "source": [
    "typeof(x)"
   ]
  },
  {
   "cell_type": "code",
   "execution_count": 30,
   "metadata": {
    "collapsed": false
   },
   "outputs": [
    {
     "data": {
      "text/plain": [
       "1x2 Array{Int64,2}:\n",
       " 4376547656  4461129168"
      ]
     },
     "execution_count": 30,
     "metadata": {},
     "output_type": "execute_result"
    }
   ],
   "source": [
    "x = Array(Int64, 1, 2)"
   ]
  },
  {
   "cell_type": "code",
   "execution_count": 31,
   "metadata": {
    "collapsed": false
   },
   "outputs": [
    {
     "name": "stdout",
     "output_type": "stream",
     "text": [
      "Hello world!\n"
     ]
    }
   ],
   "source": [
    "greeting = \"Hello world!\"\n",
    "println(greeting)"
   ]
  },
  {
   "cell_type": "code",
   "execution_count": 32,
   "metadata": {
    "collapsed": false
   },
   "outputs": [
    {
     "data": {
      "text/plain": [
       "(0.9800665778412416,2.302585092994046,1.22)"
      ]
     },
     "execution_count": 32,
     "metadata": {},
     "output_type": "execute_result"
    }
   ],
   "source": [
    "a, b, c = cos(0.2), log(10), abs(-1.22)"
   ]
  },
  {
   "cell_type": "code",
   "execution_count": 33,
   "metadata": {
    "collapsed": false
   },
   "outputs": [
    {
     "data": {
      "text/plain": [
       "0.9800665778412416"
      ]
     },
     "execution_count": 33,
     "metadata": {},
     "output_type": "execute_result"
    }
   ],
   "source": [
    "a"
   ]
  },
  {
   "cell_type": "code",
   "execution_count": 34,
   "metadata": {
    "collapsed": false
   },
   "outputs": [
    {
     "data": {
      "text/plain": [
       "2.302585092994046"
      ]
     },
     "execution_count": 34,
     "metadata": {},
     "output_type": "execute_result"
    }
   ],
   "source": [
    "b"
   ]
  },
  {
   "cell_type": "code",
   "execution_count": 35,
   "metadata": {
    "collapsed": false
   },
   "outputs": [
    {
     "data": {
      "text/plain": [
       "1.22"
      ]
     },
     "execution_count": 35,
     "metadata": {},
     "output_type": "execute_result"
    }
   ],
   "source": [
    "c"
   ]
  },
  {
   "cell_type": "code",
   "execution_count": 36,
   "metadata": {
    "collapsed": true
   },
   "outputs": [],
   "source": [
    "# simultaneous assignment"
   ]
  },
  {
   "cell_type": "code",
   "execution_count": 38,
   "metadata": {
    "collapsed": false
   },
   "outputs": [
    {
     "data": {
      "text/plain": [
       "(1,3)"
      ]
     },
     "execution_count": 38,
     "metadata": {},
     "output_type": "execute_result"
    }
   ],
   "source": [
    "(a, b) = 1, 3"
   ]
  },
  {
   "cell_type": "code",
   "execution_count": 39,
   "metadata": {
    "collapsed": false
   },
   "outputs": [
    {
     "data": {
      "text/plain": [
       "(1,3)"
      ]
     },
     "execution_count": 39,
     "metadata": {},
     "output_type": "execute_result"
    }
   ],
   "source": [
    "c = (a, b)"
   ]
  },
  {
   "cell_type": "code",
   "execution_count": 40,
   "metadata": {
    "collapsed": false
   },
   "outputs": [
    {
     "data": {
      "text/plain": [
       "(1,3)"
      ]
     },
     "execution_count": 40,
     "metadata": {},
     "output_type": "execute_result"
    }
   ],
   "source": [
    "c"
   ]
  },
  {
   "cell_type": "code",
   "execution_count": 41,
   "metadata": {
    "collapsed": false
   },
   "outputs": [
    {
     "ename": "LoadError",
     "evalue": "LoadError: MethodError: `setindex!` has no method matching setindex!(::Tuple{Int64,Int64}, ::Int64, ::Int64)\nwhile loading In[41], in expression starting on line 1",
     "output_type": "error",
     "traceback": [
      "LoadError: MethodError: `setindex!` has no method matching setindex!(::Tuple{Int64,Int64}, ::Int64, ::Int64)\nwhile loading In[41], in expression starting on line 1",
      ""
     ]
    }
   ],
   "source": [
    "c[1] = 2"
   ]
  },
  {
   "cell_type": "code",
   "execution_count": 42,
   "metadata": {
    "collapsed": false
   },
   "outputs": [
    {
     "name": "stdout",
     "output_type": "stream",
     "text": [
      "1\n",
      "2\n",
      "3\n"
     ]
    }
   ],
   "source": [
    "for i in 1:3\n",
    "    println(i)\n",
    "end"
   ]
  },
  {
   "cell_type": "code",
   "execution_count": 43,
   "metadata": {
    "collapsed": false
   },
   "outputs": [
    {
     "data": {
      "text/plain": [
       "1:3"
      ]
     },
     "execution_count": 43,
     "metadata": {},
     "output_type": "execute_result"
    }
   ],
   "source": [
    "1:3"
   ]
  },
  {
   "cell_type": "code",
   "execution_count": 44,
   "metadata": {
    "collapsed": false
   },
   "outputs": [
    {
     "data": {
      "text/plain": [
       "1:3"
      ]
     },
     "execution_count": 44,
     "metadata": {},
     "output_type": "execute_result"
    }
   ],
   "source": [
    "a = 1:3"
   ]
  },
  {
   "cell_type": "code",
   "execution_count": 45,
   "metadata": {
    "collapsed": false
   },
   "outputs": [
    {
     "data": {
      "text/plain": [
       "1:3"
      ]
     },
     "execution_count": 45,
     "metadata": {},
     "output_type": "execute_result"
    }
   ],
   "source": [
    "a"
   ]
  },
  {
   "cell_type": "code",
   "execution_count": 46,
   "metadata": {
    "collapsed": true
   },
   "outputs": [],
   "source": [
    "?1:3"
   ]
  },
  {
   "cell_type": "code",
   "execution_count": 47,
   "metadata": {
    "collapsed": false
   },
   "outputs": [
    {
     "name": "stdout",
     "output_type": "stream",
     "text": [
      "search: schedule @schedule hankelh2 hankelh1 hankelh2x hankelh1x Channel\n",
      "\n"
     ]
    },
    {
     "data": {
      "text/markdown": [
       "**Welcome to Julia 0.4.6.** The full manual is available at\n",
       "\n",
       "```\n",
       "http://docs.julialang.org/\n",
       "```\n",
       "\n",
       "as well many great tutorials and learning resources:\n",
       "\n",
       "```\n",
       "http://julialang.org/learning/\n",
       "```\n",
       "\n",
       "For help on a specific function or macro, type `?` followed by its name, e.g. `?fft`, `?@time` or `?html`, and press enter.\n"
      ],
      "text/plain": [
       "**Welcome to Julia 0.4.6.** The full manual is available at\n",
       "\n",
       "```\n",
       "http://docs.julialang.org/\n",
       "```\n",
       "\n",
       "as well many great tutorials and learning resources:\n",
       "\n",
       "```\n",
       "http://julialang.org/learning/\n",
       "```\n",
       "\n",
       "For help on a specific function or macro, type `?` followed by its name, e.g. `?fft`, `?@time` or `?html`, and press enter.\n"
      ]
     },
     "execution_count": 47,
     "metadata": {},
     "output_type": "execute_result"
    }
   ],
   "source": [
    "?help"
   ]
  },
  {
   "cell_type": "code",
   "execution_count": 48,
   "metadata": {
    "collapsed": false
   },
   "outputs": [
    {
     "name": "stdout",
     "output_type": "stream",
     "text": [
      "search: fft fft! FFTW fftshift rfft ifft bfft ifft! bfft! ifftshift irfft brfft\n",
      "\n"
     ]
    },
    {
     "data": {
      "text/markdown": [
       "```\n",
       "fft(A [, dims])\n",
       "```\n",
       "\n",
       "Performs a multidimensional FFT of the array `A`.  The optional `dims` argument specifies an iterable subset of dimensions (e.g. an integer, range, tuple, or array) to transform along.  Most efficient if the size of `A` along the transformed dimensions is a product of small primes; see `nextprod()`.  See also `plan_fft()` for even greater efficiency.\n",
       "\n",
       "A one-dimensional FFT computes the one-dimensional discrete Fourier transform (DFT) as defined by\n",
       "\n",
       "$\\operatorname{DFT}(A)[k] =\n",
       "  \\sum_{n=1}^{\\operatorname{length}(A)}\n",
       "  \\exp\\left(-i\\frac{2\\pi\n",
       "  (n-1)(k-1)}{\\operatorname{length}(A)} \\right) A[n].$\n",
       "A multidimensional FFT simply performs this operation along each transformed dimension of `A`.\n",
       "\n",
       "Higher performance is usually possible with multi-threading. Use `FFTW.set_num_threads(np)` to use `np` threads, if you have `np` processors.\n"
      ],
      "text/plain": [
       "```\n",
       "fft(A [, dims])\n",
       "```\n",
       "\n",
       "Performs a multidimensional FFT of the array `A`.  The optional `dims` argument specifies an iterable subset of dimensions (e.g. an integer, range, tuple, or array) to transform along.  Most efficient if the size of `A` along the transformed dimensions is a product of small primes; see `nextprod()`.  See also `plan_fft()` for even greater efficiency.\n",
       "\n",
       "A one-dimensional FFT computes the one-dimensional discrete Fourier transform (DFT) as defined by\n",
       "\n",
       "$\\operatorname{DFT}(A)[k] =\n",
       "  \\sum_{n=1}^{\\operatorname{length}(A)}\n",
       "  \\exp\\left(-i\\frac{2\\pi\n",
       "  (n-1)(k-1)}{\\operatorname{length}(A)} \\right) A[n].$\n",
       "A multidimensional FFT simply performs this operation along each transformed dimension of `A`.\n",
       "\n",
       "Higher performance is usually possible with multi-threading. Use `FFTW.set_num_threads(np)` to use `np` threads, if you have `np` processors.\n"
      ]
     },
     "execution_count": 48,
     "metadata": {},
     "output_type": "execute_result"
    }
   ],
   "source": [
    "?fft"
   ]
  },
  {
   "cell_type": "code",
   "execution_count": 49,
   "metadata": {
    "collapsed": false
   },
   "outputs": [
    {
     "ename": "LoadError",
     "evalue": "LoadError: syntax: \"\\\" is not a unary operator\nwhile loading In[49], in expression starting on line 1",
     "output_type": "error",
     "traceback": [
      "LoadError: syntax: \"\\\" is not a unary operator\nwhile loading In[49], in expression starting on line 1",
      ""
     ]
    }
   ],
   "source": [
    "\\sigma"
   ]
  },
  {
   "cell_type": "code",
   "execution_count": 50,
   "metadata": {
    "collapsed": false
   },
   "outputs": [
    {
     "ename": "LoadError",
     "evalue": "LoadError: UndefVarError: v not defined\nwhile loading In[50], in expression starting on line 1",
     "output_type": "error",
     "traceback": [
      "LoadError: UndefVarError: v not defined\nwhile loading In[50], in expression starting on line 1",
      ""
     ]
    }
   ],
   "source": [
    "hist(v, e)"
   ]
  },
  {
   "cell_type": "code",
   "execution_count": 51,
   "metadata": {
    "collapsed": false
   },
   "outputs": [
    {
     "ename": "LoadError",
     "evalue": "LoadError: syntax: \"hist(v,e)\" is not a valid function argument name\nwhile loading In[51], in expression starting on line 1",
     "output_type": "error",
     "traceback": [
      "LoadError: syntax: \"hist(v,e)\" is not a valid function argument name\nwhile loading In[51], in expression starting on line 1",
      ""
     ]
    }
   ],
   "source": [
    "hist(v, e) -> e, counts"
   ]
  },
  {
   "cell_type": "code",
   "execution_count": 52,
   "metadata": {
    "collapsed": false
   },
   "outputs": [
    {
     "name": "stdout",
     "output_type": "stream",
     "text": [
      "search: size sizeof sizehint sizehint! Csize_t resize! filesize Cssize_t\n",
      "\n"
     ]
    },
    {
     "data": {
      "text/markdown": [
       "```\n",
       "size(A, [dim...])\n",
       "```\n",
       "\n",
       "Returns a tuple containing the dimensions of `A`. Optionally you can specify the dimension(s) you want the length of, and get the length of that dimension, or a tuple of the lengths of dimensions you asked for.:\n",
       "\n",
       "```\n",
       "julia> A = rand(2,3,4);\n",
       "\n",
       "julia> size(A, 2)\n",
       "3\n",
       "\n",
       "julia> size(A,3,2)\n",
       "(4,3)\n",
       "```\n"
      ],
      "text/plain": [
       "```\n",
       "size(A, [dim...])\n",
       "```\n",
       "\n",
       "Returns a tuple containing the dimensions of `A`. Optionally you can specify the dimension(s) you want the length of, and get the length of that dimension, or a tuple of the lengths of dimensions you asked for.:\n",
       "\n",
       "```\n",
       "julia> A = rand(2,3,4);\n",
       "\n",
       "julia> size(A, 2)\n",
       "3\n",
       "\n",
       "julia> size(A,3,2)\n",
       "(4,3)\n",
       "```\n"
      ]
     },
     "execution_count": 52,
     "metadata": {},
     "output_type": "execute_result"
    }
   ],
   "source": [
    "?size"
   ]
  },
  {
   "cell_type": "code",
   "execution_count": 53,
   "metadata": {
    "collapsed": false
   },
   "outputs": [
    {
     "data": {
      "text/plain": [
       "2x3x4 Array{Float64,3}:\n",
       "[:, :, 1] =\n",
       " 0.659426  0.033175  0.114121\n",
       " 0.942717  0.655427  0.78304 \n",
       "\n",
       "[:, :, 2] =\n",
       " 0.972625  0.27942   0.67802 \n",
       " 0.213895  0.996578  0.389537\n",
       "\n",
       "[:, :, 3] =\n",
       " 0.973151  0.486001  0.672392\n",
       " 0.369403  0.313928  0.883718\n",
       "\n",
       "[:, :, 4] =\n",
       " 0.517612  0.238876   0.365995 \n",
       " 0.138907  0.0880727  0.0723334"
      ]
     },
     "execution_count": 53,
     "metadata": {},
     "output_type": "execute_result"
    }
   ],
   "source": [
    "a = rand(2,3,4)"
   ]
  },
  {
   "cell_type": "code",
   "execution_count": 54,
   "metadata": {
    "collapsed": false
   },
   "outputs": [
    {
     "ename": "LoadError",
     "evalue": "LoadError: UndefVarError: A not defined\nwhile loading In[54], in expression starting on line 1",
     "output_type": "error",
     "traceback": [
      "LoadError: UndefVarError: A not defined\nwhile loading In[54], in expression starting on line 1",
      ""
     ]
    }
   ],
   "source": [
    "size(A, 2)"
   ]
  },
  {
   "cell_type": "code",
   "execution_count": 55,
   "metadata": {
    "collapsed": false
   },
   "outputs": [
    {
     "ename": "LoadError",
     "evalue": "LoadError: UndefVarError: A not defined\nwhile loading In[55], in expression starting on line 1",
     "output_type": "error",
     "traceback": [
      "LoadError: UndefVarError: A not defined\nwhile loading In[55], in expression starting on line 1",
      ""
     ]
    }
   ],
   "source": [
    "size(A)"
   ]
  },
  {
   "cell_type": "code",
   "execution_count": 56,
   "metadata": {
    "collapsed": false
   },
   "outputs": [
    {
     "data": {
      "text/plain": [
       "(2,3,4)"
      ]
     },
     "execution_count": 56,
     "metadata": {},
     "output_type": "execute_result"
    }
   ],
   "source": [
    "size(a)"
   ]
  },
  {
   "cell_type": "code",
   "execution_count": 57,
   "metadata": {
    "collapsed": false
   },
   "outputs": [
    {
     "data": {
      "text/plain": [
       "3"
      ]
     },
     "execution_count": 57,
     "metadata": {},
     "output_type": "execute_result"
    }
   ],
   "source": [
    "size(a, 2)"
   ]
  },
  {
   "cell_type": "code",
   "execution_count": 58,
   "metadata": {
    "collapsed": false
   },
   "outputs": [
    {
     "data": {
      "text/plain": [
       "0.6989700043360189"
      ]
     },
     "execution_count": 58,
     "metadata": {},
     "output_type": "execute_result"
    }
   ],
   "source": [
    "log10(5)"
   ]
  },
  {
   "cell_type": "code",
   "execution_count": 59,
   "metadata": {
    "collapsed": false
   },
   "outputs": [
    {
     "data": {
      "text/plain": [
       "7.38905609893065"
      ]
     },
     "execution_count": 59,
     "metadata": {},
     "output_type": "execute_result"
    }
   ],
   "source": [
    "exp(2)"
   ]
  },
  {
   "cell_type": "code",
   "execution_count": 60,
   "metadata": {
    "collapsed": false
   },
   "outputs": [
    {
     "data": {
      "text/plain": [
       "2.718281828459045"
      ]
     },
     "execution_count": 60,
     "metadata": {},
     "output_type": "execute_result"
    }
   ],
   "source": [
    "exp(1)"
   ]
  },
  {
   "cell_type": "code",
   "execution_count": 61,
   "metadata": {
    "collapsed": false
   },
   "outputs": [
    {
     "data": {
      "text/plain": [
       "e = 2.7182818284590..."
      ]
     },
     "execution_count": 61,
     "metadata": {},
     "output_type": "execute_result"
    }
   ],
   "source": [
    "e"
   ]
  },
  {
   "cell_type": "code",
   "execution_count": 62,
   "metadata": {
    "collapsed": false
   },
   "outputs": [
    {
     "data": {
      "text/plain": [
       "-0.8390715290764524"
      ]
     },
     "execution_count": 62,
     "metadata": {},
     "output_type": "execute_result"
    }
   ],
   "source": [
    "cos(10)"
   ]
  },
  {
   "cell_type": "code",
   "execution_count": 63,
   "metadata": {
    "collapsed": false
   },
   "outputs": [
    {
     "ename": "LoadError",
     "evalue": "LoadError: DomainError:\nwhile loading In[63], in expression starting on line 1",
     "output_type": "error",
     "traceback": [
      "LoadError: DomainError:\nwhile loading In[63], in expression starting on line 1",
      "",
      " in acos at math.jl:139"
     ]
    }
   ],
   "source": [
    "acos(10)"
   ]
  },
  {
   "cell_type": "code",
   "execution_count": 64,
   "metadata": {
    "collapsed": false
   },
   "outputs": [
    {
     "ename": "LoadError",
     "evalue": "LoadError: DomainError:\nwhile loading In[64], in expression starting on line 1",
     "output_type": "error",
     "traceback": [
      "LoadError: DomainError:\nwhile loading In[64], in expression starting on line 1",
      "",
      " in acos at math.jl:137"
     ]
    }
   ],
   "source": [
    "acos(sqrt(2))"
   ]
  },
  {
   "cell_type": "code",
   "execution_count": 65,
   "metadata": {
    "collapsed": false
   },
   "outputs": [
    {
     "data": {
      "text/plain": [
       "0.7853981633974483"
      ]
     },
     "execution_count": 65,
     "metadata": {},
     "output_type": "execute_result"
    }
   ],
   "source": [
    "acos(sqrt(2)/2)"
   ]
  },
  {
   "cell_type": "code",
   "execution_count": 66,
   "metadata": {
    "collapsed": false
   },
   "outputs": [
    {
     "data": {
      "text/plain": [
       "1.0038848218538872"
      ]
     },
     "execution_count": 66,
     "metadata": {},
     "output_type": "execute_result"
    }
   ],
   "source": [
    "atan(π/2)"
   ]
  },
  {
   "cell_type": "code",
   "execution_count": 67,
   "metadata": {
    "collapsed": false
   },
   "outputs": [
    {
     "data": {
      "text/plain": [
       "π = 3.1415926535897..."
      ]
     },
     "execution_count": 67,
     "metadata": {},
     "output_type": "execute_result"
    }
   ],
   "source": [
    "pi"
   ]
  },
  {
   "cell_type": "code",
   "execution_count": 68,
   "metadata": {
    "collapsed": false
   },
   "outputs": [
    {
     "ename": "LoadError",
     "evalue": "LoadError: syntax: \"\\\" is not a unary operator\nwhile loading In[68], in expression starting on line 1",
     "output_type": "error",
     "traceback": [
      "LoadError: syntax: \"\\\" is not a unary operator\nwhile loading In[68], in expression starting on line 1",
      ""
     ]
    }
   ],
   "source": [
    "\\pi"
   ]
  },
  {
   "cell_type": "code",
   "execution_count": 69,
   "metadata": {
    "collapsed": false
   },
   "outputs": [
    {
     "data": {
      "text/plain": [
       "2.0"
      ]
     },
     "execution_count": 69,
     "metadata": {},
     "output_type": "execute_result"
    }
   ],
   "source": [
    "floor(2.34)"
   ]
  },
  {
   "cell_type": "code",
   "execution_count": 70,
   "metadata": {
    "collapsed": false
   },
   "outputs": [
    {
     "ename": "LoadError",
     "evalue": "LoadError: MethodError: `rem` has no method matching rem(::Float64)\nClosest candidates are:\n  rem(::Float64, !Matched::Float64)\n  rem{T<:Real}(::T<:Real, !Matched::T<:Real)\n  rem(::Real, !Matched::Real)\n  ...\nwhile loading In[70], in expression starting on line 1",
     "output_type": "error",
     "traceback": [
      "LoadError: MethodError: `rem` has no method matching rem(::Float64)\nClosest candidates are:\n  rem(::Float64, !Matched::Float64)\n  rem{T<:Real}(::T<:Real, !Matched::T<:Real)\n  rem(::Real, !Matched::Real)\n  ...\nwhile loading In[70], in expression starting on line 1",
      ""
     ]
    }
   ],
   "source": [
    "rem(20/40)"
   ]
  },
  {
   "cell_type": "code",
   "execution_count": 71,
   "metadata": {
    "collapsed": false
   },
   "outputs": [
    {
     "name": "stdout",
     "output_type": "stream",
     "text": [
      "search: dawson\n",
      "\n"
     ]
    },
    {
     "data": {
      "text/markdown": [
       "```\n",
       "dawson(x)\n",
       "```\n",
       "\n",
       "Compute the Dawson function (scaled imaginary error function) of `x`, defined by $\\frac{\\sqrt{\\pi}}{2} e^{-x^2} \\operatorname{erfi}(x)$.\n"
      ],
      "text/plain": [
       "```\n",
       "dawson(x)\n",
       "```\n",
       "\n",
       "Compute the Dawson function (scaled imaginary error function) of `x`, defined by $\\frac{\\sqrt{\\pi}}{2} e^{-x^2} \\operatorname{erfi}(x)$.\n"
      ]
     },
     "execution_count": 71,
     "metadata": {},
     "output_type": "execute_result"
    }
   ],
   "source": [
    "?dawson"
   ]
  },
  {
   "cell_type": "code",
   "execution_count": 72,
   "metadata": {
    "collapsed": false
   },
   "outputs": [
    {
     "name": "stdout",
     "output_type": "stream",
     "text": [
      "search: div divrem DivideError A_rdiv_Bt A_rdiv_Bc A_ldiv_Bt A_ldiv_Bc A_ldiv_B!\n",
      "\n"
     ]
    },
    {
     "data": {
      "text/markdown": [
       "```\n",
       "div(x, y)\n",
       "÷(x, y)\n",
       "```\n",
       "\n",
       "The quotient from Euclidean division. Computes `x/y`, truncated to an integer.\n"
      ],
      "text/plain": [
       "```\n",
       "div(x, y)\n",
       "÷(x, y)\n",
       "```\n",
       "\n",
       "The quotient from Euclidean division. Computes `x/y`, truncated to an integer.\n"
      ]
     },
     "execution_count": 72,
     "metadata": {},
     "output_type": "execute_result"
    }
   ],
   "source": [
    "?div"
   ]
  },
  {
   "cell_type": "code",
   "execution_count": 73,
   "metadata": {
    "collapsed": false
   },
   "outputs": [
    {
     "data": {
      "text/plain": [
       "33"
      ]
     },
     "execution_count": 73,
     "metadata": {},
     "output_type": "execute_result"
    }
   ],
   "source": [
    "x = 10\n",
    "y = 33"
   ]
  },
  {
   "cell_type": "code",
   "execution_count": 74,
   "metadata": {
    "collapsed": false
   },
   "outputs": [
    {
     "data": {
      "text/plain": [
       "0"
      ]
     },
     "execution_count": 74,
     "metadata": {},
     "output_type": "execute_result"
    }
   ],
   "source": [
    "div(x, y)"
   ]
  },
  {
   "cell_type": "code",
   "execution_count": 75,
   "metadata": {
    "collapsed": false
   },
   "outputs": [
    {
     "data": {
      "text/plain": [
       "10"
      ]
     },
     "execution_count": 75,
     "metadata": {},
     "output_type": "execute_result"
    }
   ],
   "source": [
    "rem(x, y)"
   ]
  },
  {
   "cell_type": "code",
   "execution_count": 76,
   "metadata": {
    "collapsed": false
   },
   "outputs": [
    {
     "data": {
      "text/plain": [
       "3"
      ]
     },
     "execution_count": 76,
     "metadata": {},
     "output_type": "execute_result"
    }
   ],
   "source": [
    "rem(y, x)"
   ]
  },
  {
   "cell_type": "code",
   "execution_count": 77,
   "metadata": {
    "collapsed": false
   },
   "outputs": [
    {
     "name": "stdout",
     "output_type": "stream",
     "text": [
      "search: % .%\n",
      "\n"
     ]
    },
    {
     "data": {
      "text/markdown": [
       "```\n",
       "rem(x, y)\n",
       "%(x, y)\n",
       "```\n",
       "\n",
       "Remainder from Euclidean division, returning a value of the same sign as `x`, and smaller in magnitude than `y`. This value is always exact.\n"
      ],
      "text/plain": [
       "```\n",
       "rem(x, y)\n",
       "%(x, y)\n",
       "```\n",
       "\n",
       "Remainder from Euclidean division, returning a value of the same sign as `x`, and smaller in magnitude than `y`. This value is always exact.\n"
      ]
     },
     "execution_count": 77,
     "metadata": {},
     "output_type": "execute_result"
    }
   ],
   "source": [
    "?%"
   ]
  },
  {
   "cell_type": "code",
   "execution_count": 78,
   "metadata": {
    "collapsed": false
   },
   "outputs": [
    {
     "data": {
      "text/plain": [
       "10"
      ]
     },
     "execution_count": 78,
     "metadata": {},
     "output_type": "execute_result"
    }
   ],
   "source": [
    "10 % 39"
   ]
  },
  {
   "cell_type": "code",
   "execution_count": 79,
   "metadata": {
    "collapsed": false
   },
   "outputs": [
    {
     "data": {
      "text/plain": [
       "1"
      ]
     },
     "execution_count": 79,
     "metadata": {},
     "output_type": "execute_result"
    }
   ],
   "source": [
    "40 % 39"
   ]
  },
  {
   "cell_type": "code",
   "execution_count": 80,
   "metadata": {
    "collapsed": false
   },
   "outputs": [
    {
     "data": {
      "text/html": [
       "5 methods for generic function <b>muladd</b>:<ul><li> muladd(x::<b>Float32</b>, y::<b>Float32</b>, z::<b>Float32</b>) at <a href=\"https://github.com/JuliaLang/julia/tree/2e358ce975029ec97aba5994c17d4a2169c3b085/base/float.jl#L216\" target=\"_blank\">float.jl:216</a><li> muladd(x::<b>Float64</b>, y::<b>Float64</b>, z::<b>Float64</b>) at <a href=\"https://github.com/JuliaLang/julia/tree/2e358ce975029ec97aba5994c17d4a2169c3b085/base/float.jl#L217\" target=\"_blank\">float.jl:217</a><li> muladd(a::<b>Float16</b>, b::<b>Float16</b>, c::<b>Float16</b>) at <a href=\"https://github.com/JuliaLang/julia/tree/2e358ce975029ec97aba5994c17d4a2169c3b085/base/float16.jl#L142\" target=\"_blank\">float16.jl:142</a><li> muladd<i>{T<:Number}</i>(x::<b>T<:Number</b>, y::<b>T<:Number</b>, z::<b>T<:Number</b>) at <a href=\"https://github.com/JuliaLang/julia/tree/2e358ce975029ec97aba5994c17d4a2169c3b085/base/promotion.jl#L219\" target=\"_blank\">promotion.jl:219</a><li> muladd(x::<b>Number</b>, y::<b>Number</b>, z::<b>Number</b>) at <a href=\"https://github.com/JuliaLang/julia/tree/2e358ce975029ec97aba5994c17d4a2169c3b085/base/promotion.jl#L174\" target=\"_blank\">promotion.jl:174</a></ul>"
      ],
      "text/plain": [
       "# 5 methods for generic function \"muladd\":\n",
       "muladd(x::Float32, y::Float32, z::Float32) at float.jl:216\n",
       "muladd(x::Float64, y::Float64, z::Float64) at float.jl:217\n",
       "muladd(a::Float16, b::Float16, c::Float16) at float16.jl:142\n",
       "muladd{T<:Number}(x::T<:Number, y::T<:Number, z::T<:Number) at promotion.jl:219\n",
       "muladd(x::Number, y::Number, z::Number) at promotion.jl:174"
      ]
     },
     "execution_count": 80,
     "metadata": {},
     "output_type": "execute_result"
    }
   ],
   "source": [
    "methods(muladd)"
   ]
  },
  {
   "cell_type": "code",
   "execution_count": 81,
   "metadata": {
    "collapsed": false
   },
   "outputs": [
    {
     "data": {
      "text/html": [
       "131 methods for generic function <b>rem</b>:<ul><li> rem(x::<b>Bool</b>, y::<b>Bool</b>) at <a href=\"https://github.com/JuliaLang/julia/tree/2e358ce975029ec97aba5994c17d4a2169c3b085/base/bool.jl#L60\" target=\"_blank\">bool.jl:60</a><li> rem(x::<b>Signed</b>, y::<b>Unsigned</b>) at <a href=\"https://github.com/JuliaLang/julia/tree/2e358ce975029ec97aba5994c17d4a2169c3b085/base/int.jl#L60\" target=\"_blank\">int.jl:60</a><li> rem(x::<b>Unsigned</b>, y::<b>Signed</b>) at <a href=\"https://github.com/JuliaLang/julia/tree/2e358ce975029ec97aba5994c17d4a2169c3b085/base/int.jl#L61\" target=\"_blank\">int.jl:61</a><li> rem(x::<b>Int8</b>, y::<b>Int8</b>) at <a href=\"https://github.com/JuliaLang/julia/tree/2e358ce975029ec97aba5994c17d4a2169c3b085/base/int.jl#L80\" target=\"_blank\">int.jl:80</a><li> rem(x::<b>Int16</b>, y::<b>Int16</b>) at <a href=\"https://github.com/JuliaLang/julia/tree/2e358ce975029ec97aba5994c17d4a2169c3b085/base/int.jl#L80\" target=\"_blank\">int.jl:80</a><li> rem(x::<b>Int32</b>, y::<b>Int32</b>) at <a href=\"https://github.com/JuliaLang/julia/tree/2e358ce975029ec97aba5994c17d4a2169c3b085/base/int.jl#L80\" target=\"_blank\">int.jl:80</a><li> rem(x::<b>Int64</b>, y::<b>Int64</b>) at <a href=\"https://github.com/JuliaLang/julia/tree/2e358ce975029ec97aba5994c17d4a2169c3b085/base/int.jl#L80\" target=\"_blank\">int.jl:80</a><li> rem(x::<b>UInt8</b>, y::<b>UInt8</b>) at <a href=\"https://github.com/JuliaLang/julia/tree/2e358ce975029ec97aba5994c17d4a2169c3b085/base/int.jl#L85\" target=\"_blank\">int.jl:85</a><li> rem(x::<b>UInt16</b>, y::<b>UInt16</b>) at <a href=\"https://github.com/JuliaLang/julia/tree/2e358ce975029ec97aba5994c17d4a2169c3b085/base/int.jl#L85\" target=\"_blank\">int.jl:85</a><li> rem(x::<b>UInt32</b>, y::<b>UInt32</b>) at <a href=\"https://github.com/JuliaLang/julia/tree/2e358ce975029ec97aba5994c17d4a2169c3b085/base/int.jl#L85\" target=\"_blank\">int.jl:85</a><li> rem(x::<b>UInt64</b>, y::<b>UInt64</b>) at <a href=\"https://github.com/JuliaLang/julia/tree/2e358ce975029ec97aba5994c17d4a2169c3b085/base/int.jl#L85\" target=\"_blank\">int.jl:85</a><li> rem(x::<b>Int128</b>, y::<b>Int128</b>) at <a href=\"https://github.com/JuliaLang/julia/tree/2e358ce975029ec97aba5994c17d4a2169c3b085/base/int.jl#L462\" target=\"_blank\">int.jl:462</a><li> rem(x::<b>UInt128</b>, y::<b>UInt128</b>) at <a href=\"https://github.com/JuliaLang/julia/tree/2e358ce975029ec97aba5994c17d4a2169c3b085/base/int.jl#L463\" target=\"_blank\">int.jl:463</a><li> rem(x::<b>Float32</b>, y::<b>Float32</b>) at <a href=\"https://github.com/JuliaLang/julia/tree/2e358ce975029ec97aba5994c17d4a2169c3b085/base/float.jl#L222\" target=\"_blank\">float.jl:222</a><li> rem(x::<b>Float64</b>, y::<b>Float64</b>) at <a href=\"https://github.com/JuliaLang/julia/tree/2e358ce975029ec97aba5994c17d4a2169c3b085/base/float.jl#L223\" target=\"_blank\">float.jl:223</a><li> rem(x::<b>Rational{T<:Integer}</b>, y::<b>Rational{T<:Integer}</b>) at <a href=\"https://github.com/JuliaLang/julia/tree/2e358ce975029ec97aba5994c17d4a2169c3b085/base/rational.jl#L179\" target=\"_blank\">rational.jl:179</a><li> rem(a::<b>Float16</b>, b::<b>Float16</b>) at <a href=\"https://github.com/JuliaLang/julia/tree/2e358ce975029ec97aba5994c17d4a2169c3b085/base/float16.jl#L157\" target=\"_blank\">float16.jl:157</a><li> rem(x::<b>BigInt</b>, y::<b>BigInt</b>) at <a href=\"https://github.com/JuliaLang/julia/tree/2e358ce975029ec97aba5994c17d4a2169c3b085/base/gmp.jl#L256\" target=\"_blank\">gmp.jl:256</a><li> rem(x::<b>BigFloat</b>, y::<b>BigFloat</b>) at <a href=\"https://github.com/JuliaLang/julia/tree/2e358ce975029ec97aba5994c17d4a2169c3b085/base/mpfr.jl#L593\" target=\"_blank\">mpfr.jl:593</a><li> rem<i>{T<:Real}</i>(x::<b>T<:Real</b>, y::<b>T<:Real</b>) at <a href=\"https://github.com/JuliaLang/julia/tree/2e358ce975029ec97aba5994c17d4a2169c3b085/base/promotion.jl#L232\" target=\"_blank\">promotion.jl:232</a><li> rem(x::<b>Real</b>, y::<b>Real</b>) at <a href=\"https://github.com/JuliaLang/julia/tree/2e358ce975029ec97aba5994c17d4a2169c3b085/base/promotion.jl#L187\" target=\"_blank\">promotion.jl:187</a><li> rem(x::<b>UInt8</b>, ::<b>Type{Int8}</b>) at <a href=\"https://github.com/JuliaLang/julia/tree/2e358ce975029ec97aba5994c17d4a2169c3b085/base/int.jl#L197\" target=\"_blank\">int.jl:197</a><li> rem(x::<b>Int16</b>, ::<b>Type{Int8}</b>) at <a href=\"https://github.com/JuliaLang/julia/tree/2e358ce975029ec97aba5994c17d4a2169c3b085/base/int.jl#L177\" target=\"_blank\">int.jl:177</a><li> rem(x::<b>UInt16</b>, ::<b>Type{Int8}</b>) at <a href=\"https://github.com/JuliaLang/julia/tree/2e358ce975029ec97aba5994c17d4a2169c3b085/base/int.jl#L177\" target=\"_blank\">int.jl:177</a><li> rem(x::<b>Int32</b>, ::<b>Type{Int8}</b>) at <a href=\"https://github.com/JuliaLang/julia/tree/2e358ce975029ec97aba5994c17d4a2169c3b085/base/int.jl#L177\" target=\"_blank\">int.jl:177</a><li> rem(x::<b>UInt32</b>, ::<b>Type{Int8}</b>) at <a href=\"https://github.com/JuliaLang/julia/tree/2e358ce975029ec97aba5994c17d4a2169c3b085/base/int.jl#L177\" target=\"_blank\">int.jl:177</a><li> rem(x::<b>Int64</b>, ::<b>Type{Int8}</b>) at <a href=\"https://github.com/JuliaLang/julia/tree/2e358ce975029ec97aba5994c17d4a2169c3b085/base/int.jl#L177\" target=\"_blank\">int.jl:177</a><li> rem(x::<b>UInt64</b>, ::<b>Type{Int8}</b>) at <a href=\"https://github.com/JuliaLang/julia/tree/2e358ce975029ec97aba5994c17d4a2169c3b085/base/int.jl#L177\" target=\"_blank\">int.jl:177</a><li> rem(x::<b>Int128</b>, ::<b>Type{Int8}</b>) at <a href=\"https://github.com/JuliaLang/julia/tree/2e358ce975029ec97aba5994c17d4a2169c3b085/base/int.jl#L177\" target=\"_blank\">int.jl:177</a><li> rem(x::<b>UInt128</b>, ::<b>Type{Int8}</b>) at <a href=\"https://github.com/JuliaLang/julia/tree/2e358ce975029ec97aba5994c17d4a2169c3b085/base/int.jl#L177\" target=\"_blank\">int.jl:177</a><li> rem(x::<b>Bool</b>, ::<b>Type{Int8}</b>) at <a href=\"https://github.com/JuliaLang/julia/tree/2e358ce975029ec97aba5994c17d4a2169c3b085/base/int.jl#L188\" target=\"_blank\">int.jl:188</a><li> rem(x::<b>Int8</b>, ::<b>Type{UInt8}</b>) at <a href=\"https://github.com/JuliaLang/julia/tree/2e358ce975029ec97aba5994c17d4a2169c3b085/base/int.jl#L197\" target=\"_blank\">int.jl:197</a><li> rem(x::<b>Int16</b>, ::<b>Type{UInt8}</b>) at <a href=\"https://github.com/JuliaLang/julia/tree/2e358ce975029ec97aba5994c17d4a2169c3b085/base/int.jl#L177\" target=\"_blank\">int.jl:177</a><li> rem(x::<b>UInt16</b>, ::<b>Type{UInt8}</b>) at <a href=\"https://github.com/JuliaLang/julia/tree/2e358ce975029ec97aba5994c17d4a2169c3b085/base/int.jl#L177\" target=\"_blank\">int.jl:177</a><li> rem(x::<b>Int32</b>, ::<b>Type{UInt8}</b>) at <a href=\"https://github.com/JuliaLang/julia/tree/2e358ce975029ec97aba5994c17d4a2169c3b085/base/int.jl#L177\" target=\"_blank\">int.jl:177</a><li> rem(x::<b>UInt32</b>, ::<b>Type{UInt8}</b>) at <a href=\"https://github.com/JuliaLang/julia/tree/2e358ce975029ec97aba5994c17d4a2169c3b085/base/int.jl#L177\" target=\"_blank\">int.jl:177</a><li> rem(x::<b>Int64</b>, ::<b>Type{UInt8}</b>) at <a href=\"https://github.com/JuliaLang/julia/tree/2e358ce975029ec97aba5994c17d4a2169c3b085/base/int.jl#L177\" target=\"_blank\">int.jl:177</a><li> rem(x::<b>UInt64</b>, ::<b>Type{UInt8}</b>) at <a href=\"https://github.com/JuliaLang/julia/tree/2e358ce975029ec97aba5994c17d4a2169c3b085/base/int.jl#L177\" target=\"_blank\">int.jl:177</a><li> rem(x::<b>Int128</b>, ::<b>Type{UInt8}</b>) at <a href=\"https://github.com/JuliaLang/julia/tree/2e358ce975029ec97aba5994c17d4a2169c3b085/base/int.jl#L177\" target=\"_blank\">int.jl:177</a><li> rem(x::<b>UInt128</b>, ::<b>Type{UInt8}</b>) at <a href=\"https://github.com/JuliaLang/julia/tree/2e358ce975029ec97aba5994c17d4a2169c3b085/base/int.jl#L177\" target=\"_blank\">int.jl:177</a><li> rem(x::<b>Bool</b>, ::<b>Type{UInt8}</b>) at <a href=\"https://github.com/JuliaLang/julia/tree/2e358ce975029ec97aba5994c17d4a2169c3b085/base/int.jl#L188\" target=\"_blank\">int.jl:188</a><li> rem(x::<b>Int8</b>, ::<b>Type{Int16}</b>) at <a href=\"https://github.com/JuliaLang/julia/tree/2e358ce975029ec97aba5994c17d4a2169c3b085/base/int.jl#L185\" target=\"_blank\">int.jl:185</a><li> rem(x::<b>UInt8</b>, ::<b>Type{Int16}</b>) at <a href=\"https://github.com/JuliaLang/julia/tree/2e358ce975029ec97aba5994c17d4a2169c3b085/base/int.jl#L188\" target=\"_blank\">int.jl:188</a><li> rem(x::<b>UInt16</b>, ::<b>Type{Int16}</b>) at <a href=\"https://github.com/JuliaLang/julia/tree/2e358ce975029ec97aba5994c17d4a2169c3b085/base/int.jl#L197\" target=\"_blank\">int.jl:197</a><li> rem(x::<b>Int32</b>, ::<b>Type{Int16}</b>) at <a href=\"https://github.com/JuliaLang/julia/tree/2e358ce975029ec97aba5994c17d4a2169c3b085/base/int.jl#L177\" target=\"_blank\">int.jl:177</a><li> rem(x::<b>UInt32</b>, ::<b>Type{Int16}</b>) at <a href=\"https://github.com/JuliaLang/julia/tree/2e358ce975029ec97aba5994c17d4a2169c3b085/base/int.jl#L177\" target=\"_blank\">int.jl:177</a><li> rem(x::<b>Int64</b>, ::<b>Type{Int16}</b>) at <a href=\"https://github.com/JuliaLang/julia/tree/2e358ce975029ec97aba5994c17d4a2169c3b085/base/int.jl#L177\" target=\"_blank\">int.jl:177</a><li> rem(x::<b>UInt64</b>, ::<b>Type{Int16}</b>) at <a href=\"https://github.com/JuliaLang/julia/tree/2e358ce975029ec97aba5994c17d4a2169c3b085/base/int.jl#L177\" target=\"_blank\">int.jl:177</a><li> rem(x::<b>Int128</b>, ::<b>Type{Int16}</b>) at <a href=\"https://github.com/JuliaLang/julia/tree/2e358ce975029ec97aba5994c17d4a2169c3b085/base/int.jl#L177\" target=\"_blank\">int.jl:177</a><li> rem(x::<b>UInt128</b>, ::<b>Type{Int16}</b>) at <a href=\"https://github.com/JuliaLang/julia/tree/2e358ce975029ec97aba5994c17d4a2169c3b085/base/int.jl#L177\" target=\"_blank\">int.jl:177</a><li> rem(x::<b>Bool</b>, ::<b>Type{Int16}</b>) at <a href=\"https://github.com/JuliaLang/julia/tree/2e358ce975029ec97aba5994c17d4a2169c3b085/base/int.jl#L188\" target=\"_blank\">int.jl:188</a><li> rem(x::<b>Int8</b>, ::<b>Type{UInt16}</b>) at <a href=\"https://github.com/JuliaLang/julia/tree/2e358ce975029ec97aba5994c17d4a2169c3b085/base/int.jl#L185\" target=\"_blank\">int.jl:185</a><li> rem(x::<b>UInt8</b>, ::<b>Type{UInt16}</b>) at <a href=\"https://github.com/JuliaLang/julia/tree/2e358ce975029ec97aba5994c17d4a2169c3b085/base/int.jl#L188\" target=\"_blank\">int.jl:188</a><li> rem(x::<b>Int16</b>, ::<b>Type{UInt16}</b>) at <a href=\"https://github.com/JuliaLang/julia/tree/2e358ce975029ec97aba5994c17d4a2169c3b085/base/int.jl#L197\" target=\"_blank\">int.jl:197</a><li> rem(x::<b>Int32</b>, ::<b>Type{UInt16}</b>) at <a href=\"https://github.com/JuliaLang/julia/tree/2e358ce975029ec97aba5994c17d4a2169c3b085/base/int.jl#L177\" target=\"_blank\">int.jl:177</a><li> rem(x::<b>UInt32</b>, ::<b>Type{UInt16}</b>) at <a href=\"https://github.com/JuliaLang/julia/tree/2e358ce975029ec97aba5994c17d4a2169c3b085/base/int.jl#L177\" target=\"_blank\">int.jl:177</a><li> rem(x::<b>Int64</b>, ::<b>Type{UInt16}</b>) at <a href=\"https://github.com/JuliaLang/julia/tree/2e358ce975029ec97aba5994c17d4a2169c3b085/base/int.jl#L177\" target=\"_blank\">int.jl:177</a><li> rem(x::<b>UInt64</b>, ::<b>Type{UInt16}</b>) at <a href=\"https://github.com/JuliaLang/julia/tree/2e358ce975029ec97aba5994c17d4a2169c3b085/base/int.jl#L177\" target=\"_blank\">int.jl:177</a><li> rem(x::<b>Int128</b>, ::<b>Type{UInt16}</b>) at <a href=\"https://github.com/JuliaLang/julia/tree/2e358ce975029ec97aba5994c17d4a2169c3b085/base/int.jl#L177\" target=\"_blank\">int.jl:177</a><li> rem(x::<b>UInt128</b>, ::<b>Type{UInt16}</b>) at <a href=\"https://github.com/JuliaLang/julia/tree/2e358ce975029ec97aba5994c17d4a2169c3b085/base/int.jl#L177\" target=\"_blank\">int.jl:177</a><li> rem(x::<b>Bool</b>, ::<b>Type{UInt16}</b>) at <a href=\"https://github.com/JuliaLang/julia/tree/2e358ce975029ec97aba5994c17d4a2169c3b085/base/int.jl#L188\" target=\"_blank\">int.jl:188</a><li> rem(x::<b>Int8</b>, ::<b>Type{Int32}</b>) at <a href=\"https://github.com/JuliaLang/julia/tree/2e358ce975029ec97aba5994c17d4a2169c3b085/base/int.jl#L185\" target=\"_blank\">int.jl:185</a><li> rem(x::<b>UInt8</b>, ::<b>Type{Int32}</b>) at <a href=\"https://github.com/JuliaLang/julia/tree/2e358ce975029ec97aba5994c17d4a2169c3b085/base/int.jl#L188\" target=\"_blank\">int.jl:188</a><li> rem(x::<b>Int16</b>, ::<b>Type{Int32}</b>) at <a href=\"https://github.com/JuliaLang/julia/tree/2e358ce975029ec97aba5994c17d4a2169c3b085/base/int.jl#L185\" target=\"_blank\">int.jl:185</a><li> rem(x::<b>UInt16</b>, ::<b>Type{Int32}</b>) at <a href=\"https://github.com/JuliaLang/julia/tree/2e358ce975029ec97aba5994c17d4a2169c3b085/base/int.jl#L188\" target=\"_blank\">int.jl:188</a><li> rem(x::<b>UInt32</b>, ::<b>Type{Int32}</b>) at <a href=\"https://github.com/JuliaLang/julia/tree/2e358ce975029ec97aba5994c17d4a2169c3b085/base/int.jl#L197\" target=\"_blank\">int.jl:197</a><li> rem(x::<b>Int64</b>, ::<b>Type{Int32}</b>) at <a href=\"https://github.com/JuliaLang/julia/tree/2e358ce975029ec97aba5994c17d4a2169c3b085/base/int.jl#L177\" target=\"_blank\">int.jl:177</a><li> rem(x::<b>UInt64</b>, ::<b>Type{Int32}</b>) at <a href=\"https://github.com/JuliaLang/julia/tree/2e358ce975029ec97aba5994c17d4a2169c3b085/base/int.jl#L177\" target=\"_blank\">int.jl:177</a><li> rem(x::<b>Int128</b>, ::<b>Type{Int32}</b>) at <a href=\"https://github.com/JuliaLang/julia/tree/2e358ce975029ec97aba5994c17d4a2169c3b085/base/int.jl#L177\" target=\"_blank\">int.jl:177</a><li> rem(x::<b>UInt128</b>, ::<b>Type{Int32}</b>) at <a href=\"https://github.com/JuliaLang/julia/tree/2e358ce975029ec97aba5994c17d4a2169c3b085/base/int.jl#L177\" target=\"_blank\">int.jl:177</a><li> rem(x::<b>Bool</b>, ::<b>Type{Int32}</b>) at <a href=\"https://github.com/JuliaLang/julia/tree/2e358ce975029ec97aba5994c17d4a2169c3b085/base/int.jl#L188\" target=\"_blank\">int.jl:188</a><li> rem(x::<b>Int8</b>, ::<b>Type{UInt32}</b>) at <a href=\"https://github.com/JuliaLang/julia/tree/2e358ce975029ec97aba5994c17d4a2169c3b085/base/int.jl#L185\" target=\"_blank\">int.jl:185</a><li> rem(x::<b>UInt8</b>, ::<b>Type{UInt32}</b>) at <a href=\"https://github.com/JuliaLang/julia/tree/2e358ce975029ec97aba5994c17d4a2169c3b085/base/int.jl#L188\" target=\"_blank\">int.jl:188</a><li> rem(x::<b>Int16</b>, ::<b>Type{UInt32}</b>) at <a href=\"https://github.com/JuliaLang/julia/tree/2e358ce975029ec97aba5994c17d4a2169c3b085/base/int.jl#L185\" target=\"_blank\">int.jl:185</a><li> rem(x::<b>UInt16</b>, ::<b>Type{UInt32}</b>) at <a href=\"https://github.com/JuliaLang/julia/tree/2e358ce975029ec97aba5994c17d4a2169c3b085/base/int.jl#L188\" target=\"_blank\">int.jl:188</a><li> rem(x::<b>Int32</b>, ::<b>Type{UInt32}</b>) at <a href=\"https://github.com/JuliaLang/julia/tree/2e358ce975029ec97aba5994c17d4a2169c3b085/base/int.jl#L197\" target=\"_blank\">int.jl:197</a><li> rem(x::<b>Int64</b>, ::<b>Type{UInt32}</b>) at <a href=\"https://github.com/JuliaLang/julia/tree/2e358ce975029ec97aba5994c17d4a2169c3b085/base/int.jl#L177\" target=\"_blank\">int.jl:177</a><li> rem(x::<b>UInt64</b>, ::<b>Type{UInt32}</b>) at <a href=\"https://github.com/JuliaLang/julia/tree/2e358ce975029ec97aba5994c17d4a2169c3b085/base/int.jl#L177\" target=\"_blank\">int.jl:177</a><li> rem(x::<b>Int128</b>, ::<b>Type{UInt32}</b>) at <a href=\"https://github.com/JuliaLang/julia/tree/2e358ce975029ec97aba5994c17d4a2169c3b085/base/int.jl#L177\" target=\"_blank\">int.jl:177</a><li> rem(x::<b>UInt128</b>, ::<b>Type{UInt32}</b>) at <a href=\"https://github.com/JuliaLang/julia/tree/2e358ce975029ec97aba5994c17d4a2169c3b085/base/int.jl#L177\" target=\"_blank\">int.jl:177</a><li> rem(x::<b>Bool</b>, ::<b>Type{UInt32}</b>) at <a href=\"https://github.com/JuliaLang/julia/tree/2e358ce975029ec97aba5994c17d4a2169c3b085/base/int.jl#L188\" target=\"_blank\">int.jl:188</a><li> rem(x::<b>Int8</b>, ::<b>Type{Int64}</b>) at <a href=\"https://github.com/JuliaLang/julia/tree/2e358ce975029ec97aba5994c17d4a2169c3b085/base/int.jl#L185\" target=\"_blank\">int.jl:185</a><li> rem(x::<b>UInt8</b>, ::<b>Type{Int64}</b>) at <a href=\"https://github.com/JuliaLang/julia/tree/2e358ce975029ec97aba5994c17d4a2169c3b085/base/int.jl#L188\" target=\"_blank\">int.jl:188</a><li> rem(x::<b>Int16</b>, ::<b>Type{Int64}</b>) at <a href=\"https://github.com/JuliaLang/julia/tree/2e358ce975029ec97aba5994c17d4a2169c3b085/base/int.jl#L185\" target=\"_blank\">int.jl:185</a><li> rem(x::<b>UInt16</b>, ::<b>Type{Int64}</b>) at <a href=\"https://github.com/JuliaLang/julia/tree/2e358ce975029ec97aba5994c17d4a2169c3b085/base/int.jl#L188\" target=\"_blank\">int.jl:188</a><li> rem(x::<b>Int32</b>, ::<b>Type{Int64}</b>) at <a href=\"https://github.com/JuliaLang/julia/tree/2e358ce975029ec97aba5994c17d4a2169c3b085/base/int.jl#L185\" target=\"_blank\">int.jl:185</a><li> rem(x::<b>UInt32</b>, ::<b>Type{Int64}</b>) at <a href=\"https://github.com/JuliaLang/julia/tree/2e358ce975029ec97aba5994c17d4a2169c3b085/base/int.jl#L188\" target=\"_blank\">int.jl:188</a><li> rem(x::<b>UInt64</b>, ::<b>Type{Int64}</b>) at <a href=\"https://github.com/JuliaLang/julia/tree/2e358ce975029ec97aba5994c17d4a2169c3b085/base/int.jl#L197\" target=\"_blank\">int.jl:197</a><li> rem(x::<b>Int128</b>, ::<b>Type{Int64}</b>) at <a href=\"https://github.com/JuliaLang/julia/tree/2e358ce975029ec97aba5994c17d4a2169c3b085/base/int.jl#L177\" target=\"_blank\">int.jl:177</a><li> rem(x::<b>UInt128</b>, ::<b>Type{Int64}</b>) at <a href=\"https://github.com/JuliaLang/julia/tree/2e358ce975029ec97aba5994c17d4a2169c3b085/base/int.jl#L177\" target=\"_blank\">int.jl:177</a><li> rem(x::<b>Bool</b>, ::<b>Type{Int64}</b>) at <a href=\"https://github.com/JuliaLang/julia/tree/2e358ce975029ec97aba5994c17d4a2169c3b085/base/int.jl#L188\" target=\"_blank\">int.jl:188</a><li> rem(x::<b>Int8</b>, ::<b>Type{UInt64}</b>) at <a href=\"https://github.com/JuliaLang/julia/tree/2e358ce975029ec97aba5994c17d4a2169c3b085/base/int.jl#L185\" target=\"_blank\">int.jl:185</a><li> rem(x::<b>UInt8</b>, ::<b>Type{UInt64}</b>) at <a href=\"https://github.com/JuliaLang/julia/tree/2e358ce975029ec97aba5994c17d4a2169c3b085/base/int.jl#L188\" target=\"_blank\">int.jl:188</a><li> rem(x::<b>Int16</b>, ::<b>Type{UInt64}</b>) at <a href=\"https://github.com/JuliaLang/julia/tree/2e358ce975029ec97aba5994c17d4a2169c3b085/base/int.jl#L185\" target=\"_blank\">int.jl:185</a><li> rem(x::<b>UInt16</b>, ::<b>Type{UInt64}</b>) at <a href=\"https://github.com/JuliaLang/julia/tree/2e358ce975029ec97aba5994c17d4a2169c3b085/base/int.jl#L188\" target=\"_blank\">int.jl:188</a><li> rem(x::<b>Int32</b>, ::<b>Type{UInt64}</b>) at <a href=\"https://github.com/JuliaLang/julia/tree/2e358ce975029ec97aba5994c17d4a2169c3b085/base/int.jl#L185\" target=\"_blank\">int.jl:185</a><li> rem(x::<b>UInt32</b>, ::<b>Type{UInt64}</b>) at <a href=\"https://github.com/JuliaLang/julia/tree/2e358ce975029ec97aba5994c17d4a2169c3b085/base/int.jl#L188\" target=\"_blank\">int.jl:188</a><li> rem(x::<b>Int64</b>, ::<b>Type{UInt64}</b>) at <a href=\"https://github.com/JuliaLang/julia/tree/2e358ce975029ec97aba5994c17d4a2169c3b085/base/int.jl#L197\" target=\"_blank\">int.jl:197</a><li> rem(x::<b>Int128</b>, ::<b>Type{UInt64}</b>) at <a href=\"https://github.com/JuliaLang/julia/tree/2e358ce975029ec97aba5994c17d4a2169c3b085/base/int.jl#L177\" target=\"_blank\">int.jl:177</a><li> rem(x::<b>UInt128</b>, ::<b>Type{UInt64}</b>) at <a href=\"https://github.com/JuliaLang/julia/tree/2e358ce975029ec97aba5994c17d4a2169c3b085/base/int.jl#L177\" target=\"_blank\">int.jl:177</a><li> rem(x::<b>Bool</b>, ::<b>Type{UInt64}</b>) at <a href=\"https://github.com/JuliaLang/julia/tree/2e358ce975029ec97aba5994c17d4a2169c3b085/base/int.jl#L188\" target=\"_blank\">int.jl:188</a><li> rem(x::<b>Int8</b>, ::<b>Type{Int128}</b>) at <a href=\"https://github.com/JuliaLang/julia/tree/2e358ce975029ec97aba5994c17d4a2169c3b085/base/int.jl#L185\" target=\"_blank\">int.jl:185</a><li> rem(x::<b>UInt8</b>, ::<b>Type{Int128}</b>) at <a href=\"https://github.com/JuliaLang/julia/tree/2e358ce975029ec97aba5994c17d4a2169c3b085/base/int.jl#L188\" target=\"_blank\">int.jl:188</a><li> rem(x::<b>Int16</b>, ::<b>Type{Int128}</b>) at <a href=\"https://github.com/JuliaLang/julia/tree/2e358ce975029ec97aba5994c17d4a2169c3b085/base/int.jl#L185\" target=\"_blank\">int.jl:185</a><li> rem(x::<b>UInt16</b>, ::<b>Type{Int128}</b>) at <a href=\"https://github.com/JuliaLang/julia/tree/2e358ce975029ec97aba5994c17d4a2169c3b085/base/int.jl#L188\" target=\"_blank\">int.jl:188</a><li> rem(x::<b>Int32</b>, ::<b>Type{Int128}</b>) at <a href=\"https://github.com/JuliaLang/julia/tree/2e358ce975029ec97aba5994c17d4a2169c3b085/base/int.jl#L185\" target=\"_blank\">int.jl:185</a><li> rem(x::<b>UInt32</b>, ::<b>Type{Int128}</b>) at <a href=\"https://github.com/JuliaLang/julia/tree/2e358ce975029ec97aba5994c17d4a2169c3b085/base/int.jl#L188\" target=\"_blank\">int.jl:188</a><li> rem(x::<b>Int64</b>, ::<b>Type{Int128}</b>) at <a href=\"https://github.com/JuliaLang/julia/tree/2e358ce975029ec97aba5994c17d4a2169c3b085/base/int.jl#L185\" target=\"_blank\">int.jl:185</a><li> rem(x::<b>UInt64</b>, ::<b>Type{Int128}</b>) at <a href=\"https://github.com/JuliaLang/julia/tree/2e358ce975029ec97aba5994c17d4a2169c3b085/base/int.jl#L188\" target=\"_blank\">int.jl:188</a><li> rem(x::<b>UInt128</b>, ::<b>Type{Int128}</b>) at <a href=\"https://github.com/JuliaLang/julia/tree/2e358ce975029ec97aba5994c17d4a2169c3b085/base/int.jl#L197\" target=\"_blank\">int.jl:197</a><li> rem(x::<b>Bool</b>, ::<b>Type{Int128}</b>) at <a href=\"https://github.com/JuliaLang/julia/tree/2e358ce975029ec97aba5994c17d4a2169c3b085/base/int.jl#L188\" target=\"_blank\">int.jl:188</a><li> rem(x::<b>Int8</b>, ::<b>Type{UInt128}</b>) at <a href=\"https://github.com/JuliaLang/julia/tree/2e358ce975029ec97aba5994c17d4a2169c3b085/base/int.jl#L185\" target=\"_blank\">int.jl:185</a><li> rem(x::<b>UInt8</b>, ::<b>Type{UInt128}</b>) at <a href=\"https://github.com/JuliaLang/julia/tree/2e358ce975029ec97aba5994c17d4a2169c3b085/base/int.jl#L188\" target=\"_blank\">int.jl:188</a><li> rem(x::<b>Int16</b>, ::<b>Type{UInt128}</b>) at <a href=\"https://github.com/JuliaLang/julia/tree/2e358ce975029ec97aba5994c17d4a2169c3b085/base/int.jl#L185\" target=\"_blank\">int.jl:185</a><li> rem(x::<b>UInt16</b>, ::<b>Type{UInt128}</b>) at <a href=\"https://github.com/JuliaLang/julia/tree/2e358ce975029ec97aba5994c17d4a2169c3b085/base/int.jl#L188\" target=\"_blank\">int.jl:188</a><li> rem(x::<b>Int32</b>, ::<b>Type{UInt128}</b>) at <a href=\"https://github.com/JuliaLang/julia/tree/2e358ce975029ec97aba5994c17d4a2169c3b085/base/int.jl#L185\" target=\"_blank\">int.jl:185</a><li> rem(x::<b>UInt32</b>, ::<b>Type{UInt128}</b>) at <a href=\"https://github.com/JuliaLang/julia/tree/2e358ce975029ec97aba5994c17d4a2169c3b085/base/int.jl#L188\" target=\"_blank\">int.jl:188</a><li> rem(x::<b>Int64</b>, ::<b>Type{UInt128}</b>) at <a href=\"https://github.com/JuliaLang/julia/tree/2e358ce975029ec97aba5994c17d4a2169c3b085/base/int.jl#L185\" target=\"_blank\">int.jl:185</a><li> rem(x::<b>UInt64</b>, ::<b>Type{UInt128}</b>) at <a href=\"https://github.com/JuliaLang/julia/tree/2e358ce975029ec97aba5994c17d4a2169c3b085/base/int.jl#L188\" target=\"_blank\">int.jl:188</a><li> rem(x::<b>Int128</b>, ::<b>Type{UInt128}</b>) at <a href=\"https://github.com/JuliaLang/julia/tree/2e358ce975029ec97aba5994c17d4a2169c3b085/base/int.jl#L197\" target=\"_blank\">int.jl:197</a><li> rem(x::<b>Bool</b>, ::<b>Type{UInt128}</b>) at <a href=\"https://github.com/JuliaLang/julia/tree/2e358ce975029ec97aba5994c17d4a2169c3b085/base/int.jl#L188\" target=\"_blank\">int.jl:188</a><li> rem(x::<b>BigInt</b>, ::<b>Type{Bool}</b>) at <a href=\"https://github.com/JuliaLang/julia/tree/2e358ce975029ec97aba5994c17d4a2169c3b085/base/gmp.jl#L172\" target=\"_blank\">gmp.jl:172</a><li> rem(x::<b>Integer</b>, ::<b>Type{Bool}</b>) at <a href=\"https://github.com/JuliaLang/julia/tree/2e358ce975029ec97aba5994c17d4a2169c3b085/base/int.jl#L203\" target=\"_blank\">int.jl:203</a><li> rem<i>{T<:Integer}</i>(x::<b>T<:Integer</b>, ::<b>Type{T<:Integer}</b>) at <a href=\"https://github.com/JuliaLang/julia/tree/2e358ce975029ec97aba5994c17d4a2169c3b085/base/int.jl#L202\" target=\"_blank\">int.jl:202</a><li> rem<i>{T}</i>(A::<b>Number</b>, B::<b>AbstractArray{T,N}</b>) at <a href=\"https://github.com/JuliaLang/julia/tree/2e358ce975029ec97aba5994c17d4a2169c3b085/base/arraymath.jl#L118\" target=\"_blank\">arraymath.jl:118</a><li> rem<i>{T}</i>(A::<b>AbstractArray{T,N}</b>, B::<b>Number</b>) at <a href=\"https://github.com/JuliaLang/julia/tree/2e358ce975029ec97aba5994c17d4a2169c3b085/base/arraymath.jl#L125\" target=\"_blank\">arraymath.jl:125</a><li> rem<i>{T<:Number}</i>(x::<b>Char</b>, ::<b>Type{T<:Number}</b>) at <a href=\"https://github.com/JuliaLang/julia/tree/2e358ce975029ec97aba5994c17d4a2169c3b085/base/char.jl#L8\" target=\"_blank\">char.jl:8</a><li> rem<i>{T<:Union{Signed,Unsigned}}</i>(x::<b>BigInt</b>, ::<b>Type{T<:Union{Signed,Unsigned}}</b>) at <a href=\"https://github.com/JuliaLang/julia/tree/2e358ce975029ec97aba5994c17d4a2169c3b085/base/gmp.jl#L174\" target=\"_blank\">gmp.jl:174</a><li> rem<i>{P<:Base.Dates.Period}</i>(x::<b>P<:Base.Dates.Period</b>, y::<b>P<:Base.Dates.Period</b>) at <a href=\"https://github.com/JuliaLang/julia/tree/2e358ce975029ec97aba5994c17d4a2169c3b085/base/dates/periods.jl#L67\" target=\"_blank\">dates/periods.jl:67</a><li> rem<i>{P<:Base.Dates.Period}</i>(x::<b>P<:Base.Dates.Period</b>, y::<b>Real</b>) at <a href=\"https://github.com/JuliaLang/julia/tree/2e358ce975029ec97aba5994c17d4a2169c3b085/base/dates/periods.jl#L68\" target=\"_blank\">dates/periods.jl:68</a><li> rem<i>{P<:Base.Dates.Period}</i>(X::<b>Union{DenseArray{P<:Base.Dates.Period,N},SubArray{P<:Base.Dates.Period,N,A<:DenseArray{T,N},I<:Tuple{Vararg{Union{Colon,Int64,Range{Int64}}}},LD}}</b>, y::<b>P<:Base.Dates.Period</b>) at <a href=\"https://github.com/JuliaLang/julia/tree/2e358ce975029ec97aba5994c17d4a2169c3b085/base/dates/periods.jl#L72\" target=\"_blank\">dates/periods.jl:72</a></ul>"
      ],
      "text/plain": [
       "# 131 methods for generic function \"rem\":\n",
       "rem(x::Bool, y::Bool) at bool.jl:60\n",
       "rem(x::Signed, y::Unsigned) at int.jl:60\n",
       "rem(x::Unsigned, y::Signed) at int.jl:61\n",
       "rem(x::Int8, y::Int8) at int.jl:80\n",
       "rem(x::Int16, y::Int16) at int.jl:80\n",
       "rem(x::Int32, y::Int32) at int.jl:80\n",
       "rem(x::Int64, y::Int64) at int.jl:80\n",
       "rem(x::UInt8, y::UInt8) at int.jl:85\n",
       "rem(x::UInt16, y::UInt16) at int.jl:85\n",
       "rem(x::UInt32, y::UInt32) at int.jl:85\n",
       "rem(x::UInt64, y::UInt64) at int.jl:85\n",
       "rem(x::Int128, y::Int128) at int.jl:462\n",
       "rem(x::UInt128, y::UInt128) at int.jl:463\n",
       "rem(x::Float32, y::Float32) at float.jl:222\n",
       "rem(x::Float64, y::Float64) at float.jl:223\n",
       "rem(x::Rational{T<:Integer}, y::Rational{T<:Integer}) at rational.jl:179\n",
       "rem(a::Float16, b::Float16) at float16.jl:157\n",
       "rem(x::BigInt, y::BigInt) at gmp.jl:256\n",
       "rem(x::BigFloat, y::BigFloat) at mpfr.jl:593\n",
       "rem{T<:Real}(x::T<:Real, y::T<:Real) at promotion.jl:232\n",
       "rem(x::Real, y::Real) at promotion.jl:187\n",
       "rem(x::UInt8, ::Type{Int8}) at int.jl:197\n",
       "rem(x::Int16, ::Type{Int8}) at int.jl:177\n",
       "rem(x::UInt16, ::Type{Int8}) at int.jl:177\n",
       "rem(x::Int32, ::Type{Int8}) at int.jl:177\n",
       "rem(x::UInt32, ::Type{Int8}) at int.jl:177\n",
       "rem(x::Int64, ::Type{Int8}) at int.jl:177\n",
       "rem(x::UInt64, ::Type{Int8}) at int.jl:177\n",
       "rem(x::Int128, ::Type{Int8}) at int.jl:177\n",
       "rem(x::UInt128, ::Type{Int8}) at int.jl:177\n",
       "rem(x::Bool, ::Type{Int8}) at int.jl:188\n",
       "rem(x::Int8, ::Type{UInt8}) at int.jl:197\n",
       "rem(x::Int16, ::Type{UInt8}) at int.jl:177\n",
       "rem(x::UInt16, ::Type{UInt8}) at int.jl:177\n",
       "rem(x::Int32, ::Type{UInt8}) at int.jl:177\n",
       "rem(x::UInt32, ::Type{UInt8}) at int.jl:177\n",
       "rem(x::Int64, ::Type{UInt8}) at int.jl:177\n",
       "rem(x::UInt64, ::Type{UInt8}) at int.jl:177\n",
       "rem(x::Int128, ::Type{UInt8}) at int.jl:177\n",
       "rem(x::UInt128, ::Type{UInt8}) at int.jl:177\n",
       "rem(x::Bool, ::Type{UInt8}) at int.jl:188\n",
       "rem(x::Int8, ::Type{Int16}) at int.jl:185\n",
       "rem(x::UInt8, ::Type{Int16}) at int.jl:188\n",
       "rem(x::UInt16, ::Type{Int16}) at int.jl:197\n",
       "rem(x::Int32, ::Type{Int16}) at int.jl:177\n",
       "rem(x::UInt32, ::Type{Int16}) at int.jl:177\n",
       "rem(x::Int64, ::Type{Int16}) at int.jl:177\n",
       "rem(x::UInt64, ::Type{Int16}) at int.jl:177\n",
       "rem(x::Int128, ::Type{Int16}) at int.jl:177\n",
       "rem(x::UInt128, ::Type{Int16}) at int.jl:177\n",
       "rem(x::Bool, ::Type{Int16}) at int.jl:188\n",
       "rem(x::Int8, ::Type{UInt16}) at int.jl:185\n",
       "rem(x::UInt8, ::Type{UInt16}) at int.jl:188\n",
       "rem(x::Int16, ::Type{UInt16}) at int.jl:197\n",
       "rem(x::Int32, ::Type{UInt16}) at int.jl:177\n",
       "rem(x::UInt32, ::Type{UInt16}) at int.jl:177\n",
       "rem(x::Int64, ::Type{UInt16}) at int.jl:177\n",
       "rem(x::UInt64, ::Type{UInt16}) at int.jl:177\n",
       "rem(x::Int128, ::Type{UInt16}) at int.jl:177\n",
       "rem(x::UInt128, ::Type{UInt16}) at int.jl:177\n",
       "rem(x::Bool, ::Type{UInt16}) at int.jl:188\n",
       "rem(x::Int8, ::Type{Int32}) at int.jl:185\n",
       "rem(x::UInt8, ::Type{Int32}) at int.jl:188\n",
       "rem(x::Int16, ::Type{Int32}) at int.jl:185\n",
       "rem(x::UInt16, ::Type{Int32}) at int.jl:188\n",
       "rem(x::UInt32, ::Type{Int32}) at int.jl:197\n",
       "rem(x::Int64, ::Type{Int32}) at int.jl:177\n",
       "rem(x::UInt64, ::Type{Int32}) at int.jl:177\n",
       "rem(x::Int128, ::Type{Int32}) at int.jl:177\n",
       "rem(x::UInt128, ::Type{Int32}) at int.jl:177\n",
       "rem(x::Bool, ::Type{Int32}) at int.jl:188\n",
       "rem(x::Int8, ::Type{UInt32}) at int.jl:185\n",
       "rem(x::UInt8, ::Type{UInt32}) at int.jl:188\n",
       "rem(x::Int16, ::Type{UInt32}) at int.jl:185\n",
       "rem(x::UInt16, ::Type{UInt32}) at int.jl:188\n",
       "rem(x::Int32, ::Type{UInt32}) at int.jl:197\n",
       "rem(x::Int64, ::Type{UInt32}) at int.jl:177\n",
       "rem(x::UInt64, ::Type{UInt32}) at int.jl:177\n",
       "rem(x::Int128, ::Type{UInt32}) at int.jl:177\n",
       "rem(x::UInt128, ::Type{UInt32}) at int.jl:177\n",
       "rem(x::Bool, ::Type{UInt32}) at int.jl:188\n",
       "rem(x::Int8, ::Type{Int64}) at int.jl:185\n",
       "rem(x::UInt8, ::Type{Int64}) at int.jl:188\n",
       "rem(x::Int16, ::Type{Int64}) at int.jl:185\n",
       "rem(x::UInt16, ::Type{Int64}) at int.jl:188\n",
       "rem(x::Int32, ::Type{Int64}) at int.jl:185\n",
       "rem(x::UInt32, ::Type{Int64}) at int.jl:188\n",
       "rem(x::UInt64, ::Type{Int64}) at int.jl:197\n",
       "rem(x::Int128, ::Type{Int64}) at int.jl:177\n",
       "rem(x::UInt128, ::Type{Int64}) at int.jl:177\n",
       "rem(x::Bool, ::Type{Int64}) at int.jl:188\n",
       "rem(x::Int8, ::Type{UInt64}) at int.jl:185\n",
       "rem(x::UInt8, ::Type{UInt64}) at int.jl:188\n",
       "rem(x::Int16, ::Type{UInt64}) at int.jl:185\n",
       "rem(x::UInt16, ::Type{UInt64}) at int.jl:188\n",
       "rem(x::Int32, ::Type{UInt64}) at int.jl:185\n",
       "rem(x::UInt32, ::Type{UInt64}) at int.jl:188\n",
       "rem(x::Int64, ::Type{UInt64}) at int.jl:197\n",
       "rem(x::Int128, ::Type{UInt64}) at int.jl:177\n",
       "rem(x::UInt128, ::Type{UInt64}) at int.jl:177\n",
       "rem(x::Bool, ::Type{UInt64}) at int.jl:188\n",
       "rem(x::Int8, ::Type{Int128}) at int.jl:185\n",
       "rem(x::UInt8, ::Type{Int128}) at int.jl:188\n",
       "rem(x::Int16, ::Type{Int128}) at int.jl:185\n",
       "rem(x::UInt16, ::Type{Int128}) at int.jl:188\n",
       "rem(x::Int32, ::Type{Int128}) at int.jl:185\n",
       "rem(x::UInt32, ::Type{Int128}) at int.jl:188\n",
       "rem(x::Int64, ::Type{Int128}) at int.jl:185\n",
       "rem(x::UInt64, ::Type{Int128}) at int.jl:188\n",
       "rem(x::UInt128, ::Type{Int128}) at int.jl:197\n",
       "rem(x::Bool, ::Type{Int128}) at int.jl:188\n",
       "rem(x::Int8, ::Type{UInt128}) at int.jl:185\n",
       "rem(x::UInt8, ::Type{UInt128}) at int.jl:188\n",
       "rem(x::Int16, ::Type{UInt128}) at int.jl:185\n",
       "rem(x::UInt16, ::Type{UInt128}) at int.jl:188\n",
       "rem(x::Int32, ::Type{UInt128}) at int.jl:185\n",
       "rem(x::UInt32, ::Type{UInt128}) at int.jl:188\n",
       "rem(x::Int64, ::Type{UInt128}) at int.jl:185\n",
       "rem(x::UInt64, ::Type{UInt128}) at int.jl:188\n",
       "rem(x::Int128, ::Type{UInt128}) at int.jl:197\n",
       "rem(x::Bool, ::Type{UInt128}) at int.jl:188\n",
       "rem(x::BigInt, ::Type{Bool}) at gmp.jl:172\n",
       "rem(x::Integer, ::Type{Bool}) at int.jl:203\n",
       "rem{T<:Integer}(x::T<:Integer, ::Type{T<:Integer}) at int.jl:202\n",
       "rem{T}(A::Number, B::AbstractArray{T,N}) at arraymath.jl:118\n",
       "rem{T}(A::AbstractArray{T,N}, B::Number) at arraymath.jl:125\n",
       "rem{T<:Number}(x::Char, ::Type{T<:Number}) at char.jl:8\n",
       "rem{T<:Union{Signed,Unsigned}}(x::BigInt, ::Type{T<:Union{Signed,Unsigned}}) at gmp.jl:174\n",
       "rem{P<:Base.Dates.Period}(x::P<:Base.Dates.Period, y::P<:Base.Dates.Period) at dates/periods.jl:67\n",
       "rem{P<:Base.Dates.Period}(x::P<:Base.Dates.Period, y::Real) at dates/periods.jl:68\n",
       "rem{P<:Base.Dates.Period}(X::Union{DenseArray{P<:Base.Dates.Period,N},SubArray{P<:Base.Dates.Period,N,A<:DenseArray{T,N},I<:Tuple{Vararg{Union{Colon,Int64,Range{Int64}}}},LD}}, y::P<:Base.Dates.Period) at dates/periods.jl:72"
      ]
     },
     "execution_count": 81,
     "metadata": {},
     "output_type": "execute_result"
    }
   ],
   "source": [
    "methods(%)"
   ]
  },
  {
   "cell_type": "code",
   "execution_count": 82,
   "metadata": {
    "collapsed": false
   },
   "outputs": [
    {
     "ename": "LoadError",
     "evalue": "LoadError: DivideError: integer division error\nwhile loading In[82], in expression starting on line 1",
     "output_type": "error",
     "traceback": [
      "LoadError: DivideError: integer division error\nwhile loading In[82], in expression starting on line 1",
      "",
      " in rem at bool.jl:60"
     ]
    }
   ],
   "source": [
    "true % false"
   ]
  },
  {
   "cell_type": "code",
   "execution_count": 83,
   "metadata": {
    "collapsed": false
   },
   "outputs": [
    {
     "data": {
      "text/plain": [
       "false"
      ]
     },
     "execution_count": 83,
     "metadata": {},
     "output_type": "execute_result"
    }
   ],
   "source": [
    "false % true"
   ]
  },
  {
   "cell_type": "code",
   "execution_count": 84,
   "metadata": {
    "collapsed": false
   },
   "outputs": [
    {
     "name": "stdout",
     "output_type": "stream",
     "text": [
      "search: muladd\n",
      "\n"
     ]
    },
    {
     "data": {
      "text/markdown": [
       "```\n",
       "muladd(x, y, z)\n",
       "```\n",
       "\n",
       "Combined multiply-add, computes `x*y+z` in an efficient manner. This may on some systems be equivalent to `x*y+z`, or to `fma(x,y,z)`. `muladd` is used to improve performance. See `fma`.\n"
      ],
      "text/plain": [
       "```\n",
       "muladd(x, y, z)\n",
       "```\n",
       "\n",
       "Combined multiply-add, computes `x*y+z` in an efficient manner. This may on some systems be equivalent to `x*y+z`, or to `fma(x,y,z)`. `muladd` is used to improve performance. See `fma`.\n"
      ]
     },
     "execution_count": 84,
     "metadata": {},
     "output_type": "execute_result"
    }
   ],
   "source": [
    "?muladd"
   ]
  },
  {
   "cell_type": "code",
   "execution_count": 85,
   "metadata": {
    "collapsed": false
   },
   "outputs": [
    {
     "ename": "LoadError",
     "evalue": "LoadError: MethodError: `muladd` has no method matching muladd(::Int64, ::Int64, ::Int64, ::Int64, ::Int64)\nClosest candidates are:\n  muladd{T<:Number}(::T<:Number, ::T<:Number, ::T<:Number)\n  muladd(::Number, ::Number, ::Number)\nwhile loading In[85], in expression starting on line 1",
     "output_type": "error",
     "traceback": [
      "LoadError: MethodError: `muladd` has no method matching muladd(::Int64, ::Int64, ::Int64, ::Int64, ::Int64)\nClosest candidates are:\n  muladd{T<:Number}(::T<:Number, ::T<:Number, ::T<:Number)\n  muladd(::Number, ::Number, ::Number)\nwhile loading In[85], in expression starting on line 1",
      ""
     ]
    }
   ],
   "source": [
    "muladd(3, 4, 6, 2, 5)"
   ]
  },
  {
   "cell_type": "code",
   "execution_count": 86,
   "metadata": {
    "collapsed": false
   },
   "outputs": [
    {
     "data": {
      "text/plain": [
       "11"
      ]
     },
     "execution_count": 86,
     "metadata": {},
     "output_type": "execute_result"
    }
   ],
   "source": [
    "muladd(3, 3, 2)"
   ]
  },
  {
   "cell_type": "code",
   "execution_count": 87,
   "metadata": {
    "collapsed": false
   },
   "outputs": [
    {
     "name": "stdout",
     "output_type": "stream",
     "text": [
      "search: fma findmax @fastmath UniformScaling\n",
      "\n"
     ]
    },
    {
     "data": {
      "text/markdown": [
       "```\n",
       "fma(x, y, z)\n",
       "```\n",
       "\n",
       "Computes `x*y+z` without rounding the intermediate result `x*y`. On some systems this is significantly more expensive than `x*y+z`. `fma` is used to improve accuracy in certain algorithms. See `muladd`.\n"
      ],
      "text/plain": [
       "```\n",
       "fma(x, y, z)\n",
       "```\n",
       "\n",
       "Computes `x*y+z` without rounding the intermediate result `x*y`. On some systems this is significantly more expensive than `x*y+z`. `fma` is used to improve accuracy in certain algorithms. See `muladd`.\n"
      ]
     },
     "execution_count": 87,
     "metadata": {},
     "output_type": "execute_result"
    }
   ],
   "source": [
    "?fma"
   ]
  },
  {
   "cell_type": "code",
   "execution_count": 88,
   "metadata": {
    "collapsed": false
   },
   "outputs": [
    {
     "data": {
      "text/plain": [
       "11"
      ]
     },
     "execution_count": 88,
     "metadata": {},
     "output_type": "execute_result"
    }
   ],
   "source": [
    "fma(2, 3, 5)"
   ]
  },
  {
   "cell_type": "code",
   "execution_count": 89,
   "metadata": {
    "collapsed": false
   },
   "outputs": [
    {
     "name": "stdout",
     "output_type": "stream",
     "text": [
      "search: ucfirst\n",
      "\n"
     ]
    },
    {
     "data": {
      "text/markdown": [
       "```\n",
       "ucfirst(string)\n",
       "```\n",
       "\n",
       "Returns `string` with the first character converted to uppercase.\n"
      ],
      "text/plain": [
       "```\n",
       "ucfirst(string)\n",
       "```\n",
       "\n",
       "Returns `string` with the first character converted to uppercase.\n"
      ]
     },
     "execution_count": 89,
     "metadata": {},
     "output_type": "execute_result"
    }
   ],
   "source": [
    "?ucfirst"
   ]
  },
  {
   "cell_type": "code",
   "execution_count": 90,
   "metadata": {
    "collapsed": false
   },
   "outputs": [
    {
     "data": {
      "text/plain": [
       "\"Hello\""
      ]
     },
     "execution_count": 90,
     "metadata": {},
     "output_type": "execute_result"
    }
   ],
   "source": [
    "ucfirst(\"hello\")"
   ]
  },
  {
   "cell_type": "code",
   "execution_count": 91,
   "metadata": {
    "collapsed": false
   },
   "outputs": [
    {
     "data": {
      "text/plain": [
       "\"hELLO\""
      ]
     },
     "execution_count": 91,
     "metadata": {},
     "output_type": "execute_result"
    }
   ],
   "source": [
    "lcfirst(\"HELLO\")"
   ]
  },
  {
   "cell_type": "code",
   "execution_count": 92,
   "metadata": {
    "collapsed": false
   },
   "outputs": [
    {
     "data": {
      "text/plain": [
       "120"
      ]
     },
     "execution_count": 92,
     "metadata": {},
     "output_type": "execute_result"
    }
   ],
   "source": [
    "lcm(40, 30)"
   ]
  },
  {
   "cell_type": "code",
   "execution_count": 93,
   "metadata": {
    "collapsed": false
   },
   "outputs": [
    {
     "data": {
      "text/plain": [
       "myfunc (generic function with 1 method)"
      ]
     },
     "execution_count": 93,
     "metadata": {},
     "output_type": "execute_result"
    }
   ],
   "source": [
    "myfunc(firstvar) = 20*firstvar"
   ]
  },
  {
   "cell_type": "code",
   "execution_count": 94,
   "metadata": {
    "collapsed": false
   },
   "outputs": [
    {
     "data": {
      "text/plain": [
       "600"
      ]
     },
     "execution_count": 94,
     "metadata": {},
     "output_type": "execute_result"
    }
   ],
   "source": [
    "myfunc(30)"
   ]
  },
  {
   "cell_type": "code",
   "execution_count": 95,
   "metadata": {
    "collapsed": false
   },
   "outputs": [
    {
     "data": {
      "text/plain": [
       "myfunc (generic function with 1 method)"
      ]
     },
     "execution_count": 95,
     "metadata": {},
     "output_type": "execute_result"
    }
   ],
   "source": [
    "myfunc(firstvar) = 10 + firstvar"
   ]
  },
  {
   "cell_type": "code",
   "execution_count": 96,
   "metadata": {
    "collapsed": false
   },
   "outputs": [
    {
     "data": {
      "text/plain": [
       "20"
      ]
     },
     "execution_count": 96,
     "metadata": {},
     "output_type": "execute_result"
    }
   ],
   "source": [
    "myfunc(10)"
   ]
  },
  {
   "cell_type": "code",
   "execution_count": 98,
   "metadata": {
    "collapsed": false
   },
   "outputs": [
    {
     "data": {
      "text/plain": [
       "addxtoy (generic function with 1 method)"
      ]
     },
     "execution_count": 98,
     "metadata": {},
     "output_type": "execute_result"
    }
   ],
   "source": [
    "addxtoy(x, y) = x + y"
   ]
  },
  {
   "cell_type": "code",
   "execution_count": 99,
   "metadata": {
    "collapsed": false
   },
   "outputs": [
    {
     "data": {
      "text/plain": [
       "5"
      ]
     },
     "execution_count": 99,
     "metadata": {},
     "output_type": "execute_result"
    }
   ],
   "source": [
    "addxtoy(3, 2)"
   ]
  },
  {
   "cell_type": "code",
   "execution_count": 100,
   "metadata": {
    "collapsed": false
   },
   "outputs": [
    {
     "data": {
      "text/plain": [
       "nextfunc (generic function with 1 method)"
      ]
     },
     "execution_count": 100,
     "metadata": {},
     "output_type": "execute_result"
    }
   ],
   "source": [
    "function nextfunc(a, b, c)\n",
    "    a* b + c\n",
    "end"
   ]
  },
  {
   "cell_type": "code",
   "execution_count": 101,
   "metadata": {
    "collapsed": false
   },
   "outputs": [
    {
     "data": {
      "text/plain": [
       "230"
      ]
     },
     "execution_count": 101,
     "metadata": {},
     "output_type": "execute_result"
    }
   ],
   "source": [
    "nextfunc(10, 20, 30)"
   ]
  },
  {
   "cell_type": "code",
   "execution_count": 102,
   "metadata": {
    "collapsed": false
   },
   "outputs": [
    {
     "name": "stdout",
     "output_type": "stream",
     "text": [
      "search: return\n",
      "\n"
     ]
    },
    {
     "data": {
      "text/markdown": [
       "`return` can be used function bodies to exit early and return a given value, e.g.\n",
       "\n",
       "```\n",
       "function compare(a, b)\n",
       "    a == b && return \"equal to\"\n",
       "    a < b ? \"less than\" : \"greater than\"\n",
       "end\n",
       "```\n",
       "\n",
       "In general you can place a `return` statement anywhere within a function body, including within deeply nested loops or conditionals, but be careful with `do` blocks. For example:\n",
       "\n",
       "```\n",
       "function test1(xs)\n",
       "    for x in xs\n",
       "        iseven(x) && return 2x\n",
       "    end\n",
       "end\n",
       "\n",
       "function test2(xs)\n",
       "    map(xs) do x\n",
       "        iseven(x) && return 2x\n",
       "        x\n",
       "    end\n",
       "end\n",
       "```\n",
       "\n",
       "In the first example, the return breaks out of its enclosing function as soon as it hits an even number, so `test1([5,6,7])` returns `12`.\n",
       "\n",
       "You might expect the second example to behave the same way, but in fact the `return` there only breaks out of the *inner* function (inside the `do` block) and gives a value back to `map`. `test2([5,6,7])` then returns `[5,12,7]`.\n"
      ],
      "text/plain": [
       "`return` can be used function bodies to exit early and return a given value, e.g.\n",
       "\n",
       "```\n",
       "function compare(a, b)\n",
       "    a == b && return \"equal to\"\n",
       "    a < b ? \"less than\" : \"greater than\"\n",
       "end\n",
       "```\n",
       "\n",
       "In general you can place a `return` statement anywhere within a function body, including within deeply nested loops or conditionals, but be careful with `do` blocks. For example:\n",
       "\n",
       "```\n",
       "function test1(xs)\n",
       "    for x in xs\n",
       "        iseven(x) && return 2x\n",
       "    end\n",
       "end\n",
       "\n",
       "function test2(xs)\n",
       "    map(xs) do x\n",
       "        iseven(x) && return 2x\n",
       "        x\n",
       "    end\n",
       "end\n",
       "```\n",
       "\n",
       "In the first example, the return breaks out of its enclosing function as soon as it hits an even number, so `test1([5,6,7])` returns `12`.\n",
       "\n",
       "You might expect the second example to behave the same way, but in fact the `return` there only breaks out of the *inner* function (inside the `do` block) and gives a value back to `map`. `test2([5,6,7])` then returns `[5,12,7]`.\n"
      ]
     },
     "execution_count": 102,
     "metadata": {},
     "output_type": "execute_result"
    }
   ],
   "source": [
    "?return"
   ]
  },
  {
   "cell_type": "code",
   "execution_count": 104,
   "metadata": {
    "collapsed": false
   },
   "outputs": [
    {
     "data": {
      "text/plain": [
       "showdebugprintln (generic function with 1 method)"
      ]
     },
     "execution_count": 104,
     "metadata": {},
     "output_type": "execute_result"
    }
   ],
   "source": [
    "function showdebugprintln(testvar)\n",
    "    println(\"inside the showdebugprint() now\")\n",
    "    println(\"The type of testvar is $(typeof(testvar)) and the value of testvar is $testvar.\")\n",
    "end"
   ]
  },
  {
   "cell_type": "code",
   "execution_count": 107,
   "metadata": {
    "collapsed": false
   },
   "outputs": [
    {
     "name": "stdout",
     "output_type": "stream",
     "text": [
      "inside the showdebugprint() now\n",
      "The type of testvar is ASCIIString and the value of testvar is h.\n",
      "inside the showdebugprint() now\n",
      "The type of testvar is Void and the value of testvar is nothing.\n"
     ]
    }
   ],
   "source": [
    "showdebugprintln(showdebugprintln(\"h\"))"
   ]
  },
  {
   "cell_type": "code",
   "execution_count": 108,
   "metadata": {
    "collapsed": false
   },
   "outputs": [
    {
     "name": "stdout",
     "output_type": "stream",
     "text": [
      "search: show showall showerror showcompact showdebugprintln @show Cshort Cushort\n",
      "\n"
     ]
    },
    {
     "data": {
      "text/markdown": [
       "```\n",
       "show(x)\n",
       "```\n",
       "\n",
       "Write an informative text representation of a value to the current output stream. New types should overload `show(io, x)` where the first argument is a stream. The representation used by `show` generally includes Julia-specific formatting and type information.\n"
      ],
      "text/plain": [
       "```\n",
       "show(x)\n",
       "```\n",
       "\n",
       "Write an informative text representation of a value to the current output stream. New types should overload `show(io, x)` where the first argument is a stream. The representation used by `show` generally includes Julia-specific formatting and type information.\n"
      ]
     },
     "execution_count": 108,
     "metadata": {},
     "output_type": "execute_result"
    }
   ],
   "source": [
    "?show"
   ]
  },
  {
   "cell_type": "code",
   "execution_count": 109,
   "metadata": {
    "collapsed": false
   },
   "outputs": [
    {
     "data": {
      "text/plain": [
       "2-element Array{Any,1}:\n",
       "  '1'\n",
       " 2.0 "
      ]
     },
     "execution_count": 109,
     "metadata": {},
     "output_type": "execute_result"
    }
   ],
   "source": [
    "a = ['1', 2.]"
   ]
  },
  {
   "cell_type": "code",
   "execution_count": 110,
   "metadata": {
    "collapsed": false
   },
   "outputs": [
    {
     "name": "stdout",
     "output_type": "stream",
     "text": [
      "inside the showdebugprint() now\n",
      "The type of testvar is Array{Any,1} and the value of testvar is Any['1',2.0].\n"
     ]
    }
   ],
   "source": [
    "showdebugprintln(a)"
   ]
  },
  {
   "cell_type": "code",
   "execution_count": 111,
   "metadata": {
    "collapsed": false
   },
   "outputs": [
    {
     "name": "stdout",
     "output_type": "stream",
     "text": [
      "search: methods methodswith method_exists Method MethodTable MethodError\n",
      "\n"
     ]
    },
    {
     "data": {
      "text/markdown": [
       "```\n",
       "methods(f, [types])\n",
       "```\n",
       "\n",
       "Returns the method table for `f`.\n",
       "\n",
       "If `types` is specified, returns an array of methods whose types match.\n"
      ],
      "text/plain": [
       "```\n",
       "methods(f, [types])\n",
       "```\n",
       "\n",
       "Returns the method table for `f`.\n",
       "\n",
       "If `types` is specified, returns an array of methods whose types match.\n"
      ]
     },
     "execution_count": 111,
     "metadata": {},
     "output_type": "execute_result"
    }
   ],
   "source": [
    "?methods"
   ]
  },
  {
   "cell_type": "code",
   "execution_count": 112,
   "metadata": {
    "collapsed": false
   },
   "outputs": [
    {
     "ename": "LoadError",
     "evalue": "LoadError: MethodError: `methods` has no method matching methods()\nwhile loading In[112], in expression starting on line 1",
     "output_type": "error",
     "traceback": [
      "LoadError: MethodError: `methods` has no method matching methods()\nwhile loading In[112], in expression starting on line 1",
      ""
     ]
    }
   ],
   "source": [
    "methods(methods())"
   ]
  },
  {
   "cell_type": "code",
   "execution_count": 113,
   "metadata": {
    "collapsed": false
   },
   "outputs": [
    {
     "data": {
      "text/html": [
       "4 methods for generic function <b>methods</b>:<ul><li> methods(f::<b>Function</b>) at <a href=\"https://github.com/JuliaLang/julia/tree/2e358ce975029ec97aba5994c17d4a2169c3b085/base/reflection.jl#L179\" target=\"_blank\">reflection.jl:179</a><li> methods(f::<b>Function</b>, t::<b>ANY</b>) at <a href=\"https://github.com/JuliaLang/julia/tree/2e358ce975029ec97aba5994c17d4a2169c3b085/base/reflection.jl#L139\" target=\"_blank\">reflection.jl:139</a><li> methods(x::<b>ANY</b>) at <a href=\"https://github.com/JuliaLang/julia/tree/2e358ce975029ec97aba5994c17d4a2169c3b085/base/reflection.jl#L185\" target=\"_blank\">reflection.jl:185</a><li> methods(f::<b>ANY</b>, t::<b>ANY</b>) at <a href=\"https://github.com/JuliaLang/julia/tree/2e358ce975029ec97aba5994c17d4a2169c3b085/base/reflection.jl#L145\" target=\"_blank\">reflection.jl:145</a></ul>"
      ],
      "text/plain": [
       "# 4 methods for generic function \"methods\":\n",
       "methods(f::Function) at reflection.jl:179\n",
       "methods(f::Function, t::ANY) at reflection.jl:139\n",
       "methods(x::ANY) at reflection.jl:185\n",
       "methods(f::ANY, t::ANY) at reflection.jl:145"
      ]
     },
     "execution_count": 113,
     "metadata": {},
     "output_type": "execute_result"
    }
   ],
   "source": [
    "methods(methods)"
   ]
  },
  {
   "cell_type": "code",
   "execution_count": 114,
   "metadata": {
    "collapsed": false
   },
   "outputs": [
    {
     "data": {
      "text/plain": [
       "84.0"
      ]
     },
     "execution_count": 114,
     "metadata": {},
     "output_type": "execute_result"
    }
   ],
   "source": [
    "60 \\ 5040"
   ]
  },
  {
   "cell_type": "code",
   "execution_count": 116,
   "metadata": {
    "collapsed": false
   },
   "outputs": [
    {
     "data": {
      "text/plain": [
       "0.011904761904761904"
      ]
     },
     "execution_count": 116,
     "metadata": {},
     "output_type": "execute_result"
    }
   ],
   "source": [
    "5040 \\ 60"
   ]
  },
  {
   "cell_type": "markdown",
   "metadata": {},
   "source": [
    "5040 / 60"
   ]
  },
  {
   "cell_type": "code",
   "execution_count": 117,
   "metadata": {
    "collapsed": false
   },
   "outputs": [
    {
     "data": {
      "text/plain": [
       "84.0"
      ]
     },
     "execution_count": 117,
     "metadata": {},
     "output_type": "execute_result"
    }
   ],
   "source": [
    "5040 / 60"
   ]
  },
  {
   "cell_type": "code",
   "execution_count": 118,
   "metadata": {
    "collapsed": false
   },
   "outputs": [
    {
     "data": {
      "text/plain": [
       "addone (generic function with 1 method)"
      ]
     },
     "execution_count": 118,
     "metadata": {},
     "output_type": "execute_result"
    }
   ],
   "source": [
    "addone(x::Int64) = x + 1"
   ]
  },
  {
   "cell_type": "code",
   "execution_count": 119,
   "metadata": {
    "collapsed": false
   },
   "outputs": [
    {
     "data": {
      "text/plain": [
       "11"
      ]
     },
     "execution_count": 119,
     "metadata": {},
     "output_type": "execute_result"
    }
   ],
   "source": [
    "addone(10)"
   ]
  },
  {
   "cell_type": "code",
   "execution_count": 120,
   "metadata": {
    "collapsed": false
   },
   "outputs": [
    {
     "ename": "LoadError",
     "evalue": "LoadError: MethodError: `addone` has no method matching addone(::Float64)\nwhile loading In[120], in expression starting on line 1",
     "output_type": "error",
     "traceback": [
      "LoadError: MethodError: `addone` has no method matching addone(::Float64)\nwhile loading In[120], in expression starting on line 1",
      ""
     ]
    }
   ],
   "source": [
    "addone(10.0)"
   ]
  },
  {
   "cell_type": "code",
   "execution_count": 121,
   "metadata": {
    "collapsed": false
   },
   "outputs": [
    {
     "data": {
      "text/plain": [
       "(1,2)"
      ]
     },
     "execution_count": 121,
     "metadata": {},
     "output_type": "execute_result"
    }
   ],
   "source": [
    "a, b = 1, 2"
   ]
  },
  {
   "cell_type": "code",
   "execution_count": 122,
   "metadata": {
    "collapsed": false
   },
   "outputs": [
    {
     "data": {
      "text/plain": [
       "1"
      ]
     },
     "execution_count": 122,
     "metadata": {},
     "output_type": "execute_result"
    }
   ],
   "source": [
    "b = a"
   ]
  },
  {
   "cell_type": "code",
   "execution_count": 123,
   "metadata": {
    "collapsed": false
   },
   "outputs": [
    {
     "data": {
      "text/plain": [
       "1"
      ]
     },
     "execution_count": 123,
     "metadata": {},
     "output_type": "execute_result"
    }
   ],
   "source": [
    "a = b"
   ]
  },
  {
   "cell_type": "code",
   "execution_count": 124,
   "metadata": {
    "collapsed": false
   },
   "outputs": [
    {
     "data": {
      "text/plain": [
       "1"
      ]
     },
     "execution_count": 124,
     "metadata": {},
     "output_type": "execute_result"
    }
   ],
   "source": [
    "a"
   ]
  },
  {
   "cell_type": "code",
   "execution_count": 125,
   "metadata": {
    "collapsed": false
   },
   "outputs": [
    {
     "name": "stdout",
     "output_type": "stream",
     "text": [
      "22\n"
     ]
    }
   ],
   "source": [
    "println(\"2\"^2)"
   ]
  },
  {
   "cell_type": "code",
   "execution_count": 126,
   "metadata": {
    "collapsed": false
   },
   "outputs": [
    {
     "ename": "LoadError",
     "evalue": "LoadError: syntax: incomplete: premature end of input\nwhile loading In[126], in expression starting on line 1",
     "output_type": "error",
     "traceback": [
      "LoadError: syntax: incomplete: premature end of input\nwhile loading In[126], in expression starting on line 1",
      ""
     ]
    }
   ],
   "source": [
    "function test(input)"
   ]
  },
  {
   "cell_type": "code",
   "execution_count": 128,
   "metadata": {
    "collapsed": false
   },
   "outputs": [
    {
     "data": {
      "text/plain": [
       "test (generic function with 1 method)"
      ]
     },
     "execution_count": 128,
     "metadata": {},
     "output_type": "execute_result"
    }
   ],
   "source": [
    "function test(input)\n",
    "    println(\"$input\"^2)\n",
    "end"
   ]
  },
  {
   "cell_type": "code",
   "execution_count": 129,
   "metadata": {
    "collapsed": false
   },
   "outputs": [
    {
     "name": "stdout",
     "output_type": "stream",
     "text": [
      "22\n"
     ]
    }
   ],
   "source": [
    "test(2)"
   ]
  },
  {
   "cell_type": "code",
   "execution_count": 130,
   "metadata": {
    "collapsed": false
   },
   "outputs": [
    {
     "data": {
      "text/plain": [
       "add2 (generic function with 1 method)"
      ]
     },
     "execution_count": 130,
     "metadata": {},
     "output_type": "execute_result"
    }
   ],
   "source": [
    "add2(x, y) = return x + y"
   ]
  },
  {
   "cell_type": "code",
   "execution_count": 131,
   "metadata": {
    "collapsed": false
   },
   "outputs": [
    {
     "data": {
      "text/plain": [
       "12"
      ]
     },
     "execution_count": 131,
     "metadata": {},
     "output_type": "execute_result"
    }
   ],
   "source": [
    "add2(5, 7)"
   ]
  },
  {
   "cell_type": "code",
   "execution_count": 132,
   "metadata": {
    "collapsed": false
   },
   "outputs": [
    {
     "ename": "LoadError",
     "evalue": "LoadError: syntax: unexpected \"=\"\nwhile loading In[132], in expression starting on line 1",
     "output_type": "error",
     "traceback": [
      "LoadError: syntax: unexpected \"=\"\nwhile loading In[132], in expression starting on line 1",
      ""
     ]
    }
   ],
   "source": [
    "function add2(x,y) = x + y"
   ]
  },
  {
   "cell_type": "code",
   "execution_count": 133,
   "metadata": {
    "collapsed": false
   },
   "outputs": [
    {
     "data": {
      "text/plain": [
       "add2 (generic function with 1 method)"
      ]
     },
     "execution_count": 133,
     "metadata": {},
     "output_type": "execute_result"
    }
   ],
   "source": [
    "add2(x, y) = x + y"
   ]
  },
  {
   "cell_type": "code",
   "execution_count": 134,
   "metadata": {
    "collapsed": false
   },
   "outputs": [
    {
     "data": {
      "text/plain": [
       "12"
      ]
     },
     "execution_count": 134,
     "metadata": {},
     "output_type": "execute_result"
    }
   ],
   "source": [
    "add2(5, 7)"
   ]
  },
  {
   "cell_type": "code",
   "execution_count": 135,
   "metadata": {
    "collapsed": false
   },
   "outputs": [
    {
     "data": {
      "text/plain": [
       "coordinates (generic function with 3 methods)"
      ]
     },
     "execution_count": 135,
     "metadata": {},
     "output_type": "execute_result"
    }
   ],
   "source": [
    "function coordinates(x, y=0, z=0)\n",
    "    println(\"($x, $y, $z)\")\n",
    "end"
   ]
  },
  {
   "cell_type": "code",
   "execution_count": 136,
   "metadata": {
    "collapsed": false
   },
   "outputs": [
    {
     "name": "stdout",
     "output_type": "stream",
     "text": [
      "(1, 2, 0)\n"
     ]
    }
   ],
   "source": [
    "coordinates(1, 2)"
   ]
  },
  {
   "cell_type": "code",
   "execution_count": 137,
   "metadata": {
    "collapsed": false
   },
   "outputs": [
    {
     "name": "stdout",
     "output_type": "stream",
     "text": [
      "(1, 0, 2)\n"
     ]
    }
   ],
   "source": [
    "coordinates(1,0,2)"
   ]
  },
  {
   "cell_type": "code",
   "execution_count": 138,
   "metadata": {
    "collapsed": false
   },
   "outputs": [
    {
     "data": {
      "text/plain": [
       "48"
      ]
     },
     "execution_count": 138,
     "metadata": {},
     "output_type": "execute_result"
    }
   ],
   "source": [
    "(2^2)^3 - 2^4"
   ]
  },
  {
   "cell_type": "code",
   "execution_count": 139,
   "metadata": {
    "collapsed": false
   },
   "outputs": [
    {
     "data": {
      "text/plain": [
       "240"
      ]
     },
     "execution_count": 139,
     "metadata": {},
     "output_type": "execute_result"
    }
   ],
   "source": [
    "2^2^3 - 2^4"
   ]
  },
  {
   "cell_type": "code",
   "execution_count": 140,
   "metadata": {
    "collapsed": false
   },
   "outputs": [
    {
     "data": {
      "text/plain": [
       "36"
      ]
     },
     "execution_count": 140,
     "metadata": {},
     "output_type": "execute_result"
    }
   ],
   "source": [
    "3^2^1^5 + 3^3"
   ]
  },
  {
   "cell_type": "code",
   "execution_count": 142,
   "metadata": {
    "collapsed": false
   },
   "outputs": [
    {
     "name": "stdout",
     "output_type": "stream",
     "text": [
      "36\n"
     ]
    },
    {
     "data": {
      "text/plain": [
       "Void"
      ]
     },
     "execution_count": 142,
     "metadata": {},
     "output_type": "execute_result"
    }
   ],
   "source": [
    "typeof(println(\"$(6*6)\"))"
   ]
  },
  {
   "cell_type": "code",
   "execution_count": 143,
   "metadata": {
    "collapsed": false
   },
   "outputs": [
    {
     "data": {
      "text/plain": [
       "ASCIIString"
      ]
     },
     "execution_count": 143,
     "metadata": {},
     "output_type": "execute_result"
    }
   ],
   "source": [
    "typeof(\"$(6*6)\")"
   ]
  },
  {
   "cell_type": "code",
   "execution_count": 144,
   "metadata": {
    "collapsed": false
   },
   "outputs": [
    {
     "data": {
      "text/plain": [
       "16"
      ]
     },
     "execution_count": 144,
     "metadata": {},
     "output_type": "execute_result"
    }
   ],
   "source": [
    "2^4"
   ]
  },
  {
   "cell_type": "code",
   "execution_count": 145,
   "metadata": {
    "collapsed": false
   },
   "outputs": [
    {
     "data": {
      "text/plain": [
       "64"
      ]
     },
     "execution_count": 145,
     "metadata": {},
     "output_type": "execute_result"
    }
   ],
   "source": [
    "4^3"
   ]
  },
  {
   "cell_type": "code",
   "execution_count": 146,
   "metadata": {
    "collapsed": false
   },
   "outputs": [
    {
     "data": {
      "text/plain": [
       "false"
      ]
     },
     "execution_count": 146,
     "metadata": {},
     "output_type": "execute_result"
    }
   ],
   "source": [
    "false && false"
   ]
  },
  {
   "cell_type": "code",
   "execution_count": 147,
   "metadata": {
    "collapsed": false
   },
   "outputs": [
    {
     "ename": "LoadError",
     "evalue": "LoadError: syntax: extra token \"and\" after end of expression\nwhile loading In[147], in expression starting on line 1",
     "output_type": "error",
     "traceback": [
      "LoadError: syntax: extra token \"and\" after end of expression\nwhile loading In[147], in expression starting on line 1",
      ""
     ]
    }
   ],
   "source": [
    "true and true"
   ]
  },
  {
   "cell_type": "code",
   "execution_count": 148,
   "metadata": {
    "collapsed": false
   },
   "outputs": [
    {
     "data": {
      "text/plain": [
       "true"
      ]
     },
     "execution_count": 148,
     "metadata": {},
     "output_type": "execute_result"
    }
   ],
   "source": [
    "true && true"
   ]
  },
  {
   "cell_type": "code",
   "execution_count": 149,
   "metadata": {
    "collapsed": false
   },
   "outputs": [
    {
     "data": {
      "text/plain": [
       "false"
      ]
     },
     "execution_count": 149,
     "metadata": {},
     "output_type": "execute_result"
    }
   ],
   "source": [
    "true && false"
   ]
  },
  {
   "cell_type": "code",
   "execution_count": 150,
   "metadata": {
    "collapsed": false
   },
   "outputs": [
    {
     "data": {
      "text/plain": [
       "false"
      ]
     },
     "execution_count": 150,
     "metadata": {},
     "output_type": "execute_result"
    }
   ],
   "source": [
    "false || false"
   ]
  },
  {
   "cell_type": "code",
   "execution_count": 156,
   "metadata": {
    "collapsed": false
   },
   "outputs": [
    {
     "data": {
      "text/plain": [
       "4"
      ]
     },
     "execution_count": 156,
     "metadata": {},
     "output_type": "execute_result"
    }
   ],
   "source": [
    "x = "
   ]
  },
  {
   "cell_type": "code",
   "execution_count": 157,
   "metadata": {
    "collapsed": false
   },
   "outputs": [
    {
     "data": {
      "text/plain": [
       "false"
      ]
     },
     "execution_count": 157,
     "metadata": {},
     "output_type": "execute_result"
    }
   ],
   "source": [
    "(x >= 5.0) && (x < 7.0)"
   ]
  },
  {
   "cell_type": "code",
   "execution_count": 158,
   "metadata": {
    "collapsed": false
   },
   "outputs": [
    {
     "data": {
      "text/plain": [
       "true"
      ]
     },
     "execution_count": 158,
     "metadata": {},
     "output_type": "execute_result"
    }
   ],
   "source": [
    "true && false && false || true"
   ]
  },
  {
   "cell_type": "code",
   "execution_count": 159,
   "metadata": {
    "collapsed": false
   },
   "outputs": [
    {
     "data": {
      "text/plain": [
       "false"
      ]
     },
     "execution_count": 159,
     "metadata": {},
     "output_type": "execute_result"
    }
   ],
   "source": [
    "(true && false) && (false || true)"
   ]
  },
  {
   "cell_type": "code",
   "execution_count": 160,
   "metadata": {
    "collapsed": false
   },
   "outputs": [
    {
     "data": {
      "text/plain": [
       "false"
      ]
     },
     "execution_count": 160,
     "metadata": {},
     "output_type": "execute_result"
    }
   ],
   "source": [
    "true && (false && (false || true))"
   ]
  },
  {
   "cell_type": "code",
   "execution_count": 162,
   "metadata": {
    "collapsed": false
   },
   "outputs": [
    {
     "data": {
      "text/plain": [
       "true"
      ]
     },
     "execution_count": 162,
     "metadata": {},
     "output_type": "execute_result"
    }
   ],
   "source": [
    "((true && false) && false) || true"
   ]
  },
  {
   "cell_type": "code",
   "execution_count": 163,
   "metadata": {
    "collapsed": false
   },
   "outputs": [
    {
     "data": {
      "text/plain": [
       "true"
      ]
     },
     "execution_count": 163,
     "metadata": {},
     "output_type": "execute_result"
    }
   ],
   "source": [
    "true && ((false && false) || true)"
   ]
  },
  {
   "cell_type": "code",
   "execution_count": 164,
   "metadata": {
    "collapsed": false
   },
   "outputs": [
    {
     "data": {
      "text/plain": [
       "5x4 Array{Float64,2}:\n",
       " 0.0           9.88131e-324  2.47033e-323  3.45846e-323\n",
       " 4.94066e-324  1.4822e-323   2.47033e-323  3.95253e-323\n",
       " 4.94066e-324  1.4822e-323   2.96439e-323  3.95253e-323\n",
       " 4.94066e-324  1.97626e-323  2.96439e-323  4.44659e-323\n",
       " 9.88131e-324  1.97626e-323  3.45846e-323  4.44659e-323"
      ]
     },
     "execution_count": 164,
     "metadata": {},
     "output_type": "execute_result"
    }
   ],
   "source": [
    "a = 5\n",
    "b = 4\n",
    "matrix = Array(Float64, a, b)"
   ]
  },
  {
   "cell_type": "code",
   "execution_count": 165,
   "metadata": {
    "collapsed": false
   },
   "outputs": [
    {
     "data": {
      "text/plain": [
       "5x2 Array{Float64,2}:\n",
       " 2.16215e-314  2.16215e-314\n",
       " 2.16215e-314  2.16214e-314\n",
       " 2.16214e-314  2.16215e-314\n",
       " 2.16214e-314  2.16214e-314\n",
       " 2.16214e-314  2.16214e-314"
      ]
     },
     "execution_count": 165,
     "metadata": {},
     "output_type": "execute_result"
    }
   ],
   "source": [
    "data = Array(Float64, 5, 2)"
   ]
  },
  {
   "cell_type": "code",
   "execution_count": 166,
   "metadata": {
    "collapsed": false
   },
   "outputs": [
    {
     "data": {
      "text/plain": [
       "5-element Array{Float64,1}:\n",
       " 2.16215e-314\n",
       " 2.16215e-314\n",
       " 2.16214e-314\n",
       " 2.16214e-314\n",
       " 2.16214e-314"
      ]
     },
     "execution_count": 166,
     "metadata": {},
     "output_type": "execute_result"
    }
   ],
   "source": [
    "data[:, 1]"
   ]
  },
  {
   "cell_type": "code",
   "execution_count": 173,
   "metadata": {
    "collapsed": false
   },
   "outputs": [
    {
     "data": {
      "text/plain": [
       "coordinates (generic function with 3 methods)"
      ]
     },
     "execution_count": 173,
     "metadata": {},
     "output_type": "execute_result"
    }
   ],
   "source": [
    "function coordinates(x, y, z)\n",
    "    if x == 0 && y == 0 && z == 0\n",
    "        println(\"origin\")\n",
    "    else\n",
    "        println(\"($x, $y, $z)\")\n",
    "    end\n",
    "end"
   ]
  },
  {
   "cell_type": "code",
   "execution_count": 171,
   "metadata": {
    "collapsed": false
   },
   "outputs": [
    {
     "name": "stdout",
     "output_type": "stream",
     "text": [
      "origin\n"
     ]
    }
   ],
   "source": [
    "coordinates(0, 0, 0)"
   ]
  },
  {
   "cell_type": "code",
   "execution_count": 172,
   "metadata": {
    "collapsed": false
   },
   "outputs": [
    {
     "name": "stdout",
     "output_type": "stream",
     "text": [
      "origin\n"
     ]
    }
   ],
   "source": [
    "coordinates(0,0,2)"
   ]
  },
  {
   "cell_type": "code",
   "execution_count": 174,
   "metadata": {
    "collapsed": false
   },
   "outputs": [
    {
     "data": {
      "text/plain": [
       "(2,3)"
      ]
     },
     "execution_count": 174,
     "metadata": {},
     "output_type": "execute_result"
    }
   ],
   "source": [
    "a, b = 2, 3"
   ]
  },
  {
   "cell_type": "code",
   "execution_count": 175,
   "metadata": {
    "collapsed": false
   },
   "outputs": [
    {
     "data": {
      "text/plain": [
       "(19,3)"
      ]
     },
     "execution_count": 175,
     "metadata": {},
     "output_type": "execute_result"
    }
   ],
   "source": [
    "function f(x)\n",
    "    b = 5\n",
    "    a * x + b\n",
    "end\n",
    "f(7), b"
   ]
  },
  {
   "cell_type": "code",
   "execution_count": 176,
   "metadata": {
    "collapsed": false
   },
   "outputs": [
    {
     "data": {
      "text/plain": [
       "f (generic function with 1 method)"
      ]
     },
     "execution_count": 176,
     "metadata": {},
     "output_type": "execute_result"
    }
   ],
   "source": [
    "function f(x)\n",
    "    return 2x\n",
    "    3x\n",
    "end"
   ]
  },
  {
   "cell_type": "code",
   "execution_count": 177,
   "metadata": {
    "collapsed": false
   },
   "outputs": [
    {
     "data": {
      "text/plain": [
       "10"
      ]
     },
     "execution_count": 177,
     "metadata": {},
     "output_type": "execute_result"
    }
   ],
   "source": [
    "f(5)"
   ]
  },
  {
   "cell_type": "code",
   "execution_count": 178,
   "metadata": {
    "collapsed": false
   },
   "outputs": [
    {
     "ename": "LoadError",
     "evalue": "LoadError: SystemError: opening file wikipediaEVDraw.csv: No such file or directory\nwhile loading In[178], in expression starting on line 1",
     "output_type": "error",
     "traceback": [
      "LoadError: SystemError: opening file wikipediaEVDraw.csv: No such file or directory\nwhile loading In[178], in expression starting on line 1",
      "",
      " in open at /Applications/Julia-0.4.6.app/Contents/Resources/julia/lib/julia/sys.dylib (repeats 2 times)",
      " in readdlm_auto at datafmt.jl:45",
      " in readdlm at datafmt.jl:39",
      " in readdlm at datafmt.jl:37"
     ]
    }
   ],
   "source": [
    "wikiEVDraw = readdlm(\"wikipediaEVDraw.csv\", ',')"
   ]
  },
  {
   "cell_type": "code",
   "execution_count": 179,
   "metadata": {
    "collapsed": false
   },
   "outputs": [
    {
     "name": "stdout",
     "output_type": "stream",
     "text": [
      "Untitled.ipynb\n",
      "Week1_1-WhySpecial.ipynb\n",
      "Week1_2-JuliaBox.ipynb\n",
      "Week1_3-REPL.ipynb\n",
      "Week1_4-ArithmeticalExp.ipynb\n",
      "Week1_5-LogicalExp.ipynb\n",
      "Week1_6-TypeSystem.ipynb\n",
      "Week1_7-Variables.ipynb\n",
      "Week1_8-Functions1.ipynb\n",
      "Week1_9-Functions2.ipynb\n",
      "Week1_Lecture2_1-JuliaBox.png\n",
      "Week1_Lecture2_2-Notebook.png\n",
      "style.css\n"
     ]
    }
   ],
   "source": [
    ";ls"
   ]
  },
  {
   "cell_type": "code",
   "execution_count": 180,
   "metadata": {
    "collapsed": false
   },
   "outputs": [
    {
     "name": "stdout",
     "output_type": "stream",
     "text": [
      "/Users/bradley/Desktop/Julia/JuliaCourseNotebooks\n"
     ]
    }
   ],
   "source": [
    ";cd .."
   ]
  },
  {
   "cell_type": "code",
   "execution_count": 181,
   "metadata": {
    "collapsed": false
   },
   "outputs": [
    {
     "name": "stdout",
     "output_type": "stream",
     "text": [
      "Julia_Week1\n",
      "Julia_Week2\n",
      "Julia_Week3\n",
      "Julia_Week4\n"
     ]
    }
   ],
   "source": [
    ";ls"
   ]
  },
  {
   "cell_type": "code",
   "execution_count": 182,
   "metadata": {
    "collapsed": false
   },
   "outputs": [
    {
     "name": "stdout",
     "output_type": "stream",
     "text": [
      "/Users/bradley/Desktop/Julia/JuliaCourseNotebooks/Julia_Week2\n"
     ]
    }
   ],
   "source": [
    ";cd Julia_Week2"
   ]
  },
  {
   "cell_type": "code",
   "execution_count": 183,
   "metadata": {
    "collapsed": false
   },
   "outputs": [
    {
     "data": {
      "text/plain": [
       "54x9 Array{Any,2}:\n",
       " \"25 Nov 2015\"  28637  11314  3804  2536  …  4808     14122     3955   \n",
       " \"18 Nov 2015\"  28634  11314  3804  2536     4808     14122     3955   \n",
       " \"11 Nov 2015\"  28635  11314  3805  2536     4808     14122     3955   \n",
       " \"4 Nov 2015\"   28607  11314  3810  2536     4808     14089     3955   \n",
       " \"25 Oct 2015\"  28539  11298  3806  2535     4808     14061     3955   \n",
       " \"18 Oct 2015\"  28476  11298  3803  2535  …  4808     14001     3955   \n",
       " \"11 Oct 2015\"  28454  11297  3800  2534     4808     13982     3955   \n",
       " \"27 Sep 2015\"  28388  11296  3805  2533     4808     13911     3955   \n",
       " \"20 Sep 2015\"  28295  11295  3800  2532     4808     13823     3955   \n",
       " \"13 Sep 2015\"  28220  11291  3792  2530     4808     13756     3953   \n",
       " \"6 Sep 2015\"   28147  11291  3792  2530  …  4808     13683     3953   \n",
       " \"30 Aug 2015\"  28073  11290  3792  2529     4808     13609     3953   \n",
       " \"16 Aug 2015\"  27952  11284  3786  2524     4808     13494     3952   \n",
       " ⋮                                        ⋱                            \n",
       " \"9 Aug 2014\"    1835   1011   506   373      323       730      315   \n",
       " \"30 Jul 2014\"   1437    825   472   346      227       574      252   \n",
       " \"23 Jul 2014\"   1201    672   427   319      129       525      224   \n",
       " \"14 Jul 2014\"    982    613   411   310  …   106       397      197   \n",
       " \"2 Jul 2014\"     779    481   412   305       75       252      101   \n",
       " \"17 Jun 2014\"    528    337   398   264       24        97       49   \n",
       " \"27 May 2014\"    309    202   281   186       11        16        5   \n",
       " \"12 May 2014\"    260    182   248   171       11          \"–\"      \"–\"\n",
       " \"1 May 2014\"     239    160   226   149  …    11          \"-\"      \"-\"\n",
       " \"14 Apr 2014\"    176    110   168   108        2          \"–\"      \"–\"\n",
       " \"31 Mar 2014\"    130     82   122    80        2          \"–\"      \"–\"\n",
       " \"22 Mar 2014\"     49     29    49    29         \"–\"       \"–\"      \"–\""
      ]
     },
     "execution_count": 183,
     "metadata": {},
     "output_type": "execute_result"
    }
   ],
   "source": [
    "wikiEVDraw = readdlm(\"wikipediaEVDraw.csv\", ',')"
   ]
  },
  {
   "cell_type": "code",
   "execution_count": 184,
   "metadata": {
    "collapsed": false
   },
   "outputs": [
    {
     "name": "stdout",
     "output_type": "stream",
     "text": [
      "search: linreg linrange LineNumberNode\n",
      "\n"
     ]
    },
    {
     "data": {
      "text/markdown": [
       "```\n",
       "linreg(x, y, w)\n",
       "```\n",
       "\n",
       "Weighted least-squares linear regression.\n",
       "\n",
       "```\n",
       "linreg(x, y) -> a, b\n",
       "```\n",
       "\n",
       "Perform linear regression. Returns `a` and `b` such that `a + b*x` is the closest straight line to the given points `(x, y)`, i.e., such that the squared error between `y` and `a + b*x` is minimized.\n",
       "\n",
       "**Example**:\n",
       "\n",
       "```\n",
       "using PyPlot\n",
       "x = [1.0:12.0;]\n",
       "y = [5.5, 6.3, 7.6, 8.8, 10.9, 11.79, 13.48, 15.02, 17.77, 20.81, 22.0, 22.99]\n",
       "a, b = linreg(x, y)          # Linear regression\n",
       "plot(x, y, \"o\")              # Plot (x, y) points\n",
       "plot(x, [a+b*i for i in x])  # Plot line determined by linear regression\n",
       "```\n"
      ],
      "text/plain": [
       "```\n",
       "linreg(x, y, w)\n",
       "```\n",
       "\n",
       "Weighted least-squares linear regression.\n",
       "\n",
       "```\n",
       "linreg(x, y) -> a, b\n",
       "```\n",
       "\n",
       "Perform linear regression. Returns `a` and `b` such that `a + b*x` is the closest straight line to the given points `(x, y)`, i.e., such that the squared error between `y` and `a + b*x` is minimized.\n",
       "\n",
       "**Example**:\n",
       "\n",
       "```\n",
       "using PyPlot\n",
       "x = [1.0:12.0;]\n",
       "y = [5.5, 6.3, 7.6, 8.8, 10.9, 11.79, 13.48, 15.02, 17.77, 20.81, 22.0, 22.99]\n",
       "a, b = linreg(x, y)          # Linear regression\n",
       "plot(x, y, \"o\")              # Plot (x, y) points\n",
       "plot(x, [a+b*i for i in x])  # Plot line determined by linear regression\n",
       "```\n"
      ]
     },
     "execution_count": 184,
     "metadata": {},
     "output_type": "execute_result"
    }
   ],
   "source": [
    "?linreg"
   ]
  },
  {
   "cell_type": "code",
   "execution_count": 186,
   "metadata": {
    "collapsed": false
   },
   "outputs": [
    {
     "ename": "LoadError",
     "evalue": "LoadError: syntax: \"linreg(wikiEVDraw[:,2],wikiEVDraw[:,3])\" is not a valid function argument name\nwhile loading In[186], in expression starting on line 1",
     "output_type": "error",
     "traceback": [
      "LoadError: syntax: \"linreg(wikiEVDraw[:,2],wikiEVDraw[:,3])\" is not a valid function argument name\nwhile loading In[186], in expression starting on line 1",
      ""
     ]
    }
   ],
   "source": [
    "linreg(wikiEVDraw[:,2], wikiEVDraw[:,3]) -> a, b"
   ]
  },
  {
   "cell_type": "code",
   "execution_count": 188,
   "metadata": {
    "collapsed": false
   },
   "outputs": [
    {
     "data": {
      "text/plain": [
       "54-element Array{Any,1}:\n",
       " 28637\n",
       " 28634\n",
       " 28635\n",
       " 28607\n",
       " 28539\n",
       " 28476\n",
       " 28454\n",
       " 28388\n",
       " 28295\n",
       " 28220\n",
       " 28147\n",
       " 28073\n",
       " 27952\n",
       "     ⋮\n",
       "  1835\n",
       "  1437\n",
       "  1201\n",
       "   982\n",
       "   779\n",
       "   528\n",
       "   309\n",
       "   260\n",
       "   239\n",
       "   176\n",
       "   130\n",
       "    49"
      ]
     },
     "execution_count": 188,
     "metadata": {},
     "output_type": "execute_result"
    }
   ],
   "source": [
    "x = wikiEVDraw[:, 2]"
   ]
  },
  {
   "cell_type": "code",
   "execution_count": 189,
   "metadata": {
    "collapsed": false
   },
   "outputs": [
    {
     "data": {
      "text/plain": [
       "54-element Array{Any,1}:\n",
       " 11314\n",
       " 11314\n",
       " 11314\n",
       " 11314\n",
       " 11298\n",
       " 11298\n",
       " 11297\n",
       " 11296\n",
       " 11295\n",
       " 11291\n",
       " 11291\n",
       " 11290\n",
       " 11284\n",
       "     ⋮\n",
       "  1011\n",
       "   825\n",
       "   672\n",
       "   613\n",
       "   481\n",
       "   337\n",
       "   202\n",
       "   182\n",
       "   160\n",
       "   110\n",
       "    82\n",
       "    29"
      ]
     },
     "execution_count": 189,
     "metadata": {},
     "output_type": "execute_result"
    }
   ],
   "source": [
    "y = wikiEVDraw[:, 3]"
   ]
  },
  {
   "cell_type": "code",
   "execution_count": 190,
   "metadata": {
    "collapsed": false
   },
   "outputs": [
    {
     "ename": "LoadError",
     "evalue": "LoadError: UndefVarError: plot not defined\nwhile loading In[190], in expression starting on line 1",
     "output_type": "error",
     "traceback": [
      "LoadError: UndefVarError: plot not defined\nwhile loading In[190], in expression starting on line 1",
      ""
     ]
    }
   ],
   "source": [
    "plot(x, y, \"o\")"
   ]
  },
  {
   "cell_type": "code",
   "execution_count": 191,
   "metadata": {
    "collapsed": true
   },
   "outputs": [],
   "source": [
    "using Plots"
   ]
  },
  {
   "cell_type": "code",
   "execution_count": 192,
   "metadata": {
    "collapsed": false
   },
   "outputs": [
    {
     "name": "stdout",
     "output_type": "stream",
     "text": [
      "[Plots.jl] Initializing backend: pyplot\n"
     ]
    },
    {
     "name": "stderr",
     "output_type": "stream",
     "text": [
      "INFO: Recompiling stale cache file /Users/bradley/.julia/lib/v0.4/PyPlot.ji for module PyPlot.\n",
      "INFO: Recompiling stale cache file /Users/bradley/.julia/lib/v0.4/PyCall.ji for module PyCall.\n",
      "INFO: Recompiling stale cache file /Users/bradley/.julia/lib/v0.4/Conda.ji for module Conda.\n"
     ]
    },
    {
     "ename": "LoadError",
     "evalue": "LoadError: In convertToAnyVector, could not handle the argument types: (ASCIIString,)\nwhile loading In[192], in expression starting on line 1",
     "output_type": "error",
     "traceback": [
      "LoadError: In convertToAnyVector, could not handle the argument types: (ASCIIString,)\nwhile loading In[192], in expression starting on line 1",
      "",
      " in error at /Applications/Julia-0.4.6.app/Contents/Resources/julia/lib/julia/sys.dylib",
      " [inlined code] from /Users/bradley/.julia/v0.4/Plots/src/series.jl:113",
      " in apply_recipe at /Users/bradley/.julia/v0.4/RecipesBase/src/RecipesBase.jl:238",
      " in _process_userrecipes at /Users/bradley/.julia/v0.4/Plots/src/pipeline.jl:73",
      " in _plot! at /Users/bradley/.julia/v0.4/Plots/src/plot.jl:157",
      " in plot at /Users/bradley/.julia/v0.4/Plots/src/plot.jl:52"
     ]
    }
   ],
   "source": [
    "plot(x, y, \"o\")"
   ]
  },
  {
   "cell_type": "code",
   "execution_count": 194,
   "metadata": {
    "collapsed": false
   },
   "outputs": [
    {
     "ename": "LoadError",
     "evalue": "LoadError: ArgumentError: Dates not found in path\nwhile loading In[194], in expression starting on line 1",
     "output_type": "error",
     "traceback": [
      "LoadError: ArgumentError: Dates not found in path\nwhile loading In[194], in expression starting on line 1",
      "",
      " in require at /Applications/Julia-0.4.6.app/Contents/Resources/julia/lib/julia/sys.dylib"
     ]
    }
   ],
   "source": [
    "using Dates"
   ]
  },
  {
   "cell_type": "code",
   "execution_count": 195,
   "metadata": {
    "collapsed": false
   },
   "outputs": [
    {
     "data": {
      "text/plain": [
       "2015-11-25T00:00:00"
      ]
     },
     "execution_count": 195,
     "metadata": {},
     "output_type": "execute_result"
    }
   ],
   "source": [
    "DateTime(wikiEVDraw[1, 1], \"d u y\")"
   ]
  },
  {
   "cell_type": "code",
   "execution_count": 196,
   "metadata": {
    "collapsed": false
   },
   "outputs": [
    {
     "ename": "LoadError",
     "evalue": "LoadError: UndefVarError: count not defined\nwhile loading In[196], in expression starting on line 1",
     "output_type": "error",
     "traceback": [
      "LoadError: UndefVarError: count not defined\nwhile loading In[196], in expression starting on line 1",
      "",
      " [inlined code] from In[196]:2",
      " in anonymous at no file:0"
     ]
    }
   ],
   "source": [
    "for i = 1:3\n",
    "    count += i\n",
    "    return count\n",
    "end"
   ]
  },
  {
   "cell_type": "code",
   "execution_count": 197,
   "metadata": {
    "collapsed": false
   },
   "outputs": [
    {
     "data": {
      "text/plain": [
       "0"
      ]
     },
     "execution_count": 197,
     "metadata": {},
     "output_type": "execute_result"
    }
   ],
   "source": [
    "count = 0"
   ]
  },
  {
   "cell_type": "code",
   "execution_count": 198,
   "metadata": {
    "collapsed": false
   },
   "outputs": [
    {
     "data": {
      "text/plain": [
       "1"
      ]
     },
     "execution_count": 198,
     "metadata": {},
     "output_type": "execute_result"
    }
   ],
   "source": [
    "for i = 1:3\n",
    "    count += i\n",
    "    return count\n",
    "end"
   ]
  },
  {
   "cell_type": "code",
   "execution_count": 199,
   "metadata": {
    "collapsed": false
   },
   "outputs": [
    {
     "data": {
      "text/plain": [
       "54-element Array{Any,1}:\n",
       " \"25 Nov 2015\"\n",
       " \"18 Nov 2015\"\n",
       " \"11 Nov 2015\"\n",
       " \"4 Nov 2015\" \n",
       " \"25 Oct 2015\"\n",
       " \"18 Oct 2015\"\n",
       " \"11 Oct 2015\"\n",
       " \"27 Sep 2015\"\n",
       " \"20 Sep 2015\"\n",
       " \"13 Sep 2015\"\n",
       " \"6 Sep 2015\" \n",
       " \"30 Aug 2015\"\n",
       " \"16 Aug 2015\"\n",
       " ⋮            \n",
       " \"9 Aug 2014\" \n",
       " \"30 Jul 2014\"\n",
       " \"23 Jul 2014\"\n",
       " \"14 Jul 2014\"\n",
       " \"2 Jul 2014\" \n",
       " \"17 Jun 2014\"\n",
       " \"27 May 2014\"\n",
       " \"12 May 2014\"\n",
       " \"1 May 2014\" \n",
       " \"14 Apr 2014\"\n",
       " \"31 Mar 2014\"\n",
       " \"22 Mar 2014\""
      ]
     },
     "execution_count": 199,
     "metadata": {},
     "output_type": "execute_result"
    }
   ],
   "source": [
    "col1 = wikiEVDraw[:, 1]"
   ]
  },
  {
   "cell_type": "code",
   "execution_count": 201,
   "metadata": {
    "collapsed": false
   },
   "outputs": [],
   "source": [
    "for i = 1:54\n",
    "    col1[i] = DateTime(col1[i], \"d u y\")\n",
    "end"
   ]
  },
  {
   "cell_type": "markdown",
   "metadata": {},
   "source": [
    "col1"
   ]
  },
  {
   "cell_type": "code",
   "execution_count": 202,
   "metadata": {
    "collapsed": false
   },
   "outputs": [
    {
     "data": {
      "text/plain": [
       "54-element Array{Any,1}:\n",
       " 2015-11-25T00:00:00\n",
       " 2015-11-18T00:00:00\n",
       " 2015-11-11T00:00:00\n",
       " 2015-11-04T00:00:00\n",
       " 2015-10-25T00:00:00\n",
       " 2015-10-18T00:00:00\n",
       " 2015-10-11T00:00:00\n",
       " 2015-09-27T00:00:00\n",
       " 2015-09-20T00:00:00\n",
       " 2015-09-13T00:00:00\n",
       " 2015-09-06T00:00:00\n",
       " 2015-08-30T00:00:00\n",
       " 2015-08-16T00:00:00\n",
       " ⋮                  \n",
       " 2014-08-09T00:00:00\n",
       " 2014-07-30T00:00:00\n",
       " 2014-07-23T00:00:00\n",
       " 2014-07-14T00:00:00\n",
       " 2014-07-02T00:00:00\n",
       " 2014-06-17T00:00:00\n",
       " 2014-05-27T00:00:00\n",
       " 2014-05-12T00:00:00\n",
       " 2014-05-01T00:00:00\n",
       " 2014-04-14T00:00:00\n",
       " 2014-03-31T00:00:00\n",
       " 2014-03-22T00:00:00"
      ]
     },
     "execution_count": 202,
     "metadata": {},
     "output_type": "execute_result"
    }
   ],
   "source": [
    "col1"
   ]
  },
  {
   "cell_type": "code",
   "execution_count": 203,
   "metadata": {
    "collapsed": true
   },
   "outputs": [],
   "source": [
    "for i = 1:54\n",
    "    wikiEVDraw[:, 1] = col1[i]\n",
    "end"
   ]
  },
  {
   "cell_type": "code",
   "execution_count": 204,
   "metadata": {
    "collapsed": false
   },
   "outputs": [
    {
     "data": {
      "text/plain": [
       "54x9 Array{Any,2}:\n",
       " 2014-03-22T00:00:00  28637  11314  3804  2536  …  4808     14122     3955   \n",
       " 2014-03-22T00:00:00  28634  11314  3804  2536     4808     14122     3955   \n",
       " 2014-03-22T00:00:00  28635  11314  3805  2536     4808     14122     3955   \n",
       " 2014-03-22T00:00:00  28607  11314  3810  2536     4808     14089     3955   \n",
       " 2014-03-22T00:00:00  28539  11298  3806  2535     4808     14061     3955   \n",
       " 2014-03-22T00:00:00  28476  11298  3803  2535  …  4808     14001     3955   \n",
       " 2014-03-22T00:00:00  28454  11297  3800  2534     4808     13982     3955   \n",
       " 2014-03-22T00:00:00  28388  11296  3805  2533     4808     13911     3955   \n",
       " 2014-03-22T00:00:00  28295  11295  3800  2532     4808     13823     3955   \n",
       " 2014-03-22T00:00:00  28220  11291  3792  2530     4808     13756     3953   \n",
       " 2014-03-22T00:00:00  28147  11291  3792  2530  …  4808     13683     3953   \n",
       " 2014-03-22T00:00:00  28073  11290  3792  2529     4808     13609     3953   \n",
       " 2014-03-22T00:00:00  27952  11284  3786  2524     4808     13494     3952   \n",
       " ⋮                                              ⋱                            \n",
       " 2014-03-22T00:00:00   1835   1011   506   373      323       730      315   \n",
       " 2014-03-22T00:00:00   1437    825   472   346      227       574      252   \n",
       " 2014-03-22T00:00:00   1201    672   427   319      129       525      224   \n",
       " 2014-03-22T00:00:00    982    613   411   310  …   106       397      197   \n",
       " 2014-03-22T00:00:00    779    481   412   305       75       252      101   \n",
       " 2014-03-22T00:00:00    528    337   398   264       24        97       49   \n",
       " 2014-03-22T00:00:00    309    202   281   186       11        16        5   \n",
       " 2014-03-22T00:00:00    260    182   248   171       11          \"–\"      \"–\"\n",
       " 2014-03-22T00:00:00    239    160   226   149  …    11          \"-\"      \"-\"\n",
       " 2014-03-22T00:00:00    176    110   168   108        2          \"–\"      \"–\"\n",
       " 2014-03-22T00:00:00    130     82   122    80        2          \"–\"      \"–\"\n",
       " 2014-03-22T00:00:00     49     29    49    29         \"–\"       \"–\"      \"–\""
      ]
     },
     "execution_count": 204,
     "metadata": {},
     "output_type": "execute_result"
    }
   ],
   "source": [
    "wikiEVDraw"
   ]
  },
  {
   "cell_type": "code",
   "execution_count": 205,
   "metadata": {
    "collapsed": false
   },
   "outputs": [
    {
     "data": {
      "text/plain": [
       "735314"
      ]
     },
     "execution_count": 205,
     "metadata": {},
     "output_type": "execute_result"
    }
   ],
   "source": [
    "Dates.datetime2rata(col1[54])"
   ]
  },
  {
   "cell_type": "code",
   "execution_count": 208,
   "metadata": {
    "collapsed": false
   },
   "outputs": [
    {
     "data": {
      "text/plain": [
       "dayssincemar22 (generic function with 1 method)"
      ]
     },
     "execution_count": 208,
     "metadata": {},
     "output_type": "execute_result"
    }
   ],
   "source": [
    "dayssincemar22(x) = Dates.datetime2rata(x) - Dates.datetime2rata(col1[54])"
   ]
  },
  {
   "cell_type": "code",
   "execution_count": 209,
   "metadata": {
    "collapsed": false
   },
   "outputs": [],
   "source": [
    "epidays = Array(Int64, 54)\n",
    "for i = 1:54\n",
    "    epidays[i] = dayssincemar22(col1[i])\n",
    "end"
   ]
  },
  {
   "cell_type": "code",
   "execution_count": 210,
   "metadata": {
    "collapsed": false
   },
   "outputs": [
    {
     "data": {
      "text/plain": [
       "54-element Array{Int64,1}:\n",
       " 613\n",
       " 606\n",
       " 599\n",
       " 592\n",
       " 582\n",
       " 575\n",
       " 568\n",
       " 554\n",
       " 547\n",
       " 540\n",
       " 533\n",
       " 526\n",
       " 512\n",
       "   ⋮\n",
       " 140\n",
       " 130\n",
       " 123\n",
       " 114\n",
       " 102\n",
       "  87\n",
       "  66\n",
       "  51\n",
       "  40\n",
       "  23\n",
       "   9\n",
       "   0"
      ]
     },
     "execution_count": 210,
     "metadata": {},
     "output_type": "execute_result"
    }
   ],
   "source": [
    "epidays"
   ]
  },
  {
   "cell_type": "code",
   "execution_count": 211,
   "metadata": {
    "collapsed": false
   },
   "outputs": [
    {
     "data": {
      "text/plain": [
       "test (generic function with 1 method)"
      ]
     },
     "execution_count": 211,
     "metadata": {},
     "output_type": "execute_result"
    }
   ],
   "source": [
    "function test(x)\n",
    "    if x == 1\n",
    "        return 1\n",
    "    end\n",
    "    if x <= 0\n",
    "        return 0\n",
    "    end\n",
    "    return test(x - 1) + test(x - 2)\n",
    "end\n"
   ]
  },
  {
   "cell_type": "code",
   "execution_count": 212,
   "metadata": {
    "collapsed": false
   },
   "outputs": [
    {
     "data": {
      "text/plain": [
       "1"
      ]
     },
     "execution_count": 212,
     "metadata": {},
     "output_type": "execute_result"
    }
   ],
   "source": [
    "test(1)"
   ]
  },
  {
   "cell_type": "code",
   "execution_count": 213,
   "metadata": {
    "collapsed": false
   },
   "outputs": [
    {
     "data": {
      "text/plain": [
       "0"
      ]
     },
     "execution_count": 213,
     "metadata": {},
     "output_type": "execute_result"
    }
   ],
   "source": [
    "test(0)"
   ]
  },
  {
   "cell_type": "code",
   "execution_count": 214,
   "metadata": {
    "collapsed": false
   },
   "outputs": [
    {
     "data": {
      "text/plain": [
       "1"
      ]
     },
     "execution_count": 214,
     "metadata": {},
     "output_type": "execute_result"
    }
   ],
   "source": [
    "test(2)"
   ]
  },
  {
   "cell_type": "code",
   "execution_count": 215,
   "metadata": {
    "collapsed": false
   },
   "outputs": [
    {
     "data": {
      "text/plain": [
       "2"
      ]
     },
     "execution_count": 215,
     "metadata": {},
     "output_type": "execute_result"
    }
   ],
   "source": [
    "test(3)"
   ]
  },
  {
   "cell_type": "code",
   "execution_count": 216,
   "metadata": {
    "collapsed": false
   },
   "outputs": [
    {
     "data": {
      "text/plain": [
       "12"
      ]
     },
     "execution_count": 216,
     "metadata": {},
     "output_type": "execute_result"
    }
   ],
   "source": [
    "summedvals = 3\n",
    "for k = 1:2:5\n",
    "    summedvals += k\n",
    "end\n",
    "summedvals"
   ]
  },
  {
   "cell_type": "code",
   "execution_count": 217,
   "metadata": {
    "collapsed": false
   },
   "outputs": [
    {
     "name": "stdout",
     "output_type": "stream",
     "text": [
      "search: for UniformScaling foldr floor ifloor mapfoldr FloatRange factor\n",
      "\n"
     ]
    },
    {
     "data": {
      "text/markdown": [
       "`for` loops repeatedly evaluate the body of the loop by iterating over a sequence of values.  For example:\n",
       "\n",
       "```\n",
       "for i in [1,4,0]\n",
       "    println(i)\n",
       "end\n",
       "```\n"
      ],
      "text/plain": [
       "`for` loops repeatedly evaluate the body of the loop by iterating over a sequence of values.  For example:\n",
       "\n",
       "```\n",
       "for i in [1,4,0]\n",
       "    println(i)\n",
       "end\n",
       "```\n"
      ]
     },
     "execution_count": 217,
     "metadata": {},
     "output_type": "execute_result"
    }
   ],
   "source": [
    "?for"
   ]
  },
  {
   "cell_type": "code",
   "execution_count": 219,
   "metadata": {
    "collapsed": false
   },
   "outputs": [
    {
     "name": "stdout",
     "output_type": "stream",
     "text": [
      "1\n",
      "3\n",
      "5\n"
     ]
    }
   ],
   "source": [
    "for i = 1:2:5\n",
    "    println(i)\n",
    "end"
   ]
  },
  {
   "cell_type": "code",
   "execution_count": 220,
   "metadata": {
    "collapsed": false
   },
   "outputs": [
    {
     "data": {
      "text/plain": [
       "1:2:3"
      ]
     },
     "execution_count": 220,
     "metadata": {},
     "output_type": "execute_result"
    }
   ],
   "source": [
    "1:2:3"
   ]
  },
  {
   "cell_type": "code",
   "execution_count": 222,
   "metadata": {
    "collapsed": false
   },
   "outputs": [
    {
     "name": "stdout",
     "output_type": "stream",
     "text": [
      "1\n",
      "3\n"
     ]
    }
   ],
   "source": [
    "for i = 1:2:3\n",
    "    println(i)\n",
    "end"
   ]
  },
  {
   "cell_type": "code",
   "execution_count": 223,
   "metadata": {
    "collapsed": false
   },
   "outputs": [
    {
     "name": "stdout",
     "output_type": "stream",
     "text": [
      "1\n",
      "4\n",
      "7\n"
     ]
    }
   ],
   "source": [
    "for i = 1:3:9\n",
    "    println(i)\n",
    "end"
   ]
  },
  {
   "cell_type": "code",
   "execution_count": 224,
   "metadata": {
    "collapsed": true
   },
   "outputs": [],
   "source": [
    "mylist = [3, 2, 1]\n",
    "count = 1\n",
    "for i in mylist\n",
    "    mylist[i] = count\n",
    "    count += 1\n",
    "end"
   ]
  },
  {
   "cell_type": "code",
   "execution_count": 225,
   "metadata": {
    "collapsed": false
   },
   "outputs": [
    {
     "data": {
      "text/plain": [
       "1"
      ]
     },
     "execution_count": 225,
     "metadata": {},
     "output_type": "execute_result"
    }
   ],
   "source": [
    "mylist[3]"
   ]
  },
  {
   "cell_type": "code",
   "execution_count": 226,
   "metadata": {
    "collapsed": true
   },
   "outputs": [],
   "source": [
    "using Plots"
   ]
  },
  {
   "cell_type": "code",
   "execution_count": 227,
   "metadata": {
    "collapsed": false
   },
   "outputs": [
    {
     "data": {
      "text/plain": [
       "54-element Array{Int64,1}:\n",
       " 613\n",
       " 606\n",
       " 599\n",
       " 592\n",
       " 582\n",
       " 575\n",
       " 568\n",
       " 554\n",
       " 547\n",
       " 540\n",
       " 533\n",
       " 526\n",
       " 512\n",
       "   ⋮\n",
       " 140\n",
       " 130\n",
       " 123\n",
       " 114\n",
       " 102\n",
       "  87\n",
       "  66\n",
       "  51\n",
       "  40\n",
       "  23\n",
       "   9\n",
       "   0"
      ]
     },
     "execution_count": 227,
     "metadata": {},
     "output_type": "execute_result"
    }
   ],
   "source": [
    "epidays"
   ]
  },
  {
   "cell_type": "code",
   "execution_count": 228,
   "metadata": {
    "collapsed": false
   },
   "outputs": [
    {
     "data": {
      "text/plain": [
       "54-element Array{Any,1}:\n",
       " 28637\n",
       " 28634\n",
       " 28635\n",
       " 28607\n",
       " 28539\n",
       " 28476\n",
       " 28454\n",
       " 28388\n",
       " 28295\n",
       " 28220\n",
       " 28147\n",
       " 28073\n",
       " 27952\n",
       "     ⋮\n",
       "  1835\n",
       "  1437\n",
       "  1201\n",
       "   982\n",
       "   779\n",
       "   528\n",
       "   309\n",
       "   260\n",
       "   239\n",
       "   176\n",
       "   130\n",
       "    49"
      ]
     },
     "execution_count": 228,
     "metadata": {},
     "output_type": "execute_result"
    }
   ],
   "source": [
    "allcases = wikiEVDraw[:, 2]"
   ]
  },
  {
   "cell_type": "code",
   "execution_count": 229,
   "metadata": {
    "collapsed": false
   },
   "outputs": [
    {
     "data": {
      "text/plain": [
       "Plots.PyPlotBackend()"
      ]
     },
     "execution_count": 229,
     "metadata": {},
     "output_type": "execute_result"
    }
   ],
   "source": [
    "pyplot()"
   ]
  },
  {
   "cell_type": "code",
   "execution_count": 230,
   "metadata": {
    "collapsed": false
   },
   "outputs": [
    {
     "data": {
      "text/html": [
       "<img src=\"data:image/png;base64,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\" />"
      ]
     },
     "execution_count": 230,
     "metadata": {},
     "output_type": "execute_result"
    }
   ],
   "source": [
    "plot(epidays, allcases)"
   ]
  },
  {
   "cell_type": "code",
   "execution_count": 231,
   "metadata": {
    "collapsed": false
   },
   "outputs": [
    {
     "data": {
      "text/html": [
       "<img src=\"data:image/png;base64,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\" />"
      ]
     },
     "execution_count": 231,
     "metadata": {},
     "output_type": "execute_result"
    }
   ],
   "source": [
    "plot(epidays, allcases, linetype = :scatter, marker = :diamond)"
   ]
  },
  {
   "cell_type": "code",
   "execution_count": 234,
   "metadata": {
    "collapsed": false
   },
   "outputs": [
    {
     "data": {
      "text/html": [
       "<img src=\"data:image/png;base64,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\" />"
      ]
     },
     "execution_count": 234,
     "metadata": {},
     "output_type": "execute_result"
    }
   ],
   "source": [
    "WAEVDEpidemic = plot(epidays, allcases,\n",
    "title = \"West African EVD epidemic, total cases\",\n",
    "xlabel = \"Days since 22 March 2014\",\n",
    "ylabel = \"Total cases to date (three countries)\",\n",
    "marker = (:diamond, 8), # note parens\n",
    "line = (:path, :dot, :gray),\n",
    "legend = false,\n",
    "grid = false)"
   ]
  },
  {
   "cell_type": "code",
   "execution_count": 236,
   "metadata": {
    "collapsed": false
   },
   "outputs": [],
   "source": [
    "savefig(\"WAEVDEpidemic\")"
   ]
  },
  {
   "cell_type": "code",
   "execution_count": 237,
   "metadata": {
    "collapsed": true
   },
   "outputs": [],
   "source": [
    "savefig(\"WAEVDEpidemic.pdf\")"
   ]
  },
  {
   "cell_type": "code",
   "execution_count": 238,
   "metadata": {
    "collapsed": false
   },
   "outputs": [
    {
     "name": "stdout",
     "output_type": "stream",
     "text": [
      "WAEVDEpidemic.pdf\n",
      "WAEVDEpidemic.png\n",
      "Week2_1-EbolaExample.ipynb\n",
      "Week2_2_1-LoadingData.ipynb\n",
      "Week2_2_2_CreateCSV.ipynb\n",
      "Week2_3-ForLoops.ipynb\n",
      "Week2_4-SimplePlots.ipynb\n",
      "Week2_5-MultipleCurves.ipynb\n",
      "Week2_Lecture2_1-Wikipedia-EVD-cases.png\n",
      "Week2_Lecture2_2-Wikipedia-EVD-data.png\n",
      "style.css\n",
      "wikipediaEVDdatesconverted.csv\n",
      "wikipediaEVDraw.csv\n",
      "wkpda_EVDtableofcases.png\n"
     ]
    }
   ],
   "source": [
    ";ls"
   ]
  },
  {
   "cell_type": "code",
   "execution_count": 240,
   "metadata": {
    "collapsed": false
   },
   "outputs": [
    {
     "data": {
      "text/plain": [
       "10x9 Array{Any,2}:\n",
       " 123  1201  672  427  319  249     129     525     224   \n",
       " 114   982  613  411  310  174     106     397     197   \n",
       " 102   779  481  412  305  115      75     252     101   \n",
       "  87   528  337  398  264   33      24      97      49   \n",
       "  66   309  202  281  186   12      11      16       5   \n",
       "  51   260  182  248  171   12      11        \"–\"     \"–\"\n",
       "  40   239  160  226  149   13      11        \"-\"     \"-\"\n",
       "  23   176  110  168  108    8       2        \"–\"     \"–\"\n",
       "   9   130   82  122   80    8       2        \"–\"     \"–\"\n",
       "   0    49   29   49   29     \"–\"     \"–\"     \"–\"     \"–\""
      ]
     },
     "execution_count": 240,
     "metadata": {},
     "output_type": "execute_result"
    }
   ],
   "source": [
    "EVDdata = readdlm(\"wikipediaEVDdatesconverted.csv\", ',')\n",
    "EVDdata[end-9:end, :]"
   ]
  },
  {
   "cell_type": "code",
   "execution_count": 247,
   "metadata": {
    "collapsed": false
   },
   "outputs": [
    {
     "name": "stdout",
     "output_type": "stream",
     "text": [
      "a now has the value 0.879959843776249\n",
      "this is quite a large value\n"
     ]
    }
   ],
   "source": [
    "a = rand()\n",
    "println(\"a now has the value $a\")\n",
    "if a > 0.5\n",
    "    println(\"this is quite a large value\")\n",
    "end"
   ]
  },
  {
   "cell_type": "code",
   "execution_count": 248,
   "metadata": {
    "collapsed": false
   },
   "outputs": [
    {
     "data": {
      "text/plain": [
       "(54,9)"
      ]
     },
     "execution_count": 248,
     "metadata": {},
     "output_type": "execute_result"
    }
   ],
   "source": [
    "rows, cols = size(EVDdata)"
   ]
  },
  {
   "cell_type": "code",
   "execution_count": 249,
   "metadata": {
    "collapsed": true
   },
   "outputs": [],
   "source": [
    "for j = 1:cols\n",
    "    for i = 1:rows\n",
    "        if !isnumber(string(EVDdata[i,j]))\n",
    "            EVDdata[i,j] = 0\n",
    "        end\n",
    "    end\n",
    "end"
   ]
  },
  {
   "cell_type": "code",
   "execution_count": 250,
   "metadata": {
    "collapsed": false
   },
   "outputs": [
    {
     "data": {
      "text/plain": [
       "54x9 Array{Any,2}:\n",
       " 613  28637  11314  3804  2536  10675  4808  14122  3955\n",
       " 606  28634  11314  3804  2536  10672  4808  14122  3955\n",
       " 599  28635  11314  3805  2536  10672  4808  14122  3955\n",
       " 592  28607  11314  3810  2536  10672  4808  14089  3955\n",
       " 582  28539  11298  3806  2535  10672  4808  14061  3955\n",
       " 575  28476  11298  3803  2535  10672  4808  14001  3955\n",
       " 568  28454  11297  3800  2534  10672  4808  13982  3955\n",
       " 554  28388  11296  3805  2533  10672  4808  13911  3955\n",
       " 547  28295  11295  3800  2532  10672  4808  13823  3955\n",
       " 540  28220  11291  3792  2530  10672  4808  13756  3953\n",
       " 533  28147  11291  3792  2530  10672  4808  13683  3953\n",
       " 526  28073  11290  3792  2529  10672  4808  13609  3953\n",
       " 512  27952  11284  3786  2524  10672  4808  13494  3952\n",
       "   ⋮                                ⋮                   \n",
       " 140   1835   1011   506   373    599   323    730   315\n",
       " 130   1437    825   472   346    391   227    574   252\n",
       " 123   1201    672   427   319    249   129    525   224\n",
       " 114    982    613   411   310    174   106    397   197\n",
       " 102    779    481   412   305    115    75    252   101\n",
       "  87    528    337   398   264     33    24     97    49\n",
       "  66    309    202   281   186     12    11     16     5\n",
       "  51    260    182   248   171     12    11      0     0\n",
       "  40    239    160   226   149     13    11      0     0\n",
       "  23    176    110   168   108      8     2      0     0\n",
       "   9    130     82   122    80      8     2      0     0\n",
       "   0     49     29    49    29      0     0      0     0"
      ]
     },
     "execution_count": 250,
     "metadata": {},
     "output_type": "execute_result"
    }
   ],
   "source": [
    "EVDdata"
   ]
  },
  {
   "cell_type": "code",
   "execution_count": 251,
   "metadata": {
    "collapsed": false
   },
   "outputs": [
    {
     "data": {
      "text/plain": [
       "54x3 Array{Any,2}:\n",
       " 3804  10675  14122\n",
       " 3804  10672  14122\n",
       " 3805  10672  14122\n",
       " 3810  10672  14089\n",
       " 3806  10672  14061\n",
       " 3803  10672  14001\n",
       " 3800  10672  13982\n",
       " 3805  10672  13911\n",
       " 3800  10672  13823\n",
       " 3792  10672  13756\n",
       " 3792  10672  13683\n",
       " 3792  10672  13609\n",
       " 3786  10672  13494\n",
       "    ⋮              \n",
       "  506    599    730\n",
       "  472    391    574\n",
       "  427    249    525\n",
       "  411    174    397\n",
       "  412    115    252\n",
       "  398     33     97\n",
       "  281     12     16\n",
       "  248     12      0\n",
       "  226     13      0\n",
       "  168      8      0\n",
       "  122      8      0\n",
       "   49      0      0"
      ]
     },
     "execution_count": 251,
     "metadata": {},
     "output_type": "execute_result"
    }
   ],
   "source": [
    "epidays = EVDdata[:, 1]\n",
    "EVDcasesbycountry = EVDdata[:, [4, 6, 8]]"
   ]
  },
  {
   "cell_type": "code",
   "execution_count": 252,
   "metadata": {
    "collapsed": false
   },
   "outputs": [
    {
     "data": {
      "text/html": [
       "<img src=\"data:image/png;base64,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\" />"
      ]
     },
     "execution_count": 252,
     "metadata": {},
     "output_type": "execute_result"
    }
   ],
   "source": [
    "using Plots\n",
    "pyplot()\n",
    "plot(epidays, EVDcasesbycountry)"
   ]
  },
  {
   "cell_type": "code",
   "execution_count": 254,
   "metadata": {
    "collapsed": false
   },
   "outputs": [
    {
     "data": {
      "text/html": [
       "<img src=\"data:image/png;base64,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\" />"
      ]
     },
     "execution_count": 254,
     "metadata": {},
     "output_type": "execute_result"
    }
   ],
   "source": [
    "plot(epidays, EVDcasesbycountry,\n",
    "legend = :topleft,\n",
    "marker = ([:octagon :star7 :square], 9),\n",
    "label = [\"Guinea\" \"Liberia\" \"Sierra Leone\"],\n",
    "title = \"EVD in West Africa, epidemic segregated by country\",\n",
    "xlabel = \"Days since 22 March 2014\",\n",
    "ylabel = \"Number of cases to date\",\n",
    "line = (:scatter))"
   ]
  },
  {
   "cell_type": "code",
   "execution_count": 255,
   "metadata": {
    "collapsed": true
   },
   "outputs": [],
   "source": [
    "savefig(\"EVDbyCountry\")"
   ]
  },
  {
   "cell_type": "code",
   "execution_count": 256,
   "metadata": {
    "collapsed": true
   },
   "outputs": [],
   "source": [
    "savefig(\"EVDbyCountry.pdf\")"
   ]
  },
  {
   "cell_type": "code",
   "execution_count": 257,
   "metadata": {
    "collapsed": false
   },
   "outputs": [
    {
     "name": "stderr",
     "output_type": "stream",
     "text": [
      "INFO: Precompiling module Gadfly...\n",
      "INFO: Recompiling stale cache file /Users/bradley/.julia/lib/v0.4/DataArrays.ji for module DataArrays.\n",
      "INFO: Recompiling stale cache file /Users/bradley/.julia/lib/v0.4/StatsBase.ji for module StatsBase.\n",
      "INFO: Recompiling stale cache file /Users/bradley/.julia/lib/v0.4/DataFrames.ji for module DataFrames.\n",
      "INFO: Recompiling stale cache file /Users/bradley/.julia/lib/v0.4/GZip.ji for module GZip.\n",
      "INFO: Recompiling stale cache file /Users/bradley/.julia/lib/v0.4/SortingAlgorithms.ji for module SortingAlgorithms.\n",
      "INFO: Recompiling stale cache file /Users/bradley/.julia/lib/v0.4/Distributions.ji for module Distributions.\n",
      "INFO: Recompiling stale cache file /Users/bradley/.julia/lib/v0.4/PDMats.ji for module PDMats.\n",
      "INFO: Recompiling stale cache file /Users/bradley/.julia/lib/v0.4/Rmath.ji for module Rmath.\n",
      "INFO: Recompiling stale cache file /Users/bradley/.julia/lib/v0.4/StatsFuns.ji for module StatsFuns.\n",
      "WARNING: New definition \n",
      "    color_discrete_manual(ColorTypes.Color...) at /Users/bradley/.julia/v0.4/Gadfly/src/scale.jl:542\n",
      "is ambiguous with: \n",
      "    color_discrete_manual(AbstractString...) at /Users/bradley/.julia/v0.4/Gadfly/src/scale.jl:539.\n",
      "To fix, define \n",
      "    color_discrete_manual()\n",
      "before the new definition.\n",
      "WARNING: New definition \n",
      "    color_discrete_manual(Array, ColorTypes.Color...)\n",
      "is ambiguous with: \n",
      "    color_discrete_manual(Array, AbstractString...).\n",
      "To fix, define \n",
      "    color_discrete_manual(Array)\n",
      "before the new definition.\n",
      "WARNING: New definition \n",
      "    +(AbstractArray{T<:Any, 2}, WoodburyMatrices.SymWoodbury) at /Users/bradley/.julia/v0.4/WoodburyMatrices/src/SymWoodburyMatrices.jl:106\n",
      "is ambiguous with: \n",
      "    +(DataArrays.DataArray, AbstractArray) at /Users/bradley/.julia/v0.4/DataArrays/src/operators.jl:276.\n",
      "To fix, define \n",
      "    +(DataArrays.DataArray{T<:Any, 2}, WoodburyMatrices.SymWoodbury)\n",
      "before the new definition.\n",
      "WARNING: New definition \n",
      "    +(AbstractArray{T<:Any, 2}, WoodburyMatrices.SymWoodbury) at /Users/bradley/.julia/v0.4/WoodburyMatrices/src/SymWoodburyMatrices.jl:106\n",
      "is ambiguous with: \n",
      "    +(DataArrays.AbstractDataArray, AbstractArray) at /Users/bradley/.julia/v0.4/DataArrays/src/operators.jl:300.\n",
      "To fix, define \n",
      "    +(DataArrays.AbstractDataArray{T<:Any, 2}, WoodburyMatrices.SymWoodbury)\n",
      "before the new definition.\n",
      "WARNING: New definition \n",
      "    +(AbstractArray, DataArrays.DataArray) at /Users/bradley/.julia/v0.4/DataArrays/src/operators.jl:276\n",
      "is ambiguous with: \n",
      "    +(WoodburyMatrices.SymWoodbury, AbstractArray{T<:Any, 2}) at /Users/bradley/.julia/v0.4/WoodburyMatrices/src/SymWoodburyMatrices.jl:107.\n",
      "To fix, define \n",
      "    +(WoodburyMatrices.SymWoodbury, DataArrays.DataArray{T<:Any, 2})\n",
      "before the new definition.\n",
      "WARNING: New definition \n",
      "    +(AbstractArray, DataArrays.AbstractDataArray) at /Users/bradley/.julia/v0.4/DataArrays/src/operators.jl:300\n",
      "is ambiguous with: \n",
      "    +(WoodburyMatrices.SymWoodbury, AbstractArray{T<:Any, 2}) at /Users/bradley/.julia/v0.4/WoodburyMatrices/src/SymWoodburyMatrices.jl:107.\n",
      "To fix, define \n",
      "    +(WoodburyMatrices.SymWoodbury, DataArrays.AbstractDataArray{T<:Any, 2})\n",
      "before the new definition.\n",
      "WARNING: using Gadfly.Plot in module Main conflicts with an existing identifier.\n",
      "WARNING: using Gadfly.plot in module Main conflicts with an existing identifier.\n"
     ]
    }
   ],
   "source": [
    "using Gadfly"
   ]
  },
  {
   "cell_type": "code",
   "execution_count": 258,
   "metadata": {
    "collapsed": false
   },
   "outputs": [
    {
     "data": {
      "text/plain": [
       "f (generic function with 1 method)"
      ]
     },
     "execution_count": 258,
     "metadata": {},
     "output_type": "execute_result"
    }
   ],
   "source": [
    "f(x) = 3 * x^2 + 6 * x - 9"
   ]
  },
  {
   "cell_type": "code",
   "execution_count": 259,
   "metadata": {
    "collapsed": false
   },
   "outputs": [
    {
     "name": "stdout",
     "output_type": "stream",
     "text": [
      "(-5, 36)\n",
      "(-4, 15)\n",
      "(-3, 0)\n",
      "(-2, -9)\n",
      "(-1, -12)\n",
      "(0, -9)\n",
      "(1, 0)\n",
      "(2, 15)\n",
      "(3, 36)\n",
      "(4, 63)\n",
      "(5, 96)\n"
     ]
    },
    {
     "data": {
      "text/html": [
       "<img src=\"data:image/png;base64,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\" />"
      ]
     },
     "execution_count": 259,
     "metadata": {},
     "output_type": "execute_result"
    }
   ],
   "source": [
    "for x = -5:5\n",
    "    println(\"(\", x, \", \", f(x), \")\")\n",
    "end\n",
    "plot(f, -4, 3) # plot f over [-4, 4]\n",
    "plot!(zero, -4, 3)"
   ]
  },
  {
   "cell_type": "code",
   "execution_count": 260,
   "metadata": {
    "collapsed": false
   },
   "outputs": [
    {
     "data": {
      "text/plain": [
       "15x2 Array{Float64,2}:\n",
       " 0.0           0.0\n",
       " 0.0           0.0\n",
       " 0.0           0.0\n",
       " 0.0           0.0\n",
       " 0.0           0.0\n",
       " 0.0           0.0\n",
       " 2.16215e-314  0.0\n",
       " 2.17698e-314  0.0\n",
       " 0.0           0.0\n",
       " 0.0           0.0\n",
       " 0.0           0.0\n",
       " 0.0           0.0\n",
       " 2.1622e-314   0.0\n",
       " 2.17698e-314  0.0\n",
       " 0.0           0.0"
      ]
     },
     "execution_count": 260,
     "metadata": {},
     "output_type": "execute_result"
    }
   ],
   "source": [
    "data = Array(Float64, 15, 2)"
   ]
  },
  {
   "cell_type": "code",
   "execution_count": 261,
   "metadata": {
    "collapsed": false
   },
   "outputs": [
    {
     "name": "stdout",
     "output_type": "stream",
     "text": [
      "search: rand randn rand! randn! randexp randperm randjump randexp! randbool\n",
      "\n"
     ]
    },
    {
     "data": {
      "text/markdown": [
       "```\n",
       "rand([rng], [S], [dims...])\n",
       "```\n",
       "\n",
       "Pick a random element or array of random elements from the set of values specified by `S`; `S` can be\n",
       "\n",
       "  * an indexable collection (for example `1:n` or `['x','y','z']`), or\n",
       "  * a type: the set of values to pick from is then equivalent to `typemin(S):typemax(S)` for integers (this is not applicable to `BigInt`), and to $[0, 1)$ for floating point numbers;\n",
       "\n",
       "`S` defaults to `Float64`.\n"
      ],
      "text/plain": [
       "```\n",
       "rand([rng], [S], [dims...])\n",
       "```\n",
       "\n",
       "Pick a random element or array of random elements from the set of values specified by `S`; `S` can be\n",
       "\n",
       "  * an indexable collection (for example `1:n` or `['x','y','z']`), or\n",
       "  * a type: the set of values to pick from is then equivalent to `typemin(S):typemax(S)` for integers (this is not applicable to `BigInt`), and to $[0, 1)$ for floating point numbers;\n",
       "\n",
       "`S` defaults to `Float64`.\n"
      ]
     },
     "execution_count": 261,
     "metadata": {},
     "output_type": "execute_result"
    }
   ],
   "source": []
  },
  {
   "cell_type": "code",
   "execution_count": 264,
   "metadata": {
    "collapsed": false
   },
   "outputs": [
    {
     "data": {
      "text/plain": [
       "-9.0"
      ]
     },
     "execution_count": 264,
     "metadata": {},
     "output_type": "execute_result"
    }
   ],
   "source": [
    "data = rand(-10.0:10.0)"
   ]
  },
  {
   "cell_type": "code",
   "execution_count": 270,
   "metadata": {
    "collapsed": false
   },
   "outputs": [
    {
     "data": {
      "text/plain": [
       "15x2 Array{Float64,2}:\n",
       " 0.479036  0.161135  \n",
       " 0.663985  0.539386  \n",
       " 0.702423  0.599333  \n",
       " 0.704831  0.0929112 \n",
       " 0.332463  0.629015  \n",
       " 0.520479  0.312619  \n",
       " 0.756923  0.443059  \n",
       " 0.446438  0.80486   \n",
       " 0.460648  0.880867  \n",
       " 0.533456  0.0173995 \n",
       " 0.901907  0.170514  \n",
       " 0.176501  0.965265  \n",
       " 0.346242  0.51926   \n",
       " 0.495215  0.156299  \n",
       " 0.77506   0.00256102"
      ]
     },
     "execution_count": 270,
     "metadata": {},
     "output_type": "execute_result"
    }
   ],
   "source": [
    "data = rand(15, 2)"
   ]
  },
  {
   "cell_type": "code",
   "execution_count": 271,
   "metadata": {
    "collapsed": false
   },
   "outputs": [
    {
     "data": {
      "text/plain": [
       "15x2 Array{Float64,2}:\n",
       " 0.479036  0.161135  \n",
       " 0.663985  0.539386  \n",
       " 0.702423  0.599333  \n",
       " 0.704831  0.0929112 \n",
       " 0.332463  0.629015  \n",
       " 0.520479  0.312619  \n",
       " 0.756923  0.443059  \n",
       " 0.446438  0.80486   \n",
       " 0.460648  0.880867  \n",
       " 0.533456  0.0173995 \n",
       " 0.901907  0.170514  \n",
       " 0.176501  0.965265  \n",
       " 0.346242  0.51926   \n",
       " 0.495215  0.156299  \n",
       " 0.77506   0.00256102"
      ]
     },
     "execution_count": 271,
     "metadata": {},
     "output_type": "execute_result"
    }
   ],
   "source": []
  },
  {
   "cell_type": "code",
   "execution_count": 272,
   "metadata": {
    "collapsed": false
   },
   "outputs": [
    {
     "data": {
      "text/plain": [
       "20-element Array{Float64,1}:\n",
       " 0.426415 \n",
       " 0.473065 \n",
       " 0.460923 \n",
       " 0.390127 \n",
       " 0.644103 \n",
       " 0.82517  \n",
       " 0.0318474\n",
       " 0.147467 \n",
       " 0.395907 \n",
       " 0.224461 \n",
       " 0.68249  \n",
       " 0.166567 \n",
       " 0.309619 \n",
       " 0.439274 \n",
       " 0.862197 \n",
       " 0.122264 \n",
       " 0.30685  \n",
       " 0.518531 \n",
       " 0.485757 \n",
       " 0.0368551"
      ]
     },
     "execution_count": 272,
     "metadata": {},
     "output_type": "execute_result"
    }
   ],
   "source": [
    "x = rand(20)"
   ]
  },
  {
   "cell_type": "code",
   "execution_count": 273,
   "metadata": {
    "collapsed": false
   },
   "outputs": [
    {
     "data": {
      "text/plain": [
       "20-element Array{Float64,1}:\n",
       " 0.453316\n",
       " 0.54234 \n",
       " 0.72198 \n",
       " 0.263132\n",
       " 0.191154\n",
       " 0.611847\n",
       " 0.119071\n",
       " 0.508487\n",
       " 0.140889\n",
       " 0.430607\n",
       " 0.750482\n",
       " 0.955098\n",
       " 0.260059\n",
       " 0.786909\n",
       " 0.182098\n",
       " 0.853314\n",
       " 0.782042\n",
       " 0.518535\n",
       " 0.148295\n",
       " 0.888651"
      ]
     },
     "execution_count": 273,
     "metadata": {},
     "output_type": "execute_result"
    }
   ],
   "source": [
    "y = rand(20)"
   ]
  },
  {
   "cell_type": "code",
   "execution_count": 274,
   "metadata": {
    "collapsed": false
   },
   "outputs": [
    {
     "name": "stderr",
     "output_type": "stream",
     "text": [
      "WARNING: [a,b] concatenation is deprecated; use [a;b] instead\n",
      " in depwarn at deprecated.jl:73\n",
      " in oldstyle_vcat_warning at /Applications/Julia-0.4.6.app/Contents/Resources/julia/lib/julia/sys.dylib\n",
      " in vect at abstractarray.jl:32\n",
      " in include_string at loading.jl:282\n",
      " in execute_request at /Users/bradley/.julia/v0.4/IJulia/src/execute_request.jl:169\n",
      " in eventloop at /Users/bradley/.julia/v0.4/IJulia/src/eventloop.jl:8\n",
      " in anonymous at task.jl:447\n",
      "while loading In[274], in expression starting on line 1\n"
     ]
    },
    {
     "data": {
      "text/plain": [
       "40-element Array{Float64,1}:\n",
       " 0.426415 \n",
       " 0.473065 \n",
       " 0.460923 \n",
       " 0.390127 \n",
       " 0.644103 \n",
       " 0.82517  \n",
       " 0.0318474\n",
       " 0.147467 \n",
       " 0.395907 \n",
       " 0.224461 \n",
       " 0.68249  \n",
       " 0.166567 \n",
       " 0.309619 \n",
       " ⋮        \n",
       " 0.140889 \n",
       " 0.430607 \n",
       " 0.750482 \n",
       " 0.955098 \n",
       " 0.260059 \n",
       " 0.786909 \n",
       " 0.182098 \n",
       " 0.853314 \n",
       " 0.782042 \n",
       " 0.518535 \n",
       " 0.148295 \n",
       " 0.888651 "
      ]
     },
     "execution_count": 274,
     "metadata": {},
     "output_type": "execute_result"
    }
   ],
   "source": [
    "data = [x, y]"
   ]
  },
  {
   "cell_type": "code",
   "execution_count": 275,
   "metadata": {
    "collapsed": false
   },
   "outputs": [
    {
     "data": {
      "text/plain": [
       "40-element Array{Float64,1}:\n",
       " 0.426415 \n",
       " 0.473065 \n",
       " 0.460923 \n",
       " 0.390127 \n",
       " 0.644103 \n",
       " 0.82517  \n",
       " 0.0318474\n",
       " 0.147467 \n",
       " 0.395907 \n",
       " 0.224461 \n",
       " 0.68249  \n",
       " 0.166567 \n",
       " 0.309619 \n",
       " ⋮        \n",
       " 0.140889 \n",
       " 0.430607 \n",
       " 0.750482 \n",
       " 0.955098 \n",
       " 0.260059 \n",
       " 0.786909 \n",
       " 0.182098 \n",
       " 0.853314 \n",
       " 0.782042 \n",
       " 0.518535 \n",
       " 0.148295 \n",
       " 0.888651 "
      ]
     },
     "execution_count": 275,
     "metadata": {},
     "output_type": "execute_result"
    }
   ],
   "source": [
    "data = [x; y]"
   ]
  },
  {
   "cell_type": "code",
   "execution_count": 276,
   "metadata": {
    "collapsed": false
   },
   "outputs": [
    {
     "data": {
      "text/plain": [
       "20x2 Array{Float64,2}:\n",
       " 0.426415   0.453316\n",
       " 0.473065   0.54234 \n",
       " 0.460923   0.72198 \n",
       " 0.390127   0.263132\n",
       " 0.644103   0.191154\n",
       " 0.82517    0.611847\n",
       " 0.0318474  0.119071\n",
       " 0.147467   0.508487\n",
       " 0.395907   0.140889\n",
       " 0.224461   0.430607\n",
       " 0.68249    0.750482\n",
       " 0.166567   0.955098\n",
       " 0.309619   0.260059\n",
       " 0.439274   0.786909\n",
       " 0.862197   0.182098\n",
       " 0.122264   0.853314\n",
       " 0.30685    0.782042\n",
       " 0.518531   0.518535\n",
       " 0.485757   0.148295\n",
       " 0.0368551  0.888651"
      ]
     },
     "execution_count": 276,
     "metadata": {},
     "output_type": "execute_result"
    }
   ],
   "source": [
    "data = [x y]"
   ]
  },
  {
   "cell_type": "code",
   "execution_count": 278,
   "metadata": {
    "collapsed": false
   },
   "outputs": [
    {
     "data": {
      "text/plain": [
       "20-element Array{Float64,1}:\n",
       " 0.0318474\n",
       " 0.0368551\n",
       " 0.122264 \n",
       " 0.147467 \n",
       " 0.166567 \n",
       " 0.224461 \n",
       " 0.30685  \n",
       " 0.309619 \n",
       " 0.390127 \n",
       " 0.395907 \n",
       " 0.426415 \n",
       " 0.439274 \n",
       " 0.460923 \n",
       " 0.473065 \n",
       " 0.485757 \n",
       " 0.518531 \n",
       " 0.644103 \n",
       " 0.68249  \n",
       " 0.82517  \n",
       " 0.862197 "
      ]
     },
     "execution_count": 278,
     "metadata": {},
     "output_type": "execute_result"
    }
   ],
   "source": [
    "sort(x)"
   ]
  },
  {
   "cell_type": "code",
   "execution_count": 282,
   "metadata": {
    "collapsed": false
   },
   "outputs": [
    {
     "data": {
      "text/html": [
       "<img src=\"data:image/png;base64,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\" />"
      ]
     },
     "execution_count": 282,
     "metadata": {},
     "output_type": "execute_result"
    }
   ],
   "source": [
    "Plots.scatter(sort(x), sort(y))"
   ]
  },
  {
   "cell_type": "code",
   "execution_count": 283,
   "metadata": {
    "collapsed": false
   },
   "outputs": [
    {
     "ename": "LoadError",
     "evalue": "LoadError: MethodError: `call` has no method matching call(::Module)\nClosest candidates are:\n  BoundsError()\n  BoundsError(, !Matched::Any...)\n  DivideError()\n  ...\nwhile loading In[283], in expression starting on line 1",
     "output_type": "error",
     "traceback": [
      "LoadError: MethodError: `call` has no method matching call(::Module)\nClosest candidates are:\n  BoundsError()\n  BoundsError(, !Matched::Any...)\n  DivideError()\n  ...\nwhile loading In[283], in expression starting on line 1",
      ""
     ]
    }
   ],
   "source": [
    "Gadfly()"
   ]
  },
  {
   "cell_type": "code",
   "execution_count": 284,
   "metadata": {
    "collapsed": true
   },
   "outputs": [],
   "source": [
    "using Gadfly"
   ]
  },
  {
   "cell_type": "code",
   "execution_count": 285,
   "metadata": {
    "collapsed": false
   },
   "outputs": [
    {
     "data": {
      "text/plain": [
       "Gadfly"
      ]
     },
     "execution_count": 285,
     "metadata": {},
     "output_type": "execute_result"
    }
   ],
   "source": [
    "Gadfly"
   ]
  },
  {
   "cell_type": "code",
   "execution_count": 286,
   "metadata": {
    "collapsed": false
   },
   "outputs": [
    {
     "name": "stdout",
     "output_type": "stream",
     "text": [
      "search: Gadfly gadfly\n",
      "\n"
     ]
    },
    {
     "data": {
      "text/markdown": [
       "<div align=\"center\"> <img src=\"https://cdn.rawgit.com/GiovineItalia/Gadfly.jl/master/docs/src/assets/logo.svg\" alt=\"Gadfly Logo\" width=\"210\"></img> </div>\n",
       "\n",
       "|                                **Documentation**                                |                      **PackageEvaluator**                       |                       **Build Status**                        |\n",
       "|:-------------------------------------------------------------------------------:|:---------------------------------------------------------------:|:-------------------------------------------------------------:|\n",
       "| [![][docs-latest-img]][docs-latest-url] [![][docs-stable-img]][docs-stable-url] | [![][pkg-0.4-img]][pkg-0.4-url] [![][pkg-0.5-img]][pkg-0.5-url] | [![][travis-img]][travis-url] [![][codecov-img]][codecov-url] |\n",
       "\n",
       "**Gadfly** is a plotting and data visualization system written in [Julia](http://julialang.org/).\n",
       "\n",
       "It's influenced heavily by Leland Wilkinson's book [The Grammar of Graphics][gog-book] and Hadley Wickham's refinement of that grammar in [ggplot2](http://ggplot2.org/).\n",
       "\n",
       "If you use **Gadfly** in a publication please consider citing it: [![DOI][citation-img]][citation-url]\n",
       "\n",
       "## Package features\n",
       "\n",
       "  * Renders publication quality graphics to SVG, PNG, Postscript, and PDF\n",
       "  * Intuitive and consistent plotting interface\n",
       "  * Works with [IJulia](https://github.com/JuliaLang/IJulia.jl) out of the box\n",
       "  * Tight integration with [DataFrames.jl](https://github.com/JuliaStats/DataFrames.jl)\n",
       "  * Interactivity like panning, zooming, toggling powered by [Snap.svg](http://snapsvg.io/)\n",
       "  * Supports a large number of common plot types\n",
       "\n",
       "## Installation\n",
       "\n",
       "**Gadfly** is registered on `METADATA.jl` and so can be installed using `Pkg.add`.\n",
       "\n",
       "```julia\n",
       "Pkg.add(\"Gadfly\")\n",
       "```\n",
       "\n",
       "## Documentation\n",
       "\n",
       "  * [**STABLE**][docs-stable-url] &mdash; **most recently tagged version of the documentation.**\n",
       "  * [**LATEST**][docs-latest-url] &mdash; *in-development version of the documentation.*\n",
       "\n",
       "## Contributing and Questions\n",
       "\n",
       "This is a new and fairly complex piece of software. [Filing an issue](https://github.com/GiovineItalia/Gadfly.jl/issues/new) to report a bug, counterintuitive behavior, or even requesting a feature is extremely valuable in helping us prioritize what to work on, so don't hesitate.\n",
       "\n",
       "If you have a question then you can ask for help in the [Gitter chat room][gitter-url].\n",
       "\n",
       "[docs-latest-img]: https://img.shields.io/badge/docs-latest-blue.svg [docs-latest-url]: http://gadflyjl.org/latest\n",
       "\n",
       "[docs-stable-img]: https://img.shields.io/badge/docs-stable-blue.svg [docs-stable-url]: http://gadflyjl.org/stable\n",
       "\n",
       "[pkg-0.4-img]: http://pkg.julialang.org/badges/Gadfly_0.4.svg [pkg-0.4-url]: http://pkg.julialang.org/?pkg=Gadfly [pkg-0.5-img]: http://pkg.julialang.org/badges/Gadfly_0.5.svg [pkg-0.5-url]: http://pkg.julialang.org/?pkg=Gadfly\n",
       "\n",
       "[travis-img]: http://img.shields.io/travis/GiovineItalia/Gadfly.jl.svg [travis-url]: https://travis-ci.org/GiovineItalia/Gadfly.jl [codecov-img]: http://img.shields.io/coveralls/GiovineItalia/Gadfly.jl.svg [codecov-url]: https://coveralls.io/r/GiovineItalia/Gadfly.jl\n",
       "\n",
       "[citation-img]: https://zenodo.org/badge/DOI/10.5281/zenodo.11876.svg [citation-url]: http://dx.doi.org/10.5281/zenodo.11876\n",
       "\n",
       "[gog-book]: http://www.cs.uic.edu/~wilkinson/TheGrammarOfGraphics/GOG.html\n",
       "\n",
       "[gitter-url]: https://gitter.im/dcjones/Gadfly.jl\n"
      ],
      "text/plain": [
       "<div align=\"center\"> <img src=\"https://cdn.rawgit.com/GiovineItalia/Gadfly.jl/master/docs/src/assets/logo.svg\" alt=\"Gadfly Logo\" width=\"210\"></img> </div>\n",
       "\n",
       "|                                **Documentation**                                |                      **PackageEvaluator**                       |                       **Build Status**                        |\n",
       "|:-------------------------------------------------------------------------------:|:---------------------------------------------------------------:|:-------------------------------------------------------------:|\n",
       "| [![][docs-latest-img]][docs-latest-url] [![][docs-stable-img]][docs-stable-url] | [![][pkg-0.4-img]][pkg-0.4-url] [![][pkg-0.5-img]][pkg-0.5-url] | [![][travis-img]][travis-url] [![][codecov-img]][codecov-url] |\n",
       "\n",
       "**Gadfly** is a plotting and data visualization system written in [Julia](http://julialang.org/).\n",
       "\n",
       "It's influenced heavily by Leland Wilkinson's book [The Grammar of Graphics][gog-book] and Hadley Wickham's refinement of that grammar in [ggplot2](http://ggplot2.org/).\n",
       "\n",
       "If you use **Gadfly** in a publication please consider citing it: [![DOI][citation-img]][citation-url]\n",
       "\n",
       "## Package features\n",
       "\n",
       "  * Renders publication quality graphics to SVG, PNG, Postscript, and PDF\n",
       "  * Intuitive and consistent plotting interface\n",
       "  * Works with [IJulia](https://github.com/JuliaLang/IJulia.jl) out of the box\n",
       "  * Tight integration with [DataFrames.jl](https://github.com/JuliaStats/DataFrames.jl)\n",
       "  * Interactivity like panning, zooming, toggling powered by [Snap.svg](http://snapsvg.io/)\n",
       "  * Supports a large number of common plot types\n",
       "\n",
       "## Installation\n",
       "\n",
       "**Gadfly** is registered on `METADATA.jl` and so can be installed using `Pkg.add`.\n",
       "\n",
       "```julia\n",
       "Pkg.add(\"Gadfly\")\n",
       "```\n",
       "\n",
       "## Documentation\n",
       "\n",
       "  * [**STABLE**][docs-stable-url] &mdash; **most recently tagged version of the documentation.**\n",
       "  * [**LATEST**][docs-latest-url] &mdash; *in-development version of the documentation.*\n",
       "\n",
       "## Contributing and Questions\n",
       "\n",
       "This is a new and fairly complex piece of software. [Filing an issue](https://github.com/GiovineItalia/Gadfly.jl/issues/new) to report a bug, counterintuitive behavior, or even requesting a feature is extremely valuable in helping us prioritize what to work on, so don't hesitate.\n",
       "\n",
       "If you have a question then you can ask for help in the [Gitter chat room][gitter-url].\n",
       "\n",
       "[docs-latest-img]: https://img.shields.io/badge/docs-latest-blue.svg [docs-latest-url]: http://gadflyjl.org/latest\n",
       "\n",
       "[docs-stable-img]: https://img.shields.io/badge/docs-stable-blue.svg [docs-stable-url]: http://gadflyjl.org/stable\n",
       "\n",
       "[pkg-0.4-img]: http://pkg.julialang.org/badges/Gadfly_0.4.svg [pkg-0.4-url]: http://pkg.julialang.org/?pkg=Gadfly [pkg-0.5-img]: http://pkg.julialang.org/badges/Gadfly_0.5.svg [pkg-0.5-url]: http://pkg.julialang.org/?pkg=Gadfly\n",
       "\n",
       "[travis-img]: http://img.shields.io/travis/GiovineItalia/Gadfly.jl.svg [travis-url]: https://travis-ci.org/GiovineItalia/Gadfly.jl [codecov-img]: http://img.shields.io/coveralls/GiovineItalia/Gadfly.jl.svg [codecov-url]: https://coveralls.io/r/GiovineItalia/Gadfly.jl\n",
       "\n",
       "[citation-img]: https://zenodo.org/badge/DOI/10.5281/zenodo.11876.svg [citation-url]: http://dx.doi.org/10.5281/zenodo.11876\n",
       "\n",
       "[gog-book]: http://www.cs.uic.edu/~wilkinson/TheGrammarOfGraphics/GOG.html\n",
       "\n",
       "[gitter-url]: https://gitter.im/dcjones/Gadfly.jl\n"
      ]
     },
     "execution_count": 286,
     "metadata": {},
     "output_type": "execute_result"
    }
   ],
   "source": [
    "?Gadfly"
   ]
  },
  {
   "cell_type": "code",
   "execution_count": 287,
   "metadata": {
    "collapsed": false
   },
   "outputs": [
    {
     "ename": "LoadError",
     "evalue": "LoadError: MethodError: `convert` has no method matching convert(::Type{Gadfly.Plot}, ::Array{Float64,1}, ::Array{Float64,1})\nThis may have arisen from a call to the constructor Gadfly.Plot(...),\nsince type constructors fall back to convert methods.\nClosest candidates are:\n  call{T}(::Type{T}, ::Any)\n  convert{T}(::Type{T}, !Matched::T)\n  Gadfly.Plot()\nwhile loading In[287], in expression starting on line 1",
     "output_type": "error",
     "traceback": [
      "LoadError: MethodError: `convert` has no method matching convert(::Type{Gadfly.Plot}, ::Array{Float64,1}, ::Array{Float64,1})\nThis may have arisen from a call to the constructor Gadfly.Plot(...),\nsince type constructors fall back to convert methods.\nClosest candidates are:\n  call{T}(::Type{T}, ::Any)\n  convert{T}(::Type{T}, !Matched::T)\n  Gadfly.Plot()\nwhile loading In[287], in expression starting on line 1",
      "",
      " in call at essentials.jl:57"
     ]
    }
   ],
   "source": [
    "Gadfly.Plot(x, y)"
   ]
  },
  {
   "cell_type": "code",
   "execution_count": 288,
   "metadata": {
    "collapsed": false
   },
   "outputs": [
    {
     "name": "stderr",
     "output_type": "stream",
     "text": [
      "WARNING: both DataArrays and StatsBase export \"autocor\"; uses of it in module DataFrames must be qualified\n",
      "WARNING: both DataArrays and StatsBase export \"inverse_rle\"; uses of it in module DataFrames must be qualified\n",
      "WARNING: both DataArrays and StatsBase export \"rle\"; uses of it in module DataFrames must be qualified\n"
     ]
    },
    {
     "data": {
      "text/markdown": [
       "No documentation found.\n",
       "\n",
       "**Summary:**\n",
       "\n",
       "```julia\n",
       "type Gadfly.Plot <: Any\n",
       "```\n",
       "\n",
       "**Fields:**\n",
       "\n",
       "```julia\n",
       "layers      :: Array{Gadfly.Layer,1}\n",
       "data_source :: Union{AbstractArray{T,2},DataFrames.AbstractDataFrame,Gadfly.MeltedData,Void}\n",
       "data        :: Gadfly.Data\n",
       "scales      :: Array{Gadfly.ScaleElement,1}\n",
       "statistics  :: Array{Gadfly.StatisticElement,1}\n",
       "coord       :: Union{Gadfly.CoordinateElement,Void}\n",
       "guides      :: Array{Gadfly.GuideElement,1}\n",
       "theme       :: Gadfly.Theme\n",
       "mapping     :: Dict{K,V}\n",
       "```\n"
      ],
      "text/plain": [
       "No documentation found.\n",
       "\n",
       "**Summary:**\n",
       "\n",
       "```julia\n",
       "type Gadfly.Plot <: Any\n",
       "```\n",
       "\n",
       "**Fields:**\n",
       "\n",
       "```julia\n",
       "layers      :: Array{Gadfly.Layer,1}\n",
       "data_source :: Union{AbstractArray{T,2},DataFrames.AbstractDataFrame,Gadfly.MeltedData,Void}\n",
       "data        :: Gadfly.Data\n",
       "scales      :: Array{Gadfly.ScaleElement,1}\n",
       "statistics  :: Array{Gadfly.StatisticElement,1}\n",
       "coord       :: Union{Gadfly.CoordinateElement,Void}\n",
       "guides      :: Array{Gadfly.GuideElement,1}\n",
       "theme       :: Gadfly.Theme\n",
       "mapping     :: Dict{K,V}\n",
       "```\n"
      ]
     },
     "execution_count": 288,
     "metadata": {},
     "output_type": "execute_result"
    }
   ],
   "source": [
    "?Gadfly.Plot"
   ]
  },
  {
   "cell_type": "code",
   "execution_count": 289,
   "metadata": {
    "collapsed": false
   },
   "outputs": [
    {
     "ename": "LoadError",
     "evalue": "LoadError: MethodError: `call` has no method matching call(::Module, ::Array{Float64,1}, ::Array{Float64,1})\nClosest candidates are:\n  BoundsError(!Matched::Any...)\n  TypeVar(!Matched::Any...)\n  TypeConstructor(!Matched::Any...)\n  ...\nwhile loading In[289], in expression starting on line 1",
     "output_type": "error",
     "traceback": [
      "LoadError: MethodError: `call` has no method matching call(::Module, ::Array{Float64,1}, ::Array{Float64,1})\nClosest candidates are:\n  BoundsError(!Matched::Any...)\n  TypeVar(!Matched::Any...)\n  TypeConstructor(!Matched::Any...)\n  ...\nwhile loading In[289], in expression starting on line 1",
      ""
     ]
    }
   ],
   "source": [
    "df = DataFrames(x, y)"
   ]
  },
  {
   "cell_type": "code",
   "execution_count": 290,
   "metadata": {
    "collapsed": false
   },
   "outputs": [
    {
     "data": {
      "text/plain": [
       "DataFrames"
      ]
     },
     "execution_count": 290,
     "metadata": {},
     "output_type": "execute_result"
    }
   ],
   "source": [
    "DataFrames"
   ]
  },
  {
   "cell_type": "code",
   "execution_count": 291,
   "metadata": {
    "collapsed": false
   },
   "outputs": [
    {
     "name": "stdout",
     "output_type": "stream",
     "text": [
      "search: DataFrames dataframes\n",
      "\n"
     ]
    },
    {
     "data": {
      "text/markdown": [
       "# DataFrames.jl\n",
       "\n",
       "[![Julia 0.3 Status](http://pkg.julialang.org/badges/DataFrames_0.3.svg)](http://pkg.julialang.org/?pkg=DataFrames&ver=0.3) [![Julia 0.4 Status](http://pkg.julialang.org/badges/DataFrames_0.4.svg)](http://pkg.julialang.org/?pkg=DataFrames&ver=0.4) [![Julia 0.5 Status](http://pkg.julialang.org/badges/DataFrames_0.5.svg)](http://pkg.julialang.org/?pkg=DataFrames&ver=0.5)\n",
       "\n",
       "[![Coverage Status](https://coveralls.io/repos/JuliaStats/DataFrames.jl/badge.svg?branch=master&service=github)](https://coveralls.io/github/JuliaStats/DataFrames.jl?branch=master) [![Build Status](https://travis-ci.org/JuliaStats/DataFrames.jl.svg?branch=master)](https://travis-ci.org/JuliaStats/DataFrames.jl) [![Build status](https://ci.appveyor.com/api/projects/status/github/JuliaStats/DataFrames.jl?svg=true&branch=master)](https://ci.appveyor.com/project/garborg/dataframes-jl/branch/master)\n",
       "\n",
       "Tools for working with tabular data in Julia.\n",
       "\n",
       "**Installation**: at the Julia REPL, `Pkg.add(\"DataFrames\")`\n",
       "\n",
       "**Documentation**: [![][docs-stable-img]][docs-stable-url] [![][docs-latest-img]][docs-latest-url]\n",
       "\n",
       "**Reporting Issues and Contributing**: See [CONTRIBUTING.md](CONTRIBUTING.md)\n",
       "\n",
       "**Maintenance**: DataFrames is maintained collectively by the [JuliaStats collaborators](https://github.com/orgs/JuliaStats/people). Responsiveness to pull requests and issues can vary, depending on the availability of key collaborators.\n",
       "\n",
       "[docs-latest-img]: https://img.shields.io/badge/docs-latest-blue.svg [docs-latest-url]: http://JuliaStats.github.io/DataFrames.jl/latest/\n",
       "\n",
       "[docs-stable-img]: https://img.shields.io/badge/docs-stable-blue.svg [docs-stable-url]: http://JuliaStats.github.io/DataFrames.jl/stable/\n"
      ],
      "text/plain": [
       "# DataFrames.jl\n",
       "\n",
       "[![Julia 0.3 Status](http://pkg.julialang.org/badges/DataFrames_0.3.svg)](http://pkg.julialang.org/?pkg=DataFrames&ver=0.3) [![Julia 0.4 Status](http://pkg.julialang.org/badges/DataFrames_0.4.svg)](http://pkg.julialang.org/?pkg=DataFrames&ver=0.4) [![Julia 0.5 Status](http://pkg.julialang.org/badges/DataFrames_0.5.svg)](http://pkg.julialang.org/?pkg=DataFrames&ver=0.5)\n",
       "\n",
       "[![Coverage Status](https://coveralls.io/repos/JuliaStats/DataFrames.jl/badge.svg?branch=master&service=github)](https://coveralls.io/github/JuliaStats/DataFrames.jl?branch=master) [![Build Status](https://travis-ci.org/JuliaStats/DataFrames.jl.svg?branch=master)](https://travis-ci.org/JuliaStats/DataFrames.jl) [![Build status](https://ci.appveyor.com/api/projects/status/github/JuliaStats/DataFrames.jl?svg=true&branch=master)](https://ci.appveyor.com/project/garborg/dataframes-jl/branch/master)\n",
       "\n",
       "Tools for working with tabular data in Julia.\n",
       "\n",
       "**Installation**: at the Julia REPL, `Pkg.add(\"DataFrames\")`\n",
       "\n",
       "**Documentation**: [![][docs-stable-img]][docs-stable-url] [![][docs-latest-img]][docs-latest-url]\n",
       "\n",
       "**Reporting Issues and Contributing**: See [CONTRIBUTING.md](CONTRIBUTING.md)\n",
       "\n",
       "**Maintenance**: DataFrames is maintained collectively by the [JuliaStats collaborators](https://github.com/orgs/JuliaStats/people). Responsiveness to pull requests and issues can vary, depending on the availability of key collaborators.\n",
       "\n",
       "[docs-latest-img]: https://img.shields.io/badge/docs-latest-blue.svg [docs-latest-url]: http://JuliaStats.github.io/DataFrames.jl/latest/\n",
       "\n",
       "[docs-stable-img]: https://img.shields.io/badge/docs-stable-blue.svg [docs-stable-url]: http://JuliaStats.github.io/DataFrames.jl/stable/\n"
      ]
     },
     "execution_count": 291,
     "metadata": {},
     "output_type": "execute_result"
    }
   ],
   "source": [
    "?DataFrames"
   ]
  },
  {
   "cell_type": "code",
   "execution_count": 292,
   "metadata": {
    "collapsed": false
   },
   "outputs": [
    {
     "data": {
      "text/plain": [
       "54x9 Array{Any,2}:\n",
       " 613  28637  11314  3804  2536  10675     4808     14122     3955   \n",
       " 606  28634  11314  3804  2536  10672     4808     14122     3955   \n",
       " 599  28635  11314  3805  2536  10672     4808     14122     3955   \n",
       " 592  28607  11314  3810  2536  10672     4808     14089     3955   \n",
       " 582  28539  11298  3806  2535  10672     4808     14061     3955   \n",
       " 575  28476  11298  3803  2535  10672     4808     14001     3955   \n",
       " 568  28454  11297  3800  2534  10672     4808     13982     3955   \n",
       " 554  28388  11296  3805  2533  10672     4808     13911     3955   \n",
       " 547  28295  11295  3800  2532  10672     4808     13823     3955   \n",
       " 540  28220  11291  3792  2530  10672     4808     13756     3953   \n",
       " 533  28147  11291  3792  2530  10672     4808     13683     3953   \n",
       " 526  28073  11290  3792  2529  10672     4808     13609     3953   \n",
       " 512  27952  11284  3786  2524  10672     4808     13494     3952   \n",
       "   ⋮                                ⋮                               \n",
       " 140   1835   1011   506   373    599      323       730      315   \n",
       " 130   1437    825   472   346    391      227       574      252   \n",
       " 123   1201    672   427   319    249      129       525      224   \n",
       " 114    982    613   411   310    174      106       397      197   \n",
       " 102    779    481   412   305    115       75       252      101   \n",
       "  87    528    337   398   264     33       24        97       49   \n",
       "  66    309    202   281   186     12       11        16        5   \n",
       "  51    260    182   248   171     12       11          \"–\"      \"–\"\n",
       "  40    239    160   226   149     13       11          \"-\"      \"-\"\n",
       "  23    176    110   168   108      8        2          \"–\"      \"–\"\n",
       "   9    130     82   122    80      8        2          \"–\"      \"–\"\n",
       "   0     49     29    49    29       \"–\"      \"–\"       \"–\"      \"–\""
      ]
     },
     "execution_count": 292,
     "metadata": {},
     "output_type": "execute_result"
    }
   ],
   "source": [
    "indata = readdlm(\"wikipediaEVDdatesconverted.csv\", ',')"
   ]
  },
  {
   "cell_type": "code",
   "execution_count": 293,
   "metadata": {
    "collapsed": false
   },
   "outputs": [
    {
     "data": {
      "text/plain": [
       "2-element Array{Float64,1}:\n",
       " 2.20456e-314\n",
       " 2.17728e-314"
      ]
     },
     "execution_count": 293,
     "metadata": {},
     "output_type": "execute_result"
    }
   ],
   "source": [
    "newvar = Array(Float64, 2)"
   ]
  },
  {
   "cell_type": "code",
   "execution_count": 294,
   "metadata": {
    "collapsed": false
   },
   "outputs": [
    {
     "data": {
      "text/plain": [
       "4x5 Array{Float64,2}:\n",
       " 1.37951e219  1.18176e70   2.85414e-95  5.82232e63   9.45735e179 \n",
       " 2.26845e243  4.78719e180  7.49782e247  6.24022e-85  6.26336e63  \n",
       " 5.8257e252   2.28854e243  4.78719e180  1.09581e296  3.00392e296 \n",
       " 3.55841e-28  7.07298e68   1.29131e98   1.52444e257  2.22606e-314"
      ]
     },
     "execution_count": 294,
     "metadata": {},
     "output_type": "execute_result"
    }
   ],
   "source": [
    "newvar = Array(Float64, 4, 5)"
   ]
  },
  {
   "cell_type": "code",
   "execution_count": 295,
   "metadata": {
    "collapsed": false
   },
   "outputs": [
    {
     "ename": "LoadError",
     "evalue": "LoadError: ArgumentError: reduced dimension(s) must be integers\nwhile loading In[295], in expression starting on line 1",
     "output_type": "error",
     "traceback": [
      "LoadError: ArgumentError: reduced dimension(s) must be integers\nwhile loading In[295], in expression starting on line 1",
      "",
      " in reduced_dims at reducedim.jl:39",
      " in sum at reducedim.jl:264"
     ]
    }
   ],
   "source": [
    "diagsum = sum(newvar[1:2], newvar[1:2])"
   ]
  },
  {
   "cell_type": "code",
   "execution_count": 296,
   "metadata": {
    "collapsed": false
   },
   "outputs": [
    {
     "ename": "LoadError",
     "evalue": "LoadError: cannot define function y; it already has a value\nwhile loading In[296], in expression starting on line 2",
     "output_type": "error",
     "traceback": [
      "LoadError: cannot define function y; it already has a value\nwhile loading In[296], in expression starting on line 2",
      ""
     ]
    }
   ],
   "source": [
    "x = collect(1:7)\n",
    "y(x) = 2 - 2x + x^2/4\n",
    "\n",
    "plot(x, y)\n",
    "plot!(x, y, marker = :diamond, linewidth = 2)\n",
    "plot!(title = \"Sample plot\", leg = false)"
   ]
  },
  {
   "cell_type": "code",
   "execution_count": 298,
   "metadata": {
    "collapsed": false
   },
   "outputs": [
    {
     "ename": "LoadError",
     "evalue": "LoadError: MethodError: `delete!` has no method matching delete!(::Array{Float64,1})\nwhile loading In[298], in expression starting on line 1",
     "output_type": "error",
     "traceback": [
      "LoadError: MethodError: `delete!` has no method matching delete!(::Array{Float64,1})\nwhile loading In[298], in expression starting on line 1",
      ""
     ]
    }
   ],
   "source": [
    "delete!(y)"
   ]
  },
  {
   "cell_type": "code",
   "execution_count": 299,
   "metadata": {
    "collapsed": false
   },
   "outputs": [
    {
     "ename": "LoadError",
     "evalue": "LoadError: UndefVarError: delete not defined\nwhile loading In[299], in expression starting on line 1",
     "output_type": "error",
     "traceback": [
      "LoadError: UndefVarError: delete not defined\nwhile loading In[299], in expression starting on line 1",
      ""
     ]
    }
   ],
   "source": [
    "delete(y)"
   ]
  },
  {
   "cell_type": "code",
   "execution_count": 300,
   "metadata": {
    "collapsed": false
   },
   "outputs": [
    {
     "data": {
      "text/plain": [
       "0"
      ]
     },
     "execution_count": 300,
     "metadata": {},
     "output_type": "execute_result"
    }
   ],
   "source": [
    "y = 0"
   ]
  },
  {
   "cell_type": "code",
   "execution_count": 301,
   "metadata": {
    "collapsed": false
   },
   "outputs": [
    {
     "ename": "LoadError",
     "evalue": "LoadError: cannot define function y; it already has a value\nwhile loading In[301], in expression starting on line 1",
     "output_type": "error",
     "traceback": [
      "LoadError: cannot define function y; it already has a value\nwhile loading In[301], in expression starting on line 1",
      ""
     ]
    }
   ],
   "source": [
    "y(x) = 2 - 2x + x^2/4"
   ]
  },
  {
   "cell_type": "code",
   "execution_count": 302,
   "metadata": {
    "collapsed": false
   },
   "outputs": [
    {
     "data": {
      "text/plain": [
       "7-element Array{Int64,1}:\n",
       " 1\n",
       " 2\n",
       " 3\n",
       " 4\n",
       " 5\n",
       " 6\n",
       " 7"
      ]
     },
     "execution_count": 302,
     "metadata": {},
     "output_type": "execute_result"
    }
   ],
   "source": [
    "x = collect(1:7)"
   ]
  },
  {
   "cell_type": "code",
   "execution_count": 303,
   "metadata": {
    "collapsed": false
   },
   "outputs": [
    {
     "data": {
      "text/plain": [
       "6x1 Array{Int64,2}:\n",
       " 1\n",
       " 2\n",
       " 3\n",
       " 4\n",
       " 5\n",
       " 6"
      ]
     },
     "execution_count": 303,
     "metadata": {},
     "output_type": "execute_result"
    }
   ],
   "source": [
    "x = [1 2 3 4 5 6]'"
   ]
  },
  {
   "cell_type": "code",
   "execution_count": 304,
   "metadata": {
    "collapsed": false
   },
   "outputs": [
    {
     "ename": "LoadError",
     "evalue": "LoadError: syntax: incomplete: invalid character literal\nwhile loading In[304], in expression starting on line 1",
     "output_type": "error",
     "traceback": [
      "LoadError: syntax: incomplete: invalid character literal\nwhile loading In[304], in expression starting on line 1",
      ""
     ]
    }
   ],
   "source": [
    "x = '[1 2 3 4 5 6]"
   ]
  },
  {
   "cell_type": "code",
   "execution_count": 305,
   "metadata": {
    "collapsed": false
   },
   "outputs": [
    {
     "data": {
      "text/plain": [
       "1x6 Array{Int64,2}:\n",
       " 1  2  3  4  5  6"
      ]
     },
     "execution_count": 305,
     "metadata": {},
     "output_type": "execute_result"
    }
   ],
   "source": [
    "x = [1, 2, 3, 4, 5, 6]'"
   ]
  },
  {
   "cell_type": "code",
   "execution_count": 306,
   "metadata": {
    "collapsed": false
   },
   "outputs": [
    {
     "data": {
      "text/plain": [
       "1x6 Array{Int64,2}:\n",
       " 1  2  3  4  5  6"
      ]
     },
     "execution_count": 306,
     "metadata": {},
     "output_type": "execute_result"
    }
   ],
   "source": [
    "x = [1 2 3 4 5 6]"
   ]
  },
  {
   "cell_type": "code",
   "execution_count": null,
   "metadata": {
    "collapsed": true
   },
   "outputs": [],
   "source": []
  }
 ],
 "metadata": {
  "anaconda-cloud": {},
  "kernelspec": {
   "display_name": "Julia 0.4.6",
   "language": "julia",
   "name": "julia-0.4"
  },
  "language_info": {
   "file_extension": ".jl",
   "mimetype": "application/julia",
   "name": "julia",
   "version": "0.4.6"
  }
 },
 "nbformat": 4,
 "nbformat_minor": 0
}
