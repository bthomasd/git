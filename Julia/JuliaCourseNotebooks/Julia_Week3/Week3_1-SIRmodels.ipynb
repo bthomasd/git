{
 "cells": [
  {
   "cell_type": "code",
   "execution_count": 1,
   "metadata": {
    "collapsed": false
   },
   "outputs": [
    {
     "data": {
      "text/html": [
       "<link href='http://fonts.googleapis.com/css?family=Alegreya+Sans:100,300,400,500,700,800,900,100italic,300italic,400italic,500italic,700italic,800italic,900italic' rel='stylesheet' type='text/css'>\n",
       "<link href='http://fonts.googleapis.com/css?family=Arvo:400,700,400italic' rel='stylesheet' type='text/css'>\n",
       "<link href='http://fonts.googleapis.com/css?family=PT+Mono' rel='stylesheet' type='text/css'>\n",
       "<link href='http://fonts.googleapis.com/css?family=Shadows+Into+Light' rel='stylesheet' type='text/css'>\n",
       "<link href='http://fonts.googleapis.com/css?family=Philosopher:400,700,400italic,700italic' rel='stylesheet' type='text/css'>\n",
       "\n",
       "<style>\n",
       "\n",
       "@font-face {\n",
       "    font-family: \"Computer Modern\";\n",
       "    src: url('http://mirrors.ctan.org/fonts/cm-unicode/fonts/otf/cmunss.otf');\n",
       "}\n",
       "\n",
       "#notebook_panel { /* main background */\n",
       "    background: #ddd;\n",
       "    color: #000000;\n",
       "}\n",
       "\n",
       "\n",
       "\n",
       "/* Formatting for header cells */\n",
       ".text_cell_render h1 {\n",
       "    font-family: 'Philosopher', sans-serif;\n",
       "    font-weight: 400;\n",
       "    font-size: 2.2em;\n",
       "    line-height: 100%;\n",
       "    color: rgb(0, 80, 120);\n",
       "    margin-bottom: 0.1em;\n",
       "    margin-top: 0.1em;\n",
       "    display: block;\n",
       "}\t\n",
       ".text_cell_render h2 {\n",
       "    font-family: 'Philosopher', serif;\n",
       "    font-weight: 400;\n",
       "    font-size: 1.9em;\n",
       "    line-height: 100%;\n",
       "    color: rgb(200,100,0);\n",
       "    margin-bottom: 0.1em;\n",
       "    margin-top: 0.1em;\n",
       "    display: block;\n",
       "}\t\n",
       "\n",
       ".text_cell_render h3 {\n",
       "    font-family: 'Philosopher', serif;\n",
       "    margin-top:12px;\n",
       "    margin-bottom: 3px;\n",
       "    font-style: italic;\n",
       "    color: rgb(94,127,192);\n",
       "}\n",
       "\n",
       ".text_cell_render h4 {\n",
       "    font-family: 'Philosopher', serif;\n",
       "}\n",
       "\n",
       ".text_cell_render h5 {\n",
       "    font-family: 'Alegreya Sans', sans-serif;\n",
       "    font-weight: 300;\n",
       "    font-size: 16pt;\n",
       "    color: grey;\n",
       "    font-style: italic;\n",
       "    margin-bottom: .1em;\n",
       "    margin-top: 0.1em;\n",
       "    display: block;\n",
       "}\n",
       "\n",
       ".text_cell_render h6 {\n",
       "    font-family: 'PT Mono', sans-serif;\n",
       "    font-weight: 300;\n",
       "    font-size: 10pt;\n",
       "    color: grey;\n",
       "    margin-bottom: 1px;\n",
       "    margin-top: 1px;\n",
       "}\n",
       "\n",
       ".CodeMirror{\n",
       "        font-family: \"PT Mono\";\n",
       "        font-size: 100%;\n",
       "}\n",
       "\n",
       "</style>\n",
       "\n"
      ],
      "text/plain": [
       "HTML{ASCIIString}(\"<link href='http://fonts.googleapis.com/css?family=Alegreya+Sans:100,300,400,500,700,800,900,100italic,300italic,400italic,500italic,700italic,800italic,900italic' rel='stylesheet' type='text/css'>\\n<link href='http://fonts.googleapis.com/css?family=Arvo:400,700,400italic' rel='stylesheet' type='text/css'>\\n<link href='http://fonts.googleapis.com/css?family=PT+Mono' rel='stylesheet' type='text/css'>\\n<link href='http://fonts.googleapis.com/css?family=Shadows+Into+Light' rel='stylesheet' type='text/css'>\\n<link href='http://fonts.googleapis.com/css?family=Philosopher:400,700,400italic,700italic' rel='stylesheet' type='text/css'>\\n\\n<style>\\n\\n@font-face {\\n    font-family: \\\"Computer Modern\\\";\\n    src: url('http://mirrors.ctan.org/fonts/cm-unicode/fonts/otf/cmunss.otf');\\n}\\n\\n#notebook_panel { /* main background */\\n    background: #ddd;\\n    color: #000000;\\n}\\n\\n\\n\\n/* Formatting for header cells */\\n.text_cell_render h1 {\\n    font-family: 'Philosopher', sans-serif;\\n    font-weight: 400;\\n    font-size: 2.2em;\\n    line-height: 100%;\\n    color: rgb(0, 80, 120);\\n    margin-bottom: 0.1em;\\n    margin-top: 0.1em;\\n    display: block;\\n}\\t\\n.text_cell_render h2 {\\n    font-family: 'Philosopher', serif;\\n    font-weight: 400;\\n    font-size: 1.9em;\\n    line-height: 100%;\\n    color: rgb(200,100,0);\\n    margin-bottom: 0.1em;\\n    margin-top: 0.1em;\\n    display: block;\\n}\\t\\n\\n.text_cell_render h3 {\\n    font-family: 'Philosopher', serif;\\n    margin-top:12px;\\n    margin-bottom: 3px;\\n    font-style: italic;\\n    color: rgb(94,127,192);\\n}\\n\\n.text_cell_render h4 {\\n    font-family: 'Philosopher', serif;\\n}\\n\\n.text_cell_render h5 {\\n    font-family: 'Alegreya Sans', sans-serif;\\n    font-weight: 300;\\n    font-size: 16pt;\\n    color: grey;\\n    font-style: italic;\\n    margin-bottom: .1em;\\n    margin-top: 0.1em;\\n    display: block;\\n}\\n\\n.text_cell_render h6 {\\n    font-family: 'PT Mono', sans-serif;\\n    font-weight: 300;\\n    font-size: 10pt;\\n    color: grey;\\n    margin-bottom: 1px;\\n    margin-top: 1px;\\n}\\n\\n.CodeMirror{\\n        font-family: \\\"PT Mono\\\";\\n        font-size: 100%;\\n}\\n\\n</style>\\n\\n\")"
      ]
     },
     "execution_count": 1,
     "metadata": {},
     "output_type": "execute_result"
    }
   ],
   "source": [
    "# Setting up a custom stylesheet in IJulia\n",
    "file = open(\"style.css\") # A .css file in the same folder as this notebook file\n",
    "styl = readall(file) # Read the file\n",
    "HTML(\"$styl\") # Output as HTML"
   ]
  },
  {
   "cell_type": "markdown",
   "metadata": {},
   "source": [
    "<h1> SIR models of disease dynamics </h1>"
   ]
  },
  {
   "cell_type": "markdown",
   "metadata": {},
   "source": [
    "<h2>In this lecture</h2>\n",
    "\n",
    "- [Outcome](#Outcome)\n",
    "- [SIR Models: the concepts](#SIR-Models:-the-concepts)\n",
    "- [SIR Models: the equations](#SIR-Models:-the-equations)\n",
    "- [Julia code: the function for one time-step](#Julia-code:-the-function-for-one-time-step)\n",
    "- [Julia code: the loop structure](#Julia-code:-the-loop-structure)\n",
    "- [Running the model](#Running-the-model)\n",
    "- [Plotting the results](#Plotting-the-results)\n"
   ]
  },
  {
   "cell_type": "markdown",
   "metadata": {},
   "source": [
    "[Back to the top](#In-this-lecture)"
   ]
  },
  {
   "cell_type": "markdown",
   "metadata": {},
   "source": [
    "<h2>Outcome</h2>\n",
    "\n",
    "After this lecture, you will be able to\n",
    "- Define the compartments S, I and R of an SIR\n",
    "- Formulate an SIR model for infectious diseases\n",
    "- Write a \"for\" loop to for an SIR model \n",
    "- Plot the curves for S(t), I(t) and R(t)\n",
    "\n",
    "[Back to the top](#In-this-lecture)"
   ]
  },
  {
   "cell_type": "markdown",
   "metadata": {},
   "source": [
    "<h2>SIR Models: the concepts</h2>\n",
    "\n",
    "SIR models formalise what is probably the simplest possible way to think of an epidemic: \n",
    "- before the epidemic starts, there is a population at risk of catching the disease\n",
    "- the disease spreads from infected to susceptible people\n",
    "- after a while, people are no longer infected\n",
    "- once infected, people are never infected again\n",
    "- we ignore all other differences between people\n",
    "\n",
    "We use the symbol $S$ for the number of people who are still at risk of the disease. \"$S$\" is short for \"susceptible\", meaning a person who hasn't had the disease and might catch it. We think of $S$ as a function of time, that is, we think that as the epidemic progresses, $S$ changes. Therefore we write $S(t)$ for the number of suseptibles at time $t$.\n",
    "\n",
    "The number $S(0)$, which is the number of susceptibles at the start of the epidemic, is a key value in this model.\n",
    "\n",
    "The number of infected people at time $t$ is given by $I(t)$. We assume that $I(0) > 0$, because otherwise the epidemic can't start.\n",
    "\n",
    "Finally, the people previously infected but no longer infectious are called \"removed\". (Unfortunately, this doesn't mean they've recovered. They may still be ill, or as happens tragically often with Ebola, they may be dead). We use $R(t)$ to symbolise the number of removed people  at time $t$.\n",
    "\n",
    "\n"
   ]
  },
  {
   "cell_type": "markdown",
   "metadata": {},
   "source": [
    "**NB! It is not necessary for S, I and R to be whole numbers. ** This is a model, and all we want is for the predicted values of $S$, $I$ and $R$ to be close to what is observed. By close we mean within a few percent. In fact, because the models are so simple and the real situation so variable, getting numbers within a few percent is a major achievement.\n",
    "\n",
    "Unfortunately, this is usually possible only with  hindsight. We will show that an SIR model can do pretty well for the 2014 West African EVD epidemic, but it will be with hindsight. The course of the epidemic was not successfully predicted until it was nearly over."
   ]
  },
  {
   "cell_type": "markdown",
   "metadata": {},
   "source": [
    "[Back to the top](#In-this-lecture)"
   ]
  },
  {
   "cell_type": "markdown",
   "metadata": {},
   "source": [
    "<h2>SIR Models: the equations</h2>\n",
    "\n",
    "We will model $S$, $I$ and $R$ in discrete time steps. In fact, we will use the same length of time step $dt$ for every step. We denote by $t_i$ the time after $i$ steps. Since we assume that $t_0 = 0$, we have $t_i = i\\,dt$.\n",
    "\n",
    "The model steps from $t_i$ to $t_{i+1}$, so what we want to do is use the values of $S(t_i)$, $I(t_i)$ and $R(t_i)$ to predict the values $S(t_{i+1})$, $I(t_{i+1})$ and $R(t_{i+1})$. So our model is set up in terms of three equations.\n",
    "\n",
    "These equations all have the form \"new value = old value + gains - losses\". The model specifies how we calculate the gains and losses.\n",
    "\n",
    "For susceptibles, there is only a loss term. The simplest SIR models come from the so-called \"law of mass action\". This law holds that all susceptibles have an equal chance of meeting an infected person. And the same is assumed for infected people. Then the number of  meetings of infecteds and susceptibles is proportional to product $SI$. We use the symbol $\\lambda$ for the constant of proportionality, and we interpret $\\lambda SI$ as the rate at which susceptibles become infected. This is of course a rate per day. So the actual loss over the time step $dt$ is actually $\\lambda SI\\,dt$ so the equation for $S$ is\n",
    "\n",
    "1 ...     $ S(t_{i+1}) = S(t_i) - \\lambda S(t_i)I(t_i)\\,dt$.\n",
    "\n",
    "On the other hand, the loss rate for infected people is just a constant probability of recovery per unit time. So a constant fraction $\\gamma$ is removed from the infecteds per day. This gives a loss of $\\gamma I$ infecteds per day, which is $\\gamma I\\,dt$ loss of infecteds per time step. The gain of infecteds must be exactly the susceptibles who become infected, so the equation for $I$ is\n",
    "\n",
    "2 ...     $I(t_{i+1}) = I(t_i) + \\lambda S(t_i)I(t_i)\\,dt - \\gamma I(t_i)\\,dt$.\n",
    "\n",
    "In an SIR model, the removed population equation has only a gain term, no loss term. What is lost from infecteds is gained by removeds, so the equation for $R$ is\n",
    "\n",
    "3 ...     $R(t_{i+1}) = R(t_i) + \\gamma I(t_i)\\,dt$.\n",
    "\n",
    "Our discrete SIR model consists of equations 1, 2 and 3 for $S$, $I$, $R$."
   ]
  },
  {
   "cell_type": "markdown",
   "metadata": {},
   "source": [
    "[Back to the top](#In-this-lecture)"
   ]
  },
  {
   "cell_type": "markdown",
   "metadata": {},
   "source": [
    "<h2>Julia code: the function for one time-step</h2>\n",
    "\n",
    "So now we consider the best way to write the Julia code. We have several options: we could write a \"for\" loop with the three equations inside; we could make three functions, one for each of $S$, $I$ and $R$; we could combine all three into one array and write one function to update all three at the same time. We will do that here.\n",
    "\n",
    "**Julia functions have access to all variables that are visible at the level that the function is created**\n",
    "\n",
    "This feature of Julia will surprise many experienced programmers. If we assign a value to the variable b and then call a function that uses b without mentioning b in the argument of the function, the function will nevertheless use the value of b as needed. See below:\n"
   ]
  },
  {
   "cell_type": "code",
   "execution_count": 1,
   "metadata": {
    "collapsed": false
   },
   "outputs": [
    {
     "data": {
      "text/plain": [
       "24"
      ]
     },
     "execution_count": 1,
     "metadata": {},
     "output_type": "execute_result"
    }
   ],
   "source": [
    "b = 4;\n",
    "f(x) = b*x\n",
    "f(6)"
   ]
  },
  {
   "cell_type": "markdown",
   "metadata": {},
   "source": [
    "We will use this feature to pass the values of $\\lambda$ and $\\gamma$ to the updating function. That is, in writing the code for the function, we pass it only the $S$, $I$, $R$ arguments and take the parameter values from the context in which the function is called. This is actually amazingly convenient, especially when we want to experiment with different parameter values for  the sake of fitting the model output to the data.\n",
    "\n",
    "This means the function looks like this:"
   ]
  },
  {
   "cell_type": "code",
   "execution_count": 2,
   "metadata": {
    "collapsed": false
   },
   "outputs": [
    {
     "data": {
      "text/plain": [
       "updateSIR (generic function with 1 method)"
      ]
     },
     "execution_count": 2,
     "metadata": {},
     "output_type": "execute_result"
    }
   ],
   "source": [
    "function updateSIR(popnvector)       # some liberty here: using upper case in the function name\n",
    "    susceptibles = popnvector[1];\n",
    "    infecteds    = popnvector[2]; \n",
    "    removeds     = popnvector[3];\n",
    "    newS = susceptibles - lambda*susceptibles*infecteds*dt\n",
    "    newI = infecteds + lambda*susceptibles*infecteds*dt - gam*infecteds*dt  #note abbreviation for gamma (see below)\n",
    "    newR = removeds + gam*infecteds*dt\n",
    "    return [newS newI newR]   # NB! spaces only to make this a one row of a two-dimensional array\n",
    "    #                   and note the use of \"return\" to specify what the function output should be \n",
    "end"
   ]
  },
  {
   "cell_type": "markdown",
   "metadata": {},
   "source": [
    "One should always do at least minimal checking that a function works as expected. \n",
    "\n",
    "For professional code, one should do extensive checking, both of output and input ... one should in fact write the function so that if it fails, it fails  gracefully, and give it some protection against error conditions. But we're not writing professional code!\n",
    "\n",
    "On the other hand, let us take the opportunity also to illustrate some typical bugs and how to meet them."
   ]
  },
  {
   "cell_type": "code",
   "execution_count": 3,
   "metadata": {
    "collapsed": false
   },
   "outputs": [
    {
     "data": {
      "text/plain": [
       "1x3 Array{Float64,2}:\n",
       " 975.0  34.5  20.5"
      ]
     },
     "execution_count": 3,
     "metadata": {},
     "output_type": "execute_result"
    }
   ],
   "source": [
    "# first we set the parameters\n",
    "dt = 0.5                    # so we are taking two steps per day\n",
    "lambda = 1/200; gam = 1/10  #note that gamma is a function in the stats packages, so let's not use it as a name\n",
    "\n",
    "# then we specify the input vector to the function\n",
    "s, i, r = 1000., 10, 20  # multiple assignment\n",
    "vec = [s i r]         # followed by creating the input vector; spaces again so that it is a row of an array\n",
    "updateSIR(vec)        # finally the actual function call to test the function"
   ]
  },
  {
   "cell_type": "markdown",
   "metadata": {},
   "source": [
    "[Back to the top](#In-this-lecture)"
   ]
  },
  {
   "cell_type": "markdown",
   "metadata": {},
   "source": [
    "<h2>Julia code: the loop structure</h2>\n",
    "\n",
    "Now we consider the loop structure. We can't run the model indefinitely, of course, so there has to be a definite end time $T_f$. We will use $T_f=610$ days, which is just a little more than the number of epidemic days in the data from Wikipedia.\n",
    "\n",
    "The number of steps is then in principle $n = T_f/dt$, but here is a delicate moment in the use of computers. Computer arithmetic is not infinitely precise, and so we cannot be quite sure that if we use the computer to calculate $n$ in this way that we will exactly have $n\\,dt = T_f$ as we expect on the grounds of algebra. I like to set time as a separate variable, to keep explicit track of step number $i$, and to continue for $n$ steps. Then if at the end the time is not exactly $T_f$ it doesn't matter, because it will be extremely close to it.\n",
    "\n",
    "The take-home message is DO NOT RELY ON EXACT EQUALITY, even if you can reasonably expect it. Computers normally are only very close to the numbers you, the programmer, are thinking of (excluding again the exactness that professional programmers may sometimes achieve).\n",
    "\n",
    "Knowing the value of $n$ also allows us to initialise an array to hold all the values as they're collected, one row of three elements for each value of the time. This will end up being $n+1$ values, of course.\n",
    "\n",
    "So here is the concept code:"
   ]
  },
  {
   "cell_type": "code",
   "execution_count": 22,
   "metadata": {
    "collapsed": false
   },
   "outputs": [],
   "source": [
    "tfinal = 610;    # respecting community values: lowercase only in the names \n",
    "nsteps = round(Int64, tfinal/dt)    # note the use of round() with type Int64 to ensure that nsteps is an integer\n",
    "resultvals = Array(Float64, nsteps+1, 3)  #initialise array of type Float64 to hold results\n",
    "timevec = Array(Float64, nsteps+1)        # ... ditto for time values\n",
    "\n",
    "# specify the initial values S(0), I(0), R(0)\n",
    "# resultvals[1,:] = [s0, i0, r0]  # ... and assign them to the first row\n",
    "\n",
    "for step  = 1:nsteps\n",
    "    # call updateSIR with the step vals and load result into resultvals[step+1, :]\n",
    "    # update time and load it into timevec\n",
    "end"
   ]
  },
  {
   "cell_type": "markdown",
   "metadata": {},
   "source": [
    "[Back to the top](#In-this-lecture)"
   ]
  },
  {
   "cell_type": "markdown",
   "metadata": {},
   "source": [
    "<h2>Running the model</h2>\n",
    "\n",
    "We can now run the model. To illustrate the steps, I paste the  cell above into the cell below, and supply the missing bits, this includes the parameter values that we set up before, but not the updateSIR function, as we do not wish to modify that."
   ]
  },
  {
   "cell_type": "code",
   "execution_count": 5,
   "metadata": {
    "collapsed": false
   },
   "outputs": [],
   "source": [
    "# set the values that define the current run\n",
    "lambda = 1/20000   # infection rate parameter (assumes rates are per day)\n",
    "gam = 1/10       # recovery rate parameter  (ditto)\n",
    "dt = 0.5         # length of time step in days\n",
    "tfinal = 610;    # respecting community values: lowercase only in the names \n",
    "s0 = 10000.0     # initial susceptibles, note that we use the  type Float64 from the start\n",
    "i0 = 4.          # initial infecteds; set this to 1. to  mimic an epidemic with an index case\n",
    "r0 = 0.          # not always the case, of course\n",
    "\n",
    "# initialise \n",
    "nsteps = round(Int64, tfinal/dt)    # note the use of round() with type Int64 to ensure that nsteps is an integer\n",
    "resultvals = Array(Float64, nsteps+1, 3)  #initialise array of type Float64 to hold results\n",
    "timevec = Array(Float64, nsteps+1)        # ... ditto for time values\n",
    "resultvals[1,:] = [s0, i0, r0]  # ... and assign them to the first row\n",
    "timevec[1] = 0.                 # also Float64, of course.\n",
    "\n",
    "for step  = 1:nsteps\n",
    "    resultvals[step+1, :] = updateSIR(resultvals[step, :])  # NB! pay careful attention to the rows being used\n",
    "    timevec[step+1] = timevec[step] + dt\n",
    "end"
   ]
  },
  {
   "cell_type": "markdown",
   "metadata": {},
   "source": [
    "[Back to the top](#In-this-lecture)"
   ]
  },
  {
   "cell_type": "markdown",
   "metadata": {},
   "source": [
    "<h2>Plotting the results</h2>\n",
    "\n",
    "It is now simple  to plot the three population components versus the time.\n",
    "\n"
   ]
  },
  {
   "cell_type": "code",
   "execution_count": 6,
   "metadata": {
    "collapsed": false
   },
   "outputs": [
    {
     "name": "stdout",
     "output_type": "stream",
     "text": [
      "[Plots.jl] Initializing backend: pyplot\n"
     ]
    },
    {
     "data": {
      "text/html": [
       "<img src=\"data:image/png;base64,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\" />"
      ]
     },
     "execution_count": 6,
     "metadata": {},
     "output_type": "execute_result"
    }
   ],
   "source": [
    "using Plots\n",
    "pyplot()\n",
    "plot(timevec, resultvals)  # quick and dirty! Plots ought to interpret this as we mean it ..."
   ]
  },
  {
   "cell_type": "code",
   "execution_count": 7,
   "metadata": {
    "collapsed": false
   },
   "outputs": [
    {
     "data": {
      "text/html": [
       "<img src=\"data:image/png;base64,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\" />"
      ]
     },
     "execution_count": 7,
     "metadata": {},
     "output_type": "execute_result"
    }
   ],
   "source": [
    "plot(timevec, resultvals,  # we should of course at a minimum provide some labels\n",
    "title  = \"Example of SIR results\",\n",
    "xlabel = \"Epidemic day\",\n",
    "ylabel = \"Population size\",\n",
    "label  = [\"Susceptibles\" \"Infecteds\" \"Removeds\"]\n",
    ")"
   ]
  },
  {
   "cell_type": "markdown",
   "metadata": {},
   "source": [
    "[Back to the top](#In-this-lecture)"
   ]
  }
 ],
 "metadata": {
  "kernelspec": {
   "display_name": "Julia 0.4.6",
   "language": "julia",
   "name": "julia-0.4"
  },
  "language_info": {
   "file_extension": ".jl",
   "mimetype": "application/julia",
   "name": "julia",
   "version": "0.4.6"
  }
 },
 "nbformat": 4,
 "nbformat_minor": 0
}
