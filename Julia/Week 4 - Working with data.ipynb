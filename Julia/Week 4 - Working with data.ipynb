{
 "cells": [
  {
   "cell_type": "markdown",
   "metadata": {},
   "source": [
    "# Week 4 Peer Review"
   ]
  },
  {
   "cell_type": "markdown",
   "metadata": {},
   "source": [
    "Week 4 Peer Review - Working with Distributions and DataFrames. To help you with this task, comments are added to each cell."
   ]
  },
  {
   "cell_type": "code",
   "execution_count": 38,
   "metadata": {
    "collapsed": true
   },
   "outputs": [],
   "source": [
    "# Import the required packages\n",
    "using Distributions, DataFrames"
   ]
  },
  {
   "cell_type": "code",
   "execution_count": 39,
   "metadata": {
    "collapsed": true
   },
   "outputs": [],
   "source": [
    "# Seed the random number generator\n",
    "srand(1234);"
   ]
  },
  {
   "cell_type": "code",
   "execution_count": 107,
   "metadata": {
    "collapsed": false
   },
   "outputs": [
    {
     "data": {
      "text/plain": [
       "30x3 Array{Float64,2}:\n",
       " 0.644398   13.3729   10.0\n",
       " 0.865761    7.637    14.0\n",
       " 0.730436   10.849    13.0\n",
       " 0.967919   12.0972   12.0\n",
       " 0.863701   11.9085   15.0\n",
       " 0.60349    12.4469    5.0\n",
       " 0.448902   10.5322    9.0\n",
       " 0.486367    8.58664   5.0\n",
       " 0.0313024   9.0758   10.0\n",
       " 0.511082   11.4893   15.0\n",
       " 0.195983    8.89863  13.0\n",
       " 0.213959    8.56344   6.0\n",
       " 0.68774    11.5383   12.0\n",
       " ⋮                        \n",
       " 0.195476    8.14206  12.0\n",
       " 0.873427   11.0805   12.0\n",
       " 0.312677    9.07463   9.0\n",
       " 0.0593203  10.2637    7.0\n",
       " 0.0121844  10.035    10.0\n",
       " 0.176199    9.82866  15.0\n",
       " 0.727971    8.10913  12.0\n",
       " 0.0749607   9.66963   9.0\n",
       " 0.954453    8.67184  15.0\n",
       " 0.661208    9.89806  13.0\n",
       " 0.705807   11.892    12.0\n",
       " 0.540058    7.04817   9.0"
      ]
     },
     "execution_count": 107,
     "metadata": {},
     "output_type": "execute_result"
    }
   ],
   "source": [
    "# Question 4: Create the 3 x 30 array named array_1\n",
    "array_1 = [rand(30) rand(Normal(10, 2), 30) rand(5:15, 30)]"
   ]
  },
  {
   "cell_type": "code",
   "execution_count": 102,
   "metadata": {
    "collapsed": false
   },
   "outputs": [
    {
     "name": "stdout",
     "output_type": "stream",
     "text": [
      "Column 1: Mean: 0.4608292401911903 Variance: 0.07558227892032895\n"
     ]
    }
   ],
   "source": [
    "# Question 5: Mean and variance of column 1\n",
    "col1_mean = mean(array_1[:, 1])\n",
    "col1_var = var(array_1[:, 1])\n",
    "println(\"Column 1: Mean: \", col1_mean, \" Variance: \", col1_var)"
   ]
  },
  {
   "cell_type": "code",
   "execution_count": 108,
   "metadata": {
    "collapsed": false
   },
   "outputs": [
    {
     "name": "stdout",
     "output_type": "stream",
     "text": [
      "Column 2: Mean: 9.934826017706849 Variance: 2.94102084587881\n"
     ]
    }
   ],
   "source": [
    "# Question 5 (continued): Mean and variance of column 2\n",
    "col2_mean = mean(array_1[:, 2])\n",
    "col2_var = var(array_1[:, 2])\n",
    "println(\"Column 2: Mean: \", col2_mean, \" Variance: \", col2_var)"
   ]
  },
  {
   "cell_type": "code",
   "execution_count": 109,
   "metadata": {
    "collapsed": false
   },
   "outputs": [
    {
     "name": "stdout",
     "output_type": "stream",
     "text": [
      "Column 3: Mean: 10.8 Variance: 9.820689655172412\n"
     ]
    }
   ],
   "source": [
    "# Question 5 (continued): Mean and variance of column 3\n",
    "col3_mean = mean(array_1[:, 3])\n",
    "col3_var = var(array_1[:, 3])\n",
    "println(\"Column 3: Mean: \", col3_mean, \" Variance: \", col3_var)"
   ]
  },
  {
   "cell_type": "code",
   "execution_count": 110,
   "metadata": {
    "collapsed": false
   },
   "outputs": [
    {
     "data": {
      "text/html": [
       "<table class=\"data-frame\"><thead><tr><th></th><th>x1</th><th>x2</th><th>x3</th></tr></thead><tbody><tr><th>1</th><td>0.6443982336349441</td><td>13.372945281396758</td><td>10.0</td></tr><tr><th>2</th><td>0.8657608312573077</td><td>7.637004933918378</td><td>14.0</td></tr><tr><th>3</th><td>0.7304357149107255</td><td>10.849033432574034</td><td>13.0</td></tr><tr><th>4</th><td>0.9679194318597777</td><td>12.09724114600942</td><td>12.0</td></tr><tr><th>5</th><td>0.8637010997858323</td><td>11.908540927674293</td><td>15.0</td></tr><tr><th>6</th><td>0.6034898221932163</td><td>12.446896512233089</td><td>5.0</td></tr><tr><th>7</th><td>0.44890241409751264</td><td>10.532187241829943</td><td>9.0</td></tr><tr><th>8</th><td>0.48636687559846736</td><td>8.586638745957874</td><td>5.0</td></tr><tr><th>9</th><td>0.031302414653596955</td><td>9.075796018106345</td><td>10.0</td></tr><tr><th>10</th><td>0.5110815820265724</td><td>11.489331134052849</td><td>15.0</td></tr><tr><th>11</th><td>0.1959826181366584</td><td>8.898628609350398</td><td>13.0</td></tr><tr><th>12</th><td>0.2139589515051541</td><td>8.563442778311119</td><td>6.0</td></tr><tr><th>13</th><td>0.6877398755549278</td><td>11.538309337664504</td><td>12.0</td></tr><tr><th>14</th><td>0.13109061811396439</td><td>9.147087539787467</td><td>15.0</td></tr><tr><th>15</th><td>0.7172743821468857</td><td>7.3155730141484305</td><td>10.0</td></tr><tr><th>16</th><td>0.4358050506636615</td><td>9.962535165774026</td><td>5.0</td></tr><tr><th>17</th><td>0.766893646808797</td><td>12.80391969217296</td><td>12.0</td></tr><tr><th>18</th><td>0.04906471318615746</td><td>8.106236112151906</td><td>8.0</td></tr><tr><th>19</th><td>0.19547632852078922</td><td>8.14205548612661</td><td>12.0</td></tr><tr><th>20</th><td>0.8734274322605289</td><td>11.080506069038863</td><td>12.0</td></tr><tr><th>21</th><td>0.3126766486000303</td><td>9.074633798025904</td><td>9.0</td></tr><tr><th>22</th><td>0.05932033840648887</td><td>10.263722572779246</td><td>7.0</td></tr><tr><th>23</th><td>0.012184393212000044</td><td>10.03500941748993</td><td>10.0</td></tr><tr><th>24</th><td>0.17619872196395114</td><td>9.8286606831637</td><td>15.0</td></tr><tr><th>25</th><td>0.7279707310161325</td><td>8.109133843534126</td><td>12.0</td></tr><tr><th>26</th><td>0.07496068459321781</td><td>9.669625079772063</td><td>9.0</td></tr><tr><th>27</th><td>0.9544526414979242</td><td>8.671836649976628</td><td>15.0</td></tr><tr><th>28</th><td>0.6612081223540658</td><td>9.898055184252318</td><td>13.0</td></tr><tr><th>29</th><td>0.705807378661393</td><td>11.892028332604028</td><td>12.0</td></tr><tr><th>30</th><td>0.5400584519361125</td><td>7.048165791328253</td><td>9.0</td></tr></tbody></table>"
      ],
      "text/plain": [
       "30×3 DataFrames.DataFrame\n",
       "│ Row │ x1        │ x2      │ x3   │\n",
       "├─────┼───────────┼─────────┼──────┤\n",
       "│ 1   │ 0.644398  │ 13.3729 │ 10.0 │\n",
       "│ 2   │ 0.865761  │ 7.637   │ 14.0 │\n",
       "│ 3   │ 0.730436  │ 10.849  │ 13.0 │\n",
       "│ 4   │ 0.967919  │ 12.0972 │ 12.0 │\n",
       "│ 5   │ 0.863701  │ 11.9085 │ 15.0 │\n",
       "│ 6   │ 0.60349   │ 12.4469 │ 5.0  │\n",
       "│ 7   │ 0.448902  │ 10.5322 │ 9.0  │\n",
       "│ 8   │ 0.486367  │ 8.58664 │ 5.0  │\n",
       "│ 9   │ 0.0313024 │ 9.0758  │ 10.0 │\n",
       "│ 10  │ 0.511082  │ 11.4893 │ 15.0 │\n",
       "│ 11  │ 0.195983  │ 8.89863 │ 13.0 │\n",
       "⋮\n",
       "│ 19  │ 0.195476  │ 8.14206 │ 12.0 │\n",
       "│ 20  │ 0.873427  │ 11.0805 │ 12.0 │\n",
       "│ 21  │ 0.312677  │ 9.07463 │ 9.0  │\n",
       "│ 22  │ 0.0593203 │ 10.2637 │ 7.0  │\n",
       "│ 23  │ 0.0121844 │ 10.035  │ 10.0 │\n",
       "│ 24  │ 0.176199  │ 9.82866 │ 15.0 │\n",
       "│ 25  │ 0.727971  │ 8.10913 │ 12.0 │\n",
       "│ 26  │ 0.0749607 │ 9.66963 │ 9.0  │\n",
       "│ 27  │ 0.954453  │ 8.67184 │ 15.0 │\n",
       "│ 28  │ 0.661208  │ 9.89806 │ 13.0 │\n",
       "│ 29  │ 0.705807  │ 11.892  │ 12.0 │\n",
       "│ 30  │ 0.540058  │ 7.04817 │ 9.0  │"
      ]
     },
     "execution_count": 110,
     "metadata": {},
     "output_type": "execute_result"
    }
   ],
   "source": [
    "# Question 6: Import array_1 into a DataFrame named df\n",
    "df = convert(DataFrame, array_1)"
   ]
  },
  {
   "cell_type": "code",
   "execution_count": 111,
   "metadata": {
    "collapsed": false
   },
   "outputs": [
    {
     "data": {
      "text/html": [
       "<table class=\"data-frame\"><thead><tr><th></th><th>Var1</th><th>Var2</th><th>Var3</th></tr></thead><tbody><tr><th>1</th><td>0.6443982336349441</td><td>13.372945281396758</td><td>10.0</td></tr><tr><th>2</th><td>0.8657608312573077</td><td>7.637004933918378</td><td>14.0</td></tr><tr><th>3</th><td>0.7304357149107255</td><td>10.849033432574034</td><td>13.0</td></tr><tr><th>4</th><td>0.9679194318597777</td><td>12.09724114600942</td><td>12.0</td></tr><tr><th>5</th><td>0.8637010997858323</td><td>11.908540927674293</td><td>15.0</td></tr><tr><th>6</th><td>0.6034898221932163</td><td>12.446896512233089</td><td>5.0</td></tr><tr><th>7</th><td>0.44890241409751264</td><td>10.532187241829943</td><td>9.0</td></tr><tr><th>8</th><td>0.48636687559846736</td><td>8.586638745957874</td><td>5.0</td></tr><tr><th>9</th><td>0.031302414653596955</td><td>9.075796018106345</td><td>10.0</td></tr><tr><th>10</th><td>0.5110815820265724</td><td>11.489331134052849</td><td>15.0</td></tr><tr><th>11</th><td>0.1959826181366584</td><td>8.898628609350398</td><td>13.0</td></tr><tr><th>12</th><td>0.2139589515051541</td><td>8.563442778311119</td><td>6.0</td></tr><tr><th>13</th><td>0.6877398755549278</td><td>11.538309337664504</td><td>12.0</td></tr><tr><th>14</th><td>0.13109061811396439</td><td>9.147087539787467</td><td>15.0</td></tr><tr><th>15</th><td>0.7172743821468857</td><td>7.3155730141484305</td><td>10.0</td></tr><tr><th>16</th><td>0.4358050506636615</td><td>9.962535165774026</td><td>5.0</td></tr><tr><th>17</th><td>0.766893646808797</td><td>12.80391969217296</td><td>12.0</td></tr><tr><th>18</th><td>0.04906471318615746</td><td>8.106236112151906</td><td>8.0</td></tr><tr><th>19</th><td>0.19547632852078922</td><td>8.14205548612661</td><td>12.0</td></tr><tr><th>20</th><td>0.8734274322605289</td><td>11.080506069038863</td><td>12.0</td></tr><tr><th>21</th><td>0.3126766486000303</td><td>9.074633798025904</td><td>9.0</td></tr><tr><th>22</th><td>0.05932033840648887</td><td>10.263722572779246</td><td>7.0</td></tr><tr><th>23</th><td>0.012184393212000044</td><td>10.03500941748993</td><td>10.0</td></tr><tr><th>24</th><td>0.17619872196395114</td><td>9.8286606831637</td><td>15.0</td></tr><tr><th>25</th><td>0.7279707310161325</td><td>8.109133843534126</td><td>12.0</td></tr><tr><th>26</th><td>0.07496068459321781</td><td>9.669625079772063</td><td>9.0</td></tr><tr><th>27</th><td>0.9544526414979242</td><td>8.671836649976628</td><td>15.0</td></tr><tr><th>28</th><td>0.6612081223540658</td><td>9.898055184252318</td><td>13.0</td></tr><tr><th>29</th><td>0.705807378661393</td><td>11.892028332604028</td><td>12.0</td></tr><tr><th>30</th><td>0.5400584519361125</td><td>7.048165791328253</td><td>9.0</td></tr></tbody></table>"
      ],
      "text/plain": [
       "30×3 DataFrames.DataFrame\n",
       "│ Row │ Var1      │ Var2    │ Var3 │\n",
       "├─────┼───────────┼─────────┼──────┤\n",
       "│ 1   │ 0.644398  │ 13.3729 │ 10.0 │\n",
       "│ 2   │ 0.865761  │ 7.637   │ 14.0 │\n",
       "│ 3   │ 0.730436  │ 10.849  │ 13.0 │\n",
       "│ 4   │ 0.967919  │ 12.0972 │ 12.0 │\n",
       "│ 5   │ 0.863701  │ 11.9085 │ 15.0 │\n",
       "│ 6   │ 0.60349   │ 12.4469 │ 5.0  │\n",
       "│ 7   │ 0.448902  │ 10.5322 │ 9.0  │\n",
       "│ 8   │ 0.486367  │ 8.58664 │ 5.0  │\n",
       "│ 9   │ 0.0313024 │ 9.0758  │ 10.0 │\n",
       "│ 10  │ 0.511082  │ 11.4893 │ 15.0 │\n",
       "│ 11  │ 0.195983  │ 8.89863 │ 13.0 │\n",
       "⋮\n",
       "│ 19  │ 0.195476  │ 8.14206 │ 12.0 │\n",
       "│ 20  │ 0.873427  │ 11.0805 │ 12.0 │\n",
       "│ 21  │ 0.312677  │ 9.07463 │ 9.0  │\n",
       "│ 22  │ 0.0593203 │ 10.2637 │ 7.0  │\n",
       "│ 23  │ 0.0121844 │ 10.035  │ 10.0 │\n",
       "│ 24  │ 0.176199  │ 9.82866 │ 15.0 │\n",
       "│ 25  │ 0.727971  │ 8.10913 │ 12.0 │\n",
       "│ 26  │ 0.0749607 │ 9.66963 │ 9.0  │\n",
       "│ 27  │ 0.954453  │ 8.67184 │ 15.0 │\n",
       "│ 28  │ 0.661208  │ 9.89806 │ 13.0 │\n",
       "│ 29  │ 0.705807  │ 11.892  │ 12.0 │\n",
       "│ 30  │ 0.540058  │ 7.04817 │ 9.0  │"
      ]
     },
     "execution_count": 111,
     "metadata": {},
     "output_type": "execute_result"
    }
   ],
   "source": [
    "# Question 7: Change the names of the columns to Var1, Var2, and Var3\n",
    "rename!(df, Dict(:x1 => :Var1, :x2 => :Var2, :x3 => :Var3))"
   ]
  },
  {
   "cell_type": "code",
   "execution_count": 112,
   "metadata": {
    "collapsed": false
   },
   "outputs": [
    {
     "data": {
      "text/html": [
       "<table class=\"data-frame\"><thead><tr><th></th><th>Var1</th><th>Var2</th><th>Var3</th></tr></thead><tbody><tr><th>1</th><td>0.1959826181366584</td><td>8.898628609350398</td><td>13.0</td></tr><tr><th>2</th><td>0.2139589515051541</td><td>8.563442778311119</td><td>6.0</td></tr><tr><th>3</th><td>0.6877398755549278</td><td>11.538309337664504</td><td>12.0</td></tr><tr><th>4</th><td>0.13109061811396439</td><td>9.147087539787467</td><td>15.0</td></tr><tr><th>5</th><td>0.7172743821468857</td><td>7.3155730141484305</td><td>10.0</td></tr><tr><th>6</th><td>0.4358050506636615</td><td>9.962535165774026</td><td>5.0</td></tr><tr><th>7</th><td>0.766893646808797</td><td>12.80391969217296</td><td>12.0</td></tr><tr><th>8</th><td>0.04906471318615746</td><td>8.106236112151906</td><td>8.0</td></tr><tr><th>9</th><td>0.19547632852078922</td><td>8.14205548612661</td><td>12.0</td></tr><tr><th>10</th><td>0.8734274322605289</td><td>11.080506069038863</td><td>12.0</td></tr><tr><th>11</th><td>0.3126766486000303</td><td>9.074633798025904</td><td>9.0</td></tr><tr><th>12</th><td>0.05932033840648887</td><td>10.263722572779246</td><td>7.0</td></tr><tr><th>13</th><td>0.012184393212000044</td><td>10.03500941748993</td><td>10.0</td></tr><tr><th>14</th><td>0.17619872196395114</td><td>9.8286606831637</td><td>15.0</td></tr><tr><th>15</th><td>0.7279707310161325</td><td>8.109133843534126</td><td>12.0</td></tr><tr><th>16</th><td>0.07496068459321781</td><td>9.669625079772063</td><td>9.0</td></tr><tr><th>17</th><td>0.9544526414979242</td><td>8.671836649976628</td><td>15.0</td></tr><tr><th>18</th><td>0.6612081223540658</td><td>9.898055184252318</td><td>13.0</td></tr><tr><th>19</th><td>0.705807378661393</td><td>11.892028332604028</td><td>12.0</td></tr><tr><th>20</th><td>0.5400584519361125</td><td>7.048165791328253</td><td>9.0</td></tr></tbody></table>"
      ],
      "text/plain": [
       "20×3 DataFrames.DataFrame\n",
       "│ Row │ Var1      │ Var2    │ Var3 │\n",
       "├─────┼───────────┼─────────┼──────┤\n",
       "│ 1   │ 0.195983  │ 8.89863 │ 13.0 │\n",
       "│ 2   │ 0.213959  │ 8.56344 │ 6.0  │\n",
       "│ 3   │ 0.68774   │ 11.5383 │ 12.0 │\n",
       "│ 4   │ 0.131091  │ 9.14709 │ 15.0 │\n",
       "│ 5   │ 0.717274  │ 7.31557 │ 10.0 │\n",
       "│ 6   │ 0.435805  │ 9.96254 │ 5.0  │\n",
       "│ 7   │ 0.766894  │ 12.8039 │ 12.0 │\n",
       "│ 8   │ 0.0490647 │ 8.10624 │ 8.0  │\n",
       "│ 9   │ 0.195476  │ 8.14206 │ 12.0 │\n",
       "│ 10  │ 0.873427  │ 11.0805 │ 12.0 │\n",
       "│ 11  │ 0.312677  │ 9.07463 │ 9.0  │\n",
       "│ 12  │ 0.0593203 │ 10.2637 │ 7.0  │\n",
       "│ 13  │ 0.0121844 │ 10.035  │ 10.0 │\n",
       "│ 14  │ 0.176199  │ 9.82866 │ 15.0 │\n",
       "│ 15  │ 0.727971  │ 8.10913 │ 12.0 │\n",
       "│ 16  │ 0.0749607 │ 9.66963 │ 9.0  │\n",
       "│ 17  │ 0.954453  │ 8.67184 │ 15.0 │\n",
       "│ 18  │ 0.661208  │ 9.89806 │ 13.0 │\n",
       "│ 19  │ 0.705807  │ 11.892  │ 12.0 │\n",
       "│ 20  │ 0.540058  │ 7.04817 │ 9.0  │"
      ]
     },
     "execution_count": 112,
     "metadata": {},
     "output_type": "execute_result"
    }
   ],
   "source": [
    "# Question 8: Create and new DataFrame named df2 from the last 20 rows of df\n",
    "df2 = df[end-19:end, :]"
   ]
  },
  {
   "cell_type": "code",
   "execution_count": 113,
   "metadata": {
    "collapsed": false
   },
   "outputs": [
    {
     "name": "stdout",
     "output_type": "stream",
     "text": [
      "Var1\n",
      "Min      0.012184393212000044\n",
      "1st Qu.  0.16492169600145445\n",
      "Median   0.3742408496318459\n",
      "Mean     0.424577586456942\n",
      "3rd Qu.  0.7086741295327661\n",
      "Max      0.9544526414979242\n",
      "NAs      0\n",
      "NA%      0.0%\n",
      "\n",
      "Var2\n",
      "Min      7.048165791328253\n",
      "1st Qu.  8.45809595526499\n",
      "Median   9.408356309779766\n",
      "Mean     9.502458257872624\n",
      "3rd Qu.  10.092187706312258\n",
      "Max      12.80391969217296\n",
      "NAs      0\n",
      "NA%      0.0%\n",
      "\n",
      "Var3\n",
      "Min      5.0\n",
      "1st Qu.  9.0\n",
      "Median   12.0\n",
      "Mean     10.8\n",
      "3rd Qu.  12.25\n",
      "Max      15.0\n",
      "NAs      0\n",
      "NA%      0.0%\n",
      "\n"
     ]
    }
   ],
   "source": [
    "# Question 9: Calculate simple descriptive statistics of all the columns in df2 using the describe() function\n",
    "describe(df2)"
   ]
  },
  {
   "cell_type": "code",
   "execution_count": 114,
   "metadata": {
    "collapsed": false
   },
   "outputs": [
    {
     "data": {
      "text/html": [
       "<table class=\"data-frame\"><thead><tr><th></th><th>Var1</th><th>Var2</th><th>Var3</th><th>Cat1</th></tr></thead><tbody><tr><th>1</th><td>0.1959826181366584</td><td>8.898628609350398</td><td>13.0</td><td>Group A</td></tr><tr><th>2</th><td>0.2139589515051541</td><td>8.563442778311119</td><td>6.0</td><td>Group B</td></tr><tr><th>3</th><td>0.6877398755549278</td><td>11.538309337664504</td><td>12.0</td><td>Group A</td></tr><tr><th>4</th><td>0.13109061811396439</td><td>9.147087539787467</td><td>15.0</td><td>Group B</td></tr><tr><th>5</th><td>0.7172743821468857</td><td>7.3155730141484305</td><td>10.0</td><td>Group A</td></tr><tr><th>6</th><td>0.4358050506636615</td><td>9.962535165774026</td><td>5.0</td><td>Group A</td></tr><tr><th>7</th><td>0.766893646808797</td><td>12.80391969217296</td><td>12.0</td><td>Group B</td></tr><tr><th>8</th><td>0.04906471318615746</td><td>8.106236112151906</td><td>8.0</td><td>Group A</td></tr><tr><th>9</th><td>0.19547632852078922</td><td>8.14205548612661</td><td>12.0</td><td>Group B</td></tr><tr><th>10</th><td>0.8734274322605289</td><td>11.080506069038863</td><td>12.0</td><td>Group A</td></tr><tr><th>11</th><td>0.3126766486000303</td><td>9.074633798025904</td><td>9.0</td><td>Group A</td></tr><tr><th>12</th><td>0.05932033840648887</td><td>10.263722572779246</td><td>7.0</td><td>Group A</td></tr><tr><th>13</th><td>0.012184393212000044</td><td>10.03500941748993</td><td>10.0</td><td>Group B</td></tr><tr><th>14</th><td>0.17619872196395114</td><td>9.8286606831637</td><td>15.0</td><td>Group B</td></tr><tr><th>15</th><td>0.7279707310161325</td><td>8.109133843534126</td><td>12.0</td><td>Group B</td></tr><tr><th>16</th><td>0.07496068459321781</td><td>9.669625079772063</td><td>9.0</td><td>Group B</td></tr><tr><th>17</th><td>0.9544526414979242</td><td>8.671836649976628</td><td>15.0</td><td>Group A</td></tr><tr><th>18</th><td>0.6612081223540658</td><td>9.898055184252318</td><td>13.0</td><td>Group B</td></tr><tr><th>19</th><td>0.705807378661393</td><td>11.892028332604028</td><td>12.0</td><td>Group B</td></tr><tr><th>20</th><td>0.5400584519361125</td><td>7.048165791328253</td><td>9.0</td><td>Group A</td></tr></tbody></table>"
      ],
      "text/plain": [
       "20×4 DataFrames.DataFrame\n",
       "│ Row │ Var1      │ Var2    │ Var3 │ Cat1      │\n",
       "├─────┼───────────┼─────────┼──────┼───────────┤\n",
       "│ 1   │ 0.195983  │ 8.89863 │ 13.0 │ \"Group A\" │\n",
       "│ 2   │ 0.213959  │ 8.56344 │ 6.0  │ \"Group B\" │\n",
       "│ 3   │ 0.68774   │ 11.5383 │ 12.0 │ \"Group A\" │\n",
       "│ 4   │ 0.131091  │ 9.14709 │ 15.0 │ \"Group B\" │\n",
       "│ 5   │ 0.717274  │ 7.31557 │ 10.0 │ \"Group A\" │\n",
       "│ 6   │ 0.435805  │ 9.96254 │ 5.0  │ \"Group A\" │\n",
       "│ 7   │ 0.766894  │ 12.8039 │ 12.0 │ \"Group B\" │\n",
       "│ 8   │ 0.0490647 │ 8.10624 │ 8.0  │ \"Group A\" │\n",
       "│ 9   │ 0.195476  │ 8.14206 │ 12.0 │ \"Group B\" │\n",
       "│ 10  │ 0.873427  │ 11.0805 │ 12.0 │ \"Group A\" │\n",
       "│ 11  │ 0.312677  │ 9.07463 │ 9.0  │ \"Group A\" │\n",
       "│ 12  │ 0.0593203 │ 10.2637 │ 7.0  │ \"Group A\" │\n",
       "│ 13  │ 0.0121844 │ 10.035  │ 10.0 │ \"Group B\" │\n",
       "│ 14  │ 0.176199  │ 9.82866 │ 15.0 │ \"Group B\" │\n",
       "│ 15  │ 0.727971  │ 8.10913 │ 12.0 │ \"Group B\" │\n",
       "│ 16  │ 0.0749607 │ 9.66963 │ 9.0  │ \"Group B\" │\n",
       "│ 17  │ 0.954453  │ 8.67184 │ 15.0 │ \"Group A\" │\n",
       "│ 18  │ 0.661208  │ 9.89806 │ 13.0 │ \"Group B\" │\n",
       "│ 19  │ 0.705807  │ 11.892  │ 12.0 │ \"Group B\" │\n",
       "│ 20  │ 0.540058  │ 7.04817 │ 9.0  │ \"Group A\" │"
      ]
     },
     "execution_count": 114,
     "metadata": {},
     "output_type": "execute_result"
    }
   ],
   "source": [
    "# Question 10: Add a column to df2 named Cat1 to df2 consisting of randomly selecting either the strings GraoupA or GroupB\n",
    "df2[:Cat1] = rand([\"Group A\", \"Group B\"], 20)\n",
    "df2"
   ]
  },
  {
   "cell_type": "code",
   "execution_count": 115,
   "metadata": {
    "collapsed": false
   },
   "outputs": [
    {
     "data": {
      "text/html": [
       "<table class=\"data-frame\"><thead><tr><th></th><th>A</th><th>B</th><th>C</th></tr></thead><tbody><tr><th>1</th><td>1</td><td>21</td><td>41</td></tr><tr><th>2</th><td>2</td><td>22</td><td>42</td></tr><tr><th>3</th><td>3</td><td>23</td><td>43</td></tr><tr><th>4</th><td>4</td><td>24</td><td>44</td></tr><tr><th>5</th><td>5</td><td>25</td><td>45</td></tr><tr><th>6</th><td>6</td><td>26</td><td>46</td></tr><tr><th>7</th><td>7</td><td>27</td><td>47</td></tr><tr><th>8</th><td>8</td><td>28</td><td>48</td></tr><tr><th>9</th><td>9</td><td>29</td><td>49</td></tr><tr><th>10</th><td>10</td><td>30</td><td>50</td></tr><tr><th>11</th><td>11</td><td>31</td><td>51</td></tr><tr><th>12</th><td>12</td><td>32</td><td>52</td></tr><tr><th>13</th><td>13</td><td>33</td><td>53</td></tr><tr><th>14</th><td>14</td><td>34</td><td>54</td></tr><tr><th>15</th><td>15</td><td>35</td><td>55</td></tr><tr><th>16</th><td>16</td><td>36</td><td>56</td></tr><tr><th>17</th><td>17</td><td>37</td><td>57</td></tr><tr><th>18</th><td>18</td><td>38</td><td>58</td></tr><tr><th>19</th><td>19</td><td>39</td><td>59</td></tr><tr><th>20</th><td>20</td><td>40</td><td>60</td></tr></tbody></table>"
      ],
      "text/plain": [
       "20×3 DataFrames.DataFrame\n",
       "│ Row │ A  │ B  │ C  │\n",
       "├─────┼────┼────┼────┤\n",
       "│ 1   │ 1  │ 21 │ 41 │\n",
       "│ 2   │ 2  │ 22 │ 42 │\n",
       "│ 3   │ 3  │ 23 │ 43 │\n",
       "│ 4   │ 4  │ 24 │ 44 │\n",
       "│ 5   │ 5  │ 25 │ 45 │\n",
       "│ 6   │ 6  │ 26 │ 46 │\n",
       "│ 7   │ 7  │ 27 │ 47 │\n",
       "│ 8   │ 8  │ 28 │ 48 │\n",
       "│ 9   │ 9  │ 29 │ 49 │\n",
       "│ 10  │ 10 │ 30 │ 50 │\n",
       "│ 11  │ 11 │ 31 │ 51 │\n",
       "│ 12  │ 12 │ 32 │ 52 │\n",
       "│ 13  │ 13 │ 33 │ 53 │\n",
       "│ 14  │ 14 │ 34 │ 54 │\n",
       "│ 15  │ 15 │ 35 │ 55 │\n",
       "│ 16  │ 16 │ 36 │ 56 │\n",
       "│ 17  │ 17 │ 37 │ 57 │\n",
       "│ 18  │ 18 │ 38 │ 58 │\n",
       "│ 19  │ 19 │ 39 │ 59 │\n",
       "│ 20  │ 20 │ 40 │ 60 │"
      ]
     },
     "execution_count": 115,
     "metadata": {},
     "output_type": "execute_result"
    }
   ],
   "source": [
    "# Question 11: Create a new DataFrame named df3\n",
    "df3 = DataFrame(A = 1:20, B = 21:40, C = 41:60)"
   ]
  },
  {
   "cell_type": "code",
   "execution_count": 116,
   "metadata": {
    "collapsed": false
   },
   "outputs": [
    {
     "data": {
      "text/html": [
       "<table class=\"data-frame\"><thead><tr><th></th><th>A</th><th>B</th><th>C</th></tr></thead><tbody><tr><th>1</th><td>1</td><td>21</td><td>41</td></tr><tr><th>2</th><td>2</td><td>22</td><td>42</td></tr><tr><th>3</th><td>3</td><td>23</td><td>43</td></tr><tr><th>4</th><td>4</td><td>24</td><td>44</td></tr><tr><th>5</th><td>5</td><td>25</td><td>45</td></tr><tr><th>6</th><td>6</td><td>26</td><td>46</td></tr><tr><th>7</th><td>7</td><td>27</td><td>47</td></tr><tr><th>8</th><td>8</td><td>28</td><td>48</td></tr><tr><th>9</th><td>9</td><td>29</td><td>49</td></tr><tr><th>10</th><td>NA</td><td>30</td><td>50</td></tr><tr><th>11</th><td>11</td><td>31</td><td>51</td></tr><tr><th>12</th><td>12</td><td>32</td><td>52</td></tr><tr><th>13</th><td>13</td><td>33</td><td>53</td></tr><tr><th>14</th><td>14</td><td>34</td><td>54</td></tr><tr><th>15</th><td>15</td><td>NA</td><td>55</td></tr><tr><th>16</th><td>16</td><td>36</td><td>56</td></tr><tr><th>17</th><td>17</td><td>37</td><td>57</td></tr><tr><th>18</th><td>18</td><td>38</td><td>58</td></tr><tr><th>19</th><td>19</td><td>39</td><td>NA</td></tr><tr><th>20</th><td>20</td><td>40</td><td>60</td></tr></tbody></table>"
      ],
      "text/plain": [
       "20×3 DataFrames.DataFrame\n",
       "│ Row │ A  │ B  │ C  │\n",
       "├─────┼────┼────┼────┤\n",
       "│ 1   │ 1  │ 21 │ 41 │\n",
       "│ 2   │ 2  │ 22 │ 42 │\n",
       "│ 3   │ 3  │ 23 │ 43 │\n",
       "│ 4   │ 4  │ 24 │ 44 │\n",
       "│ 5   │ 5  │ 25 │ 45 │\n",
       "│ 6   │ 6  │ 26 │ 46 │\n",
       "│ 7   │ 7  │ 27 │ 47 │\n",
       "│ 8   │ 8  │ 28 │ 48 │\n",
       "│ 9   │ 9  │ 29 │ 49 │\n",
       "│ 10  │ NA │ 30 │ 50 │\n",
       "│ 11  │ 11 │ 31 │ 51 │\n",
       "│ 12  │ 12 │ 32 │ 52 │\n",
       "│ 13  │ 13 │ 33 │ 53 │\n",
       "│ 14  │ 14 │ 34 │ 54 │\n",
       "│ 15  │ 15 │ NA │ 55 │\n",
       "│ 16  │ 16 │ 36 │ 56 │\n",
       "│ 17  │ 17 │ 37 │ 57 │\n",
       "│ 18  │ 18 │ 38 │ 58 │\n",
       "│ 19  │ 19 │ 39 │ NA │\n",
       "│ 20  │ 20 │ 40 │ 60 │"
      ]
     },
     "execution_count": 116,
     "metadata": {},
     "output_type": "execute_result"
    }
   ],
   "source": [
    "# Question 12: Change indicated values to empty entries\n",
    "df3[10, 1] = NA\n",
    "df3[15, 2] = NA\n",
    "df3[19, 3] = NA\n",
    "df3"
   ]
  },
  {
   "cell_type": "code",
   "execution_count": 117,
   "metadata": {
    "collapsed": false
   },
   "outputs": [
    {
     "data": {
      "text/html": [
       "<table class=\"data-frame\"><thead><tr><th></th><th>A</th><th>B</th><th>C</th></tr></thead><tbody><tr><th>1</th><td>1</td><td>21</td><td>41</td></tr><tr><th>2</th><td>2</td><td>22</td><td>42</td></tr><tr><th>3</th><td>3</td><td>23</td><td>43</td></tr><tr><th>4</th><td>4</td><td>24</td><td>44</td></tr><tr><th>5</th><td>5</td><td>25</td><td>45</td></tr><tr><th>6</th><td>6</td><td>26</td><td>46</td></tr><tr><th>7</th><td>7</td><td>27</td><td>47</td></tr><tr><th>8</th><td>8</td><td>28</td><td>48</td></tr><tr><th>9</th><td>9</td><td>29</td><td>49</td></tr><tr><th>10</th><td>11</td><td>31</td><td>51</td></tr><tr><th>11</th><td>12</td><td>32</td><td>52</td></tr><tr><th>12</th><td>13</td><td>33</td><td>53</td></tr><tr><th>13</th><td>14</td><td>34</td><td>54</td></tr><tr><th>14</th><td>16</td><td>36</td><td>56</td></tr><tr><th>15</th><td>17</td><td>37</td><td>57</td></tr><tr><th>16</th><td>18</td><td>38</td><td>58</td></tr><tr><th>17</th><td>20</td><td>40</td><td>60</td></tr></tbody></table>"
      ],
      "text/plain": [
       "17×3 DataFrames.DataFrame\n",
       "│ Row │ A  │ B  │ C  │\n",
       "├─────┼────┼────┼────┤\n",
       "│ 1   │ 1  │ 21 │ 41 │\n",
       "│ 2   │ 2  │ 22 │ 42 │\n",
       "│ 3   │ 3  │ 23 │ 43 │\n",
       "│ 4   │ 4  │ 24 │ 44 │\n",
       "│ 5   │ 5  │ 25 │ 45 │\n",
       "│ 6   │ 6  │ 26 │ 46 │\n",
       "│ 7   │ 7  │ 27 │ 47 │\n",
       "│ 8   │ 8  │ 28 │ 48 │\n",
       "│ 9   │ 9  │ 29 │ 49 │\n",
       "│ 10  │ 11 │ 31 │ 51 │\n",
       "│ 11  │ 12 │ 32 │ 52 │\n",
       "│ 12  │ 13 │ 33 │ 53 │\n",
       "│ 13  │ 14 │ 34 │ 54 │\n",
       "│ 14  │ 16 │ 36 │ 56 │\n",
       "│ 15  │ 17 │ 37 │ 57 │\n",
       "│ 16  │ 18 │ 38 │ 58 │\n",
       "│ 17  │ 20 │ 40 │ 60 │"
      ]
     },
     "execution_count": 117,
     "metadata": {},
     "output_type": "execute_result"
    }
   ],
   "source": [
    "# Question 13: Create DataFrame df4 that contains no rows with NaN (NA) values\n",
    "df4 = df3[complete_cases(df3), :]\n"
   ]
  },
  {
   "cell_type": "code",
   "execution_count": null,
   "metadata": {
    "collapsed": false
   },
   "outputs": [],
   "source": []
  }
 ],
 "metadata": {
  "kernelspec": {
   "display_name": "Julia 0.4.6",
   "language": "julia",
   "name": "julia-0.4"
  },
  "language_info": {
   "file_extension": ".jl",
   "mimetype": "application/julia",
   "name": "julia",
   "version": "0.4.6"
  }
 },
 "nbformat": 4,
 "nbformat_minor": 0
}
